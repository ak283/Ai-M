{
  "nbformat": 4,
  "nbformat_minor": 0,
  "metadata": {
    "colab": {
      "provenance": []
    },
    "kernelspec": {
      "name": "python3",
      "display_name": "Python 3"
    },
    "language_info": {
      "name": "python"
    }
  },
  "cells": [
    {
      "cell_type": "code",
      "execution_count": null,
      "metadata": {
        "colab": {
          "base_uri": "https://localhost:8080/"
        },
        "id": "o7PtbOfaMe46",
        "outputId": "2ff841c8-2bb7-4084-efde-31ede54cebf9"
      },
      "outputs": [
        {
          "output_type": "stream",
          "name": "stdout",
          "text": [
            "Mounted at /content/drive\n"
          ]
        }
      ],
      "source": [
        "from google.colab import drive\n",
        "drive.mount('/content/drive')"
      ]
    },
    {
      "cell_type": "code",
      "source": [
        "\n",
        "g(z) = max{0, z}\n"
      ],
      "metadata": {
        "colab": {
          "base_uri": "https://localhost:8080/",
          "height": 131
        },
        "id": "wqLgxaFkMwN0",
        "outputId": "07b4117c-18fb-4f3c-b6f7-9034b2eb120c"
      },
      "execution_count": null,
      "outputs": [
        {
          "output_type": "error",
          "ename": "SyntaxError",
          "evalue": "ignored",
          "traceback": [
            "\u001b[0;36m  File \u001b[0;32m\"<ipython-input-1-2a3c6fd8094e>\"\u001b[0;36m, line \u001b[0;32m2\u001b[0m\n\u001b[0;31m    g(z) = max{0, z}\u001b[0m\n\u001b[0m    ^\u001b[0m\n\u001b[0;31mSyntaxError\u001b[0m\u001b[0;31m:\u001b[0m cannot assign to function call\n"
          ]
        }
      ]
    },
    {
      "cell_type": "code",
      "source": [
        "import numpy as np\n",
        "\n",
        "def softmax(x):\n",
        "    \"\"\" applies softmax to an input x\"\"\"\n",
        "    e_x = np.exp(x)\n",
        "    return e_x / e_x.sum()\n",
        "\n",
        "x = [3, 6]\n",
        "y = softmax(x)\n",
        "y"
      ],
      "metadata": {
        "colab": {
          "base_uri": "https://localhost:8080/"
        },
        "id": "mUXMZ_knvSdh",
        "outputId": "e551f370-c2a1-4430-83d1-524ca3c42d80"
      },
      "execution_count": null,
      "outputs": [
        {
          "output_type": "execute_result",
          "data": {
            "text/plain": [
              "array([0.04742587, 0.95257413])"
            ]
          },
          "metadata": {},
          "execution_count": 9
        }
      ]
    },
    {
      "cell_type": "code",
      "source": [
        "x= [-2, 3, -4, 6]\n",
        "def relu(x):\n",
        "    return(np.maximum(0, x))\n",
        "y=relu(x)\n",
        "y"
      ],
      "metadata": {
        "colab": {
          "base_uri": "https://localhost:8080/"
        },
        "id": "BbnOTR4UwPlA",
        "outputId": "4a872664-4662-430e-c5f3-e2c1f205c105"
      },
      "execution_count": null,
      "outputs": [
        {
          "output_type": "execute_result",
          "data": {
            "text/plain": [
              "array([0, 3, 0, 6])"
            ]
          },
          "metadata": {},
          "execution_count": 8
        }
      ]
    }
  ]
}