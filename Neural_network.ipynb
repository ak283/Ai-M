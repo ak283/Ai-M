{
  "nbformat": 4,
  "nbformat_minor": 0,
  "metadata": {
    "colab": {
      "provenance": [],
      "gpuType": "T4"
    },
    "kernelspec": {
      "name": "python3",
      "display_name": "Python 3"
    },
    "language_info": {
      "name": "python"
    },
    "accelerator": "GPU"
  },
  "cells": [
    {
      "cell_type": "code",
      "execution_count": null,
      "metadata": {
        "colab": {
          "base_uri": "https://localhost:8080/"
        },
        "id": "QQyrt_niX7Yf",
        "outputId": "3be273ec-9685-484a-df98-1135788cac62"
      },
      "outputs": [
        {
          "output_type": "stream",
          "name": "stdout",
          "text": [
            "Drive already mounted at /content/drive; to attempt to forcibly remount, call drive.mount(\"/content/drive\", force_remount=True).\n"
          ]
        }
      ],
      "source": [
        "from google.colab import drive\n",
        "drive.mount('/content/drive')"
      ]
    },
    {
      "cell_type": "code",
      "source": [
        "import numpy as np\n",
        "import pandas as pd\n",
        "import matplotlib.pyplot as plt\n",
        "import seaborn as sns\n",
        "from sklearn.model_selection import train_test_split\n",
        "from sklearn import preprocessing"
      ],
      "metadata": {
        "id": "SMATZmVRYMeZ"
      },
      "execution_count": null,
      "outputs": []
    },
    {
      "cell_type": "code",
      "source": [
        "from tensorflow.keras.models import Sequential\n",
        "from tensorflow.keras.layers import Dense, Dropout, BatchNormalization\n",
        "from tensorflow.keras import optimizers"
      ],
      "metadata": {
        "id": "gvHphu9L0SN8"
      },
      "execution_count": null,
      "outputs": []
    },
    {
      "cell_type": "code",
      "source": [
        "df = pd.read_excel('/content/drive/MyDrive/csv/Data-1.xlsx')\n"
      ],
      "metadata": {
        "id": "q32A7VQ_7ZDN"
      },
      "execution_count": null,
      "outputs": []
    },
    {
      "cell_type": "code",
      "source": [
        "df.info()"
      ],
      "metadata": {
        "colab": {
          "base_uri": "https://localhost:8080/"
        },
        "id": "RLfrcD9CZOsP",
        "outputId": "93aea46f-8e20-4e9a-e48c-819868bbb7ef"
      },
      "execution_count": null,
      "outputs": [
        {
          "output_type": "stream",
          "name": "stdout",
          "text": [
            "<class 'pandas.core.frame.DataFrame'>\n",
            "RangeIndex: 10682 entries, 0 to 10681\n",
            "Data columns (total 11 columns):\n",
            " #   Column           Non-Null Count  Dtype \n",
            "---  ------           --------------  ----- \n",
            " 0   Airline          10682 non-null  object\n",
            " 1   Date_of_Journey  10682 non-null  object\n",
            " 2   Source           10682 non-null  object\n",
            " 3   Destination      10682 non-null  object\n",
            " 4   Route            10681 non-null  object\n",
            " 5   Dep_Time         10682 non-null  object\n",
            " 6   Arrival_Time     10682 non-null  object\n",
            " 7   Duration         10682 non-null  object\n",
            " 8   Total_Stops      10681 non-null  object\n",
            " 9   Additional_Info  10682 non-null  object\n",
            " 10  Price            10682 non-null  int64 \n",
            "dtypes: int64(1), object(10)\n",
            "memory usage: 918.1+ KB\n"
          ]
        }
      ]
    },
    {
      "cell_type": "code",
      "source": [
        "df.head()"
      ],
      "metadata": {
        "colab": {
          "base_uri": "https://localhost:8080/",
          "height": 206
        },
        "id": "LcFVDeeHZQr_",
        "outputId": "5315e098-04d9-488e-b3ae-066331b26324"
      },
      "execution_count": null,
      "outputs": [
        {
          "output_type": "execute_result",
          "data": {
            "text/plain": [
              "       Airline Date_of_Journey    Source Destination                  Route  \\\n",
              "0       IndiGo      24/03/2019  Banglore   New Delhi              BLR → DEL   \n",
              "1    Air India       1/05/2019   Kolkata    Banglore  CCU → IXR → BBI → BLR   \n",
              "2  Jet Airways       9/06/2019     Delhi      Cochin  DEL → LKO → BOM → COK   \n",
              "3       IndiGo      12/05/2019   Kolkata    Banglore        CCU → NAG → BLR   \n",
              "4       IndiGo      01/03/2019  Banglore   New Delhi        BLR → NAG → DEL   \n",
              "\n",
              "  Dep_Time  Arrival_Time Duration Total_Stops Additional_Info  Price  \n",
              "0    22:20  01:10 22 Mar   2h 50m    non-stop         No info   3897  \n",
              "1    05:50         13:15   7h 25m     2 stops         No info   7662  \n",
              "2    09:25  04:25 10 Jun      19h     2 stops         No info  13882  \n",
              "3    18:05         23:30   5h 25m      1 stop         No info   6218  \n",
              "4    16:50         21:35   4h 45m      1 stop         No info  13302  "
            ],
            "text/html": [
              "\n",
              "  <div id=\"df-e64ea605-a4e2-4a18-b27a-06c7a319b953\">\n",
              "    <div class=\"colab-df-container\">\n",
              "      <div>\n",
              "<style scoped>\n",
              "    .dataframe tbody tr th:only-of-type {\n",
              "        vertical-align: middle;\n",
              "    }\n",
              "\n",
              "    .dataframe tbody tr th {\n",
              "        vertical-align: top;\n",
              "    }\n",
              "\n",
              "    .dataframe thead th {\n",
              "        text-align: right;\n",
              "    }\n",
              "</style>\n",
              "<table border=\"1\" class=\"dataframe\">\n",
              "  <thead>\n",
              "    <tr style=\"text-align: right;\">\n",
              "      <th></th>\n",
              "      <th>Airline</th>\n",
              "      <th>Date_of_Journey</th>\n",
              "      <th>Source</th>\n",
              "      <th>Destination</th>\n",
              "      <th>Route</th>\n",
              "      <th>Dep_Time</th>\n",
              "      <th>Arrival_Time</th>\n",
              "      <th>Duration</th>\n",
              "      <th>Total_Stops</th>\n",
              "      <th>Additional_Info</th>\n",
              "      <th>Price</th>\n",
              "    </tr>\n",
              "  </thead>\n",
              "  <tbody>\n",
              "    <tr>\n",
              "      <th>0</th>\n",
              "      <td>IndiGo</td>\n",
              "      <td>24/03/2019</td>\n",
              "      <td>Banglore</td>\n",
              "      <td>New Delhi</td>\n",
              "      <td>BLR → DEL</td>\n",
              "      <td>22:20</td>\n",
              "      <td>01:10 22 Mar</td>\n",
              "      <td>2h 50m</td>\n",
              "      <td>non-stop</td>\n",
              "      <td>No info</td>\n",
              "      <td>3897</td>\n",
              "    </tr>\n",
              "    <tr>\n",
              "      <th>1</th>\n",
              "      <td>Air India</td>\n",
              "      <td>1/05/2019</td>\n",
              "      <td>Kolkata</td>\n",
              "      <td>Banglore</td>\n",
              "      <td>CCU → IXR → BBI → BLR</td>\n",
              "      <td>05:50</td>\n",
              "      <td>13:15</td>\n",
              "      <td>7h 25m</td>\n",
              "      <td>2 stops</td>\n",
              "      <td>No info</td>\n",
              "      <td>7662</td>\n",
              "    </tr>\n",
              "    <tr>\n",
              "      <th>2</th>\n",
              "      <td>Jet Airways</td>\n",
              "      <td>9/06/2019</td>\n",
              "      <td>Delhi</td>\n",
              "      <td>Cochin</td>\n",
              "      <td>DEL → LKO → BOM → COK</td>\n",
              "      <td>09:25</td>\n",
              "      <td>04:25 10 Jun</td>\n",
              "      <td>19h</td>\n",
              "      <td>2 stops</td>\n",
              "      <td>No info</td>\n",
              "      <td>13882</td>\n",
              "    </tr>\n",
              "    <tr>\n",
              "      <th>3</th>\n",
              "      <td>IndiGo</td>\n",
              "      <td>12/05/2019</td>\n",
              "      <td>Kolkata</td>\n",
              "      <td>Banglore</td>\n",
              "      <td>CCU → NAG → BLR</td>\n",
              "      <td>18:05</td>\n",
              "      <td>23:30</td>\n",
              "      <td>5h 25m</td>\n",
              "      <td>1 stop</td>\n",
              "      <td>No info</td>\n",
              "      <td>6218</td>\n",
              "    </tr>\n",
              "    <tr>\n",
              "      <th>4</th>\n",
              "      <td>IndiGo</td>\n",
              "      <td>01/03/2019</td>\n",
              "      <td>Banglore</td>\n",
              "      <td>New Delhi</td>\n",
              "      <td>BLR → NAG → DEL</td>\n",
              "      <td>16:50</td>\n",
              "      <td>21:35</td>\n",
              "      <td>4h 45m</td>\n",
              "      <td>1 stop</td>\n",
              "      <td>No info</td>\n",
              "      <td>13302</td>\n",
              "    </tr>\n",
              "  </tbody>\n",
              "</table>\n",
              "</div>\n",
              "      <button class=\"colab-df-convert\" onclick=\"convertToInteractive('df-e64ea605-a4e2-4a18-b27a-06c7a319b953')\"\n",
              "              title=\"Convert this dataframe to an interactive table.\"\n",
              "              style=\"display:none;\">\n",
              "        \n",
              "  <svg xmlns=\"http://www.w3.org/2000/svg\" height=\"24px\"viewBox=\"0 0 24 24\"\n",
              "       width=\"24px\">\n",
              "    <path d=\"M0 0h24v24H0V0z\" fill=\"none\"/>\n",
              "    <path d=\"M18.56 5.44l.94 2.06.94-2.06 2.06-.94-2.06-.94-.94-2.06-.94 2.06-2.06.94zm-11 1L8.5 8.5l.94-2.06 2.06-.94-2.06-.94L8.5 2.5l-.94 2.06-2.06.94zm10 10l.94 2.06.94-2.06 2.06-.94-2.06-.94-.94-2.06-.94 2.06-2.06.94z\"/><path d=\"M17.41 7.96l-1.37-1.37c-.4-.4-.92-.59-1.43-.59-.52 0-1.04.2-1.43.59L10.3 9.45l-7.72 7.72c-.78.78-.78 2.05 0 2.83L4 21.41c.39.39.9.59 1.41.59.51 0 1.02-.2 1.41-.59l7.78-7.78 2.81-2.81c.8-.78.8-2.07 0-2.86zM5.41 20L4 18.59l7.72-7.72 1.47 1.35L5.41 20z\"/>\n",
              "  </svg>\n",
              "      </button>\n",
              "      \n",
              "  <style>\n",
              "    .colab-df-container {\n",
              "      display:flex;\n",
              "      flex-wrap:wrap;\n",
              "      gap: 12px;\n",
              "    }\n",
              "\n",
              "    .colab-df-convert {\n",
              "      background-color: #E8F0FE;\n",
              "      border: none;\n",
              "      border-radius: 50%;\n",
              "      cursor: pointer;\n",
              "      display: none;\n",
              "      fill: #1967D2;\n",
              "      height: 32px;\n",
              "      padding: 0 0 0 0;\n",
              "      width: 32px;\n",
              "    }\n",
              "\n",
              "    .colab-df-convert:hover {\n",
              "      background-color: #E2EBFA;\n",
              "      box-shadow: 0px 1px 2px rgba(60, 64, 67, 0.3), 0px 1px 3px 1px rgba(60, 64, 67, 0.15);\n",
              "      fill: #174EA6;\n",
              "    }\n",
              "\n",
              "    [theme=dark] .colab-df-convert {\n",
              "      background-color: #3B4455;\n",
              "      fill: #D2E3FC;\n",
              "    }\n",
              "\n",
              "    [theme=dark] .colab-df-convert:hover {\n",
              "      background-color: #434B5C;\n",
              "      box-shadow: 0px 1px 3px 1px rgba(0, 0, 0, 0.15);\n",
              "      filter: drop-shadow(0px 1px 2px rgba(0, 0, 0, 0.3));\n",
              "      fill: #FFFFFF;\n",
              "    }\n",
              "  </style>\n",
              "\n",
              "      <script>\n",
              "        const buttonEl =\n",
              "          document.querySelector('#df-e64ea605-a4e2-4a18-b27a-06c7a319b953 button.colab-df-convert');\n",
              "        buttonEl.style.display =\n",
              "          google.colab.kernel.accessAllowed ? 'block' : 'none';\n",
              "\n",
              "        async function convertToInteractive(key) {\n",
              "          const element = document.querySelector('#df-e64ea605-a4e2-4a18-b27a-06c7a319b953');\n",
              "          const dataTable =\n",
              "            await google.colab.kernel.invokeFunction('convertToInteractive',\n",
              "                                                     [key], {});\n",
              "          if (!dataTable) return;\n",
              "\n",
              "          const docLinkHtml = 'Like what you see? Visit the ' +\n",
              "            '<a target=\"_blank\" href=https://colab.research.google.com/notebooks/data_table.ipynb>data table notebook</a>'\n",
              "            + ' to learn more about interactive tables.';\n",
              "          element.innerHTML = '';\n",
              "          dataTable['output_type'] = 'display_data';\n",
              "          await google.colab.output.renderOutput(dataTable, element);\n",
              "          const docLink = document.createElement('div');\n",
              "          docLink.innerHTML = docLinkHtml;\n",
              "          element.appendChild(docLink);\n",
              "        }\n",
              "      </script>\n",
              "    </div>\n",
              "  </div>\n",
              "  "
            ]
          },
          "metadata": {},
          "execution_count": 189
        }
      ]
    },
    {
      "cell_type": "code",
      "source": [
        "df.duplicated().sum()"
      ],
      "metadata": {
        "colab": {
          "base_uri": "https://localhost:8080/"
        },
        "id": "uEmVzQ86cQsy",
        "outputId": "a39f16ca-8554-4958-ca1e-e28414cae4e5"
      },
      "execution_count": null,
      "outputs": [
        {
          "output_type": "execute_result",
          "data": {
            "text/plain": [
              "220"
            ]
          },
          "metadata": {},
          "execution_count": 190
        }
      ]
    },
    {
      "cell_type": "code",
      "source": [
        "df[df.duplicated()==True]"
      ],
      "metadata": {
        "colab": {
          "base_uri": "https://localhost:8080/",
          "height": 423
        },
        "id": "aNgitZ4PZmsf",
        "outputId": "e72a8507-5c4d-4017-e21c-862bfff036eb"
      },
      "execution_count": null,
      "outputs": [
        {
          "output_type": "execute_result",
          "data": {
            "text/plain": [
              "           Airline Date_of_Journey    Source Destination  \\\n",
              "683    Jet Airways       1/06/2019     Delhi      Cochin   \n",
              "1061     Air India      21/05/2019     Delhi      Cochin   \n",
              "1348     Air India      18/05/2019     Delhi      Cochin   \n",
              "1418   Jet Airways       6/06/2019     Delhi      Cochin   \n",
              "1674        IndiGo      24/03/2019  Banglore   New Delhi   \n",
              "...            ...             ...       ...         ...   \n",
              "10593  Jet Airways      27/06/2019     Delhi      Cochin   \n",
              "10615  Jet Airways       1/06/2019     Delhi      Cochin   \n",
              "10633  Jet Airways       6/06/2019     Delhi      Cochin   \n",
              "10671  Jet Airways      27/06/2019     Delhi      Cochin   \n",
              "10672  Jet Airways      27/05/2019     Delhi      Cochin   \n",
              "\n",
              "                       Route Dep_Time  Arrival_Time Duration Total_Stops  \\\n",
              "683    DEL → NAG → BOM → COK    14:35  04:25 02 Jun  13h 50m     2 stops   \n",
              "1061   DEL → GOI → BOM → COK    22:00  19:15 22 May  21h 15m     2 stops   \n",
              "1348   DEL → HYD → BOM → COK    17:15  19:15 19 May      26h     2 stops   \n",
              "1418   DEL → JAI → BOM → COK    05:30  04:25 07 Jun  22h 55m     2 stops   \n",
              "1674               BLR → DEL    18:25         21:20   2h 55m    non-stop   \n",
              "...                      ...      ...           ...      ...         ...   \n",
              "10593  DEL → AMD → BOM → COK    23:05  12:35 28 Jun  13h 30m     2 stops   \n",
              "10615  DEL → JAI → BOM → COK    09:40  12:35 02 Jun  26h 55m     2 stops   \n",
              "10633  DEL → JAI → BOM → COK    09:40  12:35 07 Jun  26h 55m     2 stops   \n",
              "10671  DEL → AMD → BOM → COK    23:05  19:00 28 Jun  19h 55m     2 stops   \n",
              "10672  DEL → AMD → BOM → COK    13:25  04:25 28 May      15h     2 stops   \n",
              "\n",
              "                   Additional_Info  Price  \n",
              "683                        No info  13376  \n",
              "1061                       No info  10231  \n",
              "1348                       No info  12392  \n",
              "1418   In-flight meal not included  10368  \n",
              "1674                       No info   7303  \n",
              "...                            ...    ...  \n",
              "10593                      No info  12819  \n",
              "10615                      No info  13014  \n",
              "10633  In-flight meal not included  11733  \n",
              "10671  In-flight meal not included  11150  \n",
              "10672                      No info  16704  \n",
              "\n",
              "[220 rows x 11 columns]"
            ],
            "text/html": [
              "\n",
              "  <div id=\"df-d1be663b-dccb-43a9-8c08-2c592ff2f288\">\n",
              "    <div class=\"colab-df-container\">\n",
              "      <div>\n",
              "<style scoped>\n",
              "    .dataframe tbody tr th:only-of-type {\n",
              "        vertical-align: middle;\n",
              "    }\n",
              "\n",
              "    .dataframe tbody tr th {\n",
              "        vertical-align: top;\n",
              "    }\n",
              "\n",
              "    .dataframe thead th {\n",
              "        text-align: right;\n",
              "    }\n",
              "</style>\n",
              "<table border=\"1\" class=\"dataframe\">\n",
              "  <thead>\n",
              "    <tr style=\"text-align: right;\">\n",
              "      <th></th>\n",
              "      <th>Airline</th>\n",
              "      <th>Date_of_Journey</th>\n",
              "      <th>Source</th>\n",
              "      <th>Destination</th>\n",
              "      <th>Route</th>\n",
              "      <th>Dep_Time</th>\n",
              "      <th>Arrival_Time</th>\n",
              "      <th>Duration</th>\n",
              "      <th>Total_Stops</th>\n",
              "      <th>Additional_Info</th>\n",
              "      <th>Price</th>\n",
              "    </tr>\n",
              "  </thead>\n",
              "  <tbody>\n",
              "    <tr>\n",
              "      <th>683</th>\n",
              "      <td>Jet Airways</td>\n",
              "      <td>1/06/2019</td>\n",
              "      <td>Delhi</td>\n",
              "      <td>Cochin</td>\n",
              "      <td>DEL → NAG → BOM → COK</td>\n",
              "      <td>14:35</td>\n",
              "      <td>04:25 02 Jun</td>\n",
              "      <td>13h 50m</td>\n",
              "      <td>2 stops</td>\n",
              "      <td>No info</td>\n",
              "      <td>13376</td>\n",
              "    </tr>\n",
              "    <tr>\n",
              "      <th>1061</th>\n",
              "      <td>Air India</td>\n",
              "      <td>21/05/2019</td>\n",
              "      <td>Delhi</td>\n",
              "      <td>Cochin</td>\n",
              "      <td>DEL → GOI → BOM → COK</td>\n",
              "      <td>22:00</td>\n",
              "      <td>19:15 22 May</td>\n",
              "      <td>21h 15m</td>\n",
              "      <td>2 stops</td>\n",
              "      <td>No info</td>\n",
              "      <td>10231</td>\n",
              "    </tr>\n",
              "    <tr>\n",
              "      <th>1348</th>\n",
              "      <td>Air India</td>\n",
              "      <td>18/05/2019</td>\n",
              "      <td>Delhi</td>\n",
              "      <td>Cochin</td>\n",
              "      <td>DEL → HYD → BOM → COK</td>\n",
              "      <td>17:15</td>\n",
              "      <td>19:15 19 May</td>\n",
              "      <td>26h</td>\n",
              "      <td>2 stops</td>\n",
              "      <td>No info</td>\n",
              "      <td>12392</td>\n",
              "    </tr>\n",
              "    <tr>\n",
              "      <th>1418</th>\n",
              "      <td>Jet Airways</td>\n",
              "      <td>6/06/2019</td>\n",
              "      <td>Delhi</td>\n",
              "      <td>Cochin</td>\n",
              "      <td>DEL → JAI → BOM → COK</td>\n",
              "      <td>05:30</td>\n",
              "      <td>04:25 07 Jun</td>\n",
              "      <td>22h 55m</td>\n",
              "      <td>2 stops</td>\n",
              "      <td>In-flight meal not included</td>\n",
              "      <td>10368</td>\n",
              "    </tr>\n",
              "    <tr>\n",
              "      <th>1674</th>\n",
              "      <td>IndiGo</td>\n",
              "      <td>24/03/2019</td>\n",
              "      <td>Banglore</td>\n",
              "      <td>New Delhi</td>\n",
              "      <td>BLR → DEL</td>\n",
              "      <td>18:25</td>\n",
              "      <td>21:20</td>\n",
              "      <td>2h 55m</td>\n",
              "      <td>non-stop</td>\n",
              "      <td>No info</td>\n",
              "      <td>7303</td>\n",
              "    </tr>\n",
              "    <tr>\n",
              "      <th>...</th>\n",
              "      <td>...</td>\n",
              "      <td>...</td>\n",
              "      <td>...</td>\n",
              "      <td>...</td>\n",
              "      <td>...</td>\n",
              "      <td>...</td>\n",
              "      <td>...</td>\n",
              "      <td>...</td>\n",
              "      <td>...</td>\n",
              "      <td>...</td>\n",
              "      <td>...</td>\n",
              "    </tr>\n",
              "    <tr>\n",
              "      <th>10593</th>\n",
              "      <td>Jet Airways</td>\n",
              "      <td>27/06/2019</td>\n",
              "      <td>Delhi</td>\n",
              "      <td>Cochin</td>\n",
              "      <td>DEL → AMD → BOM → COK</td>\n",
              "      <td>23:05</td>\n",
              "      <td>12:35 28 Jun</td>\n",
              "      <td>13h 30m</td>\n",
              "      <td>2 stops</td>\n",
              "      <td>No info</td>\n",
              "      <td>12819</td>\n",
              "    </tr>\n",
              "    <tr>\n",
              "      <th>10615</th>\n",
              "      <td>Jet Airways</td>\n",
              "      <td>1/06/2019</td>\n",
              "      <td>Delhi</td>\n",
              "      <td>Cochin</td>\n",
              "      <td>DEL → JAI → BOM → COK</td>\n",
              "      <td>09:40</td>\n",
              "      <td>12:35 02 Jun</td>\n",
              "      <td>26h 55m</td>\n",
              "      <td>2 stops</td>\n",
              "      <td>No info</td>\n",
              "      <td>13014</td>\n",
              "    </tr>\n",
              "    <tr>\n",
              "      <th>10633</th>\n",
              "      <td>Jet Airways</td>\n",
              "      <td>6/06/2019</td>\n",
              "      <td>Delhi</td>\n",
              "      <td>Cochin</td>\n",
              "      <td>DEL → JAI → BOM → COK</td>\n",
              "      <td>09:40</td>\n",
              "      <td>12:35 07 Jun</td>\n",
              "      <td>26h 55m</td>\n",
              "      <td>2 stops</td>\n",
              "      <td>In-flight meal not included</td>\n",
              "      <td>11733</td>\n",
              "    </tr>\n",
              "    <tr>\n",
              "      <th>10671</th>\n",
              "      <td>Jet Airways</td>\n",
              "      <td>27/06/2019</td>\n",
              "      <td>Delhi</td>\n",
              "      <td>Cochin</td>\n",
              "      <td>DEL → AMD → BOM → COK</td>\n",
              "      <td>23:05</td>\n",
              "      <td>19:00 28 Jun</td>\n",
              "      <td>19h 55m</td>\n",
              "      <td>2 stops</td>\n",
              "      <td>In-flight meal not included</td>\n",
              "      <td>11150</td>\n",
              "    </tr>\n",
              "    <tr>\n",
              "      <th>10672</th>\n",
              "      <td>Jet Airways</td>\n",
              "      <td>27/05/2019</td>\n",
              "      <td>Delhi</td>\n",
              "      <td>Cochin</td>\n",
              "      <td>DEL → AMD → BOM → COK</td>\n",
              "      <td>13:25</td>\n",
              "      <td>04:25 28 May</td>\n",
              "      <td>15h</td>\n",
              "      <td>2 stops</td>\n",
              "      <td>No info</td>\n",
              "      <td>16704</td>\n",
              "    </tr>\n",
              "  </tbody>\n",
              "</table>\n",
              "<p>220 rows × 11 columns</p>\n",
              "</div>\n",
              "      <button class=\"colab-df-convert\" onclick=\"convertToInteractive('df-d1be663b-dccb-43a9-8c08-2c592ff2f288')\"\n",
              "              title=\"Convert this dataframe to an interactive table.\"\n",
              "              style=\"display:none;\">\n",
              "        \n",
              "  <svg xmlns=\"http://www.w3.org/2000/svg\" height=\"24px\"viewBox=\"0 0 24 24\"\n",
              "       width=\"24px\">\n",
              "    <path d=\"M0 0h24v24H0V0z\" fill=\"none\"/>\n",
              "    <path d=\"M18.56 5.44l.94 2.06.94-2.06 2.06-.94-2.06-.94-.94-2.06-.94 2.06-2.06.94zm-11 1L8.5 8.5l.94-2.06 2.06-.94-2.06-.94L8.5 2.5l-.94 2.06-2.06.94zm10 10l.94 2.06.94-2.06 2.06-.94-2.06-.94-.94-2.06-.94 2.06-2.06.94z\"/><path d=\"M17.41 7.96l-1.37-1.37c-.4-.4-.92-.59-1.43-.59-.52 0-1.04.2-1.43.59L10.3 9.45l-7.72 7.72c-.78.78-.78 2.05 0 2.83L4 21.41c.39.39.9.59 1.41.59.51 0 1.02-.2 1.41-.59l7.78-7.78 2.81-2.81c.8-.78.8-2.07 0-2.86zM5.41 20L4 18.59l7.72-7.72 1.47 1.35L5.41 20z\"/>\n",
              "  </svg>\n",
              "      </button>\n",
              "      \n",
              "  <style>\n",
              "    .colab-df-container {\n",
              "      display:flex;\n",
              "      flex-wrap:wrap;\n",
              "      gap: 12px;\n",
              "    }\n",
              "\n",
              "    .colab-df-convert {\n",
              "      background-color: #E8F0FE;\n",
              "      border: none;\n",
              "      border-radius: 50%;\n",
              "      cursor: pointer;\n",
              "      display: none;\n",
              "      fill: #1967D2;\n",
              "      height: 32px;\n",
              "      padding: 0 0 0 0;\n",
              "      width: 32px;\n",
              "    }\n",
              "\n",
              "    .colab-df-convert:hover {\n",
              "      background-color: #E2EBFA;\n",
              "      box-shadow: 0px 1px 2px rgba(60, 64, 67, 0.3), 0px 1px 3px 1px rgba(60, 64, 67, 0.15);\n",
              "      fill: #174EA6;\n",
              "    }\n",
              "\n",
              "    [theme=dark] .colab-df-convert {\n",
              "      background-color: #3B4455;\n",
              "      fill: #D2E3FC;\n",
              "    }\n",
              "\n",
              "    [theme=dark] .colab-df-convert:hover {\n",
              "      background-color: #434B5C;\n",
              "      box-shadow: 0px 1px 3px 1px rgba(0, 0, 0, 0.15);\n",
              "      filter: drop-shadow(0px 1px 2px rgba(0, 0, 0, 0.3));\n",
              "      fill: #FFFFFF;\n",
              "    }\n",
              "  </style>\n",
              "\n",
              "      <script>\n",
              "        const buttonEl =\n",
              "          document.querySelector('#df-d1be663b-dccb-43a9-8c08-2c592ff2f288 button.colab-df-convert');\n",
              "        buttonEl.style.display =\n",
              "          google.colab.kernel.accessAllowed ? 'block' : 'none';\n",
              "\n",
              "        async function convertToInteractive(key) {\n",
              "          const element = document.querySelector('#df-d1be663b-dccb-43a9-8c08-2c592ff2f288');\n",
              "          const dataTable =\n",
              "            await google.colab.kernel.invokeFunction('convertToInteractive',\n",
              "                                                     [key], {});\n",
              "          if (!dataTable) return;\n",
              "\n",
              "          const docLinkHtml = 'Like what you see? Visit the ' +\n",
              "            '<a target=\"_blank\" href=https://colab.research.google.com/notebooks/data_table.ipynb>data table notebook</a>'\n",
              "            + ' to learn more about interactive tables.';\n",
              "          element.innerHTML = '';\n",
              "          dataTable['output_type'] = 'display_data';\n",
              "          await google.colab.output.renderOutput(dataTable, element);\n",
              "          const docLink = document.createElement('div');\n",
              "          docLink.innerHTML = docLinkHtml;\n",
              "          element.appendChild(docLink);\n",
              "        }\n",
              "      </script>\n",
              "    </div>\n",
              "  </div>\n",
              "  "
            ]
          },
          "metadata": {},
          "execution_count": 191
        }
      ]
    },
    {
      "cell_type": "code",
      "source": [
        "sns.barplot(data=df, x='Airline',y='Price')\n",
        "plt.xticks(rotation=90);"
      ],
      "metadata": {
        "colab": {
          "base_uri": "https://localhost:8080/",
          "height": 686
        },
        "id": "D6jCycB5zOLd",
        "outputId": "475dd7e6-014b-4394-fbd8-c6c876ce8b38"
      },
      "execution_count": null,
      "outputs": [
        {
          "output_type": "display_data",
          "data": {
            "text/plain": [
              "<Figure size 640x480 with 1 Axes>"
            ],
            "image/png": "[encoded data removed]"
          },
          "metadata": {}
        }
      ]
    },
    {
      "cell_type": "code",
      "source": [
        "sns.barplot(data=df, x='Source',y='Price')\n",
        "plt.xticks(rotation=90);"
      ],
      "metadata": {
        "colab": {
          "base_uri": "https://localhost:8080/",
          "height": 502
        },
        "id": "YzExfpb05Vg-",
        "outputId": "d2ca1848-3fdc-403b-f221-e27283fd46f4"
      },
      "execution_count": null,
      "outputs": [
        {
          "output_type": "display_data",
          "data": {
            "text/plain": [
              "<Figure size 640x480 with 1 Axes>"
            ],
            "image/png": "[encoded data removed]"
          },
          "metadata": {}
        }
      ]
    },
    {
      "cell_type": "markdown",
      "source": [
        "# Preprocessing"
      ],
      "metadata": {
        "id": "9B-bUVO56YOI"
      }
    },
    {
      "cell_type": "code",
      "source": [
        "df.dropna(inplace = True)\n",
        "print(df.isnull().sum())\n"
      ],
      "metadata": {
        "colab": {
          "base_uri": "https://localhost:8080/"
        },
        "id": "5-Ifuevh7C1Y",
        "outputId": "cb023d41-0f32-4a04-9edf-54796e23a9c8"
      },
      "execution_count": null,
      "outputs": [
        {
          "output_type": "stream",
          "name": "stdout",
          "text": [
            "Airline            0\n",
            "Date_of_Journey    0\n",
            "Source             0\n",
            "Destination        0\n",
            "Route              0\n",
            "Dep_Time           0\n",
            "Arrival_Time       0\n",
            "Duration           0\n",
            "Total_Stops        0\n",
            "Additional_Info    0\n",
            "Price              0\n",
            "dtype: int64\n"
          ]
        }
      ]
    },
    {
      "cell_type": "code",
      "source": [
        "# Date_of_Journey\n",
        "df[\"Journey_day\"] = pd.to_datetime(df[\"Date_of_Journey\"], format=\"%d/%m/%Y\").dt.day\n",
        "df[\"Journey_month\"] = pd.to_datetime(df[\"Date_of_Journey\"], format = \"%d/%m/%Y\").dt.month\n",
        "df.drop([\"Date_of_Journey\"], axis = 1, inplace = True)\n",
        "\n"
      ],
      "metadata": {
        "id": "0yYoG7Pw7LXs"
      },
      "execution_count": null,
      "outputs": []
    },
    {
      "cell_type": "code",
      "source": [
        "# Dep_Time\n",
        "df[\"Dep_hour\"] = pd.to_datetime(df[\"Dep_Time\"]).dt.hour\n",
        "df[\"Dep_min\"] = pd.to_datetime(df[\"Dep_Time\"]).dt.minute\n",
        "df.drop([\"Dep_Time\"], axis = 1, inplace = True)\n",
        "\n",
        "\n"
      ],
      "metadata": {
        "id": "tisctVnw7Ndq"
      },
      "execution_count": null,
      "outputs": []
    },
    {
      "cell_type": "code",
      "source": [
        "# Arrival_Time\n",
        "df[\"Arrival_hour\"] = pd.to_datetime(df.Arrival_Time).dt.hour\n",
        "df[\"Arrival_min\"] = pd.to_datetime(df.Arrival_Time).dt.minute\n",
        "df.drop([\"Arrival_Time\"], axis = 1, inplace = True)"
      ],
      "metadata": {
        "id": "iG0IXZ7G7P2Y"
      },
      "execution_count": null,
      "outputs": []
    },
    {
      "cell_type": "code",
      "source": [
        "# Duration\n",
        "duration = list(df[\"Duration\"])\n",
        "\n",
        "for i in range(len(duration)):\n",
        "    if len(duration[i].split()) != 2:    # Check if duration contains only hour or mins\n",
        "        if \"h\" in duration[i]:\n",
        "            duration[i] = duration[i].strip() + \" 0m\"   # Adds 0 minute\n",
        "        else:\n",
        "            duration[i] = \"0h \" + duration[i]           # Adds 0 hour\n",
        "\n",
        "duration_hours = []\n",
        "duration_mins = []\n",
        "for i in range(len(duration)):\n",
        "    duration_hours.append(int(duration[i].split(sep = \"h\")[0]))    # Extract hours from duration\n",
        "    duration_mins.append(int(duration[i].split(sep = \"m\")[0].split()[-1]))   # Extracts only minutes from duration\n"
      ],
      "metadata": {
        "id": "4DE7c0mr7USY"
      },
      "execution_count": null,
      "outputs": []
    },
    {
      "cell_type": "code",
      "source": [
        "# Adding Duration column to test set\n",
        "df[\"Duration_hours\"] = duration_hours\n",
        "df[\"Duration_mins\"] = duration_mins\n",
        "df.drop([\"Duration\"], axis = 1, inplace = True)"
      ],
      "metadata": {
        "id": "7whSkvm77Ybq"
      },
      "execution_count": null,
      "outputs": []
    },
    {
      "cell_type": "code",
      "source": [
        "# Categorical data\n",
        "\n",
        "print(\"Airline\")\n",
        "print(\"-\"*75)\n",
        "print(df[\"Airline\"].value_counts())\n",
        "Airline = pd.get_dummies(df[\"Airline\"], drop_first= True)\n",
        "\n",
        "print()\n",
        "\n",
        "print(\"Source\")\n",
        "print(\"-\"*75)\n",
        "print(df[\"Source\"].value_counts())\n",
        "Source = pd.get_dummies(df[\"Source\"], drop_first= True)\n",
        "\n",
        "print()\n",
        "\n",
        "print(\"Destination\")\n",
        "print(\"-\"*75)\n",
        "print(df[\"Destination\"].value_counts())\n",
        "Destination = pd.get_dummies(df[\"Destination\"], drop_first = True)\n"
      ],
      "metadata": {
        "colab": {
          "base_uri": "https://localhost:8080/"
        },
        "id": "hoeX_gFj7miJ",
        "outputId": "3e8098fd-38a6-46b2-811f-d23472fcdb5a"
      },
      "execution_count": null,
      "outputs": [
        {
          "output_type": "stream",
          "name": "stdout",
          "text": [
            "Airline\n",
            "---------------------------------------------------------------------------\n",
            "Jet Airways                          3849\n",
            "IndiGo                               2053\n",
            "Air India                            1751\n",
            "Multiple carriers                    1196\n",
            "SpiceJet                              818\n",
            "Vistara                               479\n",
            "Air Asia                              319\n",
            "GoAir                                 194\n",
            "Multiple carriers Premium economy      13\n",
            "Jet Airways Business                    6\n",
            "Vistara Premium economy                 3\n",
            "Name: Airline, dtype: int64\n",
            "\n",
            "Source\n",
            "---------------------------------------------------------------------------\n",
            "Delhi       4536\n",
            "Kolkata     2871\n",
            "Banglore    2197\n",
            "Mumbai       696\n",
            "Chennai      381\n",
            "Name: Source, dtype: int64\n",
            "\n",
            "Destination\n",
            "---------------------------------------------------------------------------\n",
            "Cochin       4536\n",
            "Banglore     2871\n",
            "Delhi        1265\n",
            "New Delhi     932\n",
            "Hyderabad     696\n",
            "Kolkata       381\n",
            "Name: Destination, dtype: int64\n"
          ]
        }
      ]
    },
    {
      "cell_type": "code",
      "source": [
        "# Route and Total_Stops are related to each other\n",
        "df.drop([\"Route\", \"Additional_Info\"], axis = 1, inplace = True)\n",
        "\n",
        "# Replacing Total_Stops\n",
        "df.replace({\"non-stop\": 0, \"1 stop\": 1, \"2 stops\": 2, \"3 stops\": 3, \"4 stops\": 4}, inplace = True)\n",
        "\n",
        "# Concatenate dataframe  test_data + Airline + Source + Destination\n",
        "df1 = pd.concat([df, Airline, Source, Destination], axis = 1)\n",
        "\n",
        "df1.drop([\"Airline\", \"Source\", \"Destination\"], axis = 1, inplace = True)\n",
        "\n",
        "print()\n",
        "print()\n",
        "\n",
        "print(\"Shape of test data : \", df1.shape)"
      ],
      "metadata": {
        "colab": {
          "base_uri": "https://localhost:8080/"
        },
        "id": "1gujPI69--lb",
        "outputId": "76f2620b-19ab-4e99-d6e3-3a15ec0fdea4"
      },
      "execution_count": null,
      "outputs": [
        {
          "output_type": "stream",
          "name": "stdout",
          "text": [
            "\n",
            "\n",
            "Shape of test data :  (10681, 29)\n"
          ]
        }
      ]
    },
    {
      "cell_type": "code",
      "source": [
        "df1.columns"
      ],
      "metadata": {
        "colab": {
          "base_uri": "https://localhost:8080/"
        },
        "id": "GM4JuJwiHGEF",
        "outputId": "a3b4dced-e79a-414d-da21-d7e3e637bf02"
      },
      "execution_count": null,
      "outputs": [
        {
          "output_type": "execute_result",
          "data": {
            "text/plain": [
              "Index(['Total_Stops', 'Price', 'Journey_day', 'Journey_month', 'Dep_hour',\n",
              "       'Dep_min', 'Arrival_hour', 'Arrival_min', 'Duration_hours',\n",
              "       'Duration_mins', 'Air India', 'GoAir', 'IndiGo', 'Jet Airways',\n",
              "       'Jet Airways Business', 'Multiple carriers',\n",
              "       'Multiple carriers Premium economy', 'SpiceJet', 'Vistara',\n",
              "       'Vistara Premium economy', 'Chennai', 'Delhi', 'Kolkata', 'Mumbai',\n",
              "       'Cochin', 'Delhi', 'Hyderabad', 'Kolkata', 'New Delhi'],\n",
              "      dtype='object')"
            ]
          },
          "metadata": {},
          "execution_count": 202
        }
      ]
    },
    {
      "cell_type": "code",
      "source": [
        "df1.info()"
      ],
      "metadata": {
        "colab": {
          "base_uri": "https://localhost:8080/"
        },
        "id": "D3j6YofCERwj",
        "outputId": "794db6b8-f9ed-482a-d2e6-bdea1703e2a2"
      },
      "execution_count": null,
      "outputs": [
        {
          "output_type": "stream",
          "name": "stdout",
          "text": [
            "<class 'pandas.core.frame.DataFrame'>\n",
            "Int64Index: 10681 entries, 0 to 10681\n",
            "Data columns (total 29 columns):\n",
            " #   Column                             Non-Null Count  Dtype\n",
            "---  ------                             --------------  -----\n",
            " 0   Total_Stops                        10681 non-null  int64\n",
            " 1   Price                              10681 non-null  int64\n",
            " 2   Journey_day                        10681 non-null  int64\n",
            " 3   Journey_month                      10681 non-null  int64\n",
            " 4   Dep_hour                           10681 non-null  int64\n",
            " 5   Dep_min                            10681 non-null  int64\n",
            " 6   Arrival_hour                       10681 non-null  int64\n",
            " 7   Arrival_min                        10681 non-null  int64\n",
            " 8   Duration_hours                     10681 non-null  int64\n",
            " 9   Duration_mins                      10681 non-null  int64\n",
            " 10  Air India                          10681 non-null  uint8\n",
            " 11  GoAir                              10681 non-null  uint8\n",
            " 12  IndiGo                             10681 non-null  uint8\n",
            " 13  Jet Airways                        10681 non-null  uint8\n",
            " 14  Jet Airways Business               10681 non-null  uint8\n",
            " 15  Multiple carriers                  10681 non-null  uint8\n",
            " 16  Multiple carriers Premium economy  10681 non-null  uint8\n",
            " 17  SpiceJet                           10681 non-null  uint8\n",
            " 18  Vistara                            10681 non-null  uint8\n",
            " 19  Vistara Premium economy            10681 non-null  uint8\n",
            " 20  Chennai                            10681 non-null  uint8\n",
            " 21  Delhi                              10681 non-null  uint8\n",
            " 22  Kolkata                            10681 non-null  uint8\n",
            " 23  Mumbai                             10681 non-null  uint8\n",
            " 24  Cochin                             10681 non-null  uint8\n",
            " 25  Delhi                              10681 non-null  uint8\n",
            " 26  Hyderabad                          10681 non-null  uint8\n",
            " 27  Kolkata                            10681 non-null  uint8\n",
            " 28  New Delhi                          10681 non-null  uint8\n",
            "dtypes: int64(10), uint8(19)\n",
            "memory usage: 1.1 MB\n"
          ]
        }
      ]
    },
    {
      "cell_type": "code",
      "source": [
        "sns.heatmap(data=df1.corr())"
      ],
      "metadata": {
        "colab": {
          "base_uri": "https://localhost:8080/",
          "height": 686
        },
        "id": "NZ1VOiHKdh4c",
        "outputId": "10043b4a-1554-4db4-d5d0-3c51e7766c7d"
      },
      "execution_count": null,
      "outputs": [
        {
          "output_type": "execute_result",
          "data": {
            "text/plain": [
              "<Axes: >"
            ]
          },
          "metadata": {},
          "execution_count": 204
        },
        {
          "output_type": "display_data",
          "data": {
            "text/plain": [
              "<Figure size 640x480 with 2 Axes>"
            ],
            "image/png": "[encoded data removed]"
          },
          "metadata": {}
        }
      ]
    },
    {
      "cell_type": "code",
      "source": [
        "X = df1.loc[:, ['Total_Stops', 'Journey_day', 'Journey_month', 'Dep_hour',\n",
        "       'Dep_min', 'Arrival_hour', 'Arrival_min', 'Duration_hours',\n",
        "       'Duration_mins', 'Air India', 'GoAir', 'IndiGo', 'Jet Airways',\n",
        "       'Jet Airways Business', 'Multiple carriers',\n",
        "       'Multiple carriers Premium economy', 'SpiceJet', 'Vistara',\n",
        "       'Vistara Premium economy', 'Chennai', 'Delhi', 'Kolkata', 'Mumbai',\n",
        "       'Cochin', 'Delhi', 'Hyderabad', 'Kolkata', 'New Delhi']]\n",
        "X.head()"
      ],
      "metadata": {
        "colab": {
          "base_uri": "https://localhost:8080/",
          "height": 317
        },
        "id": "XB9vqYkwFO_2",
        "outputId": "4d4c791e-036a-480d-9bdb-171377b40824"
      },
      "execution_count": null,
      "outputs": [
        {
          "output_type": "execute_result",
          "data": {
            "text/plain": [
              "   Total_Stops  Journey_day  Journey_month  Dep_hour  Dep_min  Arrival_hour  \\\n",
              "0            0           24              3        22       20             1   \n",
              "1            2            1              5         5       50            13   \n",
              "2            2            9              6         9       25             4   \n",
              "3            1           12              5        18        5            23   \n",
              "4            1            1              3        16       50            21   \n",
              "\n",
              "   Arrival_min  Duration_hours  Duration_mins  Air India  ...  Kolkata  \\\n",
              "0           10               2             50          0  ...        0   \n",
              "1           15               7             25          1  ...        1   \n",
              "2           25              19              0          0  ...        0   \n",
              "3           30               5             25          0  ...        1   \n",
              "4           35               4             45          0  ...        0   \n",
              "\n",
              "   Kolkata  Mumbai  Cochin  Delhi  Delhi  Hyderabad  Kolkata  Kolkata  \\\n",
              "0        0       0       0      0      0          0        0        0   \n",
              "1        0       0       0      0      0          0        1        0   \n",
              "2        0       0       1      1      0          0        0        0   \n",
              "3        0       0       0      0      0          0        1        0   \n",
              "4        0       0       0      0      0          0        0        0   \n",
              "\n",
              "   New Delhi  \n",
              "0          1  \n",
              "1          0  \n",
              "2          0  \n",
              "3          0  \n",
              "4          1  \n",
              "\n",
              "[5 rows x 32 columns]"
            ],
            "text/html": [
              "\n",
              "  <div id=\"df-92392442-b537-4bc0-b463-5f0e649989ca\">\n",
              "    <div class=\"colab-df-container\">\n",
              "      <div>\n",
              "<style scoped>\n",
              "    .dataframe tbody tr th:only-of-type {\n",
              "        vertical-align: middle;\n",
              "    }\n",
              "\n",
              "    .dataframe tbody tr th {\n",
              "        vertical-align: top;\n",
              "    }\n",
              "\n",
              "    .dataframe thead th {\n",
              "        text-align: right;\n",
              "    }\n",
              "</style>\n",
              "<table border=\"1\" class=\"dataframe\">\n",
              "  <thead>\n",
              "    <tr style=\"text-align: right;\">\n",
              "      <th></th>\n",
              "      <th>Total_Stops</th>\n",
              "      <th>Journey_day</th>\n",
              "      <th>Journey_month</th>\n",
              "      <th>Dep_hour</th>\n",
              "      <th>Dep_min</th>\n",
              "      <th>Arrival_hour</th>\n",
              "      <th>Arrival_min</th>\n",
              "      <th>Duration_hours</th>\n",
              "      <th>Duration_mins</th>\n",
              "      <th>Air India</th>\n",
              "      <th>...</th>\n",
              "      <th>Kolkata</th>\n",
              "      <th>Kolkata</th>\n",
              "      <th>Mumbai</th>\n",
              "      <th>Cochin</th>\n",
              "      <th>Delhi</th>\n",
              "      <th>Delhi</th>\n",
              "      <th>Hyderabad</th>\n",
              "      <th>Kolkata</th>\n",
              "      <th>Kolkata</th>\n",
              "      <th>New Delhi</th>\n",
              "    </tr>\n",
              "  </thead>\n",
              "  <tbody>\n",
              "    <tr>\n",
              "      <th>0</th>\n",
              "      <td>0</td>\n",
              "      <td>24</td>\n",
              "      <td>3</td>\n",
              "      <td>22</td>\n",
              "      <td>20</td>\n",
              "      <td>1</td>\n",
              "      <td>10</td>\n",
              "      <td>2</td>\n",
              "      <td>50</td>\n",
              "      <td>0</td>\n",
              "      <td>...</td>\n",
              "      <td>0</td>\n",
              "      <td>0</td>\n",
              "      <td>0</td>\n",
              "      <td>0</td>\n",
              "      <td>0</td>\n",
              "      <td>0</td>\n",
              "      <td>0</td>\n",
              "      <td>0</td>\n",
              "      <td>0</td>\n",
              "      <td>1</td>\n",
              "    </tr>\n",
              "    <tr>\n",
              "      <th>1</th>\n",
              "      <td>2</td>\n",
              "      <td>1</td>\n",
              "      <td>5</td>\n",
              "      <td>5</td>\n",
              "      <td>50</td>\n",
              "      <td>13</td>\n",
              "      <td>15</td>\n",
              "      <td>7</td>\n",
              "      <td>25</td>\n",
              "      <td>1</td>\n",
              "      <td>...</td>\n",
              "      <td>1</td>\n",
              "      <td>0</td>\n",
              "      <td>0</td>\n",
              "      <td>0</td>\n",
              "      <td>0</td>\n",
              "      <td>0</td>\n",
              "      <td>0</td>\n",
              "      <td>1</td>\n",
              "      <td>0</td>\n",
              "      <td>0</td>\n",
              "    </tr>\n",
              "    <tr>\n",
              "      <th>2</th>\n",
              "      <td>2</td>\n",
              "      <td>9</td>\n",
              "      <td>6</td>\n",
              "      <td>9</td>\n",
              "      <td>25</td>\n",
              "      <td>4</td>\n",
              "      <td>25</td>\n",
              "      <td>19</td>\n",
              "      <td>0</td>\n",
              "      <td>0</td>\n",
              "      <td>...</td>\n",
              "      <td>0</td>\n",
              "      <td>0</td>\n",
              "      <td>0</td>\n",
              "      <td>1</td>\n",
              "      <td>1</td>\n",
              "      <td>0</td>\n",
              "      <td>0</td>\n",
              "      <td>0</td>\n",
              "      <td>0</td>\n",
              "      <td>0</td>\n",
              "    </tr>\n",
              "    <tr>\n",
              "      <th>3</th>\n",
              "      <td>1</td>\n",
              "      <td>12</td>\n",
              "      <td>5</td>\n",
              "      <td>18</td>\n",
              "      <td>5</td>\n",
              "      <td>23</td>\n",
              "      <td>30</td>\n",
              "      <td>5</td>\n",
              "      <td>25</td>\n",
              "      <td>0</td>\n",
              "      <td>...</td>\n",
              "      <td>1</td>\n",
              "      <td>0</td>\n",
              "      <td>0</td>\n",
              "      <td>0</td>\n",
              "      <td>0</td>\n",
              "      <td>0</td>\n",
              "      <td>0</td>\n",
              "      <td>1</td>\n",
              "      <td>0</td>\n",
              "      <td>0</td>\n",
              "    </tr>\n",
              "    <tr>\n",
              "      <th>4</th>\n",
              "      <td>1</td>\n",
              "      <td>1</td>\n",
              "      <td>3</td>\n",
              "      <td>16</td>\n",
              "      <td>50</td>\n",
              "      <td>21</td>\n",
              "      <td>35</td>\n",
              "      <td>4</td>\n",
              "      <td>45</td>\n",
              "      <td>0</td>\n",
              "      <td>...</td>\n",
              "      <td>0</td>\n",
              "      <td>0</td>\n",
              "      <td>0</td>\n",
              "      <td>0</td>\n",
              "      <td>0</td>\n",
              "      <td>0</td>\n",
              "      <td>0</td>\n",
              "      <td>0</td>\n",
              "      <td>0</td>\n",
              "      <td>1</td>\n",
              "    </tr>\n",
              "  </tbody>\n",
              "</table>\n",
              "<p>5 rows × 32 columns</p>\n",
              "</div>\n",
              "      <button class=\"colab-df-convert\" onclick=\"convertToInteractive('df-92392442-b537-4bc0-b463-5f0e649989ca')\"\n",
              "              title=\"Convert this dataframe to an interactive table.\"\n",
              "              style=\"display:none;\">\n",
              "        \n",
              "  <svg xmlns=\"http://www.w3.org/2000/svg\" height=\"24px\"viewBox=\"0 0 24 24\"\n",
              "       width=\"24px\">\n",
              "    <path d=\"M0 0h24v24H0V0z\" fill=\"none\"/>\n",
              "    <path d=\"M18.56 5.44l.94 2.06.94-2.06 2.06-.94-2.06-.94-.94-2.06-.94 2.06-2.06.94zm-11 1L8.5 8.5l.94-2.06 2.06-.94-2.06-.94L8.5 2.5l-.94 2.06-2.06.94zm10 10l.94 2.06.94-2.06 2.06-.94-2.06-.94-.94-2.06-.94 2.06-2.06.94z\"/><path d=\"M17.41 7.96l-1.37-1.37c-.4-.4-.92-.59-1.43-.59-.52 0-1.04.2-1.43.59L10.3 9.45l-7.72 7.72c-.78.78-.78 2.05 0 2.83L4 21.41c.39.39.9.59 1.41.59.51 0 1.02-.2 1.41-.59l7.78-7.78 2.81-2.81c.8-.78.8-2.07 0-2.86zM5.41 20L4 18.59l7.72-7.72 1.47 1.35L5.41 20z\"/>\n",
              "  </svg>\n",
              "      </button>\n",
              "      \n",
              "  <style>\n",
              "    .colab-df-container {\n",
              "      display:flex;\n",
              "      flex-wrap:wrap;\n",
              "      gap: 12px;\n",
              "    }\n",
              "\n",
              "    .colab-df-convert {\n",
              "      background-color: #E8F0FE;\n",
              "      border: none;\n",
              "      border-radius: 50%;\n",
              "      cursor: pointer;\n",
              "      display: none;\n",
              "      fill: #1967D2;\n",
              "      height: 32px;\n",
              "      padding: 0 0 0 0;\n",
              "      width: 32px;\n",
              "    }\n",
              "\n",
              "    .colab-df-convert:hover {\n",
              "      background-color: #E2EBFA;\n",
              "      box-shadow: 0px 1px 2px rgba(60, 64, 67, 0.3), 0px 1px 3px 1px rgba(60, 64, 67, 0.15);\n",
              "      fill: #174EA6;\n",
              "    }\n",
              "\n",
              "    [theme=dark] .colab-df-convert {\n",
              "      background-color: #3B4455;\n",
              "      fill: #D2E3FC;\n",
              "    }\n",
              "\n",
              "    [theme=dark] .colab-df-convert:hover {\n",
              "      background-color: #434B5C;\n",
              "      box-shadow: 0px 1px 3px 1px rgba(0, 0, 0, 0.15);\n",
              "      filter: drop-shadow(0px 1px 2px rgba(0, 0, 0, 0.3));\n",
              "      fill: #FFFFFF;\n",
              "    }\n",
              "  </style>\n",
              "\n",
              "      <script>\n",
              "        const buttonEl =\n",
              "          document.querySelector('#df-92392442-b537-4bc0-b463-5f0e649989ca button.colab-df-convert');\n",
              "        buttonEl.style.display =\n",
              "          google.colab.kernel.accessAllowed ? 'block' : 'none';\n",
              "\n",
              "        async function convertToInteractive(key) {\n",
              "          const element = document.querySelector('#df-92392442-b537-4bc0-b463-5f0e649989ca');\n",
              "          const dataTable =\n",
              "            await google.colab.kernel.invokeFunction('convertToInteractive',\n",
              "                                                     [key], {});\n",
              "          if (!dataTable) return;\n",
              "\n",
              "          const docLinkHtml = 'Like what you see? Visit the ' +\n",
              "            '<a target=\"_blank\" href=https://colab.research.google.com/notebooks/data_table.ipynb>data table notebook</a>'\n",
              "            + ' to learn more about interactive tables.';\n",
              "          element.innerHTML = '';\n",
              "          dataTable['output_type'] = 'display_data';\n",
              "          await google.colab.output.renderOutput(dataTable, element);\n",
              "          const docLink = document.createElement('div');\n",
              "          docLink.innerHTML = docLinkHtml;\n",
              "          element.appendChild(docLink);\n",
              "        }\n",
              "      </script>\n",
              "    </div>\n",
              "  </div>\n",
              "  "
            ]
          },
          "metadata": {},
          "execution_count": 205
        }
      ]
    },
    {
      "cell_type": "code",
      "source": [
        "Y = df1.iloc[:, 1]\n",
        "Y.head()\n"
      ],
      "metadata": {
        "colab": {
          "base_uri": "https://localhost:8080/"
        },
        "id": "4H-qZpz8FaOm",
        "outputId": "ca9f74e5-1f7d-4f13-edf9-2a4f73feb9fd"
      },
      "execution_count": null,
      "outputs": [
        {
          "output_type": "execute_result",
          "data": {
            "text/plain": [
              "0     3897\n",
              "1     7662\n",
              "2    13882\n",
              "3     6218\n",
              "4    13302\n",
              "Name: Price, dtype: int64"
            ]
          },
          "metadata": {},
          "execution_count": 206
        }
      ]
    },
    {
      "cell_type": "code",
      "source": [
        "x_train, x_test, y_train, y_test= train_test_split(X, Y, test_size=0.3, random_state=7)"
      ],
      "metadata": {
        "id": "bPyW7fc1nloY"
      },
      "execution_count": null,
      "outputs": []
    },
    {
      "cell_type": "code",
      "source": [
        "print(x_train.shape)\n",
        "print(x_test.shape)\n",
        "print(y_train.shape)\n",
        "print(y_test.shape)"
      ],
      "metadata": {
        "colab": {
          "base_uri": "https://localhost:8080/"
        },
        "id": "SGu0S1l1z6VL",
        "outputId": "1ecb0d03-aa9f-4704-e824-0a2d8cdb6ce9"
      },
      "execution_count": null,
      "outputs": [
        {
          "output_type": "stream",
          "name": "stdout",
          "text": [
            "(7476, 32)\n",
            "(3205, 32)\n",
            "(7476,)\n",
            "(3205,)\n"
          ]
        }
      ]
    },
    {
      "cell_type": "code",
      "source": [
        "x_train=preprocessing.normalize(x_train)\n",
        "x_test=preprocessing.normalize(x_test)"
      ],
      "metadata": {
        "id": "6zA7IaytpqGr"
      },
      "execution_count": null,
      "outputs": []
    },
    {
      "cell_type": "code",
      "source": [
        "model=Sequential()"
      ],
      "metadata": {
        "id": "vDrrok71rEij"
      },
      "execution_count": null,
      "outputs": []
    },
    {
      "cell_type": "code",
      "source": [
        "opt=optimizers.Adam(learning_rate=0.01)"
      ],
      "metadata": {
        "id": "ZZcRO9092Iiz"
      },
      "execution_count": null,
      "outputs": []
    },
    {
      "cell_type": "code",
      "source": [
        "model.add(Dense(units=50, input_dim=32, kernel_initializer='normal', activation='relu'))\n",
        "\n",
        "model.add(BatchNormalization())\n",
        "model.add(Dropout(0.2))\n",
        "model.add(Dense(units=50, kernel_initializer='normal', activation='relu'))\n",
        "\n",
        "model.add(BatchNormalization())\n",
        "model.add(Dropout(0.2))\n",
        "model.add(Dense(units=50, kernel_initializer='normal', activation='relu'))\n",
        "\n",
        "model.add(Dense(1, kernel_initializer='normal'))\n",
        "\n",
        "# Compiling the model\n",
        "model.compile(loss='mean_squared_error', optimizer=opt, metrics='accuracy')"
      ],
      "metadata": {
        "id": "x8N3n4fQLKWj"
      },
      "execution_count": null,
      "outputs": []
    },
    {
      "cell_type": "code",
      "source": [
        "model.fit(x_train, y_train, batch_size= 32, epochs = 50, verbose=1,validation_data=(x_test,y_test))"
      ],
      "metadata": {
        "colab": {
          "base_uri": "https://localhost:8080/"
        },
        "id": "Iq1mN7qc6aom",
        "outputId": "a29f51fc-7ebc-496e-8945-79768ac16834"
      },
      "execution_count": null,
      "outputs": [
        {
          "output_type": "stream",
          "name": "stdout",
          "text": [
            "Epoch 1/50\n",
            "234/234 [==============================] - 4s 7ms/step - loss: 46668332.0000 - accuracy: 0.0000e+00 - val_loss: 41288836.0000 - val_accuracy: 0.0000e+00\n",
            "Epoch 2/50\n",
            "234/234 [==============================] - 1s 6ms/step - loss: 15254638.0000 - accuracy: 0.0000e+00 - val_loss: 17254560.0000 - val_accuracy: 0.0000e+00\n",
            "Epoch 3/50\n",
            "234/234 [==============================] - 1s 6ms/step - loss: 14529329.0000 - accuracy: 0.0000e+00 - val_loss: 19657666.0000 - val_accuracy: 0.0000e+00\n",
            "Epoch 4/50\n",
            "234/234 [==============================] - 1s 5ms/step - loss: 13581315.0000 - accuracy: 0.0000e+00 - val_loss: 11534663.0000 - val_accuracy: 0.0000e+00\n",
            "Epoch 5/50\n",
            "234/234 [==============================] - 2s 8ms/step - loss: 13734049.0000 - accuracy: 0.0000e+00 - val_loss: 13144895.0000 - val_accuracy: 0.0000e+00\n",
            "Epoch 6/50\n",
            "234/234 [==============================] - 2s 8ms/step - loss: 12716284.0000 - accuracy: 0.0000e+00 - val_loss: 10682484.0000 - val_accuracy: 0.0000e+00\n",
            "Epoch 7/50\n",
            "234/234 [==============================] - 1s 6ms/step - loss: 12373074.0000 - accuracy: 0.0000e+00 - val_loss: 10198418.0000 - val_accuracy: 0.0000e+00\n",
            "Epoch 8/50\n",
            "234/234 [==============================] - 1s 6ms/step - loss: 12186074.0000 - accuracy: 0.0000e+00 - val_loss: 10046560.0000 - val_accuracy: 0.0000e+00\n",
            "Epoch 9/50\n",
            "234/234 [==============================] - 1s 6ms/step - loss: 11930032.0000 - accuracy: 0.0000e+00 - val_loss: 10061184.0000 - val_accuracy: 0.0000e+00\n",
            "Epoch 10/50\n",
            "234/234 [==============================] - 1s 6ms/step - loss: 11320425.0000 - accuracy: 0.0000e+00 - val_loss: 9647838.0000 - val_accuracy: 0.0000e+00\n",
            "Epoch 11/50\n",
            "234/234 [==============================] - 1s 6ms/step - loss: 11660596.0000 - accuracy: 0.0000e+00 - val_loss: 15917386.0000 - val_accuracy: 0.0000e+00\n",
            "Epoch 12/50\n",
            "234/234 [==============================] - 1s 6ms/step - loss: 10846433.0000 - accuracy: 0.0000e+00 - val_loss: 9266933.0000 - val_accuracy: 0.0000e+00\n",
            "Epoch 13/50\n",
            "234/234 [==============================] - 1s 6ms/step - loss: 11163266.0000 - accuracy: 0.0000e+00 - val_loss: 9119148.0000 - val_accuracy: 0.0000e+00\n",
            "Epoch 14/50\n",
            "234/234 [==============================] - 2s 7ms/step - loss: 11059894.0000 - accuracy: 0.0000e+00 - val_loss: 9318259.0000 - val_accuracy: 0.0000e+00\n",
            "Epoch 15/50\n",
            "234/234 [==============================] - 2s 8ms/step - loss: 10461011.0000 - accuracy: 0.0000e+00 - val_loss: 9098804.0000 - val_accuracy: 0.0000e+00\n",
            "Epoch 16/50\n",
            "234/234 [==============================] - 1s 6ms/step - loss: 10811899.0000 - accuracy: 0.0000e+00 - val_loss: 8427192.0000 - val_accuracy: 0.0000e+00\n",
            "Epoch 17/50\n",
            "234/234 [==============================] - 1s 6ms/step - loss: 10580147.0000 - accuracy: 0.0000e+00 - val_loss: 9155370.0000 - val_accuracy: 0.0000e+00\n",
            "Epoch 18/50\n",
            "234/234 [==============================] - 1s 6ms/step - loss: 10429069.0000 - accuracy: 0.0000e+00 - val_loss: 8441707.0000 - val_accuracy: 0.0000e+00\n",
            "Epoch 19/50\n",
            "234/234 [==============================] - 1s 6ms/step - loss: 10653160.0000 - accuracy: 0.0000e+00 - val_loss: 9348606.0000 - val_accuracy: 0.0000e+00\n",
            "Epoch 20/50\n",
            "234/234 [==============================] - 1s 6ms/step - loss: 10651092.0000 - accuracy: 0.0000e+00 - val_loss: 8694377.0000 - val_accuracy: 0.0000e+00\n",
            "Epoch 21/50\n",
            "234/234 [==============================] - 1s 6ms/step - loss: 10563197.0000 - accuracy: 0.0000e+00 - val_loss: 8624469.0000 - val_accuracy: 0.0000e+00\n",
            "Epoch 22/50\n",
            "234/234 [==============================] - 1s 6ms/step - loss: 10257235.0000 - accuracy: 0.0000e+00 - val_loss: 10344605.0000 - val_accuracy: 0.0000e+00\n",
            "Epoch 23/50\n",
            "234/234 [==============================] - 1s 6ms/step - loss: 10427893.0000 - accuracy: 0.0000e+00 - val_loss: 9468681.0000 - val_accuracy: 0.0000e+00\n",
            "Epoch 24/50\n",
            "234/234 [==============================] - 2s 8ms/step - loss: 10614803.0000 - accuracy: 0.0000e+00 - val_loss: 8528544.0000 - val_accuracy: 0.0000e+00\n",
            "Epoch 25/50\n",
            "234/234 [==============================] - 2s 7ms/step - loss: 10403902.0000 - accuracy: 0.0000e+00 - val_loss: 8357812.5000 - val_accuracy: 0.0000e+00\n",
            "Epoch 26/50\n",
            "234/234 [==============================] - 1s 6ms/step - loss: 10437566.0000 - accuracy: 0.0000e+00 - val_loss: 8244155.5000 - val_accuracy: 0.0000e+00\n",
            "Epoch 27/50\n",
            "234/234 [==============================] - 1s 6ms/step - loss: 10256874.0000 - accuracy: 0.0000e+00 - val_loss: 10844844.0000 - val_accuracy: 0.0000e+00\n",
            "Epoch 28/50\n",
            "234/234 [==============================] - 1s 6ms/step - loss: 10441376.0000 - accuracy: 0.0000e+00 - val_loss: 8382861.0000 - val_accuracy: 0.0000e+00\n",
            "Epoch 29/50\n",
            "234/234 [==============================] - 1s 6ms/step - loss: 9908490.0000 - accuracy: 0.0000e+00 - val_loss: 7924663.0000 - val_accuracy: 0.0000e+00\n",
            "Epoch 30/50\n",
            "234/234 [==============================] - 1s 6ms/step - loss: 10126788.0000 - accuracy: 0.0000e+00 - val_loss: 9298225.0000 - val_accuracy: 0.0000e+00\n",
            "Epoch 31/50\n",
            "234/234 [==============================] - 1s 6ms/step - loss: 10369232.0000 - accuracy: 0.0000e+00 - val_loss: 8510780.0000 - val_accuracy: 0.0000e+00\n",
            "Epoch 32/50\n",
            "234/234 [==============================] - 3s 12ms/step - loss: 10326332.0000 - accuracy: 0.0000e+00 - val_loss: 7991064.5000 - val_accuracy: 0.0000e+00\n",
            "Epoch 33/50\n",
            "234/234 [==============================] - 2s 9ms/step - loss: 10093769.0000 - accuracy: 0.0000e+00 - val_loss: 8403622.0000 - val_accuracy: 0.0000e+00\n",
            "Epoch 34/50\n",
            "234/234 [==============================] - 1s 6ms/step - loss: 10226135.0000 - accuracy: 0.0000e+00 - val_loss: 10907104.0000 - val_accuracy: 0.0000e+00\n",
            "Epoch 35/50\n",
            "234/234 [==============================] - 1s 6ms/step - loss: 9854424.0000 - accuracy: 0.0000e+00 - val_loss: 8719866.0000 - val_accuracy: 0.0000e+00\n",
            "Epoch 36/50\n",
            "234/234 [==============================] - 1s 6ms/step - loss: 10298666.0000 - accuracy: 0.0000e+00 - val_loss: 8134422.0000 - val_accuracy: 0.0000e+00\n",
            "Epoch 37/50\n",
            "234/234 [==============================] - 1s 6ms/step - loss: 9843343.0000 - accuracy: 0.0000e+00 - val_loss: 7605552.5000 - val_accuracy: 0.0000e+00\n",
            "Epoch 38/50\n",
            "234/234 [==============================] - 1s 6ms/step - loss: 9837057.0000 - accuracy: 0.0000e+00 - val_loss: 7444631.0000 - val_accuracy: 0.0000e+00\n",
            "Epoch 39/50\n",
            "234/234 [==============================] - 1s 6ms/step - loss: 9952907.0000 - accuracy: 0.0000e+00 - val_loss: 8025756.5000 - val_accuracy: 0.0000e+00\n",
            "Epoch 40/50\n",
            "234/234 [==============================] - 1s 6ms/step - loss: 10023716.0000 - accuracy: 0.0000e+00 - val_loss: 7604890.0000 - val_accuracy: 0.0000e+00\n",
            "Epoch 41/50\n",
            "234/234 [==============================] - 2s 8ms/step - loss: 9876239.0000 - accuracy: 0.0000e+00 - val_loss: 7969207.5000 - val_accuracy: 0.0000e+00\n",
            "Epoch 42/50\n",
            "234/234 [==============================] - 2s 8ms/step - loss: 9822922.0000 - accuracy: 0.0000e+00 - val_loss: 7999775.0000 - val_accuracy: 0.0000e+00\n",
            "Epoch 43/50\n",
            "234/234 [==============================] - 1s 5ms/step - loss: 9868999.0000 - accuracy: 0.0000e+00 - val_loss: 7166519.5000 - val_accuracy: 0.0000e+00\n",
            "Epoch 44/50\n",
            "234/234 [==============================] - 1s 6ms/step - loss: 9370866.0000 - accuracy: 0.0000e+00 - val_loss: 7306189.0000 - val_accuracy: 0.0000e+00\n",
            "Epoch 45/50\n",
            "234/234 [==============================] - 1s 6ms/step - loss: 9660027.0000 - accuracy: 0.0000e+00 - val_loss: 7874418.0000 - val_accuracy: 0.0000e+00\n",
            "Epoch 46/50\n",
            "234/234 [==============================] - 1s 6ms/step - loss: 9643835.0000 - accuracy: 0.0000e+00 - val_loss: 8956813.0000 - val_accuracy: 0.0000e+00\n",
            "Epoch 47/50\n",
            "234/234 [==============================] - 1s 5ms/step - loss: 9695141.0000 - accuracy: 0.0000e+00 - val_loss: 7873957.0000 - val_accuracy: 0.0000e+00\n",
            "Epoch 48/50\n",
            "234/234 [==============================] - 1s 6ms/step - loss: 9385877.0000 - accuracy: 0.0000e+00 - val_loss: 8424397.0000 - val_accuracy: 0.0000e+00\n",
            "Epoch 49/50\n",
            "234/234 [==============================] - 1s 6ms/step - loss: 9541864.0000 - accuracy: 0.0000e+00 - val_loss: 7653455.0000 - val_accuracy: 0.0000e+00\n",
            "Epoch 50/50\n",
            "234/234 [==============================] - 2s 7ms/step - loss: 9695978.0000 - accuracy: 0.0000e+00 - val_loss: 7510846.0000 - val_accuracy: 0.0000e+00\n"
          ]
        }
      ]
    },
    {
      "cell_type": "code",
      "source": [
        "pd.DataFrame(model.history.history)"
      ],
      "metadata": {
        "colab": {
          "base_uri": "https://localhost:8080/",
          "height": 1000
        },
        "id": "elRxeEkhgbw3",
        "outputId": "04622e71-293c-47b0-95b0-d1b422764572"
      },
      "execution_count": null,
      "outputs": [
        {
          "output_type": "execute_result",
          "data": {
            "text/plain": [
              "          loss  accuracy    val_loss  val_accuracy\n",
              "0   46668332.0       0.0  41288836.0           0.0\n",
              "1   15254638.0       0.0  17254560.0           0.0\n",
              "2   14529329.0       0.0  19657666.0           0.0\n",
              "3   13581315.0       0.0  11534663.0           0.0\n",
              "4   13734049.0       0.0  13144895.0           0.0\n",
              "5   12716284.0       0.0  10682484.0           0.0\n",
              "6   12373074.0       0.0  10198418.0           0.0\n",
              "7   12186074.0       0.0  10046560.0           0.0\n",
              "8   11930032.0       0.0  10061184.0           0.0\n",
              "9   11320425.0       0.0   9647838.0           0.0\n",
              "10  11660596.0       0.0  15917386.0           0.0\n",
              "11  10846433.0       0.0   9266933.0           0.0\n",
              "12  11163266.0       0.0   9119148.0           0.0\n",
              "13  11059894.0       0.0   9318259.0           0.0\n",
              "14  10461011.0       0.0   9098804.0           0.0\n",
              "15  10811899.0       0.0   8427192.0           0.0\n",
              "16  10580147.0       0.0   9155370.0           0.0\n",
              "17  10429069.0       0.0   8441707.0           0.0\n",
              "18  10653160.0       0.0   9348606.0           0.0\n",
              "19  10651092.0       0.0   8694377.0           0.0\n",
              "20  10563197.0       0.0   8624469.0           0.0\n",
              "21  10257235.0       0.0  10344605.0           0.0\n",
              "22  10427893.0       0.0   9468681.0           0.0\n",
              "23  10614803.0       0.0   8528544.0           0.0\n",
              "24  10403902.0       0.0   8357812.5           0.0\n",
              "25  10437566.0       0.0   8244155.5           0.0\n",
              "26  10256874.0       0.0  10844844.0           0.0\n",
              "27  10441376.0       0.0   8382861.0           0.0\n",
              "28   9908490.0       0.0   7924663.0           0.0\n",
              "29  10126788.0       0.0   9298225.0           0.0\n",
              "30  10369232.0       0.0   8510780.0           0.0\n",
              "31  10326332.0       0.0   7991064.5           0.0\n",
              "32  10093769.0       0.0   8403622.0           0.0\n",
              "33  10226135.0       0.0  10907104.0           0.0\n",
              "34   9854424.0       0.0   8719866.0           0.0\n",
              "35  10298666.0       0.0   8134422.0           0.0\n",
              "36   9843343.0       0.0   7605552.5           0.0\n",
              "37   9837057.0       0.0   7444631.0           0.0\n",
              "38   9952907.0       0.0   8025756.5           0.0\n",
              "39  10023716.0       0.0   7604890.0           0.0\n",
              "40   9876239.0       0.0   7969207.5           0.0\n",
              "41   9822922.0       0.0   7999775.0           0.0\n",
              "42   9868999.0       0.0   7166519.5           0.0\n",
              "43   9370866.0       0.0   7306189.0           0.0\n",
              "44   9660027.0       0.0   7874418.0           0.0\n",
              "45   9643835.0       0.0   8956813.0           0.0\n",
              "46   9695141.0       0.0   7873957.0           0.0\n",
              "47   9385877.0       0.0   8424397.0           0.0\n",
              "48   9541864.0       0.0   7653455.0           0.0\n",
              "49   9695978.0       0.0   7510846.0           0.0"
            ],
            "text/html": [
              "\n",
              "  <div id=\"df-f655b81d-3d37-4f58-ade9-3c0d84ab97cc\">\n",
              "    <div class=\"colab-df-container\">\n",
              "      <div>\n",
              "<style scoped>\n",
              "    .dataframe tbody tr th:only-of-type {\n",
              "        vertical-align: middle;\n",
              "    }\n",
              "\n",
              "    .dataframe tbody tr th {\n",
              "        vertical-align: top;\n",
              "    }\n",
              "\n",
              "    .dataframe thead th {\n",
              "        text-align: right;\n",
              "    }\n",
              "</style>\n",
              "<table border=\"1\" class=\"dataframe\">\n",
              "  <thead>\n",
              "    <tr style=\"text-align: right;\">\n",
              "      <th></th>\n",
              "      <th>loss</th>\n",
              "      <th>accuracy</th>\n",
              "      <th>val_loss</th>\n",
              "      <th>val_accuracy</th>\n",
              "    </tr>\n",
              "  </thead>\n",
              "  <tbody>\n",
              "    <tr>\n",
              "      <th>0</th>\n",
              "      <td>46668332.0</td>\n",
              "      <td>0.0</td>\n",
              "      <td>41288836.0</td>\n",
              "      <td>0.0</td>\n",
              "    </tr>\n",
              "    <tr>\n",
              "      <th>1</th>\n",
              "      <td>15254638.0</td>\n",
              "      <td>0.0</td>\n",
              "      <td>17254560.0</td>\n",
              "      <td>0.0</td>\n",
              "    </tr>\n",
              "    <tr>\n",
              "      <th>2</th>\n",
              "      <td>14529329.0</td>\n",
              "      <td>0.0</td>\n",
              "      <td>19657666.0</td>\n",
              "      <td>0.0</td>\n",
              "    </tr>\n",
              "    <tr>\n",
              "      <th>3</th>\n",
              "      <td>13581315.0</td>\n",
              "      <td>0.0</td>\n",
              "      <td>11534663.0</td>\n",
              "      <td>0.0</td>\n",
              "    </tr>\n",
              "    <tr>\n",
              "      <th>4</th>\n",
              "      <td>13734049.0</td>\n",
              "      <td>0.0</td>\n",
              "      <td>13144895.0</td>\n",
              "      <td>0.0</td>\n",
              "    </tr>\n",
              "    <tr>\n",
              "      <th>5</th>\n",
              "      <td>12716284.0</td>\n",
              "      <td>0.0</td>\n",
              "      <td>10682484.0</td>\n",
              "      <td>0.0</td>\n",
              "    </tr>\n",
              "    <tr>\n",
              "      <th>6</th>\n",
              "      <td>12373074.0</td>\n",
              "      <td>0.0</td>\n",
              "      <td>10198418.0</td>\n",
              "      <td>0.0</td>\n",
              "    </tr>\n",
              "    <tr>\n",
              "      <th>7</th>\n",
              "      <td>12186074.0</td>\n",
              "      <td>0.0</td>\n",
              "      <td>10046560.0</td>\n",
              "      <td>0.0</td>\n",
              "    </tr>\n",
              "    <tr>\n",
              "      <th>8</th>\n",
              "      <td>11930032.0</td>\n",
              "      <td>0.0</td>\n",
              "      <td>10061184.0</td>\n",
              "      <td>0.0</td>\n",
              "    </tr>\n",
              "    <tr>\n",
              "      <th>9</th>\n",
              "      <td>11320425.0</td>\n",
              "      <td>0.0</td>\n",
              "      <td>9647838.0</td>\n",
              "      <td>0.0</td>\n",
              "    </tr>\n",
              "    <tr>\n",
              "      <th>10</th>\n",
              "      <td>11660596.0</td>\n",
              "      <td>0.0</td>\n",
              "      <td>15917386.0</td>\n",
              "      <td>0.0</td>\n",
              "    </tr>\n",
              "    <tr>\n",
              "      <th>11</th>\n",
              "      <td>10846433.0</td>\n",
              "      <td>0.0</td>\n",
              "      <td>9266933.0</td>\n",
              "      <td>0.0</td>\n",
              "    </tr>\n",
              "    <tr>\n",
              "      <th>12</th>\n",
              "      <td>11163266.0</td>\n",
              "      <td>0.0</td>\n",
              "      <td>9119148.0</td>\n",
              "      <td>0.0</td>\n",
              "    </tr>\n",
              "    <tr>\n",
              "      <th>13</th>\n",
              "      <td>11059894.0</td>\n",
              "      <td>0.0</td>\n",
              "      <td>9318259.0</td>\n",
              "      <td>0.0</td>\n",
              "    </tr>\n",
              "    <tr>\n",
              "      <th>14</th>\n",
              "      <td>10461011.0</td>\n",
              "      <td>0.0</td>\n",
              "      <td>9098804.0</td>\n",
              "      <td>0.0</td>\n",
              "    </tr>\n",
              "    <tr>\n",
              "      <th>15</th>\n",
              "      <td>10811899.0</td>\n",
              "      <td>0.0</td>\n",
              "      <td>8427192.0</td>\n",
              "      <td>0.0</td>\n",
              "    </tr>\n",
              "    <tr>\n",
              "      <th>16</th>\n",
              "      <td>10580147.0</td>\n",
              "      <td>0.0</td>\n",
              "      <td>9155370.0</td>\n",
              "      <td>0.0</td>\n",
              "    </tr>\n",
              "    <tr>\n",
              "      <th>17</th>\n",
              "      <td>10429069.0</td>\n",
              "      <td>0.0</td>\n",
              "      <td>8441707.0</td>\n",
              "      <td>0.0</td>\n",
              "    </tr>\n",
              "    <tr>\n",
              "      <th>18</th>\n",
              "      <td>10653160.0</td>\n",
              "      <td>0.0</td>\n",
              "      <td>9348606.0</td>\n",
              "      <td>0.0</td>\n",
              "    </tr>\n",
              "    <tr>\n",
              "      <th>19</th>\n",
              "      <td>10651092.0</td>\n",
              "      <td>0.0</td>\n",
              "      <td>8694377.0</td>\n",
              "      <td>0.0</td>\n",
              "    </tr>\n",
              "    <tr>\n",
              "      <th>20</th>\n",
              "      <td>10563197.0</td>\n",
              "      <td>0.0</td>\n",
              "      <td>8624469.0</td>\n",
              "      <td>0.0</td>\n",
              "    </tr>\n",
              "    <tr>\n",
              "      <th>21</th>\n",
              "      <td>10257235.0</td>\n",
              "      <td>0.0</td>\n",
              "      <td>10344605.0</td>\n",
              "      <td>0.0</td>\n",
              "    </tr>\n",
              "    <tr>\n",
              "      <th>22</th>\n",
              "      <td>10427893.0</td>\n",
              "      <td>0.0</td>\n",
              "      <td>9468681.0</td>\n",
              "      <td>0.0</td>\n",
              "    </tr>\n",
              "    <tr>\n",
              "      <th>23</th>\n",
              "      <td>10614803.0</td>\n",
              "      <td>0.0</td>\n",
              "      <td>8528544.0</td>\n",
              "      <td>0.0</td>\n",
              "    </tr>\n",
              "    <tr>\n",
              "      <th>24</th>\n",
              "      <td>10403902.0</td>\n",
              "      <td>0.0</td>\n",
              "      <td>8357812.5</td>\n",
              "      <td>0.0</td>\n",
              "    </tr>\n",
              "    <tr>\n",
              "      <th>25</th>\n",
              "      <td>10437566.0</td>\n",
              "      <td>0.0</td>\n",
              "      <td>8244155.5</td>\n",
              "      <td>0.0</td>\n",
              "    </tr>\n",
              "    <tr>\n",
              "      <th>26</th>\n",
              "      <td>10256874.0</td>\n",
              "      <td>0.0</td>\n",
              "      <td>10844844.0</td>\n",
              "      <td>0.0</td>\n",
              "    </tr>\n",
              "    <tr>\n",
              "      <th>27</th>\n",
              "      <td>10441376.0</td>\n",
              "      <td>0.0</td>\n",
              "      <td>8382861.0</td>\n",
              "      <td>0.0</td>\n",
              "    </tr>\n",
              "    <tr>\n",
              "      <th>28</th>\n",
              "      <td>9908490.0</td>\n",
              "      <td>0.0</td>\n",
              "      <td>7924663.0</td>\n",
              "      <td>0.0</td>\n",
              "    </tr>\n",
              "    <tr>\n",
              "      <th>29</th>\n",
              "      <td>10126788.0</td>\n",
              "      <td>0.0</td>\n",
              "      <td>9298225.0</td>\n",
              "      <td>0.0</td>\n",
              "    </tr>\n",
              "    <tr>\n",
              "      <th>30</th>\n",
              "      <td>10369232.0</td>\n",
              "      <td>0.0</td>\n",
              "      <td>8510780.0</td>\n",
              "      <td>0.0</td>\n",
              "    </tr>\n",
              "    <tr>\n",
              "      <th>31</th>\n",
              "      <td>10326332.0</td>\n",
              "      <td>0.0</td>\n",
              "      <td>7991064.5</td>\n",
              "      <td>0.0</td>\n",
              "    </tr>\n",
              "    <tr>\n",
              "      <th>32</th>\n",
              "      <td>10093769.0</td>\n",
              "      <td>0.0</td>\n",
              "      <td>8403622.0</td>\n",
              "      <td>0.0</td>\n",
              "    </tr>\n",
              "    <tr>\n",
              "      <th>33</th>\n",
              "      <td>10226135.0</td>\n",
              "      <td>0.0</td>\n",
              "      <td>10907104.0</td>\n",
              "      <td>0.0</td>\n",
              "    </tr>\n",
              "    <tr>\n",
              "      <th>34</th>\n",
              "      <td>9854424.0</td>\n",
              "      <td>0.0</td>\n",
              "      <td>8719866.0</td>\n",
              "      <td>0.0</td>\n",
              "    </tr>\n",
              "    <tr>\n",
              "      <th>35</th>\n",
              "      <td>10298666.0</td>\n",
              "      <td>0.0</td>\n",
              "      <td>8134422.0</td>\n",
              "      <td>0.0</td>\n",
              "    </tr>\n",
              "    <tr>\n",
              "      <th>36</th>\n",
              "      <td>9843343.0</td>\n",
              "      <td>0.0</td>\n",
              "      <td>7605552.5</td>\n",
              "      <td>0.0</td>\n",
              "    </tr>\n",
              "    <tr>\n",
              "      <th>37</th>\n",
              "      <td>9837057.0</td>\n",
              "      <td>0.0</td>\n",
              "      <td>7444631.0</td>\n",
              "      <td>0.0</td>\n",
              "    </tr>\n",
              "    <tr>\n",
              "      <th>38</th>\n",
              "      <td>9952907.0</td>\n",
              "      <td>0.0</td>\n",
              "      <td>8025756.5</td>\n",
              "      <td>0.0</td>\n",
              "    </tr>\n",
              "    <tr>\n",
              "      <th>39</th>\n",
              "      <td>10023716.0</td>\n",
              "      <td>0.0</td>\n",
              "      <td>7604890.0</td>\n",
              "      <td>0.0</td>\n",
              "    </tr>\n",
              "    <tr>\n",
              "      <th>40</th>\n",
              "      <td>9876239.0</td>\n",
              "      <td>0.0</td>\n",
              "      <td>7969207.5</td>\n",
              "      <td>0.0</td>\n",
              "    </tr>\n",
              "    <tr>\n",
              "      <th>41</th>\n",
              "      <td>9822922.0</td>\n",
              "      <td>0.0</td>\n",
              "      <td>7999775.0</td>\n",
              "      <td>0.0</td>\n",
              "    </tr>\n",
              "    <tr>\n",
              "      <th>42</th>\n",
              "      <td>9868999.0</td>\n",
              "      <td>0.0</td>\n",
              "      <td>7166519.5</td>\n",
              "      <td>0.0</td>\n",
              "    </tr>\n",
              "    <tr>\n",
              "      <th>43</th>\n",
              "      <td>9370866.0</td>\n",
              "      <td>0.0</td>\n",
              "      <td>7306189.0</td>\n",
              "      <td>0.0</td>\n",
              "    </tr>\n",
              "    <tr>\n",
              "      <th>44</th>\n",
              "      <td>9660027.0</td>\n",
              "      <td>0.0</td>\n",
              "      <td>7874418.0</td>\n",
              "      <td>0.0</td>\n",
              "    </tr>\n",
              "    <tr>\n",
              "      <th>45</th>\n",
              "      <td>9643835.0</td>\n",
              "      <td>0.0</td>\n",
              "      <td>8956813.0</td>\n",
              "      <td>0.0</td>\n",
              "    </tr>\n",
              "    <tr>\n",
              "      <th>46</th>\n",
              "      <td>9695141.0</td>\n",
              "      <td>0.0</td>\n",
              "      <td>7873957.0</td>\n",
              "      <td>0.0</td>\n",
              "    </tr>\n",
              "    <tr>\n",
              "      <th>47</th>\n",
              "      <td>9385877.0</td>\n",
              "      <td>0.0</td>\n",
              "      <td>8424397.0</td>\n",
              "      <td>0.0</td>\n",
              "    </tr>\n",
              "    <tr>\n",
              "      <th>48</th>\n",
              "      <td>9541864.0</td>\n",
              "      <td>0.0</td>\n",
              "      <td>7653455.0</td>\n",
              "      <td>0.0</td>\n",
              "    </tr>\n",
              "    <tr>\n",
              "      <th>49</th>\n",
              "      <td>9695978.0</td>\n",
              "      <td>0.0</td>\n",
              "      <td>7510846.0</td>\n",
              "      <td>0.0</td>\n",
              "    </tr>\n",
              "  </tbody>\n",
              "</table>\n",
              "</div>\n",
              "      <button class=\"colab-df-convert\" onclick=\"convertToInteractive('df-f655b81d-3d37-4f58-ade9-3c0d84ab97cc')\"\n",
              "              title=\"Convert this dataframe to an interactive table.\"\n",
              "              style=\"display:none;\">\n",
              "        \n",
              "  <svg xmlns=\"http://www.w3.org/2000/svg\" height=\"24px\"viewBox=\"0 0 24 24\"\n",
              "       width=\"24px\">\n",
              "    <path d=\"M0 0h24v24H0V0z\" fill=\"none\"/>\n",
              "    <path d=\"M18.56 5.44l.94 2.06.94-2.06 2.06-.94-2.06-.94-.94-2.06-.94 2.06-2.06.94zm-11 1L8.5 8.5l.94-2.06 2.06-.94-2.06-.94L8.5 2.5l-.94 2.06-2.06.94zm10 10l.94 2.06.94-2.06 2.06-.94-2.06-.94-.94-2.06-.94 2.06-2.06.94z\"/><path d=\"M17.41 7.96l-1.37-1.37c-.4-.4-.92-.59-1.43-.59-.52 0-1.04.2-1.43.59L10.3 9.45l-7.72 7.72c-.78.78-.78 2.05 0 2.83L4 21.41c.39.39.9.59 1.41.59.51 0 1.02-.2 1.41-.59l7.78-7.78 2.81-2.81c.8-.78.8-2.07 0-2.86zM5.41 20L4 18.59l7.72-7.72 1.47 1.35L5.41 20z\"/>\n",
              "  </svg>\n",
              "      </button>\n",
              "      \n",
              "  <style>\n",
              "    .colab-df-container {\n",
              "      display:flex;\n",
              "      flex-wrap:wrap;\n",
              "      gap: 12px;\n",
              "    }\n",
              "\n",
              "    .colab-df-convert {\n",
              "      background-color: #E8F0FE;\n",
              "      border: none;\n",
              "      border-radius: 50%;\n",
              "      cursor: pointer;\n",
              "      display: none;\n",
              "      fill: #1967D2;\n",
              "      height: 32px;\n",
              "      padding: 0 0 0 0;\n",
              "      width: 32px;\n",
              "    }\n",
              "\n",
              "    .colab-df-convert:hover {\n",
              "      background-color: #E2EBFA;\n",
              "      box-shadow: 0px 1px 2px rgba(60, 64, 67, 0.3), 0px 1px 3px 1px rgba(60, 64, 67, 0.15);\n",
              "      fill: #174EA6;\n",
              "    }\n",
              "\n",
              "    [theme=dark] .colab-df-convert {\n",
              "      background-color: #3B4455;\n",
              "      fill: #D2E3FC;\n",
              "    }\n",
              "\n",
              "    [theme=dark] .colab-df-convert:hover {\n",
              "      background-color: #434B5C;\n",
              "      box-shadow: 0px 1px 3px 1px rgba(0, 0, 0, 0.15);\n",
              "      filter: drop-shadow(0px 1px 2px rgba(0, 0, 0, 0.3));\n",
              "      fill: #FFFFFF;\n",
              "    }\n",
              "  </style>\n",
              "\n",
              "      <script>\n",
              "        const buttonEl =\n",
              "          document.querySelector('#df-f655b81d-3d37-4f58-ade9-3c0d84ab97cc button.colab-df-convert');\n",
              "        buttonEl.style.display =\n",
              "          google.colab.kernel.accessAllowed ? 'block' : 'none';\n",
              "\n",
              "        async function convertToInteractive(key) {\n",
              "          const element = document.querySelector('#df-f655b81d-3d37-4f58-ade9-3c0d84ab97cc');\n",
              "          const dataTable =\n",
              "            await google.colab.kernel.invokeFunction('convertToInteractive',\n",
              "                                                     [key], {});\n",
              "          if (!dataTable) return;\n",
              "\n",
              "          const docLinkHtml = 'Like what you see? Visit the ' +\n",
              "            '<a target=\"_blank\" href=https://colab.research.google.com/notebooks/data_table.ipynb>data table notebook</a>'\n",
              "            + ' to learn more about interactive tables.';\n",
              "          element.innerHTML = '';\n",
              "          dataTable['output_type'] = 'display_data';\n",
              "          await google.colab.output.renderOutput(dataTable, element);\n",
              "          const docLink = document.createElement('div');\n",
              "          docLink.innerHTML = docLinkHtml;\n",
              "          element.appendChild(docLink);\n",
              "        }\n",
              "      </script>\n",
              "    </div>\n",
              "  </div>\n",
              "  "
            ]
          },
          "metadata": {},
          "execution_count": 214
        }
      ]
    },
    {
      "cell_type": "code",
      "source": [
        "plt.style.use(\"ggplot\")\n",
        "pd.DataFrame(model.history.history).plot(figsize=(12,10))"
      ],
      "metadata": {
        "colab": {
          "base_uri": "https://localhost:8080/",
          "height": 863
        },
        "id": "rJeGw0sSf1oo",
        "outputId": "fb27db1c-fe79-4e8b-bf81-514b24d25129"
      },
      "execution_count": null,
      "outputs": [
        {
          "output_type": "execute_result",
          "data": {
            "text/plain": [
              "<Axes: >"
            ]
          },
          "metadata": {},
          "execution_count": 215
        },
        {
          "output_type": "display_data",
          "data": {
            "text/plain": [
              "<Figure size 1200x1000 with 1 Axes>"
            ],
            "image/png": "[encoded data removed]"
          },
          "metadata": {}
        }
      ]
    },
    {
      "cell_type": "code",
      "source": [],
      "metadata": {
        "id": "XxVWYA4qoVm5"
      },
      "execution_count": null,
      "outputs": []
    },
    {
      "cell_type": "code",
      "source": [
        "predictions = model.predict(x_test)\n",
        "predictions_df = pd.DataFrame(np.ravel(predictions),columns=[\"Predictions\"])\n",
        "comparison_df = pd.concat([pd.DataFrame(y_test,columns=[\"Real Values\"]), predictions_df],axis=1)"
      ],
      "metadata": {
        "colab": {
          "base_uri": "https://localhost:8080/"
        },
        "id": "EsCI9Raziy4k",
        "outputId": "e7fc207e-982a-496f-8e83-6bac83bc9bd7"
      },
      "execution_count": null,
      "outputs": [
        {
          "output_type": "stream",
          "name": "stdout",
          "text": [
            "101/101 [==============================] - 0s 1ms/step\n"
          ]
        }
      ]
    },
    {
      "cell_type": "code",
      "source": [
        "from sklearn import metrics\n",
        "print(\"MAE:\",metrics.mean_absolute_error(y_test,predictions))\n",
        "print (\"MSE:\",metrics.mean_squared_error(y_test,predictions))\n",
        "print(\"RMSE:\",np.sqrt(metrics.mean_squared_error(y_test,predictions)))"
      ],
      "metadata": {
        "colab": {
          "base_uri": "https://localhost:8080/"
        },
        "id": "i4Lzk1NpjNnt",
        "outputId": "e1c8fee6-c0c8-47e9-bb6c-42ed73c949f3"
      },
      "execution_count": null,
      "outputs": [
        {
          "output_type": "stream",
          "name": "stdout",
          "text": [
            "MAE: 1788.3721905927018\n",
            "MSE: 7510844.790940766\n",
            "RMSE: 2740.5920511708355\n"
          ]
        }
      ]
    },
    {
      "cell_type": "code",
      "source": [
        "#Evaluation of  the explained variance score (R^2)\n",
        "metrics.explained_variance_score(y_test,predictions)"
      ],
      "metadata": {
        "colab": {
          "base_uri": "https://localhost:8080/"
        },
        "id": "7Y_Kt1GYjzVa",
        "outputId": "35ddef15-7396-4843-8106-40643a67a6b6"
      },
      "execution_count": null,
      "outputs": [
        {
          "output_type": "execute_result",
          "data": {
            "text/plain": [
              "0.6527378738407228"
            ]
          },
          "metadata": {},
          "execution_count": 218
        }
      ]
    },
    {
      "cell_type": "markdown",
      "source": [
        "Part 2"
      ],
      "metadata": {
        "id": "VfoUcHds_Gog"
      }
    },
    {
      "cell_type": "code",
      "execution_count": null,
      "metadata": {
        "colab": {
          "base_uri": "https://localhost:8080/"
        },
        "id": "w9kvzTndvE4_",
        "outputId": "6ce0081e-8b50-43c7-b6d1-ba2e2e32ab9a"
      },
      "outputs": [
        {
          "output_type": "stream",
          "name": "stdout",
          "text": [
            "Drive already mounted at /content/drive; to attempt to forcibly remount, call drive.mount(\"/content/drive\", force_remount=True).\n"
          ]
        }
      ],
      "source": [
        "from google.colab import drive\n",
        "drive.mount('/content/drive')"
      ]
    },
    {
      "cell_type": "code",
      "source": [
        "import numpy as np\n",
        "import pandas as pd\n",
        "import h5py\n",
        "from sklearn.model_selection import train_test_split\n",
        "from sklearn import preprocessing\n",
        "import seaborn as sns\n",
        "import tensorflow\n",
        "from tensorflow.keras.models import Sequential\n",
        "from tensorflow.keras.layers import Dense, Dropout, BatchNormalization\n",
        "from sklearn.metrics import accuracy_score, confusion_matrix, precision_score, recall_score, f1_score, precision_recall_curve, auc\n",
        "import matplotlib.pyplot as plt\n",
        "from tensorflow.keras import optimizers"
      ],
      "metadata": {
        "id": "QQPTGXSUwGTT"
      },
      "execution_count": null,
      "outputs": []
    },
    {
      "cell_type": "code",
      "source": [
        "df=pd.read_csv('/content/drive/MyDrive/csv/usedcars.csv')"
      ],
      "metadata": {
        "id": "KEhmmJy74q2h"
      },
      "execution_count": null,
      "outputs": []
    },
    {
      "cell_type": "code",
      "source": [
        "df.info()"
      ],
      "metadata": {
        "colab": {
          "base_uri": "https://localhost:8080/"
        },
        "id": "CQdo4_ZiQ7JM",
        "outputId": "93373b85-5b37-4133-f4ba-88b869616a85"
      },
      "execution_count": null,
      "outputs": [
        {
          "output_type": "stream",
          "name": "stdout",
          "text": [
            "<class 'pandas.core.frame.DataFrame'>\n",
            "RangeIndex: 150 entries, 0 to 149\n",
            "Data columns (total 6 columns):\n",
            " #   Column        Non-Null Count  Dtype \n",
            "---  ------        --------------  ----- \n",
            " 0   year          150 non-null    int64 \n",
            " 1   model         150 non-null    object\n",
            " 2   price         150 non-null    int64 \n",
            " 3   mileage       150 non-null    int64 \n",
            " 4   color         150 non-null    object\n",
            " 5   transmission  150 non-null    object\n",
            "dtypes: int64(3), object(3)\n",
            "memory usage: 7.2+ KB\n"
          ]
        }
      ]
    },
    {
      "cell_type": "code",
      "source": [
        "df.head()"
      ],
      "metadata": {
        "colab": {
          "base_uri": "https://localhost:8080/",
          "height": 206
        },
        "id": "QScetP0EQ-o7",
        "outputId": "3b068482-a344-4f85-9c5f-3030d8cd64e0"
      },
      "execution_count": null,
      "outputs": [
        {
          "output_type": "execute_result",
          "data": {
            "text/plain": [
              "   year model  price  mileage   color transmission\n",
              "0  2011   SEL  21992     7413    Gray         AUTO\n",
              "1  2011   SEL  20995    10926    Gray         AUTO\n",
              "2  2011   SEL  19995     7351  Silver         AUTO\n",
              "3  2011   SEL  17809    11613    Gray         AUTO\n",
              "4  2011    SE  17500     8367   White         AUTO"
            ],
            "text/html": [
              "\n",
              "  <div id=\"df-71f38152-953d-41c4-9da9-02b34c9efe9a\">\n",
              "    <div class=\"colab-df-container\">\n",
              "      <div>\n",
              "<style scoped>\n",
              "    .dataframe tbody tr th:only-of-type {\n",
              "        vertical-align: middle;\n",
              "    }\n",
              "\n",
              "    .dataframe tbody tr th {\n",
              "        vertical-align: top;\n",
              "    }\n",
              "\n",
              "    .dataframe thead th {\n",
              "        text-align: right;\n",
              "    }\n",
              "</style>\n",
              "<table border=\"1\" class=\"dataframe\">\n",
              "  <thead>\n",
              "    <tr style=\"text-align: right;\">\n",
              "      <th></th>\n",
              "      <th>year</th>\n",
              "      <th>model</th>\n",
              "      <th>price</th>\n",
              "      <th>mileage</th>\n",
              "      <th>color</th>\n",
              "      <th>transmission</th>\n",
              "    </tr>\n",
              "  </thead>\n",
              "  <tbody>\n",
              "    <tr>\n",
              "      <th>0</th>\n",
              "      <td>2011</td>\n",
              "      <td>SEL</td>\n",
              "      <td>21992</td>\n",
              "      <td>7413</td>\n",
              "      <td>Gray</td>\n",
              "      <td>AUTO</td>\n",
              "    </tr>\n",
              "    <tr>\n",
              "      <th>1</th>\n",
              "      <td>2011</td>\n",
              "      <td>SEL</td>\n",
              "      <td>20995</td>\n",
              "      <td>10926</td>\n",
              "      <td>Gray</td>\n",
              "      <td>AUTO</td>\n",
              "    </tr>\n",
              "    <tr>\n",
              "      <th>2</th>\n",
              "      <td>2011</td>\n",
              "      <td>SEL</td>\n",
              "      <td>19995</td>\n",
              "      <td>7351</td>\n",
              "      <td>Silver</td>\n",
              "      <td>AUTO</td>\n",
              "    </tr>\n",
              "    <tr>\n",
              "      <th>3</th>\n",
              "      <td>2011</td>\n",
              "      <td>SEL</td>\n",
              "      <td>17809</td>\n",
              "      <td>11613</td>\n",
              "      <td>Gray</td>\n",
              "      <td>AUTO</td>\n",
              "    </tr>\n",
              "    <tr>\n",
              "      <th>4</th>\n",
              "      <td>2011</td>\n",
              "      <td>SE</td>\n",
              "      <td>17500</td>\n",
              "      <td>8367</td>\n",
              "      <td>White</td>\n",
              "      <td>AUTO</td>\n",
              "    </tr>\n",
              "  </tbody>\n",
              "</table>\n",
              "</div>\n",
              "      <button class=\"colab-df-convert\" onclick=\"convertToInteractive('df-71f38152-953d-41c4-9da9-02b34c9efe9a')\"\n",
              "              title=\"Convert this dataframe to an interactive table.\"\n",
              "              style=\"display:none;\">\n",
              "        \n",
              "  <svg xmlns=\"http://www.w3.org/2000/svg\" height=\"24px\"viewBox=\"0 0 24 24\"\n",
              "       width=\"24px\">\n",
              "    <path d=\"M0 0h24v24H0V0z\" fill=\"none\"/>\n",
              "    <path d=\"M18.56 5.44l.94 2.06.94-2.06 2.06-.94-2.06-.94-.94-2.06-.94 2.06-2.06.94zm-11 1L8.5 8.5l.94-2.06 2.06-.94-2.06-.94L8.5 2.5l-.94 2.06-2.06.94zm10 10l.94 2.06.94-2.06 2.06-.94-2.06-.94-.94-2.06-.94 2.06-2.06.94z\"/><path d=\"M17.41 7.96l-1.37-1.37c-.4-.4-.92-.59-1.43-.59-.52 0-1.04.2-1.43.59L10.3 9.45l-7.72 7.72c-.78.78-.78 2.05 0 2.83L4 21.41c.39.39.9.59 1.41.59.51 0 1.02-.2 1.41-.59l7.78-7.78 2.81-2.81c.8-.78.8-2.07 0-2.86zM5.41 20L4 18.59l7.72-7.72 1.47 1.35L5.41 20z\"/>\n",
              "  </svg>\n",
              "      </button>\n",
              "      \n",
              "  <style>\n",
              "    .colab-df-container {\n",
              "      display:flex;\n",
              "      flex-wrap:wrap;\n",
              "      gap: 12px;\n",
              "    }\n",
              "\n",
              "    .colab-df-convert {\n",
              "      background-color: #E8F0FE;\n",
              "      border: none;\n",
              "      border-radius: 50%;\n",
              "      cursor: pointer;\n",
              "      display: none;\n",
              "      fill: #1967D2;\n",
              "      height: 32px;\n",
              "      padding: 0 0 0 0;\n",
              "      width: 32px;\n",
              "    }\n",
              "\n",
              "    .colab-df-convert:hover {\n",
              "      background-color: #E2EBFA;\n",
              "      box-shadow: 0px 1px 2px rgba(60, 64, 67, 0.3), 0px 1px 3px 1px rgba(60, 64, 67, 0.15);\n",
              "      fill: #174EA6;\n",
              "    }\n",
              "\n",
              "    [theme=dark] .colab-df-convert {\n",
              "      background-color: #3B4455;\n",
              "      fill: #D2E3FC;\n",
              "    }\n",
              "\n",
              "    [theme=dark] .colab-df-convert:hover {\n",
              "      background-color: #434B5C;\n",
              "      box-shadow: 0px 1px 3px 1px rgba(0, 0, 0, 0.15);\n",
              "      filter: drop-shadow(0px 1px 2px rgba(0, 0, 0, 0.3));\n",
              "      fill: #FFFFFF;\n",
              "    }\n",
              "  </style>\n",
              "\n",
              "      <script>\n",
              "        const buttonEl =\n",
              "          document.querySelector('#df-71f38152-953d-41c4-9da9-02b34c9efe9a button.colab-df-convert');\n",
              "        buttonEl.style.display =\n",
              "          google.colab.kernel.accessAllowed ? 'block' : 'none';\n",
              "\n",
              "        async function convertToInteractive(key) {\n",
              "          const element = document.querySelector('#df-71f38152-953d-41c4-9da9-02b34c9efe9a');\n",
              "          const dataTable =\n",
              "            await google.colab.kernel.invokeFunction('convertToInteractive',\n",
              "                                                     [key], {});\n",
              "          if (!dataTable) return;\n",
              "\n",
              "          const docLinkHtml = 'Like what you see? Visit the ' +\n",
              "            '<a target=\"_blank\" href=https://colab.research.google.com/notebooks/data_table.ipynb>data table notebook</a>'\n",
              "            + ' to learn more about interactive tables.';\n",
              "          element.innerHTML = '';\n",
              "          dataTable['output_type'] = 'display_data';\n",
              "          await google.colab.output.renderOutput(dataTable, element);\n",
              "          const docLink = document.createElement('div');\n",
              "          docLink.innerHTML = docLinkHtml;\n",
              "          element.appendChild(docLink);\n",
              "        }\n",
              "      </script>\n",
              "    </div>\n",
              "  </div>\n",
              "  "
            ]
          },
          "metadata": {},
          "execution_count": 223
        }
      ]
    },
    {
      "cell_type": "code",
      "source": [
        "df.isnull().sum()"
      ],
      "metadata": {
        "colab": {
          "base_uri": "https://localhost:8080/"
        },
        "id": "HW_5Y35YZhyF",
        "outputId": "3a67a55f-8a57-47b9-c185-bdf316f99e4f"
      },
      "execution_count": null,
      "outputs": [
        {
          "output_type": "execute_result",
          "data": {
            "text/plain": [
              "year            0\n",
              "model           0\n",
              "price           0\n",
              "mileage         0\n",
              "color           0\n",
              "transmission    0\n",
              "dtype: int64"
            ]
          },
          "metadata": {},
          "execution_count": 224
        }
      ]
    },
    {
      "cell_type": "code",
      "source": [
        "df.duplicated().sum()"
      ],
      "metadata": {
        "colab": {
          "base_uri": "https://localhost:8080/"
        },
        "id": "UrFsge70a1fn",
        "outputId": "e96ba2e6-b1d8-4232-d23a-222fc12e6270"
      },
      "execution_count": null,
      "outputs": [
        {
          "output_type": "execute_result",
          "data": {
            "text/plain": [
              "0"
            ]
          },
          "metadata": {},
          "execution_count": 225
        }
      ]
    },
    {
      "cell_type": "code",
      "source": [
        "sns.scatterplot(data=df, x= 'transmission',y='price')\n"
      ],
      "metadata": {
        "colab": {
          "base_uri": "https://localhost:8080/",
          "height": 471
        },
        "id": "RF-J5F7n8Zc1",
        "outputId": "c98f54b6-ed2a-4b73-cb97-dad22cb69c4d"
      },
      "execution_count": null,
      "outputs": [
        {
          "output_type": "execute_result",
          "data": {
            "text/plain": [
              "<Axes: xlabel='transmission', ylabel='price'>"
            ]
          },
          "metadata": {},
          "execution_count": 226
        },
        {
          "output_type": "display_data",
          "data": {
            "text/plain": [
              "<Figure size 640x480 with 1 Axes>"
            ],
            "image/png": "[encoded data removed]"
          },
          "metadata": {}
        }
      ]
    },
    {
      "cell_type": "code",
      "source": [
        "plt.figure(figsize=(5,3))\n",
        "sns.heatmap(data=df.corr(), annot=True)"
      ],
      "metadata": {
        "colab": {
          "base_uri": "https://localhost:8080/",
          "height": 372
        },
        "id": "ap_VCXOcjg32",
        "outputId": "6bbabe75-95cf-42f2-a89d-c923927e57e7"
      },
      "execution_count": null,
      "outputs": [
        {
          "output_type": "stream",
          "name": "stderr",
          "text": [
            "<ipython-input-227-964b931f1b62>:2: FutureWarning: The default value of numeric_only in DataFrame.corr is deprecated. In a future version, it will default to False. Select only valid columns or specify the value of numeric_only to silence this warning.\n",
            "  sns.heatmap(data=df.corr(), annot=True)\n"
          ]
        },
        {
          "output_type": "execute_result",
          "data": {
            "text/plain": [
              "<Axes: >"
            ]
          },
          "metadata": {},
          "execution_count": 227
        },
        {
          "output_type": "display_data",
          "data": {
            "text/plain": [
              "<Figure size 500x300 with 2 Axes>"
            ],
            "image/png": "[encoded data removed]"
          },
          "metadata": {}
        }
      ]
    },
    {
      "cell_type": "code",
      "source": [
        "print(df[\"model\"].value_counts())\n",
        "model= pd.get_dummies(df['model'], drop_first= True)\n"
      ],
      "metadata": {
        "colab": {
          "base_uri": "https://localhost:8080/"
        },
        "id": "iBEDyV7edP6s",
        "outputId": "fef23f02-6004-4822-bca6-6163f24cb86d"
      },
      "execution_count": null,
      "outputs": [
        {
          "output_type": "stream",
          "name": "stdout",
          "text": [
            "SE     78\n",
            "SES    49\n",
            "SEL    23\n",
            "Name: model, dtype: int64\n"
          ]
        }
      ]
    },
    {
      "cell_type": "code",
      "source": [
        "print(df[\"color\"].value_counts())\n",
        "color= pd.get_dummies(df['color'], drop_first= True)"
      ],
      "metadata": {
        "colab": {
          "base_uri": "https://localhost:8080/"
        },
        "id": "bE-Ex95pdZKf",
        "outputId": "43067320-db10-4780-9afa-b35e5b3d67f7"
      },
      "execution_count": null,
      "outputs": [
        {
          "output_type": "stream",
          "name": "stdout",
          "text": [
            "Black     35\n",
            "Silver    32\n",
            "Gray      25\n",
            "Red       25\n",
            "Blue      17\n",
            "White     16\n",
            "Name: color, dtype: int64\n"
          ]
        }
      ]
    },
    {
      "cell_type": "code",
      "source": [
        "df['transmission'].value_counts()\n",
        "transmission= pd.get_dummies(df['transmission'], drop_first= True)"
      ],
      "metadata": {
        "id": "FKkBAIb0d4FL"
      },
      "execution_count": null,
      "outputs": []
    },
    {
      "cell_type": "code",
      "source": [
        "df['year'].value_counts()\n",
        "year = pd.get_dummies(df['year'], drop_first= True)"
      ],
      "metadata": {
        "id": "WYW0Ume1eQ1Z"
      },
      "execution_count": null,
      "outputs": []
    },
    {
      "cell_type": "code",
      "source": [
        "df1 = pd.concat([df, model,year, color, transmission], axis = 1)\n",
        "df1.drop([\"model\", \"color\", \"year\", \"transmission\"], axis = 1, inplace = True)\n",
        "\n"
      ],
      "metadata": {
        "id": "nPiZHAp7a5Ss"
      },
      "execution_count": null,
      "outputs": []
    },
    {
      "cell_type": "code",
      "source": [
        "df1.head()"
      ],
      "metadata": {
        "colab": {
          "base_uri": "https://localhost:8080/",
          "height": 206
        },
        "id": "gMziAzBMf66-",
        "outputId": "6917add5-3374-4656-ab4f-83d762dbd77a"
      },
      "execution_count": null,
      "outputs": [
        {
          "output_type": "execute_result",
          "data": {
            "text/plain": [
              "   price  mileage  SEL  SES  2007  2008  2009  2010  2011  Blue  Gray  Red  \\\n",
              "0  21992     7413    1    0     0     0     0     0     1     0     1    0   \n",
              "1  20995    10926    1    0     0     0     0     0     1     0     1    0   \n",
              "2  19995     7351    1    0     0     0     0     0     1     0     0    0   \n",
              "3  17809    11613    1    0     0     0     0     0     1     0     1    0   \n",
              "4  17500     8367    0    0     0     0     0     0     1     0     0    0   \n",
              "\n",
              "   Silver  White  MANUAL  \n",
              "0       0      0       0  \n",
              "1       0      0       0  \n",
              "2       1      0       0  \n",
              "3       0      0       0  \n",
              "4       0      1       0  "
            ],
            "text/html": [
              "\n",
              "  <div id=\"df-40b55983-1671-4d09-8019-8825556a6869\">\n",
              "    <div class=\"colab-df-container\">\n",
              "      <div>\n",
              "<style scoped>\n",
              "    .dataframe tbody tr th:only-of-type {\n",
              "        vertical-align: middle;\n",
              "    }\n",
              "\n",
              "    .dataframe tbody tr th {\n",
              "        vertical-align: top;\n",
              "    }\n",
              "\n",
              "    .dataframe thead th {\n",
              "        text-align: right;\n",
              "    }\n",
              "</style>\n",
              "<table border=\"1\" class=\"dataframe\">\n",
              "  <thead>\n",
              "    <tr style=\"text-align: right;\">\n",
              "      <th></th>\n",
              "      <th>price</th>\n",
              "      <th>mileage</th>\n",
              "      <th>SEL</th>\n",
              "      <th>SES</th>\n",
              "      <th>2007</th>\n",
              "      <th>2008</th>\n",
              "      <th>2009</th>\n",
              "      <th>2010</th>\n",
              "      <th>2011</th>\n",
              "      <th>Blue</th>\n",
              "      <th>Gray</th>\n",
              "      <th>Red</th>\n",
              "      <th>Silver</th>\n",
              "      <th>White</th>\n",
              "      <th>MANUAL</th>\n",
              "    </tr>\n",
              "  </thead>\n",
              "  <tbody>\n",
              "    <tr>\n",
              "      <th>0</th>\n",
              "      <td>21992</td>\n",
              "      <td>7413</td>\n",
              "      <td>1</td>\n",
              "      <td>0</td>\n",
              "      <td>0</td>\n",
              "      <td>0</td>\n",
              "      <td>0</td>\n",
              "      <td>0</td>\n",
              "      <td>1</td>\n",
              "      <td>0</td>\n",
              "      <td>1</td>\n",
              "      <td>0</td>\n",
              "      <td>0</td>\n",
              "      <td>0</td>\n",
              "      <td>0</td>\n",
              "    </tr>\n",
              "    <tr>\n",
              "      <th>1</th>\n",
              "      <td>20995</td>\n",
              "      <td>10926</td>\n",
              "      <td>1</td>\n",
              "      <td>0</td>\n",
              "      <td>0</td>\n",
              "      <td>0</td>\n",
              "      <td>0</td>\n",
              "      <td>0</td>\n",
              "      <td>1</td>\n",
              "      <td>0</td>\n",
              "      <td>1</td>\n",
              "      <td>0</td>\n",
              "      <td>0</td>\n",
              "      <td>0</td>\n",
              "      <td>0</td>\n",
              "    </tr>\n",
              "    <tr>\n",
              "      <th>2</th>\n",
              "      <td>19995</td>\n",
              "      <td>7351</td>\n",
              "      <td>1</td>\n",
              "      <td>0</td>\n",
              "      <td>0</td>\n",
              "      <td>0</td>\n",
              "      <td>0</td>\n",
              "      <td>0</td>\n",
              "      <td>1</td>\n",
              "      <td>0</td>\n",
              "      <td>0</td>\n",
              "      <td>0</td>\n",
              "      <td>1</td>\n",
              "      <td>0</td>\n",
              "      <td>0</td>\n",
              "    </tr>\n",
              "    <tr>\n",
              "      <th>3</th>\n",
              "      <td>17809</td>\n",
              "      <td>11613</td>\n",
              "      <td>1</td>\n",
              "      <td>0</td>\n",
              "      <td>0</td>\n",
              "      <td>0</td>\n",
              "      <td>0</td>\n",
              "      <td>0</td>\n",
              "      <td>1</td>\n",
              "      <td>0</td>\n",
              "      <td>1</td>\n",
              "      <td>0</td>\n",
              "      <td>0</td>\n",
              "      <td>0</td>\n",
              "      <td>0</td>\n",
              "    </tr>\n",
              "    <tr>\n",
              "      <th>4</th>\n",
              "      <td>17500</td>\n",
              "      <td>8367</td>\n",
              "      <td>0</td>\n",
              "      <td>0</td>\n",
              "      <td>0</td>\n",
              "      <td>0</td>\n",
              "      <td>0</td>\n",
              "      <td>0</td>\n",
              "      <td>1</td>\n",
              "      <td>0</td>\n",
              "      <td>0</td>\n",
              "      <td>0</td>\n",
              "      <td>0</td>\n",
              "      <td>1</td>\n",
              "      <td>0</td>\n",
              "    </tr>\n",
              "  </tbody>\n",
              "</table>\n",
              "</div>\n",
              "      <button class=\"colab-df-convert\" onclick=\"convertToInteractive('df-40b55983-1671-4d09-8019-8825556a6869')\"\n",
              "              title=\"Convert this dataframe to an interactive table.\"\n",
              "              style=\"display:none;\">\n",
              "        \n",
              "  <svg xmlns=\"http://www.w3.org/2000/svg\" height=\"24px\"viewBox=\"0 0 24 24\"\n",
              "       width=\"24px\">\n",
              "    <path d=\"M0 0h24v24H0V0z\" fill=\"none\"/>\n",
              "    <path d=\"M18.56 5.44l.94 2.06.94-2.06 2.06-.94-2.06-.94-.94-2.06-.94 2.06-2.06.94zm-11 1L8.5 8.5l.94-2.06 2.06-.94-2.06-.94L8.5 2.5l-.94 2.06-2.06.94zm10 10l.94 2.06.94-2.06 2.06-.94-2.06-.94-.94-2.06-.94 2.06-2.06.94z\"/><path d=\"M17.41 7.96l-1.37-1.37c-.4-.4-.92-.59-1.43-.59-.52 0-1.04.2-1.43.59L10.3 9.45l-7.72 7.72c-.78.78-.78 2.05 0 2.83L4 21.41c.39.39.9.59 1.41.59.51 0 1.02-.2 1.41-.59l7.78-7.78 2.81-2.81c.8-.78.8-2.07 0-2.86zM5.41 20L4 18.59l7.72-7.72 1.47 1.35L5.41 20z\"/>\n",
              "  </svg>\n",
              "      </button>\n",
              "      \n",
              "  <style>\n",
              "    .colab-df-container {\n",
              "      display:flex;\n",
              "      flex-wrap:wrap;\n",
              "      gap: 12px;\n",
              "    }\n",
              "\n",
              "    .colab-df-convert {\n",
              "      background-color: #E8F0FE;\n",
              "      border: none;\n",
              "      border-radius: 50%;\n",
              "      cursor: pointer;\n",
              "      display: none;\n",
              "      fill: #1967D2;\n",
              "      height: 32px;\n",
              "      padding: 0 0 0 0;\n",
              "      width: 32px;\n",
              "    }\n",
              "\n",
              "    .colab-df-convert:hover {\n",
              "      background-color: #E2EBFA;\n",
              "      box-shadow: 0px 1px 2px rgba(60, 64, 67, 0.3), 0px 1px 3px 1px rgba(60, 64, 67, 0.15);\n",
              "      fill: #174EA6;\n",
              "    }\n",
              "\n",
              "    [theme=dark] .colab-df-convert {\n",
              "      background-color: #3B4455;\n",
              "      fill: #D2E3FC;\n",
              "    }\n",
              "\n",
              "    [theme=dark] .colab-df-convert:hover {\n",
              "      background-color: #434B5C;\n",
              "      box-shadow: 0px 1px 3px 1px rgba(0, 0, 0, 0.15);\n",
              "      filter: drop-shadow(0px 1px 2px rgba(0, 0, 0, 0.3));\n",
              "      fill: #FFFFFF;\n",
              "    }\n",
              "  </style>\n",
              "\n",
              "      <script>\n",
              "        const buttonEl =\n",
              "          document.querySelector('#df-40b55983-1671-4d09-8019-8825556a6869 button.colab-df-convert');\n",
              "        buttonEl.style.display =\n",
              "          google.colab.kernel.accessAllowed ? 'block' : 'none';\n",
              "\n",
              "        async function convertToInteractive(key) {\n",
              "          const element = document.querySelector('#df-40b55983-1671-4d09-8019-8825556a6869');\n",
              "          const dataTable =\n",
              "            await google.colab.kernel.invokeFunction('convertToInteractive',\n",
              "                                                     [key], {});\n",
              "          if (!dataTable) return;\n",
              "\n",
              "          const docLinkHtml = 'Like what you see? Visit the ' +\n",
              "            '<a target=\"_blank\" href=https://colab.research.google.com/notebooks/data_table.ipynb>data table notebook</a>'\n",
              "            + ' to learn more about interactive tables.';\n",
              "          element.innerHTML = '';\n",
              "          dataTable['output_type'] = 'display_data';\n",
              "          await google.colab.output.renderOutput(dataTable, element);\n",
              "          const docLink = document.createElement('div');\n",
              "          docLink.innerHTML = docLinkHtml;\n",
              "          element.appendChild(docLink);\n",
              "        }\n",
              "      </script>\n",
              "    </div>\n",
              "  </div>\n",
              "  "
            ]
          },
          "metadata": {},
          "execution_count": 233
        }
      ]
    },
    {
      "cell_type": "code",
      "source": [
        "plt.figure(figsize=(15,10))\n",
        "sns.heatmap(data=df1.corr(), annot=True)"
      ],
      "metadata": {
        "colab": {
          "base_uri": "https://localhost:8080/",
          "height": 854
        },
        "id": "YFjTk9pxj9Xt",
        "outputId": "ca1b2278-76f0-4a1a-d423-4442821fa908"
      },
      "execution_count": null,
      "outputs": [
        {
          "output_type": "execute_result",
          "data": {
            "text/plain": [
              "<Axes: >"
            ]
          },
          "metadata": {},
          "execution_count": 234
        },
        {
          "output_type": "display_data",
          "data": {
            "text/plain": [
              "<Figure size 1500x1000 with 2 Axes>"
            ],
            "image/png": "[encoded data removed]"
          },
          "metadata": {}
        }
      ]
    },
    {
      "cell_type": "code",
      "source": [
        "df1[2008].value_counts()"
      ],
      "metadata": {
        "colab": {
          "base_uri": "https://localhost:8080/"
        },
        "id": "TJmnLXpMf-M_",
        "outputId": "b7d97ed5-6cd4-49c3-caea-ba288c0d6ee5"
      },
      "execution_count": null,
      "outputs": [
        {
          "output_type": "execute_result",
          "data": {
            "text/plain": [
              "0    136\n",
              "1     14\n",
              "Name: 2008, dtype: int64"
            ]
          },
          "metadata": {},
          "execution_count": 235
        }
      ]
    },
    {
      "cell_type": "code",
      "source": [
        "df1.columns"
      ],
      "metadata": {
        "colab": {
          "base_uri": "https://localhost:8080/"
        },
        "id": "5uZ3pZzugaFK",
        "outputId": "34b79e3b-edd4-47ae-c899-31a6945f0c0b"
      },
      "execution_count": null,
      "outputs": [
        {
          "output_type": "execute_result",
          "data": {
            "text/plain": [
              "Index([  'price', 'mileage',     'SEL',     'SES',      2007,      2008,\n",
              "            2009,      2010,      2011,    'Blue',    'Gray',     'Red',\n",
              "        'Silver',   'White',  'MANUAL'],\n",
              "      dtype='object')"
            ]
          },
          "metadata": {},
          "execution_count": 236
        }
      ]
    },
    {
      "cell_type": "code",
      "source": [
        "df1.info()"
      ],
      "metadata": {
        "colab": {
          "base_uri": "https://localhost:8080/"
        },
        "id": "UsLjaYr9g_Jk",
        "outputId": "6d85beaa-de0a-49e6-ed03-7c9905c75008"
      },
      "execution_count": null,
      "outputs": [
        {
          "output_type": "stream",
          "name": "stdout",
          "text": [
            "<class 'pandas.core.frame.DataFrame'>\n",
            "RangeIndex: 150 entries, 0 to 149\n",
            "Data columns (total 15 columns):\n",
            " #   Column   Non-Null Count  Dtype\n",
            "---  ------   --------------  -----\n",
            " 0   price    150 non-null    int64\n",
            " 1   mileage  150 non-null    int64\n",
            " 2   SEL      150 non-null    uint8\n",
            " 3   SES      150 non-null    uint8\n",
            " 4   2007     150 non-null    uint8\n",
            " 5   2008     150 non-null    uint8\n",
            " 6   2009     150 non-null    uint8\n",
            " 7   2010     150 non-null    uint8\n",
            " 8   2011     150 non-null    uint8\n",
            " 9   Blue     150 non-null    uint8\n",
            " 10  Gray     150 non-null    uint8\n",
            " 11  Red      150 non-null    uint8\n",
            " 12  Silver   150 non-null    uint8\n",
            " 13  White    150 non-null    uint8\n",
            " 14  MANUAL   150 non-null    uint8\n",
            "dtypes: int64(2), uint8(13)\n",
            "memory usage: 4.4 KB\n"
          ]
        }
      ]
    },
    {
      "cell_type": "code",
      "source": [
        "x=df1.drop('price', axis=1)"
      ],
      "metadata": {
        "id": "5pL-2zEghC7T"
      },
      "execution_count": null,
      "outputs": []
    },
    {
      "cell_type": "code",
      "source": [
        "y=df1['price']"
      ],
      "metadata": {
        "id": "YYz265g-hZpV"
      },
      "execution_count": null,
      "outputs": []
    },
    {
      "cell_type": "code",
      "source": [
        "x.head()"
      ],
      "metadata": {
        "colab": {
          "base_uri": "https://localhost:8080/",
          "height": 206
        },
        "id": "30TDao5PhhVi",
        "outputId": "e990cb12-ead6-4f4a-bb4d-4a708a8dfdb8"
      },
      "execution_count": null,
      "outputs": [
        {
          "output_type": "execute_result",
          "data": {
            "text/plain": [
              "   mileage  SEL  SES  2007  2008  2009  2010  2011  Blue  Gray  Red  Silver  \\\n",
              "0     7413    1    0     0     0     0     0     1     0     1    0       0   \n",
              "1    10926    1    0     0     0     0     0     1     0     1    0       0   \n",
              "2     7351    1    0     0     0     0     0     1     0     0    0       1   \n",
              "3    11613    1    0     0     0     0     0     1     0     1    0       0   \n",
              "4     8367    0    0     0     0     0     0     1     0     0    0       0   \n",
              "\n",
              "   White  MANUAL  \n",
              "0      0       0  \n",
              "1      0       0  \n",
              "2      0       0  \n",
              "3      0       0  \n",
              "4      1       0  "
            ],
            "text/html": [
              "\n",
              "  <div id=\"df-62a72b54-2d50-4760-bb76-5c02e28ae9a6\">\n",
              "    <div class=\"colab-df-container\">\n",
              "      <div>\n",
              "<style scoped>\n",
              "    .dataframe tbody tr th:only-of-type {\n",
              "        vertical-align: middle;\n",
              "    }\n",
              "\n",
              "    .dataframe tbody tr th {\n",
              "        vertical-align: top;\n",
              "    }\n",
              "\n",
              "    .dataframe thead th {\n",
              "        text-align: right;\n",
              "    }\n",
              "</style>\n",
              "<table border=\"1\" class=\"dataframe\">\n",
              "  <thead>\n",
              "    <tr style=\"text-align: right;\">\n",
              "      <th></th>\n",
              "      <th>mileage</th>\n",
              "      <th>SEL</th>\n",
              "      <th>SES</th>\n",
              "      <th>2007</th>\n",
              "      <th>2008</th>\n",
              "      <th>2009</th>\n",
              "      <th>2010</th>\n",
              "      <th>2011</th>\n",
              "      <th>Blue</th>\n",
              "      <th>Gray</th>\n",
              "      <th>Red</th>\n",
              "      <th>Silver</th>\n",
              "      <th>White</th>\n",
              "      <th>MANUAL</th>\n",
              "    </tr>\n",
              "  </thead>\n",
              "  <tbody>\n",
              "    <tr>\n",
              "      <th>0</th>\n",
              "      <td>7413</td>\n",
              "      <td>1</td>\n",
              "      <td>0</td>\n",
              "      <td>0</td>\n",
              "      <td>0</td>\n",
              "      <td>0</td>\n",
              "      <td>0</td>\n",
              "      <td>1</td>\n",
              "      <td>0</td>\n",
              "      <td>1</td>\n",
              "      <td>0</td>\n",
              "      <td>0</td>\n",
              "      <td>0</td>\n",
              "      <td>0</td>\n",
              "    </tr>\n",
              "    <tr>\n",
              "      <th>1</th>\n",
              "      <td>10926</td>\n",
              "      <td>1</td>\n",
              "      <td>0</td>\n",
              "      <td>0</td>\n",
              "      <td>0</td>\n",
              "      <td>0</td>\n",
              "      <td>0</td>\n",
              "      <td>1</td>\n",
              "      <td>0</td>\n",
              "      <td>1</td>\n",
              "      <td>0</td>\n",
              "      <td>0</td>\n",
              "      <td>0</td>\n",
              "      <td>0</td>\n",
              "    </tr>\n",
              "    <tr>\n",
              "      <th>2</th>\n",
              "      <td>7351</td>\n",
              "      <td>1</td>\n",
              "      <td>0</td>\n",
              "      <td>0</td>\n",
              "      <td>0</td>\n",
              "      <td>0</td>\n",
              "      <td>0</td>\n",
              "      <td>1</td>\n",
              "      <td>0</td>\n",
              "      <td>0</td>\n",
              "      <td>0</td>\n",
              "      <td>1</td>\n",
              "      <td>0</td>\n",
              "      <td>0</td>\n",
              "    </tr>\n",
              "    <tr>\n",
              "      <th>3</th>\n",
              "      <td>11613</td>\n",
              "      <td>1</td>\n",
              "      <td>0</td>\n",
              "      <td>0</td>\n",
              "      <td>0</td>\n",
              "      <td>0</td>\n",
              "      <td>0</td>\n",
              "      <td>1</td>\n",
              "      <td>0</td>\n",
              "      <td>1</td>\n",
              "      <td>0</td>\n",
              "      <td>0</td>\n",
              "      <td>0</td>\n",
              "      <td>0</td>\n",
              "    </tr>\n",
              "    <tr>\n",
              "      <th>4</th>\n",
              "      <td>8367</td>\n",
              "      <td>0</td>\n",
              "      <td>0</td>\n",
              "      <td>0</td>\n",
              "      <td>0</td>\n",
              "      <td>0</td>\n",
              "      <td>0</td>\n",
              "      <td>1</td>\n",
              "      <td>0</td>\n",
              "      <td>0</td>\n",
              "      <td>0</td>\n",
              "      <td>0</td>\n",
              "      <td>1</td>\n",
              "      <td>0</td>\n",
              "    </tr>\n",
              "  </tbody>\n",
              "</table>\n",
              "</div>\n",
              "      <button class=\"colab-df-convert\" onclick=\"convertToInteractive('df-62a72b54-2d50-4760-bb76-5c02e28ae9a6')\"\n",
              "              title=\"Convert this dataframe to an interactive table.\"\n",
              "              style=\"display:none;\">\n",
              "        \n",
              "  <svg xmlns=\"http://www.w3.org/2000/svg\" height=\"24px\"viewBox=\"0 0 24 24\"\n",
              "       width=\"24px\">\n",
              "    <path d=\"M0 0h24v24H0V0z\" fill=\"none\"/>\n",
              "    <path d=\"M18.56 5.44l.94 2.06.94-2.06 2.06-.94-2.06-.94-.94-2.06-.94 2.06-2.06.94zm-11 1L8.5 8.5l.94-2.06 2.06-.94-2.06-.94L8.5 2.5l-.94 2.06-2.06.94zm10 10l.94 2.06.94-2.06 2.06-.94-2.06-.94-.94-2.06-.94 2.06-2.06.94z\"/><path d=\"M17.41 7.96l-1.37-1.37c-.4-.4-.92-.59-1.43-.59-.52 0-1.04.2-1.43.59L10.3 9.45l-7.72 7.72c-.78.78-.78 2.05 0 2.83L4 21.41c.39.39.9.59 1.41.59.51 0 1.02-.2 1.41-.59l7.78-7.78 2.81-2.81c.8-.78.8-2.07 0-2.86zM5.41 20L4 18.59l7.72-7.72 1.47 1.35L5.41 20z\"/>\n",
              "  </svg>\n",
              "      </button>\n",
              "      \n",
              "  <style>\n",
              "    .colab-df-container {\n",
              "      display:flex;\n",
              "      flex-wrap:wrap;\n",
              "      gap: 12px;\n",
              "    }\n",
              "\n",
              "    .colab-df-convert {\n",
              "      background-color: #E8F0FE;\n",
              "      border: none;\n",
              "      border-radius: 50%;\n",
              "      cursor: pointer;\n",
              "      display: none;\n",
              "      fill: #1967D2;\n",
              "      height: 32px;\n",
              "      padding: 0 0 0 0;\n",
              "      width: 32px;\n",
              "    }\n",
              "\n",
              "    .colab-df-convert:hover {\n",
              "      background-color: #E2EBFA;\n",
              "      box-shadow: 0px 1px 2px rgba(60, 64, 67, 0.3), 0px 1px 3px 1px rgba(60, 64, 67, 0.15);\n",
              "      fill: #174EA6;\n",
              "    }\n",
              "\n",
              "    [theme=dark] .colab-df-convert {\n",
              "      background-color: #3B4455;\n",
              "      fill: #D2E3FC;\n",
              "    }\n",
              "\n",
              "    [theme=dark] .colab-df-convert:hover {\n",
              "      background-color: #434B5C;\n",
              "      box-shadow: 0px 1px 3px 1px rgba(0, 0, 0, 0.15);\n",
              "      filter: drop-shadow(0px 1px 2px rgba(0, 0, 0, 0.3));\n",
              "      fill: #FFFFFF;\n",
              "    }\n",
              "  </style>\n",
              "\n",
              "      <script>\n",
              "        const buttonEl =\n",
              "          document.querySelector('#df-62a72b54-2d50-4760-bb76-5c02e28ae9a6 button.colab-df-convert');\n",
              "        buttonEl.style.display =\n",
              "          google.colab.kernel.accessAllowed ? 'block' : 'none';\n",
              "\n",
              "        async function convertToInteractive(key) {\n",
              "          const element = document.querySelector('#df-62a72b54-2d50-4760-bb76-5c02e28ae9a6');\n",
              "          const dataTable =\n",
              "            await google.colab.kernel.invokeFunction('convertToInteractive',\n",
              "                                                     [key], {});\n",
              "          if (!dataTable) return;\n",
              "\n",
              "          const docLinkHtml = 'Like what you see? Visit the ' +\n",
              "            '<a target=\"_blank\" href=https://colab.research.google.com/notebooks/data_table.ipynb>data table notebook</a>'\n",
              "            + ' to learn more about interactive tables.';\n",
              "          element.innerHTML = '';\n",
              "          dataTable['output_type'] = 'display_data';\n",
              "          await google.colab.output.renderOutput(dataTable, element);\n",
              "          const docLink = document.createElement('div');\n",
              "          docLink.innerHTML = docLinkHtml;\n",
              "          element.appendChild(docLink);\n",
              "        }\n",
              "      </script>\n",
              "    </div>\n",
              "  </div>\n",
              "  "
            ]
          },
          "metadata": {},
          "execution_count": 240
        }
      ]
    },
    {
      "cell_type": "code",
      "source": [
        "x_train, x_test, y_train, y_test= train_test_split(x, y, test_size=0.3, random_state=7)"
      ],
      "metadata": {
        "id": "sZ0ckIOuhoO-"
      },
      "execution_count": null,
      "outputs": []
    },
    {
      "cell_type": "code",
      "source": [
        "print(x_train.shape)\n",
        "print(x_test.shape)\n",
        "print(y_train.shape)\n",
        "print(y_test.shape)"
      ],
      "metadata": {
        "colab": {
          "base_uri": "https://localhost:8080/"
        },
        "id": "hC_o4tNziVJW",
        "outputId": "9c80e89e-0949-49bf-c6a4-ec6b8fc126a9"
      },
      "execution_count": null,
      "outputs": [
        {
          "output_type": "stream",
          "name": "stdout",
          "text": [
            "(105, 14)\n",
            "(45, 14)\n",
            "(105,)\n",
            "(45,)\n"
          ]
        }
      ]
    },
    {
      "cell_type": "code",
      "source": [
        "x_train=preprocessing.normalize(x_train)\n",
        "x_test=preprocessing.normalize(x_test)"
      ],
      "metadata": {
        "id": "AGg7LhdWiYU6"
      },
      "execution_count": null,
      "outputs": []
    },
    {
      "cell_type": "code",
      "source": [
        "model1=Sequential()"
      ],
      "metadata": {
        "id": "hs_mCrQx76fJ"
      },
      "execution_count": null,
      "outputs": []
    },
    {
      "cell_type": "code",
      "source": [
        "opt=optimizers.Adam(learning_rate=0.01)"
      ],
      "metadata": {
        "id": "K2NHY8Y476fK"
      },
      "execution_count": null,
      "outputs": []
    },
    {
      "cell_type": "code",
      "source": [
        "model1.add(Dense(units=50, input_dim=14, kernel_initializer='normal', activation='relu'))\n",
        "\n",
        "model1.add(Dense(units=50, kernel_initializer='normal', activation='relu'))\n",
        "\n",
        "model1.add(Dense(units=50, kernel_initializer='normal', activation='relu'))\n",
        "\n",
        "model1.add(Dense(1, kernel_initializer='normal'))\n",
        "\n",
        "# Compiling the model\n",
        "model1.compile(loss='mean_squared_error', optimizer=opt )"
      ],
      "metadata": {
        "id": "KmQP0JxF76fM"
      },
      "execution_count": null,
      "outputs": []
    },
    {
      "cell_type": "code",
      "source": [
        "model1.fit(x_train, y_train, batch_size= 32, epochs = 80, verbose=1, validation_data=(x_test,y_test))"
      ],
      "metadata": {
        "colab": {
          "base_uri": "https://localhost:8080/"
        },
        "outputId": "9959c842-a78d-4c5c-8eb8-cdf4119df6c5",
        "id": "VyC5OTa376fN"
      },
      "execution_count": null,
      "outputs": [
        {
          "output_type": "stream",
          "name": "stdout",
          "text": [
            "Epoch 1/80\n",
            "4/4 [==============================] - 2s 74ms/step - loss: 183559120.0000 - val_loss: 164012032.0000\n",
            "Epoch 2/80\n",
            "4/4 [==============================] - 0s 20ms/step - loss: 183553488.0000 - val_loss: 164000288.0000\n",
            "Epoch 3/80\n",
            "4/4 [==============================] - 0s 18ms/step - loss: 183535776.0000 - val_loss: 163968288.0000\n",
            "Epoch 4/80\n",
            "4/4 [==============================] - 0s 16ms/step - loss: 183491872.0000 - val_loss: 163893472.0000\n",
            "Epoch 5/80\n",
            "4/4 [==============================] - 0s 21ms/step - loss: 183390640.0000 - val_loss: 163737184.0000\n",
            "Epoch 6/80\n",
            "4/4 [==============================] - 0s 21ms/step - loss: 183189424.0000 - val_loss: 163438528.0000\n",
            "Epoch 7/80\n",
            "4/4 [==============================] - 0s 20ms/step - loss: 182812160.0000 - val_loss: 162903184.0000\n",
            "Epoch 8/80\n",
            "4/4 [==============================] - 0s 20ms/step - loss: 182147776.0000 - val_loss: 161997600.0000\n",
            "Epoch 9/80\n",
            "4/4 [==============================] - 0s 17ms/step - loss: 181023360.0000 - val_loss: 160537536.0000\n",
            "Epoch 10/80\n",
            "4/4 [==============================] - 0s 21ms/step - loss: 179289600.0000 - val_loss: 158284688.0000\n",
            "Epoch 11/80\n",
            "4/4 [==============================] - 0s 23ms/step - loss: 176586336.0000 - val_loss: 154937008.0000\n",
            "Epoch 12/80\n",
            "4/4 [==============================] - 0s 21ms/step - loss: 172667968.0000 - val_loss: 150116208.0000\n",
            "Epoch 13/80\n",
            "4/4 [==============================] - 0s 22ms/step - loss: 167024096.0000 - val_loss: 143407264.0000\n",
            "Epoch 14/80\n",
            "4/4 [==============================] - 0s 21ms/step - loss: 159235696.0000 - val_loss: 134378464.0000\n",
            "Epoch 15/80\n",
            "4/4 [==============================] - 0s 21ms/step - loss: 148854464.0000 - val_loss: 122640384.0000\n",
            "Epoch 16/80\n",
            "4/4 [==============================] - 0s 21ms/step - loss: 135366240.0000 - val_loss: 107954400.0000\n",
            "Epoch 17/80\n",
            "4/4 [==============================] - 0s 16ms/step - loss: 118800704.0000 - val_loss: 90355664.0000\n",
            "Epoch 18/80\n",
            "4/4 [==============================] - 0s 16ms/step - loss: 99153864.0000 - val_loss: 70410248.0000\n",
            "Epoch 19/80\n",
            "4/4 [==============================] - 0s 22ms/step - loss: 77370880.0000 - val_loss: 49531504.0000\n",
            "Epoch 20/80\n",
            "4/4 [==============================] - 0s 21ms/step - loss: 54116700.0000 - val_loss: 30099602.0000\n",
            "Epoch 21/80\n",
            "4/4 [==============================] - 0s 16ms/step - loss: 33324936.0000 - val_loss: 15167653.0000\n",
            "Epoch 22/80\n",
            "4/4 [==============================] - 0s 21ms/step - loss: 17905618.0000 - val_loss: 8171707.0000\n",
            "Epoch 23/80\n",
            "4/4 [==============================] - 0s 16ms/step - loss: 10843728.0000 - val_loss: 9614837.0000\n",
            "Epoch 24/80\n",
            "4/4 [==============================] - 0s 23ms/step - loss: 11573628.0000 - val_loss: 14059476.0000\n",
            "Epoch 25/80\n",
            "4/4 [==============================] - 0s 16ms/step - loss: 14064101.0000 - val_loss: 14779533.0000\n",
            "Epoch 26/80\n",
            "4/4 [==============================] - 0s 21ms/step - loss: 13766065.0000 - val_loss: 12316871.0000\n",
            "Epoch 27/80\n",
            "4/4 [==============================] - 0s 21ms/step - loss: 11926117.0000 - val_loss: 9775972.0000\n",
            "Epoch 28/80\n",
            "4/4 [==============================] - 0s 22ms/step - loss: 10681743.0000 - val_loss: 8407881.0000\n",
            "Epoch 29/80\n",
            "4/4 [==============================] - 0s 20ms/step - loss: 10391481.0000 - val_loss: 7964513.5000\n",
            "Epoch 30/80\n",
            "4/4 [==============================] - 0s 22ms/step - loss: 10518388.0000 - val_loss: 7874639.0000\n",
            "Epoch 31/80\n",
            "4/4 [==============================] - 0s 17ms/step - loss: 10618149.0000 - val_loss: 7878655.5000\n",
            "Epoch 32/80\n",
            "4/4 [==============================] - 0s 16ms/step - loss: 10533288.0000 - val_loss: 7961396.5000\n",
            "Epoch 33/80\n",
            "4/4 [==============================] - 0s 21ms/step - loss: 10385680.0000 - val_loss: 8140230.5000\n",
            "Epoch 34/80\n",
            "4/4 [==============================] - 0s 17ms/step - loss: 10379503.0000 - val_loss: 8376724.0000\n",
            "Epoch 35/80\n",
            "4/4 [==============================] - 0s 18ms/step - loss: 10341199.0000 - val_loss: 8392416.0000\n",
            "Epoch 36/80\n",
            "4/4 [==============================] - 0s 17ms/step - loss: 10344460.0000 - val_loss: 8396312.0000\n",
            "Epoch 37/80\n",
            "4/4 [==============================] - 0s 23ms/step - loss: 10365603.0000 - val_loss: 8362516.0000\n",
            "Epoch 38/80\n",
            "4/4 [==============================] - 0s 13ms/step - loss: 10351627.0000 - val_loss: 8421657.0000\n",
            "Epoch 39/80\n",
            "4/4 [==============================] - 0s 14ms/step - loss: 10347466.0000 - val_loss: 8314250.5000\n",
            "Epoch 40/80\n",
            "4/4 [==============================] - 0s 11ms/step - loss: 10361886.0000 - val_loss: 8206651.5000\n",
            "Epoch 41/80\n",
            "4/4 [==============================] - 0s 11ms/step - loss: 10341716.0000 - val_loss: 8223823.5000\n",
            "Epoch 42/80\n",
            "4/4 [==============================] - 0s 12ms/step - loss: 10355557.0000 - val_loss: 8201484.0000\n",
            "Epoch 43/80\n",
            "4/4 [==============================] - 0s 12ms/step - loss: 10367252.0000 - val_loss: 8050212.5000\n",
            "Epoch 44/80\n",
            "4/4 [==============================] - 0s 16ms/step - loss: 10411642.0000 - val_loss: 7991338.5000\n",
            "Epoch 45/80\n",
            "4/4 [==============================] - 0s 12ms/step - loss: 10414670.0000 - val_loss: 8066795.5000\n",
            "Epoch 46/80\n",
            "4/4 [==============================] - 0s 11ms/step - loss: 10401270.0000 - val_loss: 8156980.0000\n",
            "Epoch 47/80\n",
            "4/4 [==============================] - 0s 17ms/step - loss: 10359732.0000 - val_loss: 8120727.0000\n",
            "Epoch 48/80\n",
            "4/4 [==============================] - 0s 12ms/step - loss: 10357202.0000 - val_loss: 8167360.0000\n",
            "Epoch 49/80\n",
            "4/4 [==============================] - 0s 11ms/step - loss: 10338926.0000 - val_loss: 8248159.5000\n",
            "Epoch 50/80\n",
            "4/4 [==============================] - 0s 11ms/step - loss: 10329494.0000 - val_loss: 8472940.0000\n",
            "Epoch 51/80\n",
            "4/4 [==============================] - 0s 17ms/step - loss: 10374682.0000 - val_loss: 8661766.0000\n",
            "Epoch 52/80\n",
            "4/4 [==============================] - 0s 11ms/step - loss: 10402639.0000 - val_loss: 8606512.0000\n",
            "Epoch 53/80\n",
            "4/4 [==============================] - 0s 11ms/step - loss: 10446608.0000 - val_loss: 8301847.5000\n",
            "Epoch 54/80\n",
            "4/4 [==============================] - 0s 11ms/step - loss: 10341944.0000 - val_loss: 8205616.5000\n",
            "Epoch 55/80\n",
            "4/4 [==============================] - 0s 11ms/step - loss: 10358745.0000 - val_loss: 8230664.0000\n",
            "Epoch 56/80\n",
            "4/4 [==============================] - 0s 11ms/step - loss: 10336162.0000 - val_loss: 8118235.0000\n",
            "Epoch 57/80\n",
            "4/4 [==============================] - 0s 11ms/step - loss: 10366816.0000 - val_loss: 8053102.0000\n",
            "Epoch 58/80\n",
            "4/4 [==============================] - 0s 11ms/step - loss: 10383531.0000 - val_loss: 8064104.0000\n",
            "Epoch 59/80\n",
            "4/4 [==============================] - 0s 13ms/step - loss: 10394964.0000 - val_loss: 8053815.0000\n",
            "Epoch 60/80\n",
            "4/4 [==============================] - 0s 12ms/step - loss: 10397967.0000 - val_loss: 8044921.5000\n",
            "Epoch 61/80\n",
            "4/4 [==============================] - 0s 14ms/step - loss: 10399748.0000 - val_loss: 8172414.5000\n",
            "Epoch 62/80\n",
            "4/4 [==============================] - 0s 11ms/step - loss: 10364856.0000 - val_loss: 8185841.0000\n",
            "Epoch 63/80\n",
            "4/4 [==============================] - 0s 11ms/step - loss: 10341747.0000 - val_loss: 8248862.0000\n",
            "Epoch 64/80\n",
            "4/4 [==============================] - 0s 12ms/step - loss: 10335776.0000 - val_loss: 8293044.5000\n",
            "Epoch 65/80\n",
            "4/4 [==============================] - 0s 12ms/step - loss: 10335077.0000 - val_loss: 8381325.5000\n",
            "Epoch 66/80\n",
            "4/4 [==============================] - 0s 12ms/step - loss: 10349305.0000 - val_loss: 8319805.0000\n",
            "Epoch 67/80\n",
            "4/4 [==============================] - 0s 11ms/step - loss: 10343014.0000 - val_loss: 8328574.5000\n",
            "Epoch 68/80\n",
            "4/4 [==============================] - 0s 12ms/step - loss: 10339850.0000 - val_loss: 8375973.5000\n",
            "Epoch 69/80\n",
            "4/4 [==============================] - 0s 11ms/step - loss: 10336307.0000 - val_loss: 8292022.0000\n",
            "Epoch 70/80\n",
            "4/4 [==============================] - 0s 12ms/step - loss: 10330255.0000 - val_loss: 8139707.5000\n",
            "Epoch 71/80\n",
            "4/4 [==============================] - 0s 11ms/step - loss: 10355180.0000 - val_loss: 8134848.0000\n",
            "Epoch 72/80\n",
            "4/4 [==============================] - 0s 16ms/step - loss: 10384839.0000 - val_loss: 8133962.0000\n",
            "Epoch 73/80\n",
            "4/4 [==============================] - 0s 12ms/step - loss: 10344375.0000 - val_loss: 8405031.0000\n",
            "Epoch 74/80\n",
            "4/4 [==============================] - 0s 12ms/step - loss: 10327158.0000 - val_loss: 8696351.0000\n",
            "Epoch 75/80\n",
            "4/4 [==============================] - 0s 11ms/step - loss: 10435668.0000 - val_loss: 8944595.0000\n",
            "Epoch 76/80\n",
            "4/4 [==============================] - 0s 11ms/step - loss: 10485955.0000 - val_loss: 8685968.0000\n",
            "Epoch 77/80\n",
            "4/4 [==============================] - 0s 11ms/step - loss: 10358775.0000 - val_loss: 8324475.5000\n",
            "Epoch 78/80\n",
            "4/4 [==============================] - 0s 11ms/step - loss: 10314316.0000 - val_loss: 8059540.5000\n",
            "Epoch 79/80\n",
            "4/4 [==============================] - 0s 11ms/step - loss: 10474255.0000 - val_loss: 7945188.5000\n",
            "Epoch 80/80\n",
            "4/4 [==============================] - 0s 11ms/step - loss: 10438518.0000 - val_loss: 8040190.5000\n"
          ]
        },
        {
          "output_type": "execute_result",
          "data": {
            "text/plain": [
              "<keras.callbacks.History at 0x7f652039a950>"
            ]
          },
          "metadata": {},
          "execution_count": 247
        }
      ]
    },
    {
      "cell_type": "code",
      "source": [
        "pd.DataFrame(model1.history.history)"
      ],
      "metadata": {
        "colab": {
          "base_uri": "https://localhost:8080/",
          "height": 423
        },
        "id": "-IZ5pS21Az8L",
        "outputId": "f8173413-9f48-4036-f32d-7fca8f9fabd8"
      },
      "execution_count": null,
      "outputs": [
        {
          "output_type": "execute_result",
          "data": {
            "text/plain": [
              "           loss     val_loss\n",
              "0   183559120.0  164012032.0\n",
              "1   183553488.0  164000288.0\n",
              "2   183535776.0  163968288.0\n",
              "3   183491872.0  163893472.0\n",
              "4   183390640.0  163737184.0\n",
              "..          ...          ...\n",
              "75   10485955.0    8685968.0\n",
              "76   10358775.0    8324475.5\n",
              "77   10314316.0    8059540.5\n",
              "78   10474255.0    7945188.5\n",
              "79   10438518.0    8040190.5\n",
              "\n",
              "[80 rows x 2 columns]"
            ],
            "text/html": [
              "\n",
              "  <div id=\"df-88d2ef34-3380-4fc9-8097-2028320b37ae\">\n",
              "    <div class=\"colab-df-container\">\n",
              "      <div>\n",
              "<style scoped>\n",
              "    .dataframe tbody tr th:only-of-type {\n",
              "        vertical-align: middle;\n",
              "    }\n",
              "\n",
              "    .dataframe tbody tr th {\n",
              "        vertical-align: top;\n",
              "    }\n",
              "\n",
              "    .dataframe thead th {\n",
              "        text-align: right;\n",
              "    }\n",
              "</style>\n",
              "<table border=\"1\" class=\"dataframe\">\n",
              "  <thead>\n",
              "    <tr style=\"text-align: right;\">\n",
              "      <th></th>\n",
              "      <th>loss</th>\n",
              "      <th>val_loss</th>\n",
              "    </tr>\n",
              "  </thead>\n",
              "  <tbody>\n",
              "    <tr>\n",
              "      <th>0</th>\n",
              "      <td>183559120.0</td>\n",
              "      <td>164012032.0</td>\n",
              "    </tr>\n",
              "    <tr>\n",
              "      <th>1</th>\n",
              "      <td>183553488.0</td>\n",
              "      <td>164000288.0</td>\n",
              "    </tr>\n",
              "    <tr>\n",
              "      <th>2</th>\n",
              "      <td>183535776.0</td>\n",
              "      <td>163968288.0</td>\n",
              "    </tr>\n",
              "    <tr>\n",
              "      <th>3</th>\n",
              "      <td>183491872.0</td>\n",
              "      <td>163893472.0</td>\n",
              "    </tr>\n",
              "    <tr>\n",
              "      <th>4</th>\n",
              "      <td>183390640.0</td>\n",
              "      <td>163737184.0</td>\n",
              "    </tr>\n",
              "    <tr>\n",
              "      <th>...</th>\n",
              "      <td>...</td>\n",
              "      <td>...</td>\n",
              "    </tr>\n",
              "    <tr>\n",
              "      <th>75</th>\n",
              "      <td>10485955.0</td>\n",
              "      <td>8685968.0</td>\n",
              "    </tr>\n",
              "    <tr>\n",
              "      <th>76</th>\n",
              "      <td>10358775.0</td>\n",
              "      <td>8324475.5</td>\n",
              "    </tr>\n",
              "    <tr>\n",
              "      <th>77</th>\n",
              "      <td>10314316.0</td>\n",
              "      <td>8059540.5</td>\n",
              "    </tr>\n",
              "    <tr>\n",
              "      <th>78</th>\n",
              "      <td>10474255.0</td>\n",
              "      <td>7945188.5</td>\n",
              "    </tr>\n",
              "    <tr>\n",
              "      <th>79</th>\n",
              "      <td>10438518.0</td>\n",
              "      <td>8040190.5</td>\n",
              "    </tr>\n",
              "  </tbody>\n",
              "</table>\n",
              "<p>80 rows × 2 columns</p>\n",
              "</div>\n",
              "      <button class=\"colab-df-convert\" onclick=\"convertToInteractive('df-88d2ef34-3380-4fc9-8097-2028320b37ae')\"\n",
              "              title=\"Convert this dataframe to an interactive table.\"\n",
              "              style=\"display:none;\">\n",
              "        \n",
              "  <svg xmlns=\"http://www.w3.org/2000/svg\" height=\"24px\"viewBox=\"0 0 24 24\"\n",
              "       width=\"24px\">\n",
              "    <path d=\"M0 0h24v24H0V0z\" fill=\"none\"/>\n",
              "    <path d=\"M18.56 5.44l.94 2.06.94-2.06 2.06-.94-2.06-.94-.94-2.06-.94 2.06-2.06.94zm-11 1L8.5 8.5l.94-2.06 2.06-.94-2.06-.94L8.5 2.5l-.94 2.06-2.06.94zm10 10l.94 2.06.94-2.06 2.06-.94-2.06-.94-.94-2.06-.94 2.06-2.06.94z\"/><path d=\"M17.41 7.96l-1.37-1.37c-.4-.4-.92-.59-1.43-.59-.52 0-1.04.2-1.43.59L10.3 9.45l-7.72 7.72c-.78.78-.78 2.05 0 2.83L4 21.41c.39.39.9.59 1.41.59.51 0 1.02-.2 1.41-.59l7.78-7.78 2.81-2.81c.8-.78.8-2.07 0-2.86zM5.41 20L4 18.59l7.72-7.72 1.47 1.35L5.41 20z\"/>\n",
              "  </svg>\n",
              "      </button>\n",
              "      \n",
              "  <style>\n",
              "    .colab-df-container {\n",
              "      display:flex;\n",
              "      flex-wrap:wrap;\n",
              "      gap: 12px;\n",
              "    }\n",
              "\n",
              "    .colab-df-convert {\n",
              "      background-color: #E8F0FE;\n",
              "      border: none;\n",
              "      border-radius: 50%;\n",
              "      cursor: pointer;\n",
              "      display: none;\n",
              "      fill: #1967D2;\n",
              "      height: 32px;\n",
              "      padding: 0 0 0 0;\n",
              "      width: 32px;\n",
              "    }\n",
              "\n",
              "    .colab-df-convert:hover {\n",
              "      background-color: #E2EBFA;\n",
              "      box-shadow: 0px 1px 2px rgba(60, 64, 67, 0.3), 0px 1px 3px 1px rgba(60, 64, 67, 0.15);\n",
              "      fill: #174EA6;\n",
              "    }\n",
              "\n",
              "    [theme=dark] .colab-df-convert {\n",
              "      background-color: #3B4455;\n",
              "      fill: #D2E3FC;\n",
              "    }\n",
              "\n",
              "    [theme=dark] .colab-df-convert:hover {\n",
              "      background-color: #434B5C;\n",
              "      box-shadow: 0px 1px 3px 1px rgba(0, 0, 0, 0.15);\n",
              "      filter: drop-shadow(0px 1px 2px rgba(0, 0, 0, 0.3));\n",
              "      fill: #FFFFFF;\n",
              "    }\n",
              "  </style>\n",
              "\n",
              "      <script>\n",
              "        const buttonEl =\n",
              "          document.querySelector('#df-88d2ef34-3380-4fc9-8097-2028320b37ae button.colab-df-convert');\n",
              "        buttonEl.style.display =\n",
              "          google.colab.kernel.accessAllowed ? 'block' : 'none';\n",
              "\n",
              "        async function convertToInteractive(key) {\n",
              "          const element = document.querySelector('#df-88d2ef34-3380-4fc9-8097-2028320b37ae');\n",
              "          const dataTable =\n",
              "            await google.colab.kernel.invokeFunction('convertToInteractive',\n",
              "                                                     [key], {});\n",
              "          if (!dataTable) return;\n",
              "\n",
              "          const docLinkHtml = 'Like what you see? Visit the ' +\n",
              "            '<a target=\"_blank\" href=https://colab.research.google.com/notebooks/data_table.ipynb>data table notebook</a>'\n",
              "            + ' to learn more about interactive tables.';\n",
              "          element.innerHTML = '';\n",
              "          dataTable['output_type'] = 'display_data';\n",
              "          await google.colab.output.renderOutput(dataTable, element);\n",
              "          const docLink = document.createElement('div');\n",
              "          docLink.innerHTML = docLinkHtml;\n",
              "          element.appendChild(docLink);\n",
              "        }\n",
              "      </script>\n",
              "    </div>\n",
              "  </div>\n",
              "  "
            ]
          },
          "metadata": {},
          "execution_count": 248
        }
      ]
    },
    {
      "cell_type": "code",
      "source": [
        "plt.style.use(\"ggplot\")\n",
        "pd.DataFrame(model1.history.history).plot(figsize=(12,10))"
      ],
      "metadata": {
        "colab": {
          "base_uri": "https://localhost:8080/",
          "height": 863
        },
        "id": "eKkpwv-a-7WE",
        "outputId": "52099d52-bd1c-4222-c786-3fb098e69923"
      },
      "execution_count": null,
      "outputs": [
        {
          "output_type": "execute_result",
          "data": {
            "text/plain": [
              "<Axes: >"
            ]
          },
          "metadata": {},
          "execution_count": 249
        },
        {
          "output_type": "display_data",
          "data": {
            "text/plain": [
              "<Figure size 1200x1000 with 1 Axes>"
            ],
            "image/png": "[encoded data removed]"
          },
          "metadata": {}
        }
      ]
    },
    {
      "cell_type": "code",
      "source": [
        "predictions = model1.predict(x_test)"
      ],
      "metadata": {
        "colab": {
          "base_uri": "https://localhost:8080/"
        },
        "id": "qeoCt7eDmOXZ",
        "outputId": "dd929b04-636b-4af7-8295-10d95705bc79"
      },
      "execution_count": null,
      "outputs": [
        {
          "output_type": "stream",
          "name": "stdout",
          "text": [
            "2/2 [==============================] - 0s 4ms/step\n"
          ]
        }
      ]
    },
    {
      "cell_type": "code",
      "source": [
        "from sklearn import metrics\n",
        "print(\"MAE:\",metrics.mean_absolute_error(y_test,predictions))\n",
        "print (\"MSE:\",metrics.mean_squared_error(y_test,predictions))\n",
        "print(\"RMSE:\",np.sqrt(metrics.mean_squared_error(y_test,predictions)))"
      ],
      "metadata": {
        "colab": {
          "base_uri": "https://localhost:8080/"
        },
        "id": "RMGEzGfXmEYu",
        "outputId": "3307e6d7-65d1-42c5-fa50-2a1654d8a536"
      },
      "execution_count": null,
      "outputs": [
        {
          "output_type": "stream",
          "name": "stdout",
          "text": [
            "MAE: 2100.240212673611\n",
            "MSE: 8040190.185182932\n",
            "RMSE: 2835.522912124487\n"
          ]
        }
      ]
    },
    {
      "cell_type": "code",
      "source": [
        "#Evaluation of  the explained variance score (R^2)\n",
        "metrics.explained_variance_score(y_test,predictions)"
      ],
      "metadata": {
        "colab": {
          "base_uri": "https://localhost:8080/"
        },
        "id": "v2Ft_s2UmXeP",
        "outputId": "db67b533-c7b6-4b71-86ef-90bb8fa66efd"
      },
      "execution_count": null,
      "outputs": [
        {
          "output_type": "execute_result",
          "data": {
            "text/plain": [
              "0.000331201654901192"
            ]
          },
          "metadata": {},
          "execution_count": 252
        }
      ]
    },
    {
      "cell_type": "code",
      "source": [
        "!jupyter nbconvert --to html Neural_network.ipynb"
      ],
      "metadata": {
        "colab": {
          "base_uri": "https://localhost:8080/"
        },
        "id": "okin34ed-4Wb",
        "outputId": "5c47bafb-e30f-4b3b-aba7-37425d40d20d"
      },
      "execution_count": null,
      "outputs": [
        {
          "output_type": "stream",
          "name": "stdout",
          "text": [
            "[NbConvertApp] Converting notebook Neural_network.ipynb to html\n",
            "[NbConvertApp] Writing 1287773 bytes to Neural_network.html\n"
          ]
        }
      ]
    }
  ]
}