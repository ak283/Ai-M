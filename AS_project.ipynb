{
  "nbformat": 4,
  "nbformat_minor": 0,
  "metadata": {
    "colab": {
      "provenance": []
    },
    "kernelspec": {
      "name": "python3",
      "display_name": "Python 3"
    },
    "language_info": {
      "name": "python"
    }
  },
  "cells": [
    {
      "cell_type": "code",
      "source": [
        "import numpy as np\n",
        "import pandas as pd\n",
        "import scipy.stats as stats\n",
        "import matplotlib.pyplot as plt\n",
        "import seaborn as sns\n",
        "%matplotlib inline"
      ],
      "metadata": {
        "id": "G_loT9LvHHLc"
      },
      "execution_count": null,
      "outputs": []
    },
    {
      "cell_type": "code",
      "source": [
        "from google.colab import drive\n",
        "drive.mount('/content/drive')"
      ],
      "metadata": {
        "colab": {
          "base_uri": "https://localhost:8080/"
        },
        "id": "dgogp_a3tGhA",
        "outputId": "20abe7aa-68e7-4cbb-fd06-ea1f9f81e0ba"
      },
      "execution_count": null,
      "outputs": [
        {
          "output_type": "stream",
          "name": "stdout",
          "text": [
            "Drive already mounted at /content/drive; to attempt to forcibly remount, call drive.mount(\"/content/drive\", force_remount=True).\n"
          ]
        }
      ]
    },
    {
      "cell_type": "markdown",
      "source": [
        "###**1.a**"
      ],
      "metadata": {
        "id": "VXQ-0CFTBP0V"
      }
    },
    {
      "cell_type": "code",
      "source": [
        "a=400\n",
        "b=2000\n",
        "print('Number of people who planned to purchase and actually placed a order = ',a)\n",
        "print('Total number of people = ',b)\n",
        "print('Joint probability =', a/b)"
      ],
      "metadata": {
        "colab": {
          "base_uri": "https://localhost:8080/"
        },
        "id": "zmg1YQUdCIFJ",
        "outputId": "f2addaf5-1441-40e6-e307-324a3cf7db9f"
      },
      "execution_count": null,
      "outputs": [
        {
          "output_type": "stream",
          "name": "stdout",
          "text": [
            "Number of people who planned to purchase and actually placed a order =  400\n",
            "Total number of people =  2000\n",
            "Joint probability = 0.2\n"
          ]
        }
      ]
    },
    {
      "cell_type": "markdown",
      "source": [
        "###**1.b**"
      ],
      "metadata": {
        "id": "LTwMecRpFCwm"
      }
    },
    {
      "cell_type": "code",
      "source": [
        "a=400\n",
        "b=500\n",
        "print('Number of people who planned to purchase and actually placed a order = ',a)\n",
        "print('Number of people planned to purchase =', b)\n",
        "print('Joint probability =', a/b)\n"
      ],
      "metadata": {
        "colab": {
          "base_uri": "https://localhost:8080/"
        },
        "id": "FveKxKMNCzG5",
        "outputId": "f6aec55b-f483-4e19-8338-9f7f5e0dea43"
      },
      "execution_count": null,
      "outputs": [
        {
          "output_type": "stream",
          "name": "stdout",
          "text": [
            "Number of people who planned to purchase and actually placed a order =  400\n",
            "Number of people planned to purchase = 500\n",
            "Joint probability = 0.8\n"
          ]
        }
      ]
    },
    {
      "cell_type": "markdown",
      "source": [
        "###**2.a**"
      ],
      "metadata": {
        "id": "depyD05UGzkK"
      }
    },
    {
      "cell_type": "code",
      "source": [
        "p = 0.05\n",
        "n = 10\n",
        "a=np.arange(0,11)\n",
        "bd = stats.binom.pmf(a, n, p)\n",
        "print(bd)"
      ],
      "metadata": {
        "colab": {
          "base_uri": "https://localhost:8080/"
        },
        "id": "izlNWXhnFczr",
        "outputId": "94b89587-b419-47be-dfb5-3449d5a61e7a"
      },
      "execution_count": null,
      "outputs": [
        {
          "output_type": "stream",
          "name": "stdout",
          "text": [
            "[5.98736939e-01 3.15124705e-01 7.46347985e-02 1.04750594e-02\n",
            " 9.64808106e-04 6.09352488e-05 2.67259863e-06 8.03789062e-08\n",
            " 1.58642578e-09 1.85546875e-11 9.76562500e-14]\n"
          ]
        }
      ]
    },
    {
      "cell_type": "code",
      "source": [
        "print('Probability for 0 defective = %1.4f'%bd[0])"
      ],
      "metadata": {
        "colab": {
          "base_uri": "https://localhost:8080/"
        },
        "id": "kBSHHg7wIAah",
        "outputId": "6447a628-44df-47af-8e16-aad341c82cf6"
      },
      "execution_count": null,
      "outputs": [
        {
          "output_type": "stream",
          "name": "stdout",
          "text": [
            "Probability for 0 defective = 0.5987\n"
          ]
        }
      ]
    },
    {
      "cell_type": "markdown",
      "source": [
        "###**2.b**"
      ],
      "metadata": {
        "id": "UFYV-37DpKwY"
      }
    },
    {
      "cell_type": "code",
      "source": [
        "print('probanility for 1 defective= %1.4f'%bd[1])"
      ],
      "metadata": {
        "colab": {
          "base_uri": "https://localhost:8080/"
        },
        "id": "eTsk2NWcQnAn",
        "outputId": "b90bd23d-ce87-44b7-94f8-4528ecbd37c5"
      },
      "execution_count": null,
      "outputs": [
        {
          "output_type": "stream",
          "name": "stdout",
          "text": [
            "probanility for 1 defective= 0.3151\n"
          ]
        }
      ]
    },
    {
      "cell_type": "markdown",
      "source": [
        "###**2.c**"
      ],
      "metadata": {
        "id": "ZxJyZkftpRKR"
      }
    },
    {
      "cell_type": "code",
      "source": [
        "cum_bd=stats.binom.cdf(a,n,p)\n",
        "print(cum_bd)"
      ],
      "metadata": {
        "colab": {
          "base_uri": "https://localhost:8080/"
        },
        "id": "y-VqbYJrMEJH",
        "outputId": "1712bcae-0bde-48fa-bf57-a21a530631f7"
      },
      "execution_count": null,
      "outputs": [
        {
          "output_type": "stream",
          "name": "stdout",
          "text": [
            "[0.59873694 0.91386164 0.98849644 0.9989715  0.99993631 0.99999725\n",
            " 0.99999992 1.         1.         1.         1.        ]\n"
          ]
        }
      ]
    },
    {
      "cell_type": "code",
      "source": [
        "plt.plot(cum_bd,'d-')"
      ],
      "metadata": {
        "colab": {
          "base_uri": "https://localhost:8080/",
          "height": 282
        },
        "id": "bSSAbAl8MmvN",
        "outputId": "df79d235-7eac-4abb-913d-c6680e6b193d"
      },
      "execution_count": null,
      "outputs": [
        {
          "output_type": "execute_result",
          "data": {
            "text/plain": [
              "[<matplotlib.lines.Line2D at 0x7f246bf3fdd0>]"
            ]
          },
          "metadata": {},
          "execution_count": 142
        },
        {
          "output_type": "display_data",
          "data": {
            "text/plain": [
              "<Figure size 432x288 with 1 Axes>"
            ],
            "image/png": "[encoded data removed]"
          },
          "metadata": {
            "needs_background": "light"
          }
        }
      ]
    },
    {
      "cell_type": "code",
      "source": [
        "print('Probability that two or fewer of the items are defective = %1.4f'%cum_bd[2])"
      ],
      "metadata": {
        "colab": {
          "base_uri": "https://localhost:8080/"
        },
        "id": "14GKafDcRlks",
        "outputId": "7d28a56e-dae6-4543-af27-847b69678e85"
      },
      "execution_count": null,
      "outputs": [
        {
          "output_type": "stream",
          "name": "stdout",
          "text": [
            "Probability that two or fewer of the items are defective = 0.9885\n"
          ]
        }
      ]
    },
    {
      "cell_type": "markdown",
      "source": [
        "###**2.d**"
      ],
      "metadata": {
        "id": "5g7xv74tpZr6"
      }
    },
    {
      "cell_type": "code",
      "source": [
        "print('Probability that three or more of the items are defective = %1.4f'%(1-cum_bd[2]))"
      ],
      "metadata": {
        "colab": {
          "base_uri": "https://localhost:8080/"
        },
        "id": "HtFosv_LSxOH",
        "outputId": "b7681c68-a0fc-4f07-8e69-6eab66881d0e"
      },
      "execution_count": null,
      "outputs": [
        {
          "output_type": "stream",
          "name": "stdout",
          "text": [
            "Probability that three or more of the items are defective = 0.0115\n"
          ]
        }
      ]
    },
    {
      "cell_type": "markdown",
      "source": [
        "###**3**\n"
      ],
      "metadata": {
        "id": "vk7OJS24Tzfz"
      }
    },
    {
      "cell_type": "code",
      "source": [
        "z=3\n",
        "print('avarage car sell = ', z)"
      ],
      "metadata": {
        "colab": {
          "base_uri": "https://localhost:8080/"
        },
        "id": "qxl-Pd6YTemf",
        "outputId": "011a8d40-19e3-4dd0-ebf1-5a4f871399a7"
      },
      "execution_count": null,
      "outputs": [
        {
          "output_type": "stream",
          "name": "stdout",
          "text": [
            "avarage car sell =  3\n"
          ]
        }
      ]
    },
    {
      "cell_type": "code",
      "source": [
        "a=np.arange(0,11)\n",
        "pd=stats.poisson.pmf(a,z)\n",
        "print(pd)"
      ],
      "metadata": {
        "colab": {
          "base_uri": "https://localhost:8080/"
        },
        "id": "mfCJ6GyLUA6S",
        "outputId": "18750ade-39ca-45d8-c61d-25762d51c978"
      },
      "execution_count": null,
      "outputs": [
        {
          "output_type": "stream",
          "name": "stdout",
          "text": [
            "[0.04978707 0.14936121 0.22404181 0.22404181 0.16803136 0.10081881\n",
            " 0.05040941 0.02160403 0.00810151 0.0027005  0.00081015]\n"
          ]
        }
      ]
    },
    {
      "cell_type": "code",
      "source": [
        "cum_pd=stats.poisson.cdf(a,z)\n",
        "print(cum_pd)"
      ],
      "metadata": {
        "colab": {
          "base_uri": "https://localhost:8080/"
        },
        "id": "cw8rZlEXUumx",
        "outputId": "91937417-dba8-48b8-ad23-57b74875e4e4"
      },
      "execution_count": null,
      "outputs": [
        {
          "output_type": "stream",
          "name": "stdout",
          "text": [
            "[0.04978707 0.19914827 0.42319008 0.64723189 0.81526324 0.91608206\n",
            " 0.96649146 0.9880955  0.99619701 0.99889751 0.99970766]\n"
          ]
        }
      ]
    },
    {
      "cell_type": "markdown",
      "source": [
        "###**3.a**"
      ],
      "metadata": {
        "id": "0r8M-4NAp3Nj"
      }
    },
    {
      "cell_type": "code",
      "source": [
        "print('Probability that in a given week he will sell some cars = %1.4f'%(1-cum_pd[0]))"
      ],
      "metadata": {
        "colab": {
          "base_uri": "https://localhost:8080/"
        },
        "id": "TQQqtT1ZVTzi",
        "outputId": "6f20c685-a8fe-41d2-d25e-8b4ce9cfd040"
      },
      "execution_count": null,
      "outputs": [
        {
          "output_type": "stream",
          "name": "stdout",
          "text": [
            "Probability that in a given week he will sell some cars = 0.9502\n"
          ]
        }
      ]
    },
    {
      "cell_type": "markdown",
      "source": [
        "###**3.b**"
      ],
      "metadata": {
        "id": "C_69Rkubp7R9"
      }
    },
    {
      "cell_type": "code",
      "source": [
        "a=cum_pd[4]\n",
        "b=cum_pd[1]\n",
        "print('Probability that in a given week he will sell 2 or more but less than 5 cars = %1.4f'%(a-b))"
      ],
      "metadata": {
        "colab": {
          "base_uri": "https://localhost:8080/"
        },
        "id": "7tHKEaU5V51G",
        "outputId": "ae00e0cb-0653-4401-b33a-66f7ccf16bfc"
      },
      "execution_count": null,
      "outputs": [
        {
          "output_type": "stream",
          "name": "stdout",
          "text": [
            "Probability that in a given week he will sell 2 or more but less than 5 cars = 0.6161\n"
          ]
        }
      ]
    },
    {
      "cell_type": "markdown",
      "source": [
        "###**3.c**"
      ],
      "metadata": {
        "id": "9gVS-cxxp_ec"
      }
    },
    {
      "cell_type": "code",
      "source": [
        "plt.plot(cum_pd, 's-',);"
      ],
      "metadata": {
        "colab": {
          "base_uri": "https://localhost:8080/",
          "height": 265
        },
        "id": "LgCBAknHXVtA",
        "outputId": "f9a5bdac-90ff-4a8c-98e2-2bc8bade7a34"
      },
      "execution_count": null,
      "outputs": [
        {
          "output_type": "display_data",
          "data": {
            "text/plain": [
              "<Figure size 432x288 with 1 Axes>"
            ],
            "image/png": "[encoded data removed]"
          },
          "metadata": {
            "needs_background": "light"
          }
        }
      ]
    },
    {
      "cell_type": "markdown",
      "source": [
        "###**4**"
      ],
      "metadata": {
        "id": "aQ5_coYcYRDV"
      }
    },
    {
      "cell_type": "code",
      "source": [
        "n=3                #mean\n",
        "p=868/1000         #probability\n",
        "\n",
        "a=np.arange(0,4)\n",
        "bd2=stats.binom.pmf(a,n,p)\n",
        "cum_bd2=stats.binom.cdf(a,n,p)\n",
        "print(bd2)\n",
        "print(cum_bd2)"
      ],
      "metadata": {
        "colab": {
          "base_uri": "https://localhost:8080/"
        },
        "id": "FJfdQ5CHXV2k",
        "outputId": "5ace3a68-89e0-48f6-b076-ee9f545ae9c3"
      },
      "execution_count": null,
      "outputs": [
        {
          "output_type": "stream",
          "name": "stdout",
          "text": [
            "[0.00229997 0.0453721  0.2983559  0.65397203]\n",
            "[0.00229997 0.04767206 0.34602797 1.        ]\n"
          ]
        }
      ]
    },
    {
      "cell_type": "markdown",
      "source": [
        "###**4.a**"
      ],
      "metadata": {
        "id": "jcYmVuiYqM_w"
      }
    },
    {
      "cell_type": "code",
      "source": [
        "print(' probability that all three orders will be recognised correctly = %1.4f'%bd2[3])"
      ],
      "metadata": {
        "colab": {
          "base_uri": "https://localhost:8080/"
        },
        "id": "2rQkglDZY_qZ",
        "outputId": "7e99fa61-683c-4768-cd65-19235bb9585b"
      },
      "execution_count": null,
      "outputs": [
        {
          "output_type": "stream",
          "name": "stdout",
          "text": [
            " probability that all three orders will be recognised correctly = 0.6540\n"
          ]
        }
      ]
    },
    {
      "cell_type": "markdown",
      "source": [
        "###**4.b**"
      ],
      "metadata": {
        "id": "GcpVdjMkqPlW"
      }
    },
    {
      "cell_type": "code",
      "source": [
        "print(' probability that none of the three orders will be recognised correctly = %1.4f'%bd2[0])"
      ],
      "metadata": {
        "colab": {
          "base_uri": "https://localhost:8080/"
        },
        "id": "n0EPeDwbZXn8",
        "outputId": "4a503b40-b999-40c9-d9ea-b7166dc49a68"
      },
      "execution_count": null,
      "outputs": [
        {
          "output_type": "stream",
          "name": "stdout",
          "text": [
            " probability that none of the three orders will be recognised correctly = 0.0023\n"
          ]
        }
      ]
    },
    {
      "cell_type": "markdown",
      "source": [
        "###**4.c**"
      ],
      "metadata": {
        "id": "pYaHCCFrqSv0"
      }
    },
    {
      "cell_type": "code",
      "source": [
        "print(' probability that at least two of the three orders will be recognised correctly %1.4f'%(1-cum_bd2[1]))"
      ],
      "metadata": {
        "colab": {
          "base_uri": "https://localhost:8080/"
        },
        "id": "SrgUesq5ZhL4",
        "outputId": "de9c2470-a442-47e6-c104-3c55e505c2fe"
      },
      "execution_count": null,
      "outputs": [
        {
          "output_type": "stream",
          "name": "stdout",
          "text": [
            " probability that at least two of the three orders will be recognised correctly 0.9523\n"
          ]
        }
      ]
    },
    {
      "cell_type": "markdown",
      "source": [
        "###**4**"
      ],
      "metadata": {
        "id": "Zh7-mFIIn9Z5"
      }
    },
    {
      "cell_type": "markdown",
      "source": [
        "We can use Applied statistics concepts to analyse the below mentioned points of a compatative exam\n",
        "a) Highest marks obtained by any student\n",
        "b) Average marks of the exam\n",
        "c) No of students in top 10% percentile\n",
        "d) Minimum marks required to cross 90% percentile\n",
        "\n",
        "*   Highest marks obtained by any student\n",
        "*   Average marks of the exam\n",
        "*   No of students in top 5% percentile\n",
        "*   No of students crossed 90% percentile\n"
      ],
      "metadata": {
        "id": "lkBIECn2oA3G"
      }
    },
    {
      "cell_type": "markdown",
      "source": [
        "#####**PART 2**"
      ],
      "metadata": {
        "id": "KmEGMBpis-lk"
      }
    },
    {
      "cell_type": "markdown",
      "source": [
        "###1. Read dataset and prepare dataset"
      ],
      "metadata": {
        "id": "vvpfM42FjtI2"
      }
    },
    {
      "cell_type": "code",
      "source": [
        "import numpy as np\n",
        "import pandas as pd\n",
        "import scipy.stats as stats\n",
        "import matplotlib.pyplot as plt\n",
        "import seaborn as sns\n",
        "%matplotlib inline"
      ],
      "metadata": {
        "id": "9XWey6e_t3s_"
      },
      "execution_count": null,
      "outputs": []
    },
    {
      "cell_type": "code",
      "source": [
        "df=pd.read_csv('/content/drive/MyDrive/DS+-+Part2+-+Basketball.csv')"
      ],
      "metadata": {
        "id": "53xN-dB9fx9R"
      },
      "execution_count": null,
      "outputs": []
    },
    {
      "cell_type": "code",
      "source": [
        "df.head()"
      ],
      "metadata": {
        "id": "ZHM-EALmi8cC",
        "colab": {
          "base_uri": "https://localhost:8080/",
          "height": 354
        },
        "outputId": "2ae1413e-b99c-4840-f353-74a5bb91eae6"
      },
      "execution_count": null,
      "outputs": [
        {
          "output_type": "execute_result",
          "data": {
            "text/plain": [
              "     Team  Tournament Score PlayedGames WonGames DrawnGames LostGames  \\\n",
              "0  Team 1          86  4385        2762     1647        552       563   \n",
              "1  Team 2          86  4262        2762     1581        573       608   \n",
              "2  Team 3          80  3442        2614     1241        598       775   \n",
              "3  Team 4          82  3386        2664     1187        616       861   \n",
              "4  Team 5          86  3368        2762     1209        633       920   \n",
              "\n",
              "  BasketScored BasketGiven TournamentChampion Runner-up TeamLaunch  \\\n",
              "0         5947        3140                 33        23       1929   \n",
              "1         5900        3114                 25        25       1929   \n",
              "2         4534        3309                 10         8       1929   \n",
              "3         4398        3469                  6         6   1931to32   \n",
              "4         4631        3700                  8         7       1929   \n",
              "\n",
              "   HighestPositionHeld  \n",
              "0                    1  \n",
              "1                    1  \n",
              "2                    1  \n",
              "3                    1  \n",
              "4                    1  "
            ],
            "text/html": [
              "\n",
              "  <div id=\"df-586ce638-0409-43f3-bc3c-6a11e629371b\">\n",
              "    <div class=\"colab-df-container\">\n",
              "      <div>\n",
              "<style scoped>\n",
              "    .dataframe tbody tr th:only-of-type {\n",
              "        vertical-align: middle;\n",
              "    }\n",
              "\n",
              "    .dataframe tbody tr th {\n",
              "        vertical-align: top;\n",
              "    }\n",
              "\n",
              "    .dataframe thead th {\n",
              "        text-align: right;\n",
              "    }\n",
              "</style>\n",
              "<table border=\"1\" class=\"dataframe\">\n",
              "  <thead>\n",
              "    <tr style=\"text-align: right;\">\n",
              "      <th></th>\n",
              "      <th>Team</th>\n",
              "      <th>Tournament</th>\n",
              "      <th>Score</th>\n",
              "      <th>PlayedGames</th>\n",
              "      <th>WonGames</th>\n",
              "      <th>DrawnGames</th>\n",
              "      <th>LostGames</th>\n",
              "      <th>BasketScored</th>\n",
              "      <th>BasketGiven</th>\n",
              "      <th>TournamentChampion</th>\n",
              "      <th>Runner-up</th>\n",
              "      <th>TeamLaunch</th>\n",
              "      <th>HighestPositionHeld</th>\n",
              "    </tr>\n",
              "  </thead>\n",
              "  <tbody>\n",
              "    <tr>\n",
              "      <th>0</th>\n",
              "      <td>Team 1</td>\n",
              "      <td>86</td>\n",
              "      <td>4385</td>\n",
              "      <td>2762</td>\n",
              "      <td>1647</td>\n",
              "      <td>552</td>\n",
              "      <td>563</td>\n",
              "      <td>5947</td>\n",
              "      <td>3140</td>\n",
              "      <td>33</td>\n",
              "      <td>23</td>\n",
              "      <td>1929</td>\n",
              "      <td>1</td>\n",
              "    </tr>\n",
              "    <tr>\n",
              "      <th>1</th>\n",
              "      <td>Team 2</td>\n",
              "      <td>86</td>\n",
              "      <td>4262</td>\n",
              "      <td>2762</td>\n",
              "      <td>1581</td>\n",
              "      <td>573</td>\n",
              "      <td>608</td>\n",
              "      <td>5900</td>\n",
              "      <td>3114</td>\n",
              "      <td>25</td>\n",
              "      <td>25</td>\n",
              "      <td>1929</td>\n",
              "      <td>1</td>\n",
              "    </tr>\n",
              "    <tr>\n",
              "      <th>2</th>\n",
              "      <td>Team 3</td>\n",
              "      <td>80</td>\n",
              "      <td>3442</td>\n",
              "      <td>2614</td>\n",
              "      <td>1241</td>\n",
              "      <td>598</td>\n",
              "      <td>775</td>\n",
              "      <td>4534</td>\n",
              "      <td>3309</td>\n",
              "      <td>10</td>\n",
              "      <td>8</td>\n",
              "      <td>1929</td>\n",
              "      <td>1</td>\n",
              "    </tr>\n",
              "    <tr>\n",
              "      <th>3</th>\n",
              "      <td>Team 4</td>\n",
              "      <td>82</td>\n",
              "      <td>3386</td>\n",
              "      <td>2664</td>\n",
              "      <td>1187</td>\n",
              "      <td>616</td>\n",
              "      <td>861</td>\n",
              "      <td>4398</td>\n",
              "      <td>3469</td>\n",
              "      <td>6</td>\n",
              "      <td>6</td>\n",
              "      <td>1931to32</td>\n",
              "      <td>1</td>\n",
              "    </tr>\n",
              "    <tr>\n",
              "      <th>4</th>\n",
              "      <td>Team 5</td>\n",
              "      <td>86</td>\n",
              "      <td>3368</td>\n",
              "      <td>2762</td>\n",
              "      <td>1209</td>\n",
              "      <td>633</td>\n",
              "      <td>920</td>\n",
              "      <td>4631</td>\n",
              "      <td>3700</td>\n",
              "      <td>8</td>\n",
              "      <td>7</td>\n",
              "      <td>1929</td>\n",
              "      <td>1</td>\n",
              "    </tr>\n",
              "  </tbody>\n",
              "</table>\n",
              "</div>\n",
              "      <button class=\"colab-df-convert\" onclick=\"convertToInteractive('df-586ce638-0409-43f3-bc3c-6a11e629371b')\"\n",
              "              title=\"Convert this dataframe to an interactive table.\"\n",
              "              style=\"display:none;\">\n",
              "        \n",
              "  <svg xmlns=\"http://www.w3.org/2000/svg\" height=\"24px\"viewBox=\"0 0 24 24\"\n",
              "       width=\"24px\">\n",
              "    <path d=\"M0 0h24v24H0V0z\" fill=\"none\"/>\n",
              "    <path d=\"M18.56 5.44l.94 2.06.94-2.06 2.06-.94-2.06-.94-.94-2.06-.94 2.06-2.06.94zm-11 1L8.5 8.5l.94-2.06 2.06-.94-2.06-.94L8.5 2.5l-.94 2.06-2.06.94zm10 10l.94 2.06.94-2.06 2.06-.94-2.06-.94-.94-2.06-.94 2.06-2.06.94z\"/><path d=\"M17.41 7.96l-1.37-1.37c-.4-.4-.92-.59-1.43-.59-.52 0-1.04.2-1.43.59L10.3 9.45l-7.72 7.72c-.78.78-.78 2.05 0 2.83L4 21.41c.39.39.9.59 1.41.59.51 0 1.02-.2 1.41-.59l7.78-7.78 2.81-2.81c.8-.78.8-2.07 0-2.86zM5.41 20L4 18.59l7.72-7.72 1.47 1.35L5.41 20z\"/>\n",
              "  </svg>\n",
              "      </button>\n",
              "      \n",
              "  <style>\n",
              "    .colab-df-container {\n",
              "      display:flex;\n",
              "      flex-wrap:wrap;\n",
              "      gap: 12px;\n",
              "    }\n",
              "\n",
              "    .colab-df-convert {\n",
              "      background-color: #E8F0FE;\n",
              "      border: none;\n",
              "      border-radius: 50%;\n",
              "      cursor: pointer;\n",
              "      display: none;\n",
              "      fill: #1967D2;\n",
              "      height: 32px;\n",
              "      padding: 0 0 0 0;\n",
              "      width: 32px;\n",
              "    }\n",
              "\n",
              "    .colab-df-convert:hover {\n",
              "      background-color: #E2EBFA;\n",
              "      box-shadow: 0px 1px 2px rgba(60, 64, 67, 0.3), 0px 1px 3px 1px rgba(60, 64, 67, 0.15);\n",
              "      fill: #174EA6;\n",
              "    }\n",
              "\n",
              "    [theme=dark] .colab-df-convert {\n",
              "      background-color: #3B4455;\n",
              "      fill: #D2E3FC;\n",
              "    }\n",
              "\n",
              "    [theme=dark] .colab-df-convert:hover {\n",
              "      background-color: #434B5C;\n",
              "      box-shadow: 0px 1px 3px 1px rgba(0, 0, 0, 0.15);\n",
              "      filter: drop-shadow(0px 1px 2px rgba(0, 0, 0, 0.3));\n",
              "      fill: #FFFFFF;\n",
              "    }\n",
              "  </style>\n",
              "\n",
              "      <script>\n",
              "        const buttonEl =\n",
              "          document.querySelector('#df-586ce638-0409-43f3-bc3c-6a11e629371b button.colab-df-convert');\n",
              "        buttonEl.style.display =\n",
              "          google.colab.kernel.accessAllowed ? 'block' : 'none';\n",
              "\n",
              "        async function convertToInteractive(key) {\n",
              "          const element = document.querySelector('#df-586ce638-0409-43f3-bc3c-6a11e629371b');\n",
              "          const dataTable =\n",
              "            await google.colab.kernel.invokeFunction('convertToInteractive',\n",
              "                                                     [key], {});\n",
              "          if (!dataTable) return;\n",
              "\n",
              "          const docLinkHtml = 'Like what you see? Visit the ' +\n",
              "            '<a target=\"_blank\" href=https://colab.research.google.com/notebooks/data_table.ipynb>data table notebook</a>'\n",
              "            + ' to learn more about interactive tables.';\n",
              "          element.innerHTML = '';\n",
              "          dataTable['output_type'] = 'display_data';\n",
              "          await google.colab.output.renderOutput(dataTable, element);\n",
              "          const docLink = document.createElement('div');\n",
              "          docLink.innerHTML = docLinkHtml;\n",
              "          element.appendChild(docLink);\n",
              "        }\n",
              "      </script>\n",
              "    </div>\n",
              "  </div>\n",
              "  "
            ]
          },
          "metadata": {},
          "execution_count": 157
        }
      ]
    },
    {
      "cell_type": "code",
      "source": [
        "df.tail()"
      ],
      "metadata": {
        "id": "qv0w78_jS9SK",
        "colab": {
          "base_uri": "https://localhost:8080/",
          "height": 374
        },
        "outputId": "46245dd7-2ea0-432b-a4a2-9bf0b3932015"
      },
      "execution_count": null,
      "outputs": [
        {
          "output_type": "execute_result",
          "data": {
            "text/plain": [
              "       Team  Tournament Score PlayedGames WonGames DrawnGames LostGames  \\\n",
              "56  Team 57           1    34          38        8         10        20   \n",
              "57  Team 58           1    22          30        7          8        15   \n",
              "58  Team 59           1    19          30        7          5        18   \n",
              "59  Team 60           1    14          30        5          4        21   \n",
              "60  Team 61           1     -           -        -          -         -   \n",
              "\n",
              "   BasketScored BasketGiven TournamentChampion Runner-up TeamLaunch  \\\n",
              "56           38          66                  -         -    2009-10   \n",
              "57           37          57                  -         -    1956-57   \n",
              "58           51          85                  -         -    1951~52   \n",
              "59           34          65                  -         -    1955-56   \n",
              "60            -           -                  -         -    2017~18   \n",
              "\n",
              "    HighestPositionHeld  \n",
              "56                   20  \n",
              "57                   16  \n",
              "58                   16  \n",
              "59                   15  \n",
              "60                    9  "
            ],
            "text/html": [
              "\n",
              "  <div id=\"df-179314e5-f73e-4507-b52c-fee7154986c6\">\n",
              "    <div class=\"colab-df-container\">\n",
              "      <div>\n",
              "<style scoped>\n",
              "    .dataframe tbody tr th:only-of-type {\n",
              "        vertical-align: middle;\n",
              "    }\n",
              "\n",
              "    .dataframe tbody tr th {\n",
              "        vertical-align: top;\n",
              "    }\n",
              "\n",
              "    .dataframe thead th {\n",
              "        text-align: right;\n",
              "    }\n",
              "</style>\n",
              "<table border=\"1\" class=\"dataframe\">\n",
              "  <thead>\n",
              "    <tr style=\"text-align: right;\">\n",
              "      <th></th>\n",
              "      <th>Team</th>\n",
              "      <th>Tournament</th>\n",
              "      <th>Score</th>\n",
              "      <th>PlayedGames</th>\n",
              "      <th>WonGames</th>\n",
              "      <th>DrawnGames</th>\n",
              "      <th>LostGames</th>\n",
              "      <th>BasketScored</th>\n",
              "      <th>BasketGiven</th>\n",
              "      <th>TournamentChampion</th>\n",
              "      <th>Runner-up</th>\n",
              "      <th>TeamLaunch</th>\n",
              "      <th>HighestPositionHeld</th>\n",
              "    </tr>\n",
              "  </thead>\n",
              "  <tbody>\n",
              "    <tr>\n",
              "      <th>56</th>\n",
              "      <td>Team 57</td>\n",
              "      <td>1</td>\n",
              "      <td>34</td>\n",
              "      <td>38</td>\n",
              "      <td>8</td>\n",
              "      <td>10</td>\n",
              "      <td>20</td>\n",
              "      <td>38</td>\n",
              "      <td>66</td>\n",
              "      <td>-</td>\n",
              "      <td>-</td>\n",
              "      <td>2009-10</td>\n",
              "      <td>20</td>\n",
              "    </tr>\n",
              "    <tr>\n",
              "      <th>57</th>\n",
              "      <td>Team 58</td>\n",
              "      <td>1</td>\n",
              "      <td>22</td>\n",
              "      <td>30</td>\n",
              "      <td>7</td>\n",
              "      <td>8</td>\n",
              "      <td>15</td>\n",
              "      <td>37</td>\n",
              "      <td>57</td>\n",
              "      <td>-</td>\n",
              "      <td>-</td>\n",
              "      <td>1956-57</td>\n",
              "      <td>16</td>\n",
              "    </tr>\n",
              "    <tr>\n",
              "      <th>58</th>\n",
              "      <td>Team 59</td>\n",
              "      <td>1</td>\n",
              "      <td>19</td>\n",
              "      <td>30</td>\n",
              "      <td>7</td>\n",
              "      <td>5</td>\n",
              "      <td>18</td>\n",
              "      <td>51</td>\n",
              "      <td>85</td>\n",
              "      <td>-</td>\n",
              "      <td>-</td>\n",
              "      <td>1951~52</td>\n",
              "      <td>16</td>\n",
              "    </tr>\n",
              "    <tr>\n",
              "      <th>59</th>\n",
              "      <td>Team 60</td>\n",
              "      <td>1</td>\n",
              "      <td>14</td>\n",
              "      <td>30</td>\n",
              "      <td>5</td>\n",
              "      <td>4</td>\n",
              "      <td>21</td>\n",
              "      <td>34</td>\n",
              "      <td>65</td>\n",
              "      <td>-</td>\n",
              "      <td>-</td>\n",
              "      <td>1955-56</td>\n",
              "      <td>15</td>\n",
              "    </tr>\n",
              "    <tr>\n",
              "      <th>60</th>\n",
              "      <td>Team 61</td>\n",
              "      <td>1</td>\n",
              "      <td>-</td>\n",
              "      <td>-</td>\n",
              "      <td>-</td>\n",
              "      <td>-</td>\n",
              "      <td>-</td>\n",
              "      <td>-</td>\n",
              "      <td>-</td>\n",
              "      <td>-</td>\n",
              "      <td>-</td>\n",
              "      <td>2017~18</td>\n",
              "      <td>9</td>\n",
              "    </tr>\n",
              "  </tbody>\n",
              "</table>\n",
              "</div>\n",
              "      <button class=\"colab-df-convert\" onclick=\"convertToInteractive('df-179314e5-f73e-4507-b52c-fee7154986c6')\"\n",
              "              title=\"Convert this dataframe to an interactive table.\"\n",
              "              style=\"display:none;\">\n",
              "        \n",
              "  <svg xmlns=\"http://www.w3.org/2000/svg\" height=\"24px\"viewBox=\"0 0 24 24\"\n",
              "       width=\"24px\">\n",
              "    <path d=\"M0 0h24v24H0V0z\" fill=\"none\"/>\n",
              "    <path d=\"M18.56 5.44l.94 2.06.94-2.06 2.06-.94-2.06-.94-.94-2.06-.94 2.06-2.06.94zm-11 1L8.5 8.5l.94-2.06 2.06-.94-2.06-.94L8.5 2.5l-.94 2.06-2.06.94zm10 10l.94 2.06.94-2.06 2.06-.94-2.06-.94-.94-2.06-.94 2.06-2.06.94z\"/><path d=\"M17.41 7.96l-1.37-1.37c-.4-.4-.92-.59-1.43-.59-.52 0-1.04.2-1.43.59L10.3 9.45l-7.72 7.72c-.78.78-.78 2.05 0 2.83L4 21.41c.39.39.9.59 1.41.59.51 0 1.02-.2 1.41-.59l7.78-7.78 2.81-2.81c.8-.78.8-2.07 0-2.86zM5.41 20L4 18.59l7.72-7.72 1.47 1.35L5.41 20z\"/>\n",
              "  </svg>\n",
              "      </button>\n",
              "      \n",
              "  <style>\n",
              "    .colab-df-container {\n",
              "      display:flex;\n",
              "      flex-wrap:wrap;\n",
              "      gap: 12px;\n",
              "    }\n",
              "\n",
              "    .colab-df-convert {\n",
              "      background-color: #E8F0FE;\n",
              "      border: none;\n",
              "      border-radius: 50%;\n",
              "      cursor: pointer;\n",
              "      display: none;\n",
              "      fill: #1967D2;\n",
              "      height: 32px;\n",
              "      padding: 0 0 0 0;\n",
              "      width: 32px;\n",
              "    }\n",
              "\n",
              "    .colab-df-convert:hover {\n",
              "      background-color: #E2EBFA;\n",
              "      box-shadow: 0px 1px 2px rgba(60, 64, 67, 0.3), 0px 1px 3px 1px rgba(60, 64, 67, 0.15);\n",
              "      fill: #174EA6;\n",
              "    }\n",
              "\n",
              "    [theme=dark] .colab-df-convert {\n",
              "      background-color: #3B4455;\n",
              "      fill: #D2E3FC;\n",
              "    }\n",
              "\n",
              "    [theme=dark] .colab-df-convert:hover {\n",
              "      background-color: #434B5C;\n",
              "      box-shadow: 0px 1px 3px 1px rgba(0, 0, 0, 0.15);\n",
              "      filter: drop-shadow(0px 1px 2px rgba(0, 0, 0, 0.3));\n",
              "      fill: #FFFFFF;\n",
              "    }\n",
              "  </style>\n",
              "\n",
              "      <script>\n",
              "        const buttonEl =\n",
              "          document.querySelector('#df-179314e5-f73e-4507-b52c-fee7154986c6 button.colab-df-convert');\n",
              "        buttonEl.style.display =\n",
              "          google.colab.kernel.accessAllowed ? 'block' : 'none';\n",
              "\n",
              "        async function convertToInteractive(key) {\n",
              "          const element = document.querySelector('#df-179314e5-f73e-4507-b52c-fee7154986c6');\n",
              "          const dataTable =\n",
              "            await google.colab.kernel.invokeFunction('convertToInteractive',\n",
              "                                                     [key], {});\n",
              "          if (!dataTable) return;\n",
              "\n",
              "          const docLinkHtml = 'Like what you see? Visit the ' +\n",
              "            '<a target=\"_blank\" href=https://colab.research.google.com/notebooks/data_table.ipynb>data table notebook</a>'\n",
              "            + ' to learn more about interactive tables.';\n",
              "          element.innerHTML = '';\n",
              "          dataTable['output_type'] = 'display_data';\n",
              "          await google.colab.output.renderOutput(dataTable, element);\n",
              "          const docLink = document.createElement('div');\n",
              "          docLink.innerHTML = docLinkHtml;\n",
              "          element.appendChild(docLink);\n",
              "        }\n",
              "      </script>\n",
              "    </div>\n",
              "  </div>\n",
              "  "
            ]
          },
          "metadata": {},
          "execution_count": 158
        }
      ]
    },
    {
      "cell_type": "code",
      "source": [
        "df.info()"
      ],
      "metadata": {
        "id": "qnnJNGP1jByc",
        "colab": {
          "base_uri": "https://localhost:8080/"
        },
        "outputId": "52059ea1-447c-473c-c170-de322e01aaff"
      },
      "execution_count": null,
      "outputs": [
        {
          "output_type": "stream",
          "name": "stdout",
          "text": [
            "<class 'pandas.core.frame.DataFrame'>\n",
            "RangeIndex: 61 entries, 0 to 60\n",
            "Data columns (total 13 columns):\n",
            " #   Column               Non-Null Count  Dtype \n",
            "---  ------               --------------  ----- \n",
            " 0   Team                 61 non-null     object\n",
            " 1   Tournament           61 non-null     int64 \n",
            " 2   Score                61 non-null     object\n",
            " 3   PlayedGames          61 non-null     object\n",
            " 4   WonGames             61 non-null     object\n",
            " 5   DrawnGames           61 non-null     object\n",
            " 6   LostGames            61 non-null     object\n",
            " 7   BasketScored         61 non-null     object\n",
            " 8   BasketGiven          61 non-null     object\n",
            " 9   TournamentChampion   61 non-null     object\n",
            " 10  Runner-up            61 non-null     object\n",
            " 11  TeamLaunch           61 non-null     object\n",
            " 12  HighestPositionHeld  61 non-null     int64 \n",
            "dtypes: int64(2), object(11)\n",
            "memory usage: 6.3+ KB\n"
          ]
        }
      ]
    },
    {
      "cell_type": "code",
      "source": [
        "def date_value(x):\n",
        "      return(x[0:4])\n",
        "df['TeamLaunch']=df['TeamLaunch'].apply(date_value)"
      ],
      "metadata": {
        "id": "lPPXUHFWf_36"
      },
      "execution_count": null,
      "outputs": []
    },
    {
      "cell_type": "code",
      "source": [
        "def replace_value(x):\n",
        "  if 'Team' in x:\n",
        "    return(x.replace('Team', ' '))\n",
        "  else:\n",
        "    return(x)\n",
        "df['Team']=df['Team'].apply(replace_value)"
      ],
      "metadata": {
        "id": "GhDP5qiQgs2U"
      },
      "execution_count": null,
      "outputs": []
    },
    {
      "cell_type": "code",
      "source": [
        "df.info()"
      ],
      "metadata": {
        "id": "7AtpEWBtmUrf",
        "colab": {
          "base_uri": "https://localhost:8080/"
        },
        "outputId": "a1b957e3-7bae-4ead-a1dc-cb82370cd775"
      },
      "execution_count": null,
      "outputs": [
        {
          "output_type": "stream",
          "name": "stdout",
          "text": [
            "<class 'pandas.core.frame.DataFrame'>\n",
            "RangeIndex: 61 entries, 0 to 60\n",
            "Data columns (total 13 columns):\n",
            " #   Column               Non-Null Count  Dtype \n",
            "---  ------               --------------  ----- \n",
            " 0   Team                 61 non-null     object\n",
            " 1   Tournament           61 non-null     int64 \n",
            " 2   Score                61 non-null     object\n",
            " 3   PlayedGames          61 non-null     object\n",
            " 4   WonGames             61 non-null     object\n",
            " 5   DrawnGames           61 non-null     object\n",
            " 6   LostGames            61 non-null     object\n",
            " 7   BasketScored         61 non-null     object\n",
            " 8   BasketGiven          61 non-null     object\n",
            " 9   TournamentChampion   61 non-null     object\n",
            " 10  Runner-up            61 non-null     object\n",
            " 11  TeamLaunch           61 non-null     object\n",
            " 12  HighestPositionHeld  61 non-null     int64 \n",
            "dtypes: int64(2), object(11)\n",
            "memory usage: 6.3+ KB\n"
          ]
        }
      ]
    },
    {
      "cell_type": "code",
      "source": [
        "column=df.columns\n",
        "for x in column:\n",
        "  df[x]=pd.to_numeric(df[x], errors='coerce')"
      ],
      "metadata": {
        "id": "k4n7-mkQhDdb"
      },
      "execution_count": null,
      "outputs": []
    },
    {
      "cell_type": "code",
      "source": [
        "df.info()"
      ],
      "metadata": {
        "id": "zla5YY6HUYj6",
        "colab": {
          "base_uri": "https://localhost:8080/"
        },
        "outputId": "35d8af17-2004-4b06-86cf-a007484c6eb9"
      },
      "execution_count": null,
      "outputs": [
        {
          "output_type": "stream",
          "name": "stdout",
          "text": [
            "<class 'pandas.core.frame.DataFrame'>\n",
            "RangeIndex: 61 entries, 0 to 60\n",
            "Data columns (total 13 columns):\n",
            " #   Column               Non-Null Count  Dtype  \n",
            "---  ------               --------------  -----  \n",
            " 0   Team                 61 non-null     int64  \n",
            " 1   Tournament           61 non-null     int64  \n",
            " 2   Score                60 non-null     float64\n",
            " 3   PlayedGames          60 non-null     float64\n",
            " 4   WonGames             60 non-null     float64\n",
            " 5   DrawnGames           60 non-null     float64\n",
            " 6   LostGames            60 non-null     float64\n",
            " 7   BasketScored         60 non-null     float64\n",
            " 8   BasketGiven          60 non-null     float64\n",
            " 9   TournamentChampion   9 non-null      float64\n",
            " 10  Runner-up            13 non-null     float64\n",
            " 11  TeamLaunch           61 non-null     int64  \n",
            " 12  HighestPositionHeld  61 non-null     int64  \n",
            "dtypes: float64(9), int64(4)\n",
            "memory usage: 6.3 KB\n"
          ]
        }
      ]
    },
    {
      "cell_type": "code",
      "source": [
        "df.isnull().sum()"
      ],
      "metadata": {
        "id": "KMSXty7MUg0X",
        "colab": {
          "base_uri": "https://localhost:8080/"
        },
        "outputId": "f22688cb-ce55-4d20-8645-8b298d881a3a"
      },
      "execution_count": null,
      "outputs": [
        {
          "output_type": "execute_result",
          "data": {
            "text/plain": [
              "Team                    0\n",
              "Tournament              0\n",
              "Score                   1\n",
              "PlayedGames             1\n",
              "WonGames                1\n",
              "DrawnGames              1\n",
              "LostGames               1\n",
              "BasketScored            1\n",
              "BasketGiven             1\n",
              "TournamentChampion     52\n",
              "Runner-up              48\n",
              "TeamLaunch              0\n",
              "HighestPositionHeld     0\n",
              "dtype: int64"
            ]
          },
          "metadata": {},
          "execution_count": 165
        }
      ]
    },
    {
      "cell_type": "code",
      "source": [
        "df[~df.applymap(np.isreal).all(1)]"
      ],
      "metadata": {
        "id": "lWy-hEzlYxkZ",
        "colab": {
          "base_uri": "https://localhost:8080/",
          "height": 93
        },
        "outputId": "8512cb3b-e339-4d65-8560-a81eee82cb33"
      },
      "execution_count": null,
      "outputs": [
        {
          "output_type": "execute_result",
          "data": {
            "text/plain": [
              "Empty DataFrame\n",
              "Columns: [Team, Tournament, Score, PlayedGames, WonGames, DrawnGames, LostGames, BasketScored, BasketGiven, TournamentChampion, Runner-up, TeamLaunch, HighestPositionHeld]\n",
              "Index: []"
            ],
            "text/html": [
              "\n",
              "  <div id=\"df-99e4bf2e-a4b6-4b54-845c-5a1ae8581045\">\n",
              "    <div class=\"colab-df-container\">\n",
              "      <div>\n",
              "<style scoped>\n",
              "    .dataframe tbody tr th:only-of-type {\n",
              "        vertical-align: middle;\n",
              "    }\n",
              "\n",
              "    .dataframe tbody tr th {\n",
              "        vertical-align: top;\n",
              "    }\n",
              "\n",
              "    .dataframe thead th {\n",
              "        text-align: right;\n",
              "    }\n",
              "</style>\n",
              "<table border=\"1\" class=\"dataframe\">\n",
              "  <thead>\n",
              "    <tr style=\"text-align: right;\">\n",
              "      <th></th>\n",
              "      <th>Team</th>\n",
              "      <th>Tournament</th>\n",
              "      <th>Score</th>\n",
              "      <th>PlayedGames</th>\n",
              "      <th>WonGames</th>\n",
              "      <th>DrawnGames</th>\n",
              "      <th>LostGames</th>\n",
              "      <th>BasketScored</th>\n",
              "      <th>BasketGiven</th>\n",
              "      <th>TournamentChampion</th>\n",
              "      <th>Runner-up</th>\n",
              "      <th>TeamLaunch</th>\n",
              "      <th>HighestPositionHeld</th>\n",
              "    </tr>\n",
              "  </thead>\n",
              "  <tbody>\n",
              "  </tbody>\n",
              "</table>\n",
              "</div>\n",
              "      <button class=\"colab-df-convert\" onclick=\"convertToInteractive('df-99e4bf2e-a4b6-4b54-845c-5a1ae8581045')\"\n",
              "              title=\"Convert this dataframe to an interactive table.\"\n",
              "              style=\"display:none;\">\n",
              "        \n",
              "  <svg xmlns=\"http://www.w3.org/2000/svg\" height=\"24px\"viewBox=\"0 0 24 24\"\n",
              "       width=\"24px\">\n",
              "    <path d=\"M0 0h24v24H0V0z\" fill=\"none\"/>\n",
              "    <path d=\"M18.56 5.44l.94 2.06.94-2.06 2.06-.94-2.06-.94-.94-2.06-.94 2.06-2.06.94zm-11 1L8.5 8.5l.94-2.06 2.06-.94-2.06-.94L8.5 2.5l-.94 2.06-2.06.94zm10 10l.94 2.06.94-2.06 2.06-.94-2.06-.94-.94-2.06-.94 2.06-2.06.94z\"/><path d=\"M17.41 7.96l-1.37-1.37c-.4-.4-.92-.59-1.43-.59-.52 0-1.04.2-1.43.59L10.3 9.45l-7.72 7.72c-.78.78-.78 2.05 0 2.83L4 21.41c.39.39.9.59 1.41.59.51 0 1.02-.2 1.41-.59l7.78-7.78 2.81-2.81c.8-.78.8-2.07 0-2.86zM5.41 20L4 18.59l7.72-7.72 1.47 1.35L5.41 20z\"/>\n",
              "  </svg>\n",
              "      </button>\n",
              "      \n",
              "  <style>\n",
              "    .colab-df-container {\n",
              "      display:flex;\n",
              "      flex-wrap:wrap;\n",
              "      gap: 12px;\n",
              "    }\n",
              "\n",
              "    .colab-df-convert {\n",
              "      background-color: #E8F0FE;\n",
              "      border: none;\n",
              "      border-radius: 50%;\n",
              "      cursor: pointer;\n",
              "      display: none;\n",
              "      fill: #1967D2;\n",
              "      height: 32px;\n",
              "      padding: 0 0 0 0;\n",
              "      width: 32px;\n",
              "    }\n",
              "\n",
              "    .colab-df-convert:hover {\n",
              "      background-color: #E2EBFA;\n",
              "      box-shadow: 0px 1px 2px rgba(60, 64, 67, 0.3), 0px 1px 3px 1px rgba(60, 64, 67, 0.15);\n",
              "      fill: #174EA6;\n",
              "    }\n",
              "\n",
              "    [theme=dark] .colab-df-convert {\n",
              "      background-color: #3B4455;\n",
              "      fill: #D2E3FC;\n",
              "    }\n",
              "\n",
              "    [theme=dark] .colab-df-convert:hover {\n",
              "      background-color: #434B5C;\n",
              "      box-shadow: 0px 1px 3px 1px rgba(0, 0, 0, 0.15);\n",
              "      filter: drop-shadow(0px 1px 2px rgba(0, 0, 0, 0.3));\n",
              "      fill: #FFFFFF;\n",
              "    }\n",
              "  </style>\n",
              "\n",
              "      <script>\n",
              "        const buttonEl =\n",
              "          document.querySelector('#df-99e4bf2e-a4b6-4b54-845c-5a1ae8581045 button.colab-df-convert');\n",
              "        buttonEl.style.display =\n",
              "          google.colab.kernel.accessAllowed ? 'block' : 'none';\n",
              "\n",
              "        async function convertToInteractive(key) {\n",
              "          const element = document.querySelector('#df-99e4bf2e-a4b6-4b54-845c-5a1ae8581045');\n",
              "          const dataTable =\n",
              "            await google.colab.kernel.invokeFunction('convertToInteractive',\n",
              "                                                     [key], {});\n",
              "          if (!dataTable) return;\n",
              "\n",
              "          const docLinkHtml = 'Like what you see? Visit the ' +\n",
              "            '<a target=\"_blank\" href=https://colab.research.google.com/notebooks/data_table.ipynb>data table notebook</a>'\n",
              "            + ' to learn more about interactive tables.';\n",
              "          element.innerHTML = '';\n",
              "          dataTable['output_type'] = 'display_data';\n",
              "          await google.colab.output.renderOutput(dataTable, element);\n",
              "          const docLink = document.createElement('div');\n",
              "          docLink.innerHTML = docLinkHtml;\n",
              "          element.appendChild(docLink);\n",
              "        }\n",
              "      </script>\n",
              "    </div>\n",
              "  </div>\n",
              "  "
            ]
          },
          "metadata": {},
          "execution_count": 166
        }
      ]
    },
    {
      "cell_type": "markdown",
      "source": [
        "As for Team 61 most of the data are unavailabe so it is better to remove that team from the dataset"
      ],
      "metadata": {
        "id": "zTev2Dwuj3Tl"
      }
    },
    {
      "cell_type": "code",
      "source": [
        "df.drop(60,axis=0,inplace=True)"
      ],
      "metadata": {
        "id": "DYpSV700VP_a"
      },
      "execution_count": null,
      "outputs": []
    },
    {
      "cell_type": "code",
      "source": [
        "df.isnull().sum()"
      ],
      "metadata": {
        "id": "vzSJ9zUDXM1n",
        "colab": {
          "base_uri": "https://localhost:8080/"
        },
        "outputId": "644dc951-d593-4c9c-d4c9-3332cc6dc001"
      },
      "execution_count": null,
      "outputs": [
        {
          "output_type": "execute_result",
          "data": {
            "text/plain": [
              "Team                    0\n",
              "Tournament              0\n",
              "Score                   0\n",
              "PlayedGames             0\n",
              "WonGames                0\n",
              "DrawnGames              0\n",
              "LostGames               0\n",
              "BasketScored            0\n",
              "BasketGiven             0\n",
              "TournamentChampion     51\n",
              "Runner-up              47\n",
              "TeamLaunch              0\n",
              "HighestPositionHeld     0\n",
              "dtype: int64"
            ]
          },
          "metadata": {},
          "execution_count": 168
        }
      ]
    },
    {
      "cell_type": "markdown",
      "source": [
        "For the rest of the team whose 'Tournament champion' and 'runner up' not give, it is better to consider 0 for those team instead of removing those teams data"
      ],
      "metadata": {
        "id": "lXPpnk5RkHGM"
      }
    },
    {
      "cell_type": "code",
      "source": [
        "df.fillna(0,inplace=True)"
      ],
      "metadata": {
        "id": "KtAcm2tEXQTl"
      },
      "execution_count": null,
      "outputs": []
    },
    {
      "cell_type": "code",
      "source": [
        "df.isnull().sum()"
      ],
      "metadata": {
        "id": "tUGkc2pvXcxS",
        "colab": {
          "base_uri": "https://localhost:8080/"
        },
        "outputId": "d74befd3-fab7-4288-d789-1ca829561059"
      },
      "execution_count": null,
      "outputs": [
        {
          "output_type": "execute_result",
          "data": {
            "text/plain": [
              "Team                   0\n",
              "Tournament             0\n",
              "Score                  0\n",
              "PlayedGames            0\n",
              "WonGames               0\n",
              "DrawnGames             0\n",
              "LostGames              0\n",
              "BasketScored           0\n",
              "BasketGiven            0\n",
              "TournamentChampion     0\n",
              "Runner-up              0\n",
              "TeamLaunch             0\n",
              "HighestPositionHeld    0\n",
              "dtype: int64"
            ]
          },
          "metadata": {},
          "execution_count": 170
        }
      ]
    },
    {
      "cell_type": "code",
      "source": [
        "df.info()"
      ],
      "metadata": {
        "id": "BHJ5n4rYXiWd",
        "colab": {
          "base_uri": "https://localhost:8080/"
        },
        "outputId": "7423ac6f-fe04-4064-b039-eba3ac2b0e82"
      },
      "execution_count": null,
      "outputs": [
        {
          "output_type": "stream",
          "name": "stdout",
          "text": [
            "<class 'pandas.core.frame.DataFrame'>\n",
            "Int64Index: 60 entries, 0 to 59\n",
            "Data columns (total 13 columns):\n",
            " #   Column               Non-Null Count  Dtype  \n",
            "---  ------               --------------  -----  \n",
            " 0   Team                 60 non-null     int64  \n",
            " 1   Tournament           60 non-null     int64  \n",
            " 2   Score                60 non-null     float64\n",
            " 3   PlayedGames          60 non-null     float64\n",
            " 4   WonGames             60 non-null     float64\n",
            " 5   DrawnGames           60 non-null     float64\n",
            " 6   LostGames            60 non-null     float64\n",
            " 7   BasketScored         60 non-null     float64\n",
            " 8   BasketGiven          60 non-null     float64\n",
            " 9   TournamentChampion   60 non-null     float64\n",
            " 10  Runner-up            60 non-null     float64\n",
            " 11  TeamLaunch           60 non-null     int64  \n",
            " 12  HighestPositionHeld  60 non-null     int64  \n",
            "dtypes: float64(9), int64(4)\n",
            "memory usage: 6.6 KB\n"
          ]
        }
      ]
    },
    {
      "cell_type": "markdown",
      "source": [
        "Data prepared for analysis"
      ],
      "metadata": {
        "id": "o55bf0xtkqMB"
      }
    },
    {
      "cell_type": "markdown",
      "source": [
        "###2. data visualisation and statistical analysis"
      ],
      "metadata": {
        "id": "q07UyW9Qm_i-"
      }
    },
    {
      "cell_type": "code",
      "source": [
        "df"
      ],
      "metadata": {
        "id": "HI5FnIqGjERp"
      },
      "execution_count": null,
      "outputs": []
    },
    {
      "cell_type": "code",
      "source": [
        "plt.figure(figsize= (18,10))\n",
        "plt.title('Launch date of the teams(year wise)')\n",
        "sns.countplot(data=df, x='TeamLaunch');\n",
        "plt.xticks(rotation=90);"
      ],
      "metadata": {
        "colab": {
          "base_uri": "https://localhost:8080/",
          "height": 637
        },
        "id": "yjD1PS_LH3jj",
        "outputId": "3a8c1019-946b-4f26-e648-84f02202bfeb"
      },
      "execution_count": null,
      "outputs": [
        {
          "output_type": "display_data",
          "data": {
            "text/plain": [
              "<Figure size 1296x720 with 1 Axes>"
            ],
            "image/png": "[encoded data removed]"
          },
          "metadata": {
            "needs_background": "light"
          }
        }
      ]
    },
    {
      "cell_type": "markdown",
      "source": [
        "From the graph it is observed the 1929 is the year from which team starts getting formed and started playing basketball and in 1929 itself 10 teams are formed"
      ],
      "metadata": {
        "id": "ODiKwXxPFd5b"
      }
    },
    {
      "cell_type": "code",
      "source": [
        "plt.figure(figsize= (18,5))\n",
        "plt.title('Boxplot of Wongame')\n",
        "\n",
        "sns.boxplot(data=df, x='WonGames');"
      ],
      "metadata": {
        "colab": {
          "base_uri": "https://localhost:8080/",
          "height": 350
        },
        "id": "vzXjoRTmirAp",
        "outputId": "a565cd50-7504-4c68-ca97-4ae04fd4bac1"
      },
      "execution_count": null,
      "outputs": [
        {
          "output_type": "display_data",
          "data": {
            "text/plain": [
              "<Figure size 1296x360 with 1 Axes>"
            ],
            "image/png": "[encoded data removed]"
          },
          "metadata": {
            "needs_background": "light"
          }
        }
      ]
    },
    {
      "cell_type": "code",
      "source": [
        "df['WonGames'].median()\n"
      ],
      "metadata": {
        "colab": {
          "base_uri": "https://localhost:8080/"
        },
        "id": "eFGh6Ej8FuCs",
        "outputId": "4d73a38b-b3f9-4d72-9ec5-bc2598e07f69"
      },
      "execution_count": null,
      "outputs": [
        {
          "output_type": "execute_result",
          "data": {
            "text/plain": [
              "124.0"
            ]
          },
          "metadata": {},
          "execution_count": 175
        }
      ]
    },
    {
      "cell_type": "code",
      "source": [
        "df[(df['WonGames']>1000)]"
      ],
      "metadata": {
        "id": "LqgzgyKqGEJt",
        "colab": {
          "base_uri": "https://localhost:8080/",
          "height": 268
        },
        "outputId": "f69ccd2e-749c-4cdb-ecdd-e94c8e660444"
      },
      "execution_count": null,
      "outputs": [
        {
          "output_type": "execute_result",
          "data": {
            "text/plain": [
              "   Team  Tournament   Score  PlayedGames  WonGames  DrawnGames  LostGames  \\\n",
              "0     1          86  4385.0       2762.0    1647.0       552.0      563.0   \n",
              "1     2          86  4262.0       2762.0    1581.0       573.0      608.0   \n",
              "2     3          80  3442.0       2614.0    1241.0       598.0      775.0   \n",
              "3     4          82  3386.0       2664.0    1187.0       616.0      861.0   \n",
              "4     5          86  3368.0       2762.0    1209.0       633.0      920.0   \n",
              "\n",
              "   BasketScored  BasketGiven  TournamentChampion  Runner-up  TeamLaunch  \\\n",
              "0        5947.0       3140.0                33.0       23.0        1929   \n",
              "1        5900.0       3114.0                25.0       25.0        1929   \n",
              "2        4534.0       3309.0                10.0        8.0        1929   \n",
              "3        4398.0       3469.0                 6.0        6.0        1931   \n",
              "4        4631.0       3700.0                 8.0        7.0        1929   \n",
              "\n",
              "   HighestPositionHeld  \n",
              "0                    1  \n",
              "1                    1  \n",
              "2                    1  \n",
              "3                    1  \n",
              "4                    1  "
            ],
            "text/html": [
              "\n",
              "  <div id=\"df-8568e329-3e7f-4ece-8ca4-93acd582eb62\">\n",
              "    <div class=\"colab-df-container\">\n",
              "      <div>\n",
              "<style scoped>\n",
              "    .dataframe tbody tr th:only-of-type {\n",
              "        vertical-align: middle;\n",
              "    }\n",
              "\n",
              "    .dataframe tbody tr th {\n",
              "        vertical-align: top;\n",
              "    }\n",
              "\n",
              "    .dataframe thead th {\n",
              "        text-align: right;\n",
              "    }\n",
              "</style>\n",
              "<table border=\"1\" class=\"dataframe\">\n",
              "  <thead>\n",
              "    <tr style=\"text-align: right;\">\n",
              "      <th></th>\n",
              "      <th>Team</th>\n",
              "      <th>Tournament</th>\n",
              "      <th>Score</th>\n",
              "      <th>PlayedGames</th>\n",
              "      <th>WonGames</th>\n",
              "      <th>DrawnGames</th>\n",
              "      <th>LostGames</th>\n",
              "      <th>BasketScored</th>\n",
              "      <th>BasketGiven</th>\n",
              "      <th>TournamentChampion</th>\n",
              "      <th>Runner-up</th>\n",
              "      <th>TeamLaunch</th>\n",
              "      <th>HighestPositionHeld</th>\n",
              "    </tr>\n",
              "  </thead>\n",
              "  <tbody>\n",
              "    <tr>\n",
              "      <th>0</th>\n",
              "      <td>1</td>\n",
              "      <td>86</td>\n",
              "      <td>4385.0</td>\n",
              "      <td>2762.0</td>\n",
              "      <td>1647.0</td>\n",
              "      <td>552.0</td>\n",
              "      <td>563.0</td>\n",
              "      <td>5947.0</td>\n",
              "      <td>3140.0</td>\n",
              "      <td>33.0</td>\n",
              "      <td>23.0</td>\n",
              "      <td>1929</td>\n",
              "      <td>1</td>\n",
              "    </tr>\n",
              "    <tr>\n",
              "      <th>1</th>\n",
              "      <td>2</td>\n",
              "      <td>86</td>\n",
              "      <td>4262.0</td>\n",
              "      <td>2762.0</td>\n",
              "      <td>1581.0</td>\n",
              "      <td>573.0</td>\n",
              "      <td>608.0</td>\n",
              "      <td>5900.0</td>\n",
              "      <td>3114.0</td>\n",
              "      <td>25.0</td>\n",
              "      <td>25.0</td>\n",
              "      <td>1929</td>\n",
              "      <td>1</td>\n",
              "    </tr>\n",
              "    <tr>\n",
              "      <th>2</th>\n",
              "      <td>3</td>\n",
              "      <td>80</td>\n",
              "      <td>3442.0</td>\n",
              "      <td>2614.0</td>\n",
              "      <td>1241.0</td>\n",
              "      <td>598.0</td>\n",
              "      <td>775.0</td>\n",
              "      <td>4534.0</td>\n",
              "      <td>3309.0</td>\n",
              "      <td>10.0</td>\n",
              "      <td>8.0</td>\n",
              "      <td>1929</td>\n",
              "      <td>1</td>\n",
              "    </tr>\n",
              "    <tr>\n",
              "      <th>3</th>\n",
              "      <td>4</td>\n",
              "      <td>82</td>\n",
              "      <td>3386.0</td>\n",
              "      <td>2664.0</td>\n",
              "      <td>1187.0</td>\n",
              "      <td>616.0</td>\n",
              "      <td>861.0</td>\n",
              "      <td>4398.0</td>\n",
              "      <td>3469.0</td>\n",
              "      <td>6.0</td>\n",
              "      <td>6.0</td>\n",
              "      <td>1931</td>\n",
              "      <td>1</td>\n",
              "    </tr>\n",
              "    <tr>\n",
              "      <th>4</th>\n",
              "      <td>5</td>\n",
              "      <td>86</td>\n",
              "      <td>3368.0</td>\n",
              "      <td>2762.0</td>\n",
              "      <td>1209.0</td>\n",
              "      <td>633.0</td>\n",
              "      <td>920.0</td>\n",
              "      <td>4631.0</td>\n",
              "      <td>3700.0</td>\n",
              "      <td>8.0</td>\n",
              "      <td>7.0</td>\n",
              "      <td>1929</td>\n",
              "      <td>1</td>\n",
              "    </tr>\n",
              "  </tbody>\n",
              "</table>\n",
              "</div>\n",
              "      <button class=\"colab-df-convert\" onclick=\"convertToInteractive('df-8568e329-3e7f-4ece-8ca4-93acd582eb62')\"\n",
              "              title=\"Convert this dataframe to an interactive table.\"\n",
              "              style=\"display:none;\">\n",
              "        \n",
              "  <svg xmlns=\"http://www.w3.org/2000/svg\" height=\"24px\"viewBox=\"0 0 24 24\"\n",
              "       width=\"24px\">\n",
              "    <path d=\"M0 0h24v24H0V0z\" fill=\"none\"/>\n",
              "    <path d=\"M18.56 5.44l.94 2.06.94-2.06 2.06-.94-2.06-.94-.94-2.06-.94 2.06-2.06.94zm-11 1L8.5 8.5l.94-2.06 2.06-.94-2.06-.94L8.5 2.5l-.94 2.06-2.06.94zm10 10l.94 2.06.94-2.06 2.06-.94-2.06-.94-.94-2.06-.94 2.06-2.06.94z\"/><path d=\"M17.41 7.96l-1.37-1.37c-.4-.4-.92-.59-1.43-.59-.52 0-1.04.2-1.43.59L10.3 9.45l-7.72 7.72c-.78.78-.78 2.05 0 2.83L4 21.41c.39.39.9.59 1.41.59.51 0 1.02-.2 1.41-.59l7.78-7.78 2.81-2.81c.8-.78.8-2.07 0-2.86zM5.41 20L4 18.59l7.72-7.72 1.47 1.35L5.41 20z\"/>\n",
              "  </svg>\n",
              "      </button>\n",
              "      \n",
              "  <style>\n",
              "    .colab-df-container {\n",
              "      display:flex;\n",
              "      flex-wrap:wrap;\n",
              "      gap: 12px;\n",
              "    }\n",
              "\n",
              "    .colab-df-convert {\n",
              "      background-color: #E8F0FE;\n",
              "      border: none;\n",
              "      border-radius: 50%;\n",
              "      cursor: pointer;\n",
              "      display: none;\n",
              "      fill: #1967D2;\n",
              "      height: 32px;\n",
              "      padding: 0 0 0 0;\n",
              "      width: 32px;\n",
              "    }\n",
              "\n",
              "    .colab-df-convert:hover {\n",
              "      background-color: #E2EBFA;\n",
              "      box-shadow: 0px 1px 2px rgba(60, 64, 67, 0.3), 0px 1px 3px 1px rgba(60, 64, 67, 0.15);\n",
              "      fill: #174EA6;\n",
              "    }\n",
              "\n",
              "    [theme=dark] .colab-df-convert {\n",
              "      background-color: #3B4455;\n",
              "      fill: #D2E3FC;\n",
              "    }\n",
              "\n",
              "    [theme=dark] .colab-df-convert:hover {\n",
              "      background-color: #434B5C;\n",
              "      box-shadow: 0px 1px 3px 1px rgba(0, 0, 0, 0.15);\n",
              "      filter: drop-shadow(0px 1px 2px rgba(0, 0, 0, 0.3));\n",
              "      fill: #FFFFFF;\n",
              "    }\n",
              "  </style>\n",
              "\n",
              "      <script>\n",
              "        const buttonEl =\n",
              "          document.querySelector('#df-8568e329-3e7f-4ece-8ca4-93acd582eb62 button.colab-df-convert');\n",
              "        buttonEl.style.display =\n",
              "          google.colab.kernel.accessAllowed ? 'block' : 'none';\n",
              "\n",
              "        async function convertToInteractive(key) {\n",
              "          const element = document.querySelector('#df-8568e329-3e7f-4ece-8ca4-93acd582eb62');\n",
              "          const dataTable =\n",
              "            await google.colab.kernel.invokeFunction('convertToInteractive',\n",
              "                                                     [key], {});\n",
              "          if (!dataTable) return;\n",
              "\n",
              "          const docLinkHtml = 'Like what you see? Visit the ' +\n",
              "            '<a target=\"_blank\" href=https://colab.research.google.com/notebooks/data_table.ipynb>data table notebook</a>'\n",
              "            + ' to learn more about interactive tables.';\n",
              "          element.innerHTML = '';\n",
              "          dataTable['output_type'] = 'display_data';\n",
              "          await google.colab.output.renderOutput(dataTable, element);\n",
              "          const docLink = document.createElement('div');\n",
              "          docLink.innerHTML = docLinkHtml;\n",
              "          element.appendChild(docLink);\n",
              "        }\n",
              "      </script>\n",
              "    </div>\n",
              "  </div>\n",
              "  "
            ]
          },
          "metadata": {},
          "execution_count": 176
        }
      ]
    },
    {
      "cell_type": "markdown",
      "source": [
        "Average of 124 games are won by most of the teams and there are also some teams having high WonGames number"
      ],
      "metadata": {
        "id": "f6R4mKW3GRw-"
      }
    },
    {
      "cell_type": "code",
      "source": [
        "plt.figure(figsize= (18,5))\n",
        "plt.title('Boxplot of PlayedGames')\n",
        "sns.boxplot(data=df, x='PlayedGames')"
      ],
      "metadata": {
        "colab": {
          "base_uri": "https://localhost:8080/",
          "height": 367
        },
        "id": "sJLje8Fdj3DE",
        "outputId": "4a03d32c-b86e-4dca-81bd-95fa2d5c5fc5"
      },
      "execution_count": null,
      "outputs": [
        {
          "output_type": "execute_result",
          "data": {
            "text/plain": [
              "<matplotlib.axes._subplots.AxesSubplot at 0x7f246f69c0d0>"
            ]
          },
          "metadata": {},
          "execution_count": 177
        },
        {
          "output_type": "display_data",
          "data": {
            "text/plain": [
              "<Figure size 1296x360 with 1 Axes>"
            ],
            "image/png": "[encoded data removed]"
          },
          "metadata": {
            "needs_background": "light"
          }
        }
      ]
    },
    {
      "cell_type": "code",
      "source": [
        "df['PlayedGames'].median()"
      ],
      "metadata": {
        "colab": {
          "base_uri": "https://localhost:8080/"
        },
        "id": "cFuBdxx1G1h1",
        "outputId": "1699646c-4d0b-473b-a765-53f59ddfa009"
      },
      "execution_count": null,
      "outputs": [
        {
          "output_type": "execute_result",
          "data": {
            "text/plain": [
              "424.5"
            ]
          },
          "metadata": {},
          "execution_count": 178
        }
      ]
    },
    {
      "cell_type": "markdown",
      "source": [
        "It is clear from the data that average of 424 games have been played by more then 50% of the team"
      ],
      "metadata": {
        "id": "HFizaZn0G_5U"
      }
    },
    {
      "cell_type": "code",
      "source": [
        "plt.title('Scatterplot of PlayedGames vs Wongames')\n",
        "sns.scatterplot(data=df,x='PlayedGames',y='WonGames');"
      ],
      "metadata": {
        "colab": {
          "base_uri": "https://localhost:8080/",
          "height": 295
        },
        "id": "HKPg0mePkX2a",
        "outputId": "10945c97-47e0-4783-e1ed-d59e0d77e2fb"
      },
      "execution_count": null,
      "outputs": [
        {
          "output_type": "display_data",
          "data": {
            "text/plain": [
              "<Figure size 432x288 with 1 Axes>"
            ],
            "image/png": "[encoded data removed]"
          },
          "metadata": {
            "needs_background": "light"
          }
        }
      ]
    },
    {
      "cell_type": "markdown",
      "source": [
        "It is clear from the graph than wongame is highly corelated with the number of Games played by the team."
      ],
      "metadata": {
        "id": "DzSLfd4tHVnc"
      }
    },
    {
      "cell_type": "code",
      "source": [
        "\n",
        "plt.figure(figsize= (18,10))\n",
        "plt.title('Lineplot of Teams vs basketscored')\n",
        "plt.xlim(0,70)\n",
        "sns.lineplot(data= df , x = 'Team' , y = 'BasketScored', markers = True);"
      ],
      "metadata": {
        "colab": {
          "base_uri": "https://localhost:8080/",
          "height": 621
        },
        "id": "hTsIdLtbLny8",
        "outputId": "71a31af1-39b7-4392-b592-3827dd629d4a"
      },
      "execution_count": null,
      "outputs": [
        {
          "output_type": "display_data",
          "data": {
            "text/plain": [
              "<Figure size 1296x720 with 1 Axes>"
            ],
            "image/png": "[encoded data removed]"
          },
          "metadata": {
            "needs_background": "light"
          }
        }
      ]
    },
    {
      "cell_type": "markdown",
      "source": [
        "It is observed from the graph that Top 10 teams have the highest number of basket scored."
      ],
      "metadata": {
        "id": "r0rm6MAgH87E"
      }
    },
    {
      "cell_type": "code",
      "source": [
        "plt.title('Scatterlot of Basketgiven vs basketscored')\n",
        "sns.scatterplot(data=df, x='BasketScored', y='BasketGiven');\n",
        "\n"
      ],
      "metadata": {
        "colab": {
          "base_uri": "https://localhost:8080/",
          "height": 295
        },
        "id": "3QQKOo9ONjKJ",
        "outputId": "f2a2bc53-ac73-40f3-c680-04344cff9e21"
      },
      "execution_count": null,
      "outputs": [
        {
          "output_type": "display_data",
          "data": {
            "text/plain": [
              "<Figure size 432x288 with 1 Axes>"
            ],
            "image/png": "[encoded data removed]"
          },
          "metadata": {
            "needs_background": "light"
          }
        }
      ]
    },
    {
      "cell_type": "code",
      "source": [
        "df[df['BasketScored']>3000]"
      ],
      "metadata": {
        "colab": {
          "base_uri": "https://localhost:8080/",
          "height": 362
        },
        "id": "eZFokKUaPIvS",
        "outputId": "f8e2bd3a-c90d-4bc4-dcda-a49682553018"
      },
      "execution_count": null,
      "outputs": [
        {
          "output_type": "execute_result",
          "data": {
            "text/plain": [
              "   Team  Tournament   Score  PlayedGames  WonGames  DrawnGames  LostGames  \\\n",
              "0     1          86  4385.0       2762.0    1647.0       552.0      563.0   \n",
              "1     2          86  4262.0       2762.0    1581.0       573.0      608.0   \n",
              "2     3          80  3442.0       2614.0    1241.0       598.0      775.0   \n",
              "3     4          82  3386.0       2664.0    1187.0       616.0      861.0   \n",
              "4     5          86  3368.0       2762.0    1209.0       633.0      920.0   \n",
              "5     6          73  2819.0       2408.0     990.0       531.0      887.0   \n",
              "6     7          82  2792.0       2626.0     948.0       608.0     1070.0   \n",
              "7     8          70  2573.0       2302.0     864.0       577.0      861.0   \n",
              "\n",
              "   BasketScored  BasketGiven  TournamentChampion  Runner-up  TeamLaunch  \\\n",
              "0        5947.0       3140.0                33.0       23.0        1929   \n",
              "1        5900.0       3114.0                25.0       25.0        1929   \n",
              "2        4534.0       3309.0                10.0        8.0        1929   \n",
              "3        4398.0       3469.0                 6.0        6.0        1931   \n",
              "4        4631.0       3700.0                 8.0        7.0        1929   \n",
              "5        3680.0       3373.0                 1.0        4.0        1934   \n",
              "6        3609.0       3889.0                 0.0        0.0        1929   \n",
              "7        3228.0       3230.0                 2.0        3.0        1929   \n",
              "\n",
              "   HighestPositionHeld  \n",
              "0                    1  \n",
              "1                    1  \n",
              "2                    1  \n",
              "3                    1  \n",
              "4                    1  \n",
              "5                    1  \n",
              "6                    3  \n",
              "7                    1  "
            ],
            "text/html": [
              "\n",
              "  <div id=\"df-60996d40-0b8e-4c94-823a-9fe8b63f8733\">\n",
              "    <div class=\"colab-df-container\">\n",
              "      <div>\n",
              "<style scoped>\n",
              "    .dataframe tbody tr th:only-of-type {\n",
              "        vertical-align: middle;\n",
              "    }\n",
              "\n",
              "    .dataframe tbody tr th {\n",
              "        vertical-align: top;\n",
              "    }\n",
              "\n",
              "    .dataframe thead th {\n",
              "        text-align: right;\n",
              "    }\n",
              "</style>\n",
              "<table border=\"1\" class=\"dataframe\">\n",
              "  <thead>\n",
              "    <tr style=\"text-align: right;\">\n",
              "      <th></th>\n",
              "      <th>Team</th>\n",
              "      <th>Tournament</th>\n",
              "      <th>Score</th>\n",
              "      <th>PlayedGames</th>\n",
              "      <th>WonGames</th>\n",
              "      <th>DrawnGames</th>\n",
              "      <th>LostGames</th>\n",
              "      <th>BasketScored</th>\n",
              "      <th>BasketGiven</th>\n",
              "      <th>TournamentChampion</th>\n",
              "      <th>Runner-up</th>\n",
              "      <th>TeamLaunch</th>\n",
              "      <th>HighestPositionHeld</th>\n",
              "    </tr>\n",
              "  </thead>\n",
              "  <tbody>\n",
              "    <tr>\n",
              "      <th>0</th>\n",
              "      <td>1</td>\n",
              "      <td>86</td>\n",
              "      <td>4385.0</td>\n",
              "      <td>2762.0</td>\n",
              "      <td>1647.0</td>\n",
              "      <td>552.0</td>\n",
              "      <td>563.0</td>\n",
              "      <td>5947.0</td>\n",
              "      <td>3140.0</td>\n",
              "      <td>33.0</td>\n",
              "      <td>23.0</td>\n",
              "      <td>1929</td>\n",
              "      <td>1</td>\n",
              "    </tr>\n",
              "    <tr>\n",
              "      <th>1</th>\n",
              "      <td>2</td>\n",
              "      <td>86</td>\n",
              "      <td>4262.0</td>\n",
              "      <td>2762.0</td>\n",
              "      <td>1581.0</td>\n",
              "      <td>573.0</td>\n",
              "      <td>608.0</td>\n",
              "      <td>5900.0</td>\n",
              "      <td>3114.0</td>\n",
              "      <td>25.0</td>\n",
              "      <td>25.0</td>\n",
              "      <td>1929</td>\n",
              "      <td>1</td>\n",
              "    </tr>\n",
              "    <tr>\n",
              "      <th>2</th>\n",
              "      <td>3</td>\n",
              "      <td>80</td>\n",
              "      <td>3442.0</td>\n",
              "      <td>2614.0</td>\n",
              "      <td>1241.0</td>\n",
              "      <td>598.0</td>\n",
              "      <td>775.0</td>\n",
              "      <td>4534.0</td>\n",
              "      <td>3309.0</td>\n",
              "      <td>10.0</td>\n",
              "      <td>8.0</td>\n",
              "      <td>1929</td>\n",
              "      <td>1</td>\n",
              "    </tr>\n",
              "    <tr>\n",
              "      <th>3</th>\n",
              "      <td>4</td>\n",
              "      <td>82</td>\n",
              "      <td>3386.0</td>\n",
              "      <td>2664.0</td>\n",
              "      <td>1187.0</td>\n",
              "      <td>616.0</td>\n",
              "      <td>861.0</td>\n",
              "      <td>4398.0</td>\n",
              "      <td>3469.0</td>\n",
              "      <td>6.0</td>\n",
              "      <td>6.0</td>\n",
              "      <td>1931</td>\n",
              "      <td>1</td>\n",
              "    </tr>\n",
              "    <tr>\n",
              "      <th>4</th>\n",
              "      <td>5</td>\n",
              "      <td>86</td>\n",
              "      <td>3368.0</td>\n",
              "      <td>2762.0</td>\n",
              "      <td>1209.0</td>\n",
              "      <td>633.0</td>\n",
              "      <td>920.0</td>\n",
              "      <td>4631.0</td>\n",
              "      <td>3700.0</td>\n",
              "      <td>8.0</td>\n",
              "      <td>7.0</td>\n",
              "      <td>1929</td>\n",
              "      <td>1</td>\n",
              "    </tr>\n",
              "    <tr>\n",
              "      <th>5</th>\n",
              "      <td>6</td>\n",
              "      <td>73</td>\n",
              "      <td>2819.0</td>\n",
              "      <td>2408.0</td>\n",
              "      <td>990.0</td>\n",
              "      <td>531.0</td>\n",
              "      <td>887.0</td>\n",
              "      <td>3680.0</td>\n",
              "      <td>3373.0</td>\n",
              "      <td>1.0</td>\n",
              "      <td>4.0</td>\n",
              "      <td>1934</td>\n",
              "      <td>1</td>\n",
              "    </tr>\n",
              "    <tr>\n",
              "      <th>6</th>\n",
              "      <td>7</td>\n",
              "      <td>82</td>\n",
              "      <td>2792.0</td>\n",
              "      <td>2626.0</td>\n",
              "      <td>948.0</td>\n",
              "      <td>608.0</td>\n",
              "      <td>1070.0</td>\n",
              "      <td>3609.0</td>\n",
              "      <td>3889.0</td>\n",
              "      <td>0.0</td>\n",
              "      <td>0.0</td>\n",
              "      <td>1929</td>\n",
              "      <td>3</td>\n",
              "    </tr>\n",
              "    <tr>\n",
              "      <th>7</th>\n",
              "      <td>8</td>\n",
              "      <td>70</td>\n",
              "      <td>2573.0</td>\n",
              "      <td>2302.0</td>\n",
              "      <td>864.0</td>\n",
              "      <td>577.0</td>\n",
              "      <td>861.0</td>\n",
              "      <td>3228.0</td>\n",
              "      <td>3230.0</td>\n",
              "      <td>2.0</td>\n",
              "      <td>3.0</td>\n",
              "      <td>1929</td>\n",
              "      <td>1</td>\n",
              "    </tr>\n",
              "  </tbody>\n",
              "</table>\n",
              "</div>\n",
              "      <button class=\"colab-df-convert\" onclick=\"convertToInteractive('df-60996d40-0b8e-4c94-823a-9fe8b63f8733')\"\n",
              "              title=\"Convert this dataframe to an interactive table.\"\n",
              "              style=\"display:none;\">\n",
              "        \n",
              "  <svg xmlns=\"http://www.w3.org/2000/svg\" height=\"24px\"viewBox=\"0 0 24 24\"\n",
              "       width=\"24px\">\n",
              "    <path d=\"M0 0h24v24H0V0z\" fill=\"none\"/>\n",
              "    <path d=\"M18.56 5.44l.94 2.06.94-2.06 2.06-.94-2.06-.94-.94-2.06-.94 2.06-2.06.94zm-11 1L8.5 8.5l.94-2.06 2.06-.94-2.06-.94L8.5 2.5l-.94 2.06-2.06.94zm10 10l.94 2.06.94-2.06 2.06-.94-2.06-.94-.94-2.06-.94 2.06-2.06.94z\"/><path d=\"M17.41 7.96l-1.37-1.37c-.4-.4-.92-.59-1.43-.59-.52 0-1.04.2-1.43.59L10.3 9.45l-7.72 7.72c-.78.78-.78 2.05 0 2.83L4 21.41c.39.39.9.59 1.41.59.51 0 1.02-.2 1.41-.59l7.78-7.78 2.81-2.81c.8-.78.8-2.07 0-2.86zM5.41 20L4 18.59l7.72-7.72 1.47 1.35L5.41 20z\"/>\n",
              "  </svg>\n",
              "      </button>\n",
              "      \n",
              "  <style>\n",
              "    .colab-df-container {\n",
              "      display:flex;\n",
              "      flex-wrap:wrap;\n",
              "      gap: 12px;\n",
              "    }\n",
              "\n",
              "    .colab-df-convert {\n",
              "      background-color: #E8F0FE;\n",
              "      border: none;\n",
              "      border-radius: 50%;\n",
              "      cursor: pointer;\n",
              "      display: none;\n",
              "      fill: #1967D2;\n",
              "      height: 32px;\n",
              "      padding: 0 0 0 0;\n",
              "      width: 32px;\n",
              "    }\n",
              "\n",
              "    .colab-df-convert:hover {\n",
              "      background-color: #E2EBFA;\n",
              "      box-shadow: 0px 1px 2px rgba(60, 64, 67, 0.3), 0px 1px 3px 1px rgba(60, 64, 67, 0.15);\n",
              "      fill: #174EA6;\n",
              "    }\n",
              "\n",
              "    [theme=dark] .colab-df-convert {\n",
              "      background-color: #3B4455;\n",
              "      fill: #D2E3FC;\n",
              "    }\n",
              "\n",
              "    [theme=dark] .colab-df-convert:hover {\n",
              "      background-color: #434B5C;\n",
              "      box-shadow: 0px 1px 3px 1px rgba(0, 0, 0, 0.15);\n",
              "      filter: drop-shadow(0px 1px 2px rgba(0, 0, 0, 0.3));\n",
              "      fill: #FFFFFF;\n",
              "    }\n",
              "  </style>\n",
              "\n",
              "      <script>\n",
              "        const buttonEl =\n",
              "          document.querySelector('#df-60996d40-0b8e-4c94-823a-9fe8b63f8733 button.colab-df-convert');\n",
              "        buttonEl.style.display =\n",
              "          google.colab.kernel.accessAllowed ? 'block' : 'none';\n",
              "\n",
              "        async function convertToInteractive(key) {\n",
              "          const element = document.querySelector('#df-60996d40-0b8e-4c94-823a-9fe8b63f8733');\n",
              "          const dataTable =\n",
              "            await google.colab.kernel.invokeFunction('convertToInteractive',\n",
              "                                                     [key], {});\n",
              "          if (!dataTable) return;\n",
              "\n",
              "          const docLinkHtml = 'Like what you see? Visit the ' +\n",
              "            '<a target=\"_blank\" href=https://colab.research.google.com/notebooks/data_table.ipynb>data table notebook</a>'\n",
              "            + ' to learn more about interactive tables.';\n",
              "          element.innerHTML = '';\n",
              "          dataTable['output_type'] = 'display_data';\n",
              "          await google.colab.output.renderOutput(dataTable, element);\n",
              "          const docLink = document.createElement('div');\n",
              "          docLink.innerHTML = docLinkHtml;\n",
              "          element.appendChild(docLink);\n",
              "        }\n",
              "      </script>\n",
              "    </div>\n",
              "  </div>\n",
              "  "
            ]
          },
          "metadata": {},
          "execution_count": 182
        }
      ]
    },
    {
      "cell_type": "markdown",
      "source": [
        "As it is observed from the graph that top 7 teams having basket scored number greater than the basket given which will have a positive impact on the performance of the team"
      ],
      "metadata": {
        "id": "0PfRYuCRI3iw"
      }
    },
    {
      "cell_type": "code",
      "source": [
        "plt.title('Scatterplot of PlayedGames vs basketscored')\n",
        "sns.scatterplot(data=df, x='BasketScored', y='PlayedGames');\n"
      ],
      "metadata": {
        "colab": {
          "base_uri": "https://localhost:8080/",
          "height": 295
        },
        "id": "d36uzo06PJSp",
        "outputId": "fc177227-2a13-44df-e350-9c38c5ca1005"
      },
      "execution_count": null,
      "outputs": [
        {
          "output_type": "display_data",
          "data": {
            "text/plain": [
              "<Figure size 432x288 with 1 Axes>"
            ],
            "image/png": "[encoded data removed]"
          },
          "metadata": {
            "needs_background": "light"
          }
        }
      ]
    },
    {
      "cell_type": "markdown",
      "source": [
        "As it is observed from the graph that the basket scored by a team is highly corelated with the number of games played"
      ],
      "metadata": {
        "id": "tSdUKF3NKsYj"
      }
    },
    {
      "cell_type": "code",
      "source": [
        "plt.title('Scatterplot of LostGames vs Wongames')\n",
        "sns.scatterplot(data=df, x='WonGames', y='LostGames');"
      ],
      "metadata": {
        "colab": {
          "base_uri": "https://localhost:8080/",
          "height": 295
        },
        "id": "1dvHoU0OQaGp",
        "outputId": "cfdbbe1f-94b4-406b-ef88-7ce1adc7c61c"
      },
      "execution_count": null,
      "outputs": [
        {
          "output_type": "display_data",
          "data": {
            "text/plain": [
              "<Figure size 432x288 with 1 Axes>"
            ],
            "image/png": "[encoded data removed]"
          },
          "metadata": {
            "needs_background": "light"
          }
        }
      ]
    },
    {
      "cell_type": "code",
      "source": [
        "df[(df['WonGames']>1000)]"
      ],
      "metadata": {
        "colab": {
          "base_uri": "https://localhost:8080/",
          "height": 268
        },
        "id": "AH3yzNoyQv52",
        "outputId": "3d3c1a7a-611e-4a87-cf33-c5f91f7f4641"
      },
      "execution_count": null,
      "outputs": [
        {
          "output_type": "execute_result",
          "data": {
            "text/plain": [
              "   Team  Tournament   Score  PlayedGames  WonGames  DrawnGames  LostGames  \\\n",
              "0     1          86  4385.0       2762.0    1647.0       552.0      563.0   \n",
              "1     2          86  4262.0       2762.0    1581.0       573.0      608.0   \n",
              "2     3          80  3442.0       2614.0    1241.0       598.0      775.0   \n",
              "3     4          82  3386.0       2664.0    1187.0       616.0      861.0   \n",
              "4     5          86  3368.0       2762.0    1209.0       633.0      920.0   \n",
              "\n",
              "   BasketScored  BasketGiven  TournamentChampion  Runner-up  TeamLaunch  \\\n",
              "0        5947.0       3140.0                33.0       23.0        1929   \n",
              "1        5900.0       3114.0                25.0       25.0        1929   \n",
              "2        4534.0       3309.0                10.0        8.0        1929   \n",
              "3        4398.0       3469.0                 6.0        6.0        1931   \n",
              "4        4631.0       3700.0                 8.0        7.0        1929   \n",
              "\n",
              "   HighestPositionHeld  \n",
              "0                    1  \n",
              "1                    1  \n",
              "2                    1  \n",
              "3                    1  \n",
              "4                    1  "
            ],
            "text/html": [
              "\n",
              "  <div id=\"df-cb43156e-b2b9-457b-afb3-87d8f9122b83\">\n",
              "    <div class=\"colab-df-container\">\n",
              "      <div>\n",
              "<style scoped>\n",
              "    .dataframe tbody tr th:only-of-type {\n",
              "        vertical-align: middle;\n",
              "    }\n",
              "\n",
              "    .dataframe tbody tr th {\n",
              "        vertical-align: top;\n",
              "    }\n",
              "\n",
              "    .dataframe thead th {\n",
              "        text-align: right;\n",
              "    }\n",
              "</style>\n",
              "<table border=\"1\" class=\"dataframe\">\n",
              "  <thead>\n",
              "    <tr style=\"text-align: right;\">\n",
              "      <th></th>\n",
              "      <th>Team</th>\n",
              "      <th>Tournament</th>\n",
              "      <th>Score</th>\n",
              "      <th>PlayedGames</th>\n",
              "      <th>WonGames</th>\n",
              "      <th>DrawnGames</th>\n",
              "      <th>LostGames</th>\n",
              "      <th>BasketScored</th>\n",
              "      <th>BasketGiven</th>\n",
              "      <th>TournamentChampion</th>\n",
              "      <th>Runner-up</th>\n",
              "      <th>TeamLaunch</th>\n",
              "      <th>HighestPositionHeld</th>\n",
              "    </tr>\n",
              "  </thead>\n",
              "  <tbody>\n",
              "    <tr>\n",
              "      <th>0</th>\n",
              "      <td>1</td>\n",
              "      <td>86</td>\n",
              "      <td>4385.0</td>\n",
              "      <td>2762.0</td>\n",
              "      <td>1647.0</td>\n",
              "      <td>552.0</td>\n",
              "      <td>563.0</td>\n",
              "      <td>5947.0</td>\n",
              "      <td>3140.0</td>\n",
              "      <td>33.0</td>\n",
              "      <td>23.0</td>\n",
              "      <td>1929</td>\n",
              "      <td>1</td>\n",
              "    </tr>\n",
              "    <tr>\n",
              "      <th>1</th>\n",
              "      <td>2</td>\n",
              "      <td>86</td>\n",
              "      <td>4262.0</td>\n",
              "      <td>2762.0</td>\n",
              "      <td>1581.0</td>\n",
              "      <td>573.0</td>\n",
              "      <td>608.0</td>\n",
              "      <td>5900.0</td>\n",
              "      <td>3114.0</td>\n",
              "      <td>25.0</td>\n",
              "      <td>25.0</td>\n",
              "      <td>1929</td>\n",
              "      <td>1</td>\n",
              "    </tr>\n",
              "    <tr>\n",
              "      <th>2</th>\n",
              "      <td>3</td>\n",
              "      <td>80</td>\n",
              "      <td>3442.0</td>\n",
              "      <td>2614.0</td>\n",
              "      <td>1241.0</td>\n",
              "      <td>598.0</td>\n",
              "      <td>775.0</td>\n",
              "      <td>4534.0</td>\n",
              "      <td>3309.0</td>\n",
              "      <td>10.0</td>\n",
              "      <td>8.0</td>\n",
              "      <td>1929</td>\n",
              "      <td>1</td>\n",
              "    </tr>\n",
              "    <tr>\n",
              "      <th>3</th>\n",
              "      <td>4</td>\n",
              "      <td>82</td>\n",
              "      <td>3386.0</td>\n",
              "      <td>2664.0</td>\n",
              "      <td>1187.0</td>\n",
              "      <td>616.0</td>\n",
              "      <td>861.0</td>\n",
              "      <td>4398.0</td>\n",
              "      <td>3469.0</td>\n",
              "      <td>6.0</td>\n",
              "      <td>6.0</td>\n",
              "      <td>1931</td>\n",
              "      <td>1</td>\n",
              "    </tr>\n",
              "    <tr>\n",
              "      <th>4</th>\n",
              "      <td>5</td>\n",
              "      <td>86</td>\n",
              "      <td>3368.0</td>\n",
              "      <td>2762.0</td>\n",
              "      <td>1209.0</td>\n",
              "      <td>633.0</td>\n",
              "      <td>920.0</td>\n",
              "      <td>4631.0</td>\n",
              "      <td>3700.0</td>\n",
              "      <td>8.0</td>\n",
              "      <td>7.0</td>\n",
              "      <td>1929</td>\n",
              "      <td>1</td>\n",
              "    </tr>\n",
              "  </tbody>\n",
              "</table>\n",
              "</div>\n",
              "      <button class=\"colab-df-convert\" onclick=\"convertToInteractive('df-cb43156e-b2b9-457b-afb3-87d8f9122b83')\"\n",
              "              title=\"Convert this dataframe to an interactive table.\"\n",
              "              style=\"display:none;\">\n",
              "        \n",
              "  <svg xmlns=\"http://www.w3.org/2000/svg\" height=\"24px\"viewBox=\"0 0 24 24\"\n",
              "       width=\"24px\">\n",
              "    <path d=\"M0 0h24v24H0V0z\" fill=\"none\"/>\n",
              "    <path d=\"M18.56 5.44l.94 2.06.94-2.06 2.06-.94-2.06-.94-.94-2.06-.94 2.06-2.06.94zm-11 1L8.5 8.5l.94-2.06 2.06-.94-2.06-.94L8.5 2.5l-.94 2.06-2.06.94zm10 10l.94 2.06.94-2.06 2.06-.94-2.06-.94-.94-2.06-.94 2.06-2.06.94z\"/><path d=\"M17.41 7.96l-1.37-1.37c-.4-.4-.92-.59-1.43-.59-.52 0-1.04.2-1.43.59L10.3 9.45l-7.72 7.72c-.78.78-.78 2.05 0 2.83L4 21.41c.39.39.9.59 1.41.59.51 0 1.02-.2 1.41-.59l7.78-7.78 2.81-2.81c.8-.78.8-2.07 0-2.86zM5.41 20L4 18.59l7.72-7.72 1.47 1.35L5.41 20z\"/>\n",
              "  </svg>\n",
              "      </button>\n",
              "      \n",
              "  <style>\n",
              "    .colab-df-container {\n",
              "      display:flex;\n",
              "      flex-wrap:wrap;\n",
              "      gap: 12px;\n",
              "    }\n",
              "\n",
              "    .colab-df-convert {\n",
              "      background-color: #E8F0FE;\n",
              "      border: none;\n",
              "      border-radius: 50%;\n",
              "      cursor: pointer;\n",
              "      display: none;\n",
              "      fill: #1967D2;\n",
              "      height: 32px;\n",
              "      padding: 0 0 0 0;\n",
              "      width: 32px;\n",
              "    }\n",
              "\n",
              "    .colab-df-convert:hover {\n",
              "      background-color: #E2EBFA;\n",
              "      box-shadow: 0px 1px 2px rgba(60, 64, 67, 0.3), 0px 1px 3px 1px rgba(60, 64, 67, 0.15);\n",
              "      fill: #174EA6;\n",
              "    }\n",
              "\n",
              "    [theme=dark] .colab-df-convert {\n",
              "      background-color: #3B4455;\n",
              "      fill: #D2E3FC;\n",
              "    }\n",
              "\n",
              "    [theme=dark] .colab-df-convert:hover {\n",
              "      background-color: #434B5C;\n",
              "      box-shadow: 0px 1px 3px 1px rgba(0, 0, 0, 0.15);\n",
              "      filter: drop-shadow(0px 1px 2px rgba(0, 0, 0, 0.3));\n",
              "      fill: #FFFFFF;\n",
              "    }\n",
              "  </style>\n",
              "\n",
              "      <script>\n",
              "        const buttonEl =\n",
              "          document.querySelector('#df-cb43156e-b2b9-457b-afb3-87d8f9122b83 button.colab-df-convert');\n",
              "        buttonEl.style.display =\n",
              "          google.colab.kernel.accessAllowed ? 'block' : 'none';\n",
              "\n",
              "        async function convertToInteractive(key) {\n",
              "          const element = document.querySelector('#df-cb43156e-b2b9-457b-afb3-87d8f9122b83');\n",
              "          const dataTable =\n",
              "            await google.colab.kernel.invokeFunction('convertToInteractive',\n",
              "                                                     [key], {});\n",
              "          if (!dataTable) return;\n",
              "\n",
              "          const docLinkHtml = 'Like what you see? Visit the ' +\n",
              "            '<a target=\"_blank\" href=https://colab.research.google.com/notebooks/data_table.ipynb>data table notebook</a>'\n",
              "            + ' to learn more about interactive tables.';\n",
              "          element.innerHTML = '';\n",
              "          dataTable['output_type'] = 'display_data';\n",
              "          await google.colab.output.renderOutput(dataTable, element);\n",
              "          const docLink = document.createElement('div');\n",
              "          docLink.innerHTML = docLinkHtml;\n",
              "          element.appendChild(docLink);\n",
              "        }\n",
              "      </script>\n",
              "    </div>\n",
              "  </div>\n",
              "  "
            ]
          },
          "metadata": {},
          "execution_count": 185
        }
      ]
    },
    {
      "cell_type": "markdown",
      "source": [
        "As it is observed from the graph that top 5 teams have the highest win number compare to the lost, Hence should be considered more for investment compared to another teams"
      ],
      "metadata": {
        "id": "ttI3ncoDLFQw"
      }
    },
    {
      "cell_type": "code",
      "source": [
        "\n",
        "sns.lmplot(data=df, x='TeamLaunch', y='DrawnGames');"
      ],
      "metadata": {
        "colab": {
          "base_uri": "https://localhost:8080/",
          "height": 369
        },
        "id": "a_sd6KDrQ-a5",
        "outputId": "a2463ff7-adfb-4517-ac31-bfc893f861db"
      },
      "execution_count": null,
      "outputs": [
        {
          "output_type": "display_data",
          "data": {
            "text/plain": [
              "<Figure size 360x360 with 1 Axes>"
            ],
            "image/png": "[encoded data removed]"
          },
          "metadata": {
            "needs_background": "light"
          }
        }
      ]
    },
    {
      "cell_type": "markdown",
      "source": [
        "As we can see from the graph there is no much correlation between the team launch year and games drawn"
      ],
      "metadata": {
        "id": "DQRjBBrSSQ9S"
      }
    },
    {
      "cell_type": "code",
      "source": [
        "sns.jointplot(data=df, x='HighestPositionHeld', y='Score');"
      ],
      "metadata": {
        "colab": {
          "base_uri": "https://localhost:8080/",
          "height": 441
        },
        "id": "IpBhUt10cGZ7",
        "outputId": "8d056f5f-627d-4270-a87b-c6901d99d11d"
      },
      "execution_count": null,
      "outputs": [
        {
          "output_type": "display_data",
          "data": {
            "text/plain": [
              "<Figure size 432x432 with 3 Axes>"
            ],
            "image/png": "[encoded data removed]"
          },
          "metadata": {
            "needs_background": "light"
          }
        }
      ]
    },
    {
      "cell_type": "markdown",
      "source": [
        "Score and Highest position is directly proportional, Higher the score highest the position held by the team"
      ],
      "metadata": {
        "id": "VJF0MrZtS449"
      }
    },
    {
      "cell_type": "code",
      "source": [
        "df1= df.copy()"
      ],
      "metadata": {
        "id": "UQLfshzrnAIF"
      },
      "execution_count": null,
      "outputs": []
    },
    {
      "cell_type": "code",
      "source": [
        "df1.drop('Team', axis=1, inplace=True)"
      ],
      "metadata": {
        "id": "M8DYeHXX57FV"
      },
      "execution_count": null,
      "outputs": []
    },
    {
      "cell_type": "code",
      "source": [
        "df1"
      ],
      "metadata": {
        "id": "T_Seqnli7M0o",
        "colab": {
          "base_uri": "https://localhost:8080/",
          "height": 1000
        },
        "outputId": "c46fdb0f-1156-4245-b2c0-26218962da9e"
      },
      "execution_count": null,
      "outputs": [
        {
          "output_type": "execute_result",
          "data": {
            "text/plain": [
              "    Tournament   Score  PlayedGames  WonGames  DrawnGames  LostGames  \\\n",
              "0           86  4385.0       2762.0    1647.0       552.0      563.0   \n",
              "1           86  4262.0       2762.0    1581.0       573.0      608.0   \n",
              "2           80  3442.0       2614.0    1241.0       598.0      775.0   \n",
              "3           82  3386.0       2664.0    1187.0       616.0      861.0   \n",
              "4           86  3368.0       2762.0    1209.0       633.0      920.0   \n",
              "5           73  2819.0       2408.0     990.0       531.0      887.0   \n",
              "6           82  2792.0       2626.0     948.0       608.0     1070.0   \n",
              "7           70  2573.0       2302.0     864.0       577.0      861.0   \n",
              "8           58  2109.0       1986.0     698.0       522.0      766.0   \n",
              "9           51  1884.0       1728.0     606.0       440.0      682.0   \n",
              "10          45  1814.0       1530.0     563.0       392.0      575.0   \n",
              "11          51  1789.0       1698.0     586.0       389.0      723.0   \n",
              "12          42  1471.0       1466.0     463.0       384.0      619.0   \n",
              "13          44  1416.0       1428.0     453.0       336.0      639.0   \n",
              "14          43  1389.0       1458.0     471.0       358.0      629.0   \n",
              "15          37  1351.0       1318.0     426.0       327.0      565.0   \n",
              "16          36  1314.0       1255.0     390.0       330.0      535.0   \n",
              "17          38  1174.0       1192.0     408.0       292.0      492.0   \n",
              "18          27  1148.0        988.0     333.0       256.0      399.0   \n",
              "19          33  1020.0       1096.0     367.0       242.0      487.0   \n",
              "20          17   970.0        646.0     266.0       172.0      208.0   \n",
              "21          23   667.0        742.0     218.0       175.0      349.0   \n",
              "22          17   662.0        652.0     189.0       148.0      305.0   \n",
              "23          21   606.0        678.0     203.0       180.0      295.0   \n",
              "24          12   553.0        456.0     147.0       112.0      197.0   \n",
              "25          20   538.0        628.0     184.0       149.0      295.0   \n",
              "26          13   510.0        494.0     155.0       128.0      211.0   \n",
              "27          18   445.0        586.0     145.0       143.0      298.0   \n",
              "28          12   421.0        380.0     125.0        81.0      174.0   \n",
              "29          11   416.0        402.0     113.0        95.0      194.0   \n",
              "30          12   375.0        423.0     123.0       102.0      198.0   \n",
              "31          14   353.0        426.0     129.0        95.0      202.0   \n",
              "32          12   343.0        448.0     104.0       127.0      217.0   \n",
              "33           9   293.0        346.0      96.0        92.0      158.0   \n",
              "34          11   285.0        334.0     103.0        79.0      152.0   \n",
              "35           7   277.0        270.0      76.0        76.0      118.0   \n",
              "36           6   242.0        228.0      62.0        56.0      110.0   \n",
              "37           9   230.0        282.0      82.0        63.0      137.0   \n",
              "38           4   190.0        160.0      52.0        45.0       63.0   \n",
              "39           5   188.0        186.0      50.0        46.0       90.0   \n",
              "40           6   168.0        204.0      59.0        50.0       95.0   \n",
              "41           6   150.0        180.0      53.0        44.0       83.0   \n",
              "42           4   148.0        152.0      37.0        37.0       78.0   \n",
              "43           3   132.0        114.0      35.0        27.0       52.0   \n",
              "44           7   107.0        130.0      43.0        21.0       66.0   \n",
              "45           3    96.0        114.0      26.0        44.0       44.0   \n",
              "46           4    91.0        116.0      34.0        16.0       66.0   \n",
              "47           2    83.0         80.0      20.0        23.0       37.0   \n",
              "48           2    81.0         80.0      19.0        24.0       37.0   \n",
              "49           4    76.0        108.0      30.0        16.0       62.0   \n",
              "50           3    71.0         90.0      29.0        13.0       48.0   \n",
              "51           4    56.0         72.0      21.0        14.0       37.0   \n",
              "52           2    52.0         68.0      17.0        18.0       33.0   \n",
              "53           3    42.0         54.0      18.0         6.0       30.0   \n",
              "54           2    40.0         68.0      13.0        14.0       41.0   \n",
              "55           1    35.0         38.0       8.0        11.0       19.0   \n",
              "56           1    34.0         38.0       8.0        10.0       20.0   \n",
              "57           1    22.0         30.0       7.0         8.0       15.0   \n",
              "58           1    19.0         30.0       7.0         5.0       18.0   \n",
              "59           1    14.0         30.0       5.0         4.0       21.0   \n",
              "\n",
              "    BasketScored  BasketGiven  TournamentChampion  Runner-up  TeamLaunch  \\\n",
              "0         5947.0       3140.0                33.0       23.0        1929   \n",
              "1         5900.0       3114.0                25.0       25.0        1929   \n",
              "2         4534.0       3309.0                10.0        8.0        1929   \n",
              "3         4398.0       3469.0                 6.0        6.0        1931   \n",
              "4         4631.0       3700.0                 8.0        7.0        1929   \n",
              "5         3680.0       3373.0                 1.0        4.0        1934   \n",
              "6         3609.0       3889.0                 0.0        0.0        1929   \n",
              "7         3228.0       3230.0                 2.0        3.0        1929   \n",
              "8         2683.0       2847.0                 0.0        1.0        1939   \n",
              "9         2159.0       2492.0                 1.0        0.0        1932   \n",
              "10        2052.0       2188.0                 1.0        5.0        1941   \n",
              "11        2278.0       2624.0                 0.0        0.0        1939   \n",
              "12        1767.0       2180.0                 0.0        0.0        1948   \n",
              "13        1843.0       2368.0                 0.0        1.0        1929   \n",
              "14        1753.0       2152.0                 0.0        1.0        1944   \n",
              "15        1500.0       1834.0                 0.0        0.0        1935   \n",
              "16        1421.0       1763.0                 0.0        0.0        1949   \n",
              "17        1642.0       1951.0                 0.0        0.0        1933   \n",
              "18        1182.0       1371.0                 0.0        0.0        1960   \n",
              "19        1347.0       1746.0                 0.0        1.0        1951   \n",
              "20         892.0        789.0                 0.0        1.0        1998   \n",
              "21         819.0       1157.0                 0.0        0.0        1941   \n",
              "22         760.0       1088.0                 0.0        0.0        1977   \n",
              "23         750.0       1022.0                 0.0        0.0        1959   \n",
              "24         520.0        633.0                 0.0        0.0        2004   \n",
              "25         716.0       1050.0                 0.0        0.0        1935   \n",
              "26         619.0        744.0                 0.0        0.0        1961   \n",
              "27         607.0        992.0                 0.0        0.0        1940   \n",
              "28         458.0        623.0                 0.0        0.0        1930   \n",
              "29         430.0        632.0                 0.0        0.0        1963   \n",
              "30         422.0        581.0                 0.0        0.0        1974   \n",
              "31         492.0        720.0                 0.0        0.0        1943   \n",
              "32         393.0        662.0                 0.0        0.0        1977   \n",
              "33         291.0        489.0                 0.0        0.0        1987   \n",
              "34         419.0        588.0                 0.0        0.0        1941   \n",
              "35         320.0        410.0                 0.0        0.0        1991   \n",
              "36         244.0        366.0                 0.0        0.0        2007   \n",
              "37         285.0        430.0                 0.0        0.0        1962   \n",
              "38         199.0        241.0                 0.0        0.0        1994   \n",
              "39         202.0        296.0                 0.0        0.0        1978   \n",
              "40         216.0        310.0                 0.0        0.0        1971   \n",
              "41         165.0        221.0                 0.0        0.0        1963   \n",
              "42         155.0        253.0                 0.0        0.0        1999   \n",
              "43         139.0        167.0                 0.0        0.0        2014   \n",
              "44         227.0        308.0                 0.0        0.0        1929   \n",
              "45         101.0        139.0                 0.0        0.0        1990   \n",
              "46         181.0        295.0                 0.0        0.0        1947   \n",
              "47          62.0        117.0                 0.0        0.0        1996   \n",
              "48          70.0        115.0                 0.0        0.0        1995   \n",
              "49         145.0        252.0                 0.0        0.0        1945   \n",
              "50         121.0        183.0                 0.0        0.0        1953   \n",
              "51         153.0        184.0                 0.0        0.0        1929   \n",
              "52          71.0        116.0                 0.0        0.0        1979   \n",
              "53          97.0        131.0                 0.0        0.0        1929   \n",
              "54          70.0        182.0                 0.0        0.0        1950   \n",
              "55          36.0         55.0                 0.0        0.0        2016   \n",
              "56          38.0         66.0                 0.0        0.0        2009   \n",
              "57          37.0         57.0                 0.0        0.0        1956   \n",
              "58          51.0         85.0                 0.0        0.0        1951   \n",
              "59          34.0         65.0                 0.0        0.0        1955   \n",
              "\n",
              "    HighestPositionHeld  \n",
              "0                     1  \n",
              "1                     1  \n",
              "2                     1  \n",
              "3                     1  \n",
              "4                     1  \n",
              "5                     1  \n",
              "6                     3  \n",
              "7                     1  \n",
              "8                     2  \n",
              "9                     1  \n",
              "10                    1  \n",
              "11                    4  \n",
              "12                    4  \n",
              "13                    2  \n",
              "14                    2  \n",
              "15                    4  \n",
              "16                    4  \n",
              "17                    3  \n",
              "18                    3  \n",
              "19                    2  \n",
              "20                    2  \n",
              "21                    6  \n",
              "22                    8  \n",
              "23                    5  \n",
              "24                    6  \n",
              "25                    5  \n",
              "26                    5  \n",
              "27                   11  \n",
              "28                    6  \n",
              "29                    6  \n",
              "30                    7  \n",
              "31                    4  \n",
              "32                   12  \n",
              "33                    7  \n",
              "34                    4  \n",
              "35                    7  \n",
              "36                    8  \n",
              "37                    5  \n",
              "38                   10  \n",
              "39                    8  \n",
              "40                   12  \n",
              "41                    7  \n",
              "42                   17  \n",
              "43                   10  \n",
              "44                    3  \n",
              "45                    9  \n",
              "46                    7  \n",
              "47                   17  \n",
              "48                   19  \n",
              "49                   10  \n",
              "50                   14  \n",
              "51                    6  \n",
              "52                   10  \n",
              "53                    8  \n",
              "54                   16  \n",
              "55                   17  \n",
              "56                   20  \n",
              "57                   16  \n",
              "58                   16  \n",
              "59                   15  "
            ],
            "text/html": [
              "\n",
              "  <div id=\"df-08f7836a-eeb0-48e2-a72f-a5f104e7fca5\">\n",
              "    <div class=\"colab-df-container\">\n",
              "      <div>\n",
              "<style scoped>\n",
              "    .dataframe tbody tr th:only-of-type {\n",
              "        vertical-align: middle;\n",
              "    }\n",
              "\n",
              "    .dataframe tbody tr th {\n",
              "        vertical-align: top;\n",
              "    }\n",
              "\n",
              "    .dataframe thead th {\n",
              "        text-align: right;\n",
              "    }\n",
              "</style>\n",
              "<table border=\"1\" class=\"dataframe\">\n",
              "  <thead>\n",
              "    <tr style=\"text-align: right;\">\n",
              "      <th></th>\n",
              "      <th>Tournament</th>\n",
              "      <th>Score</th>\n",
              "      <th>PlayedGames</th>\n",
              "      <th>WonGames</th>\n",
              "      <th>DrawnGames</th>\n",
              "      <th>LostGames</th>\n",
              "      <th>BasketScored</th>\n",
              "      <th>BasketGiven</th>\n",
              "      <th>TournamentChampion</th>\n",
              "      <th>Runner-up</th>\n",
              "      <th>TeamLaunch</th>\n",
              "      <th>HighestPositionHeld</th>\n",
              "    </tr>\n",
              "  </thead>\n",
              "  <tbody>\n",
              "    <tr>\n",
              "      <th>0</th>\n",
              "      <td>86</td>\n",
              "      <td>4385.0</td>\n",
              "      <td>2762.0</td>\n",
              "      <td>1647.0</td>\n",
              "      <td>552.0</td>\n",
              "      <td>563.0</td>\n",
              "      <td>5947.0</td>\n",
              "      <td>3140.0</td>\n",
              "      <td>33.0</td>\n",
              "      <td>23.0</td>\n",
              "      <td>1929</td>\n",
              "      <td>1</td>\n",
              "    </tr>\n",
              "    <tr>\n",
              "      <th>1</th>\n",
              "      <td>86</td>\n",
              "      <td>4262.0</td>\n",
              "      <td>2762.0</td>\n",
              "      <td>1581.0</td>\n",
              "      <td>573.0</td>\n",
              "      <td>608.0</td>\n",
              "      <td>5900.0</td>\n",
              "      <td>3114.0</td>\n",
              "      <td>25.0</td>\n",
              "      <td>25.0</td>\n",
              "      <td>1929</td>\n",
              "      <td>1</td>\n",
              "    </tr>\n",
              "    <tr>\n",
              "      <th>2</th>\n",
              "      <td>80</td>\n",
              "      <td>3442.0</td>\n",
              "      <td>2614.0</td>\n",
              "      <td>1241.0</td>\n",
              "      <td>598.0</td>\n",
              "      <td>775.0</td>\n",
              "      <td>4534.0</td>\n",
              "      <td>3309.0</td>\n",
              "      <td>10.0</td>\n",
              "      <td>8.0</td>\n",
              "      <td>1929</td>\n",
              "      <td>1</td>\n",
              "    </tr>\n",
              "    <tr>\n",
              "      <th>3</th>\n",
              "      <td>82</td>\n",
              "      <td>3386.0</td>\n",
              "      <td>2664.0</td>\n",
              "      <td>1187.0</td>\n",
              "      <td>616.0</td>\n",
              "      <td>861.0</td>\n",
              "      <td>4398.0</td>\n",
              "      <td>3469.0</td>\n",
              "      <td>6.0</td>\n",
              "      <td>6.0</td>\n",
              "      <td>1931</td>\n",
              "      <td>1</td>\n",
              "    </tr>\n",
              "    <tr>\n",
              "      <th>4</th>\n",
              "      <td>86</td>\n",
              "      <td>3368.0</td>\n",
              "      <td>2762.0</td>\n",
              "      <td>1209.0</td>\n",
              "      <td>633.0</td>\n",
              "      <td>920.0</td>\n",
              "      <td>4631.0</td>\n",
              "      <td>3700.0</td>\n",
              "      <td>8.0</td>\n",
              "      <td>7.0</td>\n",
              "      <td>1929</td>\n",
              "      <td>1</td>\n",
              "    </tr>\n",
              "    <tr>\n",
              "      <th>5</th>\n",
              "      <td>73</td>\n",
              "      <td>2819.0</td>\n",
              "      <td>2408.0</td>\n",
              "      <td>990.0</td>\n",
              "      <td>531.0</td>\n",
              "      <td>887.0</td>\n",
              "      <td>3680.0</td>\n",
              "      <td>3373.0</td>\n",
              "      <td>1.0</td>\n",
              "      <td>4.0</td>\n",
              "      <td>1934</td>\n",
              "      <td>1</td>\n",
              "    </tr>\n",
              "    <tr>\n",
              "      <th>6</th>\n",
              "      <td>82</td>\n",
              "      <td>2792.0</td>\n",
              "      <td>2626.0</td>\n",
              "      <td>948.0</td>\n",
              "      <td>608.0</td>\n",
              "      <td>1070.0</td>\n",
              "      <td>3609.0</td>\n",
              "      <td>3889.0</td>\n",
              "      <td>0.0</td>\n",
              "      <td>0.0</td>\n",
              "      <td>1929</td>\n",
              "      <td>3</td>\n",
              "    </tr>\n",
              "    <tr>\n",
              "      <th>7</th>\n",
              "      <td>70</td>\n",
              "      <td>2573.0</td>\n",
              "      <td>2302.0</td>\n",
              "      <td>864.0</td>\n",
              "      <td>577.0</td>\n",
              "      <td>861.0</td>\n",
              "      <td>3228.0</td>\n",
              "      <td>3230.0</td>\n",
              "      <td>2.0</td>\n",
              "      <td>3.0</td>\n",
              "      <td>1929</td>\n",
              "      <td>1</td>\n",
              "    </tr>\n",
              "    <tr>\n",
              "      <th>8</th>\n",
              "      <td>58</td>\n",
              "      <td>2109.0</td>\n",
              "      <td>1986.0</td>\n",
              "      <td>698.0</td>\n",
              "      <td>522.0</td>\n",
              "      <td>766.0</td>\n",
              "      <td>2683.0</td>\n",
              "      <td>2847.0</td>\n",
              "      <td>0.0</td>\n",
              "      <td>1.0</td>\n",
              "      <td>1939</td>\n",
              "      <td>2</td>\n",
              "    </tr>\n",
              "    <tr>\n",
              "      <th>9</th>\n",
              "      <td>51</td>\n",
              "      <td>1884.0</td>\n",
              "      <td>1728.0</td>\n",
              "      <td>606.0</td>\n",
              "      <td>440.0</td>\n",
              "      <td>682.0</td>\n",
              "      <td>2159.0</td>\n",
              "      <td>2492.0</td>\n",
              "      <td>1.0</td>\n",
              "      <td>0.0</td>\n",
              "      <td>1932</td>\n",
              "      <td>1</td>\n",
              "    </tr>\n",
              "    <tr>\n",
              "      <th>10</th>\n",
              "      <td>45</td>\n",
              "      <td>1814.0</td>\n",
              "      <td>1530.0</td>\n",
              "      <td>563.0</td>\n",
              "      <td>392.0</td>\n",
              "      <td>575.0</td>\n",
              "      <td>2052.0</td>\n",
              "      <td>2188.0</td>\n",
              "      <td>1.0</td>\n",
              "      <td>5.0</td>\n",
              "      <td>1941</td>\n",
              "      <td>1</td>\n",
              "    </tr>\n",
              "    <tr>\n",
              "      <th>11</th>\n",
              "      <td>51</td>\n",
              "      <td>1789.0</td>\n",
              "      <td>1698.0</td>\n",
              "      <td>586.0</td>\n",
              "      <td>389.0</td>\n",
              "      <td>723.0</td>\n",
              "      <td>2278.0</td>\n",
              "      <td>2624.0</td>\n",
              "      <td>0.0</td>\n",
              "      <td>0.0</td>\n",
              "      <td>1939</td>\n",
              "      <td>4</td>\n",
              "    </tr>\n",
              "    <tr>\n",
              "      <th>12</th>\n",
              "      <td>42</td>\n",
              "      <td>1471.0</td>\n",
              "      <td>1466.0</td>\n",
              "      <td>463.0</td>\n",
              "      <td>384.0</td>\n",
              "      <td>619.0</td>\n",
              "      <td>1767.0</td>\n",
              "      <td>2180.0</td>\n",
              "      <td>0.0</td>\n",
              "      <td>0.0</td>\n",
              "      <td>1948</td>\n",
              "      <td>4</td>\n",
              "    </tr>\n",
              "    <tr>\n",
              "      <th>13</th>\n",
              "      <td>44</td>\n",
              "      <td>1416.0</td>\n",
              "      <td>1428.0</td>\n",
              "      <td>453.0</td>\n",
              "      <td>336.0</td>\n",
              "      <td>639.0</td>\n",
              "      <td>1843.0</td>\n",
              "      <td>2368.0</td>\n",
              "      <td>0.0</td>\n",
              "      <td>1.0</td>\n",
              "      <td>1929</td>\n",
              "      <td>2</td>\n",
              "    </tr>\n",
              "    <tr>\n",
              "      <th>14</th>\n",
              "      <td>43</td>\n",
              "      <td>1389.0</td>\n",
              "      <td>1458.0</td>\n",
              "      <td>471.0</td>\n",
              "      <td>358.0</td>\n",
              "      <td>629.0</td>\n",
              "      <td>1753.0</td>\n",
              "      <td>2152.0</td>\n",
              "      <td>0.0</td>\n",
              "      <td>1.0</td>\n",
              "      <td>1944</td>\n",
              "      <td>2</td>\n",
              "    </tr>\n",
              "    <tr>\n",
              "      <th>15</th>\n",
              "      <td>37</td>\n",
              "      <td>1351.0</td>\n",
              "      <td>1318.0</td>\n",
              "      <td>426.0</td>\n",
              "      <td>327.0</td>\n",
              "      <td>565.0</td>\n",
              "      <td>1500.0</td>\n",
              "      <td>1834.0</td>\n",
              "      <td>0.0</td>\n",
              "      <td>0.0</td>\n",
              "      <td>1935</td>\n",
              "      <td>4</td>\n",
              "    </tr>\n",
              "    <tr>\n",
              "      <th>16</th>\n",
              "      <td>36</td>\n",
              "      <td>1314.0</td>\n",
              "      <td>1255.0</td>\n",
              "      <td>390.0</td>\n",
              "      <td>330.0</td>\n",
              "      <td>535.0</td>\n",
              "      <td>1421.0</td>\n",
              "      <td>1763.0</td>\n",
              "      <td>0.0</td>\n",
              "      <td>0.0</td>\n",
              "      <td>1949</td>\n",
              "      <td>4</td>\n",
              "    </tr>\n",
              "    <tr>\n",
              "      <th>17</th>\n",
              "      <td>38</td>\n",
              "      <td>1174.0</td>\n",
              "      <td>1192.0</td>\n",
              "      <td>408.0</td>\n",
              "      <td>292.0</td>\n",
              "      <td>492.0</td>\n",
              "      <td>1642.0</td>\n",
              "      <td>1951.0</td>\n",
              "      <td>0.0</td>\n",
              "      <td>0.0</td>\n",
              "      <td>1933</td>\n",
              "      <td>3</td>\n",
              "    </tr>\n",
              "    <tr>\n",
              "      <th>18</th>\n",
              "      <td>27</td>\n",
              "      <td>1148.0</td>\n",
              "      <td>988.0</td>\n",
              "      <td>333.0</td>\n",
              "      <td>256.0</td>\n",
              "      <td>399.0</td>\n",
              "      <td>1182.0</td>\n",
              "      <td>1371.0</td>\n",
              "      <td>0.0</td>\n",
              "      <td>0.0</td>\n",
              "      <td>1960</td>\n",
              "      <td>3</td>\n",
              "    </tr>\n",
              "    <tr>\n",
              "      <th>19</th>\n",
              "      <td>33</td>\n",
              "      <td>1020.0</td>\n",
              "      <td>1096.0</td>\n",
              "      <td>367.0</td>\n",
              "      <td>242.0</td>\n",
              "      <td>487.0</td>\n",
              "      <td>1347.0</td>\n",
              "      <td>1746.0</td>\n",
              "      <td>0.0</td>\n",
              "      <td>1.0</td>\n",
              "      <td>1951</td>\n",
              "      <td>2</td>\n",
              "    </tr>\n",
              "    <tr>\n",
              "      <th>20</th>\n",
              "      <td>17</td>\n",
              "      <td>970.0</td>\n",
              "      <td>646.0</td>\n",
              "      <td>266.0</td>\n",
              "      <td>172.0</td>\n",
              "      <td>208.0</td>\n",
              "      <td>892.0</td>\n",
              "      <td>789.0</td>\n",
              "      <td>0.0</td>\n",
              "      <td>1.0</td>\n",
              "      <td>1998</td>\n",
              "      <td>2</td>\n",
              "    </tr>\n",
              "    <tr>\n",
              "      <th>21</th>\n",
              "      <td>23</td>\n",
              "      <td>667.0</td>\n",
              "      <td>742.0</td>\n",
              "      <td>218.0</td>\n",
              "      <td>175.0</td>\n",
              "      <td>349.0</td>\n",
              "      <td>819.0</td>\n",
              "      <td>1157.0</td>\n",
              "      <td>0.0</td>\n",
              "      <td>0.0</td>\n",
              "      <td>1941</td>\n",
              "      <td>6</td>\n",
              "    </tr>\n",
              "    <tr>\n",
              "      <th>22</th>\n",
              "      <td>17</td>\n",
              "      <td>662.0</td>\n",
              "      <td>652.0</td>\n",
              "      <td>189.0</td>\n",
              "      <td>148.0</td>\n",
              "      <td>305.0</td>\n",
              "      <td>760.0</td>\n",
              "      <td>1088.0</td>\n",
              "      <td>0.0</td>\n",
              "      <td>0.0</td>\n",
              "      <td>1977</td>\n",
              "      <td>8</td>\n",
              "    </tr>\n",
              "    <tr>\n",
              "      <th>23</th>\n",
              "      <td>21</td>\n",
              "      <td>606.0</td>\n",
              "      <td>678.0</td>\n",
              "      <td>203.0</td>\n",
              "      <td>180.0</td>\n",
              "      <td>295.0</td>\n",
              "      <td>750.0</td>\n",
              "      <td>1022.0</td>\n",
              "      <td>0.0</td>\n",
              "      <td>0.0</td>\n",
              "      <td>1959</td>\n",
              "      <td>5</td>\n",
              "    </tr>\n",
              "    <tr>\n",
              "      <th>24</th>\n",
              "      <td>12</td>\n",
              "      <td>553.0</td>\n",
              "      <td>456.0</td>\n",
              "      <td>147.0</td>\n",
              "      <td>112.0</td>\n",
              "      <td>197.0</td>\n",
              "      <td>520.0</td>\n",
              "      <td>633.0</td>\n",
              "      <td>0.0</td>\n",
              "      <td>0.0</td>\n",
              "      <td>2004</td>\n",
              "      <td>6</td>\n",
              "    </tr>\n",
              "    <tr>\n",
              "      <th>25</th>\n",
              "      <td>20</td>\n",
              "      <td>538.0</td>\n",
              "      <td>628.0</td>\n",
              "      <td>184.0</td>\n",
              "      <td>149.0</td>\n",
              "      <td>295.0</td>\n",
              "      <td>716.0</td>\n",
              "      <td>1050.0</td>\n",
              "      <td>0.0</td>\n",
              "      <td>0.0</td>\n",
              "      <td>1935</td>\n",
              "      <td>5</td>\n",
              "    </tr>\n",
              "    <tr>\n",
              "      <th>26</th>\n",
              "      <td>13</td>\n",
              "      <td>510.0</td>\n",
              "      <td>494.0</td>\n",
              "      <td>155.0</td>\n",
              "      <td>128.0</td>\n",
              "      <td>211.0</td>\n",
              "      <td>619.0</td>\n",
              "      <td>744.0</td>\n",
              "      <td>0.0</td>\n",
              "      <td>0.0</td>\n",
              "      <td>1961</td>\n",
              "      <td>5</td>\n",
              "    </tr>\n",
              "    <tr>\n",
              "      <th>27</th>\n",
              "      <td>18</td>\n",
              "      <td>445.0</td>\n",
              "      <td>586.0</td>\n",
              "      <td>145.0</td>\n",
              "      <td>143.0</td>\n",
              "      <td>298.0</td>\n",
              "      <td>607.0</td>\n",
              "      <td>992.0</td>\n",
              "      <td>0.0</td>\n",
              "      <td>0.0</td>\n",
              "      <td>1940</td>\n",
              "      <td>11</td>\n",
              "    </tr>\n",
              "    <tr>\n",
              "      <th>28</th>\n",
              "      <td>12</td>\n",
              "      <td>421.0</td>\n",
              "      <td>380.0</td>\n",
              "      <td>125.0</td>\n",
              "      <td>81.0</td>\n",
              "      <td>174.0</td>\n",
              "      <td>458.0</td>\n",
              "      <td>623.0</td>\n",
              "      <td>0.0</td>\n",
              "      <td>0.0</td>\n",
              "      <td>1930</td>\n",
              "      <td>6</td>\n",
              "    </tr>\n",
              "    <tr>\n",
              "      <th>29</th>\n",
              "      <td>11</td>\n",
              "      <td>416.0</td>\n",
              "      <td>402.0</td>\n",
              "      <td>113.0</td>\n",
              "      <td>95.0</td>\n",
              "      <td>194.0</td>\n",
              "      <td>430.0</td>\n",
              "      <td>632.0</td>\n",
              "      <td>0.0</td>\n",
              "      <td>0.0</td>\n",
              "      <td>1963</td>\n",
              "      <td>6</td>\n",
              "    </tr>\n",
              "    <tr>\n",
              "      <th>30</th>\n",
              "      <td>12</td>\n",
              "      <td>375.0</td>\n",
              "      <td>423.0</td>\n",
              "      <td>123.0</td>\n",
              "      <td>102.0</td>\n",
              "      <td>198.0</td>\n",
              "      <td>422.0</td>\n",
              "      <td>581.0</td>\n",
              "      <td>0.0</td>\n",
              "      <td>0.0</td>\n",
              "      <td>1974</td>\n",
              "      <td>7</td>\n",
              "    </tr>\n",
              "    <tr>\n",
              "      <th>31</th>\n",
              "      <td>14</td>\n",
              "      <td>353.0</td>\n",
              "      <td>426.0</td>\n",
              "      <td>129.0</td>\n",
              "      <td>95.0</td>\n",
              "      <td>202.0</td>\n",
              "      <td>492.0</td>\n",
              "      <td>720.0</td>\n",
              "      <td>0.0</td>\n",
              "      <td>0.0</td>\n",
              "      <td>1943</td>\n",
              "      <td>4</td>\n",
              "    </tr>\n",
              "    <tr>\n",
              "      <th>32</th>\n",
              "      <td>12</td>\n",
              "      <td>343.0</td>\n",
              "      <td>448.0</td>\n",
              "      <td>104.0</td>\n",
              "      <td>127.0</td>\n",
              "      <td>217.0</td>\n",
              "      <td>393.0</td>\n",
              "      <td>662.0</td>\n",
              "      <td>0.0</td>\n",
              "      <td>0.0</td>\n",
              "      <td>1977</td>\n",
              "      <td>12</td>\n",
              "    </tr>\n",
              "    <tr>\n",
              "      <th>33</th>\n",
              "      <td>9</td>\n",
              "      <td>293.0</td>\n",
              "      <td>346.0</td>\n",
              "      <td>96.0</td>\n",
              "      <td>92.0</td>\n",
              "      <td>158.0</td>\n",
              "      <td>291.0</td>\n",
              "      <td>489.0</td>\n",
              "      <td>0.0</td>\n",
              "      <td>0.0</td>\n",
              "      <td>1987</td>\n",
              "      <td>7</td>\n",
              "    </tr>\n",
              "    <tr>\n",
              "      <th>34</th>\n",
              "      <td>11</td>\n",
              "      <td>285.0</td>\n",
              "      <td>334.0</td>\n",
              "      <td>103.0</td>\n",
              "      <td>79.0</td>\n",
              "      <td>152.0</td>\n",
              "      <td>419.0</td>\n",
              "      <td>588.0</td>\n",
              "      <td>0.0</td>\n",
              "      <td>0.0</td>\n",
              "      <td>1941</td>\n",
              "      <td>4</td>\n",
              "    </tr>\n",
              "    <tr>\n",
              "      <th>35</th>\n",
              "      <td>7</td>\n",
              "      <td>277.0</td>\n",
              "      <td>270.0</td>\n",
              "      <td>76.0</td>\n",
              "      <td>76.0</td>\n",
              "      <td>118.0</td>\n",
              "      <td>320.0</td>\n",
              "      <td>410.0</td>\n",
              "      <td>0.0</td>\n",
              "      <td>0.0</td>\n",
              "      <td>1991</td>\n",
              "      <td>7</td>\n",
              "    </tr>\n",
              "    <tr>\n",
              "      <th>36</th>\n",
              "      <td>6</td>\n",
              "      <td>242.0</td>\n",
              "      <td>228.0</td>\n",
              "      <td>62.0</td>\n",
              "      <td>56.0</td>\n",
              "      <td>110.0</td>\n",
              "      <td>244.0</td>\n",
              "      <td>366.0</td>\n",
              "      <td>0.0</td>\n",
              "      <td>0.0</td>\n",
              "      <td>2007</td>\n",
              "      <td>8</td>\n",
              "    </tr>\n",
              "    <tr>\n",
              "      <th>37</th>\n",
              "      <td>9</td>\n",
              "      <td>230.0</td>\n",
              "      <td>282.0</td>\n",
              "      <td>82.0</td>\n",
              "      <td>63.0</td>\n",
              "      <td>137.0</td>\n",
              "      <td>285.0</td>\n",
              "      <td>430.0</td>\n",
              "      <td>0.0</td>\n",
              "      <td>0.0</td>\n",
              "      <td>1962</td>\n",
              "      <td>5</td>\n",
              "    </tr>\n",
              "    <tr>\n",
              "      <th>38</th>\n",
              "      <td>4</td>\n",
              "      <td>190.0</td>\n",
              "      <td>160.0</td>\n",
              "      <td>52.0</td>\n",
              "      <td>45.0</td>\n",
              "      <td>63.0</td>\n",
              "      <td>199.0</td>\n",
              "      <td>241.0</td>\n",
              "      <td>0.0</td>\n",
              "      <td>0.0</td>\n",
              "      <td>1994</td>\n",
              "      <td>10</td>\n",
              "    </tr>\n",
              "    <tr>\n",
              "      <th>39</th>\n",
              "      <td>5</td>\n",
              "      <td>188.0</td>\n",
              "      <td>186.0</td>\n",
              "      <td>50.0</td>\n",
              "      <td>46.0</td>\n",
              "      <td>90.0</td>\n",
              "      <td>202.0</td>\n",
              "      <td>296.0</td>\n",
              "      <td>0.0</td>\n",
              "      <td>0.0</td>\n",
              "      <td>1978</td>\n",
              "      <td>8</td>\n",
              "    </tr>\n",
              "    <tr>\n",
              "      <th>40</th>\n",
              "      <td>6</td>\n",
              "      <td>168.0</td>\n",
              "      <td>204.0</td>\n",
              "      <td>59.0</td>\n",
              "      <td>50.0</td>\n",
              "      <td>95.0</td>\n",
              "      <td>216.0</td>\n",
              "      <td>310.0</td>\n",
              "      <td>0.0</td>\n",
              "      <td>0.0</td>\n",
              "      <td>1971</td>\n",
              "      <td>12</td>\n",
              "    </tr>\n",
              "    <tr>\n",
              "      <th>41</th>\n",
              "      <td>6</td>\n",
              "      <td>150.0</td>\n",
              "      <td>180.0</td>\n",
              "      <td>53.0</td>\n",
              "      <td>44.0</td>\n",
              "      <td>83.0</td>\n",
              "      <td>165.0</td>\n",
              "      <td>221.0</td>\n",
              "      <td>0.0</td>\n",
              "      <td>0.0</td>\n",
              "      <td>1963</td>\n",
              "      <td>7</td>\n",
              "    </tr>\n",
              "    <tr>\n",
              "      <th>42</th>\n",
              "      <td>4</td>\n",
              "      <td>148.0</td>\n",
              "      <td>152.0</td>\n",
              "      <td>37.0</td>\n",
              "      <td>37.0</td>\n",
              "      <td>78.0</td>\n",
              "      <td>155.0</td>\n",
              "      <td>253.0</td>\n",
              "      <td>0.0</td>\n",
              "      <td>0.0</td>\n",
              "      <td>1999</td>\n",
              "      <td>17</td>\n",
              "    </tr>\n",
              "    <tr>\n",
              "      <th>43</th>\n",
              "      <td>3</td>\n",
              "      <td>132.0</td>\n",
              "      <td>114.0</td>\n",
              "      <td>35.0</td>\n",
              "      <td>27.0</td>\n",
              "      <td>52.0</td>\n",
              "      <td>139.0</td>\n",
              "      <td>167.0</td>\n",
              "      <td>0.0</td>\n",
              "      <td>0.0</td>\n",
              "      <td>2014</td>\n",
              "      <td>10</td>\n",
              "    </tr>\n",
              "    <tr>\n",
              "      <th>44</th>\n",
              "      <td>7</td>\n",
              "      <td>107.0</td>\n",
              "      <td>130.0</td>\n",
              "      <td>43.0</td>\n",
              "      <td>21.0</td>\n",
              "      <td>66.0</td>\n",
              "      <td>227.0</td>\n",
              "      <td>308.0</td>\n",
              "      <td>0.0</td>\n",
              "      <td>0.0</td>\n",
              "      <td>1929</td>\n",
              "      <td>3</td>\n",
              "    </tr>\n",
              "    <tr>\n",
              "      <th>45</th>\n",
              "      <td>3</td>\n",
              "      <td>96.0</td>\n",
              "      <td>114.0</td>\n",
              "      <td>26.0</td>\n",
              "      <td>44.0</td>\n",
              "      <td>44.0</td>\n",
              "      <td>101.0</td>\n",
              "      <td>139.0</td>\n",
              "      <td>0.0</td>\n",
              "      <td>0.0</td>\n",
              "      <td>1990</td>\n",
              "      <td>9</td>\n",
              "    </tr>\n",
              "    <tr>\n",
              "      <th>46</th>\n",
              "      <td>4</td>\n",
              "      <td>91.0</td>\n",
              "      <td>116.0</td>\n",
              "      <td>34.0</td>\n",
              "      <td>16.0</td>\n",
              "      <td>66.0</td>\n",
              "      <td>181.0</td>\n",
              "      <td>295.0</td>\n",
              "      <td>0.0</td>\n",
              "      <td>0.0</td>\n",
              "      <td>1947</td>\n",
              "      <td>7</td>\n",
              "    </tr>\n",
              "    <tr>\n",
              "      <th>47</th>\n",
              "      <td>2</td>\n",
              "      <td>83.0</td>\n",
              "      <td>80.0</td>\n",
              "      <td>20.0</td>\n",
              "      <td>23.0</td>\n",
              "      <td>37.0</td>\n",
              "      <td>62.0</td>\n",
              "      <td>117.0</td>\n",
              "      <td>0.0</td>\n",
              "      <td>0.0</td>\n",
              "      <td>1996</td>\n",
              "      <td>17</td>\n",
              "    </tr>\n",
              "    <tr>\n",
              "      <th>48</th>\n",
              "      <td>2</td>\n",
              "      <td>81.0</td>\n",
              "      <td>80.0</td>\n",
              "      <td>19.0</td>\n",
              "      <td>24.0</td>\n",
              "      <td>37.0</td>\n",
              "      <td>70.0</td>\n",
              "      <td>115.0</td>\n",
              "      <td>0.0</td>\n",
              "      <td>0.0</td>\n",
              "      <td>1995</td>\n",
              "      <td>19</td>\n",
              "    </tr>\n",
              "    <tr>\n",
              "      <th>49</th>\n",
              "      <td>4</td>\n",
              "      <td>76.0</td>\n",
              "      <td>108.0</td>\n",
              "      <td>30.0</td>\n",
              "      <td>16.0</td>\n",
              "      <td>62.0</td>\n",
              "      <td>145.0</td>\n",
              "      <td>252.0</td>\n",
              "      <td>0.0</td>\n",
              "      <td>0.0</td>\n",
              "      <td>1945</td>\n",
              "      <td>10</td>\n",
              "    </tr>\n",
              "    <tr>\n",
              "      <th>50</th>\n",
              "      <td>3</td>\n",
              "      <td>71.0</td>\n",
              "      <td>90.0</td>\n",
              "      <td>29.0</td>\n",
              "      <td>13.0</td>\n",
              "      <td>48.0</td>\n",
              "      <td>121.0</td>\n",
              "      <td>183.0</td>\n",
              "      <td>0.0</td>\n",
              "      <td>0.0</td>\n",
              "      <td>1953</td>\n",
              "      <td>14</td>\n",
              "    </tr>\n",
              "    <tr>\n",
              "      <th>51</th>\n",
              "      <td>4</td>\n",
              "      <td>56.0</td>\n",
              "      <td>72.0</td>\n",
              "      <td>21.0</td>\n",
              "      <td>14.0</td>\n",
              "      <td>37.0</td>\n",
              "      <td>153.0</td>\n",
              "      <td>184.0</td>\n",
              "      <td>0.0</td>\n",
              "      <td>0.0</td>\n",
              "      <td>1929</td>\n",
              "      <td>6</td>\n",
              "    </tr>\n",
              "    <tr>\n",
              "      <th>52</th>\n",
              "      <td>2</td>\n",
              "      <td>52.0</td>\n",
              "      <td>68.0</td>\n",
              "      <td>17.0</td>\n",
              "      <td>18.0</td>\n",
              "      <td>33.0</td>\n",
              "      <td>71.0</td>\n",
              "      <td>116.0</td>\n",
              "      <td>0.0</td>\n",
              "      <td>0.0</td>\n",
              "      <td>1979</td>\n",
              "      <td>10</td>\n",
              "    </tr>\n",
              "    <tr>\n",
              "      <th>53</th>\n",
              "      <td>3</td>\n",
              "      <td>42.0</td>\n",
              "      <td>54.0</td>\n",
              "      <td>18.0</td>\n",
              "      <td>6.0</td>\n",
              "      <td>30.0</td>\n",
              "      <td>97.0</td>\n",
              "      <td>131.0</td>\n",
              "      <td>0.0</td>\n",
              "      <td>0.0</td>\n",
              "      <td>1929</td>\n",
              "      <td>8</td>\n",
              "    </tr>\n",
              "    <tr>\n",
              "      <th>54</th>\n",
              "      <td>2</td>\n",
              "      <td>40.0</td>\n",
              "      <td>68.0</td>\n",
              "      <td>13.0</td>\n",
              "      <td>14.0</td>\n",
              "      <td>41.0</td>\n",
              "      <td>70.0</td>\n",
              "      <td>182.0</td>\n",
              "      <td>0.0</td>\n",
              "      <td>0.0</td>\n",
              "      <td>1950</td>\n",
              "      <td>16</td>\n",
              "    </tr>\n",
              "    <tr>\n",
              "      <th>55</th>\n",
              "      <td>1</td>\n",
              "      <td>35.0</td>\n",
              "      <td>38.0</td>\n",
              "      <td>8.0</td>\n",
              "      <td>11.0</td>\n",
              "      <td>19.0</td>\n",
              "      <td>36.0</td>\n",
              "      <td>55.0</td>\n",
              "      <td>0.0</td>\n",
              "      <td>0.0</td>\n",
              "      <td>2016</td>\n",
              "      <td>17</td>\n",
              "    </tr>\n",
              "    <tr>\n",
              "      <th>56</th>\n",
              "      <td>1</td>\n",
              "      <td>34.0</td>\n",
              "      <td>38.0</td>\n",
              "      <td>8.0</td>\n",
              "      <td>10.0</td>\n",
              "      <td>20.0</td>\n",
              "      <td>38.0</td>\n",
              "      <td>66.0</td>\n",
              "      <td>0.0</td>\n",
              "      <td>0.0</td>\n",
              "      <td>2009</td>\n",
              "      <td>20</td>\n",
              "    </tr>\n",
              "    <tr>\n",
              "      <th>57</th>\n",
              "      <td>1</td>\n",
              "      <td>22.0</td>\n",
              "      <td>30.0</td>\n",
              "      <td>7.0</td>\n",
              "      <td>8.0</td>\n",
              "      <td>15.0</td>\n",
              "      <td>37.0</td>\n",
              "      <td>57.0</td>\n",
              "      <td>0.0</td>\n",
              "      <td>0.0</td>\n",
              "      <td>1956</td>\n",
              "      <td>16</td>\n",
              "    </tr>\n",
              "    <tr>\n",
              "      <th>58</th>\n",
              "      <td>1</td>\n",
              "      <td>19.0</td>\n",
              "      <td>30.0</td>\n",
              "      <td>7.0</td>\n",
              "      <td>5.0</td>\n",
              "      <td>18.0</td>\n",
              "      <td>51.0</td>\n",
              "      <td>85.0</td>\n",
              "      <td>0.0</td>\n",
              "      <td>0.0</td>\n",
              "      <td>1951</td>\n",
              "      <td>16</td>\n",
              "    </tr>\n",
              "    <tr>\n",
              "      <th>59</th>\n",
              "      <td>1</td>\n",
              "      <td>14.0</td>\n",
              "      <td>30.0</td>\n",
              "      <td>5.0</td>\n",
              "      <td>4.0</td>\n",
              "      <td>21.0</td>\n",
              "      <td>34.0</td>\n",
              "      <td>65.0</td>\n",
              "      <td>0.0</td>\n",
              "      <td>0.0</td>\n",
              "      <td>1955</td>\n",
              "      <td>15</td>\n",
              "    </tr>\n",
              "  </tbody>\n",
              "</table>\n",
              "</div>\n",
              "      <button class=\"colab-df-convert\" onclick=\"convertToInteractive('df-08f7836a-eeb0-48e2-a72f-a5f104e7fca5')\"\n",
              "              title=\"Convert this dataframe to an interactive table.\"\n",
              "              style=\"display:none;\">\n",
              "        \n",
              "  <svg xmlns=\"http://www.w3.org/2000/svg\" height=\"24px\"viewBox=\"0 0 24 24\"\n",
              "       width=\"24px\">\n",
              "    <path d=\"M0 0h24v24H0V0z\" fill=\"none\"/>\n",
              "    <path d=\"M18.56 5.44l.94 2.06.94-2.06 2.06-.94-2.06-.94-.94-2.06-.94 2.06-2.06.94zm-11 1L8.5 8.5l.94-2.06 2.06-.94-2.06-.94L8.5 2.5l-.94 2.06-2.06.94zm10 10l.94 2.06.94-2.06 2.06-.94-2.06-.94-.94-2.06-.94 2.06-2.06.94z\"/><path d=\"M17.41 7.96l-1.37-1.37c-.4-.4-.92-.59-1.43-.59-.52 0-1.04.2-1.43.59L10.3 9.45l-7.72 7.72c-.78.78-.78 2.05 0 2.83L4 21.41c.39.39.9.59 1.41.59.51 0 1.02-.2 1.41-.59l7.78-7.78 2.81-2.81c.8-.78.8-2.07 0-2.86zM5.41 20L4 18.59l7.72-7.72 1.47 1.35L5.41 20z\"/>\n",
              "  </svg>\n",
              "      </button>\n",
              "      \n",
              "  <style>\n",
              "    .colab-df-container {\n",
              "      display:flex;\n",
              "      flex-wrap:wrap;\n",
              "      gap: 12px;\n",
              "    }\n",
              "\n",
              "    .colab-df-convert {\n",
              "      background-color: #E8F0FE;\n",
              "      border: none;\n",
              "      border-radius: 50%;\n",
              "      cursor: pointer;\n",
              "      display: none;\n",
              "      fill: #1967D2;\n",
              "      height: 32px;\n",
              "      padding: 0 0 0 0;\n",
              "      width: 32px;\n",
              "    }\n",
              "\n",
              "    .colab-df-convert:hover {\n",
              "      background-color: #E2EBFA;\n",
              "      box-shadow: 0px 1px 2px rgba(60, 64, 67, 0.3), 0px 1px 3px 1px rgba(60, 64, 67, 0.15);\n",
              "      fill: #174EA6;\n",
              "    }\n",
              "\n",
              "    [theme=dark] .colab-df-convert {\n",
              "      background-color: #3B4455;\n",
              "      fill: #D2E3FC;\n",
              "    }\n",
              "\n",
              "    [theme=dark] .colab-df-convert:hover {\n",
              "      background-color: #434B5C;\n",
              "      box-shadow: 0px 1px 3px 1px rgba(0, 0, 0, 0.15);\n",
              "      filter: drop-shadow(0px 1px 2px rgba(0, 0, 0, 0.3));\n",
              "      fill: #FFFFFF;\n",
              "    }\n",
              "  </style>\n",
              "\n",
              "      <script>\n",
              "        const buttonEl =\n",
              "          document.querySelector('#df-08f7836a-eeb0-48e2-a72f-a5f104e7fca5 button.colab-df-convert');\n",
              "        buttonEl.style.display =\n",
              "          google.colab.kernel.accessAllowed ? 'block' : 'none';\n",
              "\n",
              "        async function convertToInteractive(key) {\n",
              "          const element = document.querySelector('#df-08f7836a-eeb0-48e2-a72f-a5f104e7fca5');\n",
              "          const dataTable =\n",
              "            await google.colab.kernel.invokeFunction('convertToInteractive',\n",
              "                                                     [key], {});\n",
              "          if (!dataTable) return;\n",
              "\n",
              "          const docLinkHtml = 'Like what you see? Visit the ' +\n",
              "            '<a target=\"_blank\" href=https://colab.research.google.com/notebooks/data_table.ipynb>data table notebook</a>'\n",
              "            + ' to learn more about interactive tables.';\n",
              "          element.innerHTML = '';\n",
              "          dataTable['output_type'] = 'display_data';\n",
              "          await google.colab.output.renderOutput(dataTable, element);\n",
              "          const docLink = document.createElement('div');\n",
              "          docLink.innerHTML = docLinkHtml;\n",
              "          element.appendChild(docLink);\n",
              "        }\n",
              "      </script>\n",
              "    </div>\n",
              "  </div>\n",
              "  "
            ]
          },
          "metadata": {},
          "execution_count": 190
        }
      ]
    },
    {
      "cell_type": "code",
      "source": [
        "df2=df1.corr()\n",
        "sns.heatmap(df2)"
      ],
      "metadata": {
        "colab": {
          "base_uri": "https://localhost:8080/",
          "height": 386
        },
        "id": "LhcXtrXp5f72",
        "outputId": "06f3a83e-c8d3-4eca-83f8-3b3004de124b"
      },
      "execution_count": null,
      "outputs": [
        {
          "output_type": "execute_result",
          "data": {
            "text/plain": [
              "<matplotlib.axes._subplots.AxesSubplot at 0x7f246bc8dc10>"
            ]
          },
          "metadata": {},
          "execution_count": 191
        },
        {
          "output_type": "display_data",
          "data": {
            "text/plain": [
              "<Figure size 432x288 with 2 Axes>"
            ],
            "image/png": "[encoded data removed]"
          },
          "metadata": {
            "needs_background": "light"
          }
        }
      ]
    },
    {
      "cell_type": "markdown",
      "source": [
        "As it is observed from the correlation matrix that 'TeamLaunch' and 'HighestPositionHeld' are the least correlated columns\n",
        "\n",
        "Also,\n",
        "Tournament Champion and Runner-up columns are mostly correlated with 'Score', 'BasketScored' and 'WonGame' columns\n",
        "\n",
        "Hence, a that team have high chance to win a tournament and can be considered for investment which have good numbers in the above these 3 columns  "
      ],
      "metadata": {
        "id": "qEXR6glcTlTj"
      }
    },
    {
      "cell_type": "markdown",
      "source": [
        "###3 Observations, improvements and suggestions"
      ],
      "metadata": {
        "id": "8a4C-lkDXeaU"
      }
    },
    {
      "cell_type": "code",
      "source": [
        "df['winratio']=df['WonGames']/df['PlayedGames']"
      ],
      "metadata": {
        "id": "K4ATwntC7H4Y"
      },
      "execution_count": null,
      "outputs": []
    },
    {
      "cell_type": "code",
      "source": [
        "df.sort_values(by='winratio', ascending=False).head(10)"
      ],
      "metadata": {
        "colab": {
          "base_uri": "https://localhost:8080/",
          "height": 444
        },
        "id": "ScRjaPOXVija",
        "outputId": "ae119cb5-cf23-42d1-ae78-9567ec2878de"
      },
      "execution_count": null,
      "outputs": [
        {
          "output_type": "execute_result",
          "data": {
            "text/plain": [
              "    Team  Tournament   Score  PlayedGames  WonGames  DrawnGames  LostGames  \\\n",
              "0      1          86  4385.0       2762.0    1647.0       552.0      563.0   \n",
              "1      2          86  4262.0       2762.0    1581.0       573.0      608.0   \n",
              "2      3          80  3442.0       2614.0    1241.0       598.0      775.0   \n",
              "3      4          82  3386.0       2664.0    1187.0       616.0      861.0   \n",
              "4      5          86  3368.0       2762.0    1209.0       633.0      920.0   \n",
              "20    21          17   970.0        646.0     266.0       172.0      208.0   \n",
              "5      6          73  2819.0       2408.0     990.0       531.0      887.0   \n",
              "7      8          70  2573.0       2302.0     864.0       577.0      861.0   \n",
              "10    11          45  1814.0       1530.0     563.0       392.0      575.0   \n",
              "6      7          82  2792.0       2626.0     948.0       608.0     1070.0   \n",
              "\n",
              "    BasketScored  BasketGiven  TournamentChampion  Runner-up  TeamLaunch  \\\n",
              "0         5947.0       3140.0                33.0       23.0        1929   \n",
              "1         5900.0       3114.0                25.0       25.0        1929   \n",
              "2         4534.0       3309.0                10.0        8.0        1929   \n",
              "3         4398.0       3469.0                 6.0        6.0        1931   \n",
              "4         4631.0       3700.0                 8.0        7.0        1929   \n",
              "20         892.0        789.0                 0.0        1.0        1998   \n",
              "5         3680.0       3373.0                 1.0        4.0        1934   \n",
              "7         3228.0       3230.0                 2.0        3.0        1929   \n",
              "10        2052.0       2188.0                 1.0        5.0        1941   \n",
              "6         3609.0       3889.0                 0.0        0.0        1929   \n",
              "\n",
              "    HighestPositionHeld  winratio  \n",
              "0                     1  0.596307  \n",
              "1                     1  0.572411  \n",
              "2                     1  0.474751  \n",
              "3                     1  0.445571  \n",
              "4                     1  0.437726  \n",
              "20                    2  0.411765  \n",
              "5                     1  0.411130  \n",
              "7                     1  0.375326  \n",
              "10                    1  0.367974  \n",
              "6                     3  0.361005  "
            ],
            "text/html": [
              "\n",
              "  <div id=\"df-33790dab-9905-4a5b-9118-b1cd44614314\">\n",
              "    <div class=\"colab-df-container\">\n",
              "      <div>\n",
              "<style scoped>\n",
              "    .dataframe tbody tr th:only-of-type {\n",
              "        vertical-align: middle;\n",
              "    }\n",
              "\n",
              "    .dataframe tbody tr th {\n",
              "        vertical-align: top;\n",
              "    }\n",
              "\n",
              "    .dataframe thead th {\n",
              "        text-align: right;\n",
              "    }\n",
              "</style>\n",
              "<table border=\"1\" class=\"dataframe\">\n",
              "  <thead>\n",
              "    <tr style=\"text-align: right;\">\n",
              "      <th></th>\n",
              "      <th>Team</th>\n",
              "      <th>Tournament</th>\n",
              "      <th>Score</th>\n",
              "      <th>PlayedGames</th>\n",
              "      <th>WonGames</th>\n",
              "      <th>DrawnGames</th>\n",
              "      <th>LostGames</th>\n",
              "      <th>BasketScored</th>\n",
              "      <th>BasketGiven</th>\n",
              "      <th>TournamentChampion</th>\n",
              "      <th>Runner-up</th>\n",
              "      <th>TeamLaunch</th>\n",
              "      <th>HighestPositionHeld</th>\n",
              "      <th>winratio</th>\n",
              "    </tr>\n",
              "  </thead>\n",
              "  <tbody>\n",
              "    <tr>\n",
              "      <th>0</th>\n",
              "      <td>1</td>\n",
              "      <td>86</td>\n",
              "      <td>4385.0</td>\n",
              "      <td>2762.0</td>\n",
              "      <td>1647.0</td>\n",
              "      <td>552.0</td>\n",
              "      <td>563.0</td>\n",
              "      <td>5947.0</td>\n",
              "      <td>3140.0</td>\n",
              "      <td>33.0</td>\n",
              "      <td>23.0</td>\n",
              "      <td>1929</td>\n",
              "      <td>1</td>\n",
              "      <td>0.596307</td>\n",
              "    </tr>\n",
              "    <tr>\n",
              "      <th>1</th>\n",
              "      <td>2</td>\n",
              "      <td>86</td>\n",
              "      <td>4262.0</td>\n",
              "      <td>2762.0</td>\n",
              "      <td>1581.0</td>\n",
              "      <td>573.0</td>\n",
              "      <td>608.0</td>\n",
              "      <td>5900.0</td>\n",
              "      <td>3114.0</td>\n",
              "      <td>25.0</td>\n",
              "      <td>25.0</td>\n",
              "      <td>1929</td>\n",
              "      <td>1</td>\n",
              "      <td>0.572411</td>\n",
              "    </tr>\n",
              "    <tr>\n",
              "      <th>2</th>\n",
              "      <td>3</td>\n",
              "      <td>80</td>\n",
              "      <td>3442.0</td>\n",
              "      <td>2614.0</td>\n",
              "      <td>1241.0</td>\n",
              "      <td>598.0</td>\n",
              "      <td>775.0</td>\n",
              "      <td>4534.0</td>\n",
              "      <td>3309.0</td>\n",
              "      <td>10.0</td>\n",
              "      <td>8.0</td>\n",
              "      <td>1929</td>\n",
              "      <td>1</td>\n",
              "      <td>0.474751</td>\n",
              "    </tr>\n",
              "    <tr>\n",
              "      <th>3</th>\n",
              "      <td>4</td>\n",
              "      <td>82</td>\n",
              "      <td>3386.0</td>\n",
              "      <td>2664.0</td>\n",
              "      <td>1187.0</td>\n",
              "      <td>616.0</td>\n",
              "      <td>861.0</td>\n",
              "      <td>4398.0</td>\n",
              "      <td>3469.0</td>\n",
              "      <td>6.0</td>\n",
              "      <td>6.0</td>\n",
              "      <td>1931</td>\n",
              "      <td>1</td>\n",
              "      <td>0.445571</td>\n",
              "    </tr>\n",
              "    <tr>\n",
              "      <th>4</th>\n",
              "      <td>5</td>\n",
              "      <td>86</td>\n",
              "      <td>3368.0</td>\n",
              "      <td>2762.0</td>\n",
              "      <td>1209.0</td>\n",
              "      <td>633.0</td>\n",
              "      <td>920.0</td>\n",
              "      <td>4631.0</td>\n",
              "      <td>3700.0</td>\n",
              "      <td>8.0</td>\n",
              "      <td>7.0</td>\n",
              "      <td>1929</td>\n",
              "      <td>1</td>\n",
              "      <td>0.437726</td>\n",
              "    </tr>\n",
              "    <tr>\n",
              "      <th>20</th>\n",
              "      <td>21</td>\n",
              "      <td>17</td>\n",
              "      <td>970.0</td>\n",
              "      <td>646.0</td>\n",
              "      <td>266.0</td>\n",
              "      <td>172.0</td>\n",
              "      <td>208.0</td>\n",
              "      <td>892.0</td>\n",
              "      <td>789.0</td>\n",
              "      <td>0.0</td>\n",
              "      <td>1.0</td>\n",
              "      <td>1998</td>\n",
              "      <td>2</td>\n",
              "      <td>0.411765</td>\n",
              "    </tr>\n",
              "    <tr>\n",
              "      <th>5</th>\n",
              "      <td>6</td>\n",
              "      <td>73</td>\n",
              "      <td>2819.0</td>\n",
              "      <td>2408.0</td>\n",
              "      <td>990.0</td>\n",
              "      <td>531.0</td>\n",
              "      <td>887.0</td>\n",
              "      <td>3680.0</td>\n",
              "      <td>3373.0</td>\n",
              "      <td>1.0</td>\n",
              "      <td>4.0</td>\n",
              "      <td>1934</td>\n",
              "      <td>1</td>\n",
              "      <td>0.411130</td>\n",
              "    </tr>\n",
              "    <tr>\n",
              "      <th>7</th>\n",
              "      <td>8</td>\n",
              "      <td>70</td>\n",
              "      <td>2573.0</td>\n",
              "      <td>2302.0</td>\n",
              "      <td>864.0</td>\n",
              "      <td>577.0</td>\n",
              "      <td>861.0</td>\n",
              "      <td>3228.0</td>\n",
              "      <td>3230.0</td>\n",
              "      <td>2.0</td>\n",
              "      <td>3.0</td>\n",
              "      <td>1929</td>\n",
              "      <td>1</td>\n",
              "      <td>0.375326</td>\n",
              "    </tr>\n",
              "    <tr>\n",
              "      <th>10</th>\n",
              "      <td>11</td>\n",
              "      <td>45</td>\n",
              "      <td>1814.0</td>\n",
              "      <td>1530.0</td>\n",
              "      <td>563.0</td>\n",
              "      <td>392.0</td>\n",
              "      <td>575.0</td>\n",
              "      <td>2052.0</td>\n",
              "      <td>2188.0</td>\n",
              "      <td>1.0</td>\n",
              "      <td>5.0</td>\n",
              "      <td>1941</td>\n",
              "      <td>1</td>\n",
              "      <td>0.367974</td>\n",
              "    </tr>\n",
              "    <tr>\n",
              "      <th>6</th>\n",
              "      <td>7</td>\n",
              "      <td>82</td>\n",
              "      <td>2792.0</td>\n",
              "      <td>2626.0</td>\n",
              "      <td>948.0</td>\n",
              "      <td>608.0</td>\n",
              "      <td>1070.0</td>\n",
              "      <td>3609.0</td>\n",
              "      <td>3889.0</td>\n",
              "      <td>0.0</td>\n",
              "      <td>0.0</td>\n",
              "      <td>1929</td>\n",
              "      <td>3</td>\n",
              "      <td>0.361005</td>\n",
              "    </tr>\n",
              "  </tbody>\n",
              "</table>\n",
              "</div>\n",
              "      <button class=\"colab-df-convert\" onclick=\"convertToInteractive('df-33790dab-9905-4a5b-9118-b1cd44614314')\"\n",
              "              title=\"Convert this dataframe to an interactive table.\"\n",
              "              style=\"display:none;\">\n",
              "        \n",
              "  <svg xmlns=\"http://www.w3.org/2000/svg\" height=\"24px\"viewBox=\"0 0 24 24\"\n",
              "       width=\"24px\">\n",
              "    <path d=\"M0 0h24v24H0V0z\" fill=\"none\"/>\n",
              "    <path d=\"M18.56 5.44l.94 2.06.94-2.06 2.06-.94-2.06-.94-.94-2.06-.94 2.06-2.06.94zm-11 1L8.5 8.5l.94-2.06 2.06-.94-2.06-.94L8.5 2.5l-.94 2.06-2.06.94zm10 10l.94 2.06.94-2.06 2.06-.94-2.06-.94-.94-2.06-.94 2.06-2.06.94z\"/><path d=\"M17.41 7.96l-1.37-1.37c-.4-.4-.92-.59-1.43-.59-.52 0-1.04.2-1.43.59L10.3 9.45l-7.72 7.72c-.78.78-.78 2.05 0 2.83L4 21.41c.39.39.9.59 1.41.59.51 0 1.02-.2 1.41-.59l7.78-7.78 2.81-2.81c.8-.78.8-2.07 0-2.86zM5.41 20L4 18.59l7.72-7.72 1.47 1.35L5.41 20z\"/>\n",
              "  </svg>\n",
              "      </button>\n",
              "      \n",
              "  <style>\n",
              "    .colab-df-container {\n",
              "      display:flex;\n",
              "      flex-wrap:wrap;\n",
              "      gap: 12px;\n",
              "    }\n",
              "\n",
              "    .colab-df-convert {\n",
              "      background-color: #E8F0FE;\n",
              "      border: none;\n",
              "      border-radius: 50%;\n",
              "      cursor: pointer;\n",
              "      display: none;\n",
              "      fill: #1967D2;\n",
              "      height: 32px;\n",
              "      padding: 0 0 0 0;\n",
              "      width: 32px;\n",
              "    }\n",
              "\n",
              "    .colab-df-convert:hover {\n",
              "      background-color: #E2EBFA;\n",
              "      box-shadow: 0px 1px 2px rgba(60, 64, 67, 0.3), 0px 1px 3px 1px rgba(60, 64, 67, 0.15);\n",
              "      fill: #174EA6;\n",
              "    }\n",
              "\n",
              "    [theme=dark] .colab-df-convert {\n",
              "      background-color: #3B4455;\n",
              "      fill: #D2E3FC;\n",
              "    }\n",
              "\n",
              "    [theme=dark] .colab-df-convert:hover {\n",
              "      background-color: #434B5C;\n",
              "      box-shadow: 0px 1px 3px 1px rgba(0, 0, 0, 0.15);\n",
              "      filter: drop-shadow(0px 1px 2px rgba(0, 0, 0, 0.3));\n",
              "      fill: #FFFFFF;\n",
              "    }\n",
              "  </style>\n",
              "\n",
              "      <script>\n",
              "        const buttonEl =\n",
              "          document.querySelector('#df-33790dab-9905-4a5b-9118-b1cd44614314 button.colab-df-convert');\n",
              "        buttonEl.style.display =\n",
              "          google.colab.kernel.accessAllowed ? 'block' : 'none';\n",
              "\n",
              "        async function convertToInteractive(key) {\n",
              "          const element = document.querySelector('#df-33790dab-9905-4a5b-9118-b1cd44614314');\n",
              "          const dataTable =\n",
              "            await google.colab.kernel.invokeFunction('convertToInteractive',\n",
              "                                                     [key], {});\n",
              "          if (!dataTable) return;\n",
              "\n",
              "          const docLinkHtml = 'Like what you see? Visit the ' +\n",
              "            '<a target=\"_blank\" href=https://colab.research.google.com/notebooks/data_table.ipynb>data table notebook</a>'\n",
              "            + ' to learn more about interactive tables.';\n",
              "          element.innerHTML = '';\n",
              "          dataTable['output_type'] = 'display_data';\n",
              "          await google.colab.output.renderOutput(dataTable, element);\n",
              "          const docLink = document.createElement('div');\n",
              "          docLink.innerHTML = docLinkHtml;\n",
              "          element.appendChild(docLink);\n",
              "        }\n",
              "      </script>\n",
              "    </div>\n",
              "  </div>\n",
              "  "
            ]
          },
          "metadata": {},
          "execution_count": 193
        }
      ]
    },
    {
      "cell_type": "markdown",
      "source": [
        "Here are the top 10 teams having good win ratio"
      ],
      "metadata": {
        "id": "fp8eUW85Xhhz"
      }
    },
    {
      "cell_type": "code",
      "source": [
        "df['Scoredratio']=df['Score']/df['PlayedGames']"
      ],
      "metadata": {
        "id": "01n-eCzVVjGE"
      },
      "execution_count": null,
      "outputs": []
    },
    {
      "cell_type": "code",
      "source": [
        "df.sort_values(by='winratio', ascending=False).head(10)"
      ],
      "metadata": {
        "colab": {
          "base_uri": "https://localhost:8080/",
          "height": 444
        },
        "id": "_MYZ2Lt1XHh0",
        "outputId": "20395363-1f84-4b5d-afdb-1aff19238f26"
      },
      "execution_count": null,
      "outputs": [
        {
          "output_type": "execute_result",
          "data": {
            "text/plain": [
              "    Team  Tournament   Score  PlayedGames  WonGames  DrawnGames  LostGames  \\\n",
              "0      1          86  4385.0       2762.0    1647.0       552.0      563.0   \n",
              "1      2          86  4262.0       2762.0    1581.0       573.0      608.0   \n",
              "2      3          80  3442.0       2614.0    1241.0       598.0      775.0   \n",
              "3      4          82  3386.0       2664.0    1187.0       616.0      861.0   \n",
              "4      5          86  3368.0       2762.0    1209.0       633.0      920.0   \n",
              "20    21          17   970.0        646.0     266.0       172.0      208.0   \n",
              "5      6          73  2819.0       2408.0     990.0       531.0      887.0   \n",
              "7      8          70  2573.0       2302.0     864.0       577.0      861.0   \n",
              "10    11          45  1814.0       1530.0     563.0       392.0      575.0   \n",
              "6      7          82  2792.0       2626.0     948.0       608.0     1070.0   \n",
              "\n",
              "    BasketScored  BasketGiven  TournamentChampion  Runner-up  TeamLaunch  \\\n",
              "0         5947.0       3140.0                33.0       23.0        1929   \n",
              "1         5900.0       3114.0                25.0       25.0        1929   \n",
              "2         4534.0       3309.0                10.0        8.0        1929   \n",
              "3         4398.0       3469.0                 6.0        6.0        1931   \n",
              "4         4631.0       3700.0                 8.0        7.0        1929   \n",
              "20         892.0        789.0                 0.0        1.0        1998   \n",
              "5         3680.0       3373.0                 1.0        4.0        1934   \n",
              "7         3228.0       3230.0                 2.0        3.0        1929   \n",
              "10        2052.0       2188.0                 1.0        5.0        1941   \n",
              "6         3609.0       3889.0                 0.0        0.0        1929   \n",
              "\n",
              "    HighestPositionHeld  winratio  Scoredratio  \n",
              "0                     1  0.596307     1.587618  \n",
              "1                     1  0.572411     1.543085  \n",
              "2                     1  0.474751     1.316756  \n",
              "3                     1  0.445571     1.271021  \n",
              "4                     1  0.437726     1.219406  \n",
              "20                    2  0.411765     1.501548  \n",
              "5                     1  0.411130     1.170681  \n",
              "7                     1  0.375326     1.117724  \n",
              "10                    1  0.367974     1.185621  \n",
              "6                     3  0.361005     1.063214  "
            ],
            "text/html": [
              "\n",
              "  <div id=\"df-cca9b4c1-6434-4be4-a73f-b4c9195cd680\">\n",
              "    <div class=\"colab-df-container\">\n",
              "      <div>\n",
              "<style scoped>\n",
              "    .dataframe tbody tr th:only-of-type {\n",
              "        vertical-align: middle;\n",
              "    }\n",
              "\n",
              "    .dataframe tbody tr th {\n",
              "        vertical-align: top;\n",
              "    }\n",
              "\n",
              "    .dataframe thead th {\n",
              "        text-align: right;\n",
              "    }\n",
              "</style>\n",
              "<table border=\"1\" class=\"dataframe\">\n",
              "  <thead>\n",
              "    <tr style=\"text-align: right;\">\n",
              "      <th></th>\n",
              "      <th>Team</th>\n",
              "      <th>Tournament</th>\n",
              "      <th>Score</th>\n",
              "      <th>PlayedGames</th>\n",
              "      <th>WonGames</th>\n",
              "      <th>DrawnGames</th>\n",
              "      <th>LostGames</th>\n",
              "      <th>BasketScored</th>\n",
              "      <th>BasketGiven</th>\n",
              "      <th>TournamentChampion</th>\n",
              "      <th>Runner-up</th>\n",
              "      <th>TeamLaunch</th>\n",
              "      <th>HighestPositionHeld</th>\n",
              "      <th>winratio</th>\n",
              "      <th>Scoredratio</th>\n",
              "    </tr>\n",
              "  </thead>\n",
              "  <tbody>\n",
              "    <tr>\n",
              "      <th>0</th>\n",
              "      <td>1</td>\n",
              "      <td>86</td>\n",
              "      <td>4385.0</td>\n",
              "      <td>2762.0</td>\n",
              "      <td>1647.0</td>\n",
              "      <td>552.0</td>\n",
              "      <td>563.0</td>\n",
              "      <td>5947.0</td>\n",
              "      <td>3140.0</td>\n",
              "      <td>33.0</td>\n",
              "      <td>23.0</td>\n",
              "      <td>1929</td>\n",
              "      <td>1</td>\n",
              "      <td>0.596307</td>\n",
              "      <td>1.587618</td>\n",
              "    </tr>\n",
              "    <tr>\n",
              "      <th>1</th>\n",
              "      <td>2</td>\n",
              "      <td>86</td>\n",
              "      <td>4262.0</td>\n",
              "      <td>2762.0</td>\n",
              "      <td>1581.0</td>\n",
              "      <td>573.0</td>\n",
              "      <td>608.0</td>\n",
              "      <td>5900.0</td>\n",
              "      <td>3114.0</td>\n",
              "      <td>25.0</td>\n",
              "      <td>25.0</td>\n",
              "      <td>1929</td>\n",
              "      <td>1</td>\n",
              "      <td>0.572411</td>\n",
              "      <td>1.543085</td>\n",
              "    </tr>\n",
              "    <tr>\n",
              "      <th>2</th>\n",
              "      <td>3</td>\n",
              "      <td>80</td>\n",
              "      <td>3442.0</td>\n",
              "      <td>2614.0</td>\n",
              "      <td>1241.0</td>\n",
              "      <td>598.0</td>\n",
              "      <td>775.0</td>\n",
              "      <td>4534.0</td>\n",
              "      <td>3309.0</td>\n",
              "      <td>10.0</td>\n",
              "      <td>8.0</td>\n",
              "      <td>1929</td>\n",
              "      <td>1</td>\n",
              "      <td>0.474751</td>\n",
              "      <td>1.316756</td>\n",
              "    </tr>\n",
              "    <tr>\n",
              "      <th>3</th>\n",
              "      <td>4</td>\n",
              "      <td>82</td>\n",
              "      <td>3386.0</td>\n",
              "      <td>2664.0</td>\n",
              "      <td>1187.0</td>\n",
              "      <td>616.0</td>\n",
              "      <td>861.0</td>\n",
              "      <td>4398.0</td>\n",
              "      <td>3469.0</td>\n",
              "      <td>6.0</td>\n",
              "      <td>6.0</td>\n",
              "      <td>1931</td>\n",
              "      <td>1</td>\n",
              "      <td>0.445571</td>\n",
              "      <td>1.271021</td>\n",
              "    </tr>\n",
              "    <tr>\n",
              "      <th>4</th>\n",
              "      <td>5</td>\n",
              "      <td>86</td>\n",
              "      <td>3368.0</td>\n",
              "      <td>2762.0</td>\n",
              "      <td>1209.0</td>\n",
              "      <td>633.0</td>\n",
              "      <td>920.0</td>\n",
              "      <td>4631.0</td>\n",
              "      <td>3700.0</td>\n",
              "      <td>8.0</td>\n",
              "      <td>7.0</td>\n",
              "      <td>1929</td>\n",
              "      <td>1</td>\n",
              "      <td>0.437726</td>\n",
              "      <td>1.219406</td>\n",
              "    </tr>\n",
              "    <tr>\n",
              "      <th>20</th>\n",
              "      <td>21</td>\n",
              "      <td>17</td>\n",
              "      <td>970.0</td>\n",
              "      <td>646.0</td>\n",
              "      <td>266.0</td>\n",
              "      <td>172.0</td>\n",
              "      <td>208.0</td>\n",
              "      <td>892.0</td>\n",
              "      <td>789.0</td>\n",
              "      <td>0.0</td>\n",
              "      <td>1.0</td>\n",
              "      <td>1998</td>\n",
              "      <td>2</td>\n",
              "      <td>0.411765</td>\n",
              "      <td>1.501548</td>\n",
              "    </tr>\n",
              "    <tr>\n",
              "      <th>5</th>\n",
              "      <td>6</td>\n",
              "      <td>73</td>\n",
              "      <td>2819.0</td>\n",
              "      <td>2408.0</td>\n",
              "      <td>990.0</td>\n",
              "      <td>531.0</td>\n",
              "      <td>887.0</td>\n",
              "      <td>3680.0</td>\n",
              "      <td>3373.0</td>\n",
              "      <td>1.0</td>\n",
              "      <td>4.0</td>\n",
              "      <td>1934</td>\n",
              "      <td>1</td>\n",
              "      <td>0.411130</td>\n",
              "      <td>1.170681</td>\n",
              "    </tr>\n",
              "    <tr>\n",
              "      <th>7</th>\n",
              "      <td>8</td>\n",
              "      <td>70</td>\n",
              "      <td>2573.0</td>\n",
              "      <td>2302.0</td>\n",
              "      <td>864.0</td>\n",
              "      <td>577.0</td>\n",
              "      <td>861.0</td>\n",
              "      <td>3228.0</td>\n",
              "      <td>3230.0</td>\n",
              "      <td>2.0</td>\n",
              "      <td>3.0</td>\n",
              "      <td>1929</td>\n",
              "      <td>1</td>\n",
              "      <td>0.375326</td>\n",
              "      <td>1.117724</td>\n",
              "    </tr>\n",
              "    <tr>\n",
              "      <th>10</th>\n",
              "      <td>11</td>\n",
              "      <td>45</td>\n",
              "      <td>1814.0</td>\n",
              "      <td>1530.0</td>\n",
              "      <td>563.0</td>\n",
              "      <td>392.0</td>\n",
              "      <td>575.0</td>\n",
              "      <td>2052.0</td>\n",
              "      <td>2188.0</td>\n",
              "      <td>1.0</td>\n",
              "      <td>5.0</td>\n",
              "      <td>1941</td>\n",
              "      <td>1</td>\n",
              "      <td>0.367974</td>\n",
              "      <td>1.185621</td>\n",
              "    </tr>\n",
              "    <tr>\n",
              "      <th>6</th>\n",
              "      <td>7</td>\n",
              "      <td>82</td>\n",
              "      <td>2792.0</td>\n",
              "      <td>2626.0</td>\n",
              "      <td>948.0</td>\n",
              "      <td>608.0</td>\n",
              "      <td>1070.0</td>\n",
              "      <td>3609.0</td>\n",
              "      <td>3889.0</td>\n",
              "      <td>0.0</td>\n",
              "      <td>0.0</td>\n",
              "      <td>1929</td>\n",
              "      <td>3</td>\n",
              "      <td>0.361005</td>\n",
              "      <td>1.063214</td>\n",
              "    </tr>\n",
              "  </tbody>\n",
              "</table>\n",
              "</div>\n",
              "      <button class=\"colab-df-convert\" onclick=\"convertToInteractive('df-cca9b4c1-6434-4be4-a73f-b4c9195cd680')\"\n",
              "              title=\"Convert this dataframe to an interactive table.\"\n",
              "              style=\"display:none;\">\n",
              "        \n",
              "  <svg xmlns=\"http://www.w3.org/2000/svg\" height=\"24px\"viewBox=\"0 0 24 24\"\n",
              "       width=\"24px\">\n",
              "    <path d=\"M0 0h24v24H0V0z\" fill=\"none\"/>\n",
              "    <path d=\"M18.56 5.44l.94 2.06.94-2.06 2.06-.94-2.06-.94-.94-2.06-.94 2.06-2.06.94zm-11 1L8.5 8.5l.94-2.06 2.06-.94-2.06-.94L8.5 2.5l-.94 2.06-2.06.94zm10 10l.94 2.06.94-2.06 2.06-.94-2.06-.94-.94-2.06-.94 2.06-2.06.94z\"/><path d=\"M17.41 7.96l-1.37-1.37c-.4-.4-.92-.59-1.43-.59-.52 0-1.04.2-1.43.59L10.3 9.45l-7.72 7.72c-.78.78-.78 2.05 0 2.83L4 21.41c.39.39.9.59 1.41.59.51 0 1.02-.2 1.41-.59l7.78-7.78 2.81-2.81c.8-.78.8-2.07 0-2.86zM5.41 20L4 18.59l7.72-7.72 1.47 1.35L5.41 20z\"/>\n",
              "  </svg>\n",
              "      </button>\n",
              "      \n",
              "  <style>\n",
              "    .colab-df-container {\n",
              "      display:flex;\n",
              "      flex-wrap:wrap;\n",
              "      gap: 12px;\n",
              "    }\n",
              "\n",
              "    .colab-df-convert {\n",
              "      background-color: #E8F0FE;\n",
              "      border: none;\n",
              "      border-radius: 50%;\n",
              "      cursor: pointer;\n",
              "      display: none;\n",
              "      fill: #1967D2;\n",
              "      height: 32px;\n",
              "      padding: 0 0 0 0;\n",
              "      width: 32px;\n",
              "    }\n",
              "\n",
              "    .colab-df-convert:hover {\n",
              "      background-color: #E2EBFA;\n",
              "      box-shadow: 0px 1px 2px rgba(60, 64, 67, 0.3), 0px 1px 3px 1px rgba(60, 64, 67, 0.15);\n",
              "      fill: #174EA6;\n",
              "    }\n",
              "\n",
              "    [theme=dark] .colab-df-convert {\n",
              "      background-color: #3B4455;\n",
              "      fill: #D2E3FC;\n",
              "    }\n",
              "\n",
              "    [theme=dark] .colab-df-convert:hover {\n",
              "      background-color: #434B5C;\n",
              "      box-shadow: 0px 1px 3px 1px rgba(0, 0, 0, 0.15);\n",
              "      filter: drop-shadow(0px 1px 2px rgba(0, 0, 0, 0.3));\n",
              "      fill: #FFFFFF;\n",
              "    }\n",
              "  </style>\n",
              "\n",
              "      <script>\n",
              "        const buttonEl =\n",
              "          document.querySelector('#df-cca9b4c1-6434-4be4-a73f-b4c9195cd680 button.colab-df-convert');\n",
              "        buttonEl.style.display =\n",
              "          google.colab.kernel.accessAllowed ? 'block' : 'none';\n",
              "\n",
              "        async function convertToInteractive(key) {\n",
              "          const element = document.querySelector('#df-cca9b4c1-6434-4be4-a73f-b4c9195cd680');\n",
              "          const dataTable =\n",
              "            await google.colab.kernel.invokeFunction('convertToInteractive',\n",
              "                                                     [key], {});\n",
              "          if (!dataTable) return;\n",
              "\n",
              "          const docLinkHtml = 'Like what you see? Visit the ' +\n",
              "            '<a target=\"_blank\" href=https://colab.research.google.com/notebooks/data_table.ipynb>data table notebook</a>'\n",
              "            + ' to learn more about interactive tables.';\n",
              "          element.innerHTML = '';\n",
              "          dataTable['output_type'] = 'display_data';\n",
              "          await google.colab.output.renderOutput(dataTable, element);\n",
              "          const docLink = document.createElement('div');\n",
              "          docLink.innerHTML = docLinkHtml;\n",
              "          element.appendChild(docLink);\n",
              "        }\n",
              "      </script>\n",
              "    </div>\n",
              "  </div>\n",
              "  "
            ]
          },
          "metadata": {},
          "execution_count": 195
        }
      ]
    },
    {
      "cell_type": "markdown",
      "source": [
        "Here are the top 10 teams having good score ratio"
      ],
      "metadata": {
        "id": "7IGyNMnFX45y"
      }
    },
    {
      "cell_type": "markdown",
      "source": [
        "It is clear from the data that team 1,team2, team3, team4, team5 are among the top favourities for the investment"
      ],
      "metadata": {
        "id": "ah1ltBDBYIJh"
      }
    },
    {
      "cell_type": "markdown",
      "source": [
        "As observed from the data  , Emerging teams like Team 20 and Team 10 have good win ratio and can be considered by  Company’s management for investment"
      ],
      "metadata": {
        "id": "TT8WwoeBiJjh"
      }
    },
    {
      "cell_type": "markdown",
      "source": [
        "As there are many new teams with less data so It will be considered good if the association management also collects the below few records of team\n",
        "\n",
        "1.avarage score of a team per match,\n",
        "\n",
        "2 Win margine ,\n",
        "\n",
        "3 loss margin,\n",
        "\n",
        "4.number of fauls by any team per match\n",
        "\n",
        "it will help in better analysis of the performance even for teams having less records"
      ],
      "metadata": {
        "id": "CvVjXDXRf2la"
      }
    },
    {
      "cell_type": "markdown",
      "source": [
        "It will be more helpful for the analysis of new teams if the data will based on performance of the team per game instead of collective data."
      ],
      "metadata": {
        "id": "Ts1rCSTgjBQu"
      }
    },
    {
      "cell_type": "code",
      "source": [],
      "metadata": {
        "id": "32keJ4YDuCWT"
      },
      "execution_count": null,
      "outputs": []
    },
    {
      "cell_type": "markdown",
      "source": [
        "###**PART 3**"
      ],
      "metadata": {
        "id": "qQyMmNj4uB9w"
      }
    },
    {
      "cell_type": "code",
      "source": [],
      "metadata": {
        "id": "q6KPVQ2suFgO"
      },
      "execution_count": null,
      "outputs": []
    },
    {
      "cell_type": "code",
      "execution_count": null,
      "metadata": {
        "id": "PeQvrPW5vG3g"
      },
      "outputs": [],
      "source": [
        "import numpy as np\n",
        "import pandas as pd\n",
        "import scipy.stats as stats\n",
        "import matplotlib.pyplot as plt\n",
        "import seaborn as sns\n",
        "%matplotlib inline"
      ]
    },
    {
      "cell_type": "code",
      "execution_count": null,
      "metadata": {
        "colab": {
          "base_uri": "https://localhost:8080/"
        },
        "id": "Vce-PvZct9bg",
        "outputId": "6bf61613-7cf2-4a49-efc9-0693f2db2015"
      },
      "outputs": [
        {
          "output_type": "stream",
          "name": "stdout",
          "text": [
            "Drive already mounted at /content/drive; to attempt to forcibly remount, call drive.mount(\"/content/drive\", force_remount=True).\n"
          ]
        }
      ],
      "source": [
        "from google.colab import drive\n",
        "drive.mount('/content/drive')"
      ]
    },
    {
      "cell_type": "code",
      "execution_count": null,
      "metadata": {
        "id": "FgVrYPV2j9cL"
      },
      "outputs": [],
      "source": [
        "df=pd.read_csv('/content/drive/MyDrive/CompanyX_EU.csv')"
      ]
    },
    {
      "cell_type": "code",
      "execution_count": null,
      "metadata": {
        "colab": {
          "base_uri": "https://localhost:8080/",
          "height": 206
        },
        "id": "vwS-f5bcGDvd",
        "outputId": "1c30a646-3870-4c93-acb7-e578fa41512b"
      },
      "outputs": [
        {
          "output_type": "execute_result",
          "data": {
            "text/plain": [
              "           Startup             Product Funding             Event  \\\n",
              "0           2600Hz          2600hz.com     NaN   Disrupt SF 2013   \n",
              "1             3DLT            3dlt.com   $630K  Disrupt NYC 2013   \n",
              "2      3DPrinterOS     3dprinteros.com     NaN   Disrupt SF 2016   \n",
              "3       3Dprintler      3dprintler.com     $1M   Disrupt NY 2016   \n",
              "4  42 Technologies  42technologies.com     NaN  Disrupt NYC 2013   \n",
              "\n",
              "            Result OperatingState  \n",
              "0       Contestant      Operating  \n",
              "1       Contestant         Closed  \n",
              "2       Contestant      Operating  \n",
              "3  Audience choice      Operating  \n",
              "4       Contestant      Operating  "
            ],
            "text/html": [
              "\n",
              "  <div id=\"df-88621dab-3e9a-4532-9f8b-c38d9573d296\">\n",
              "    <div class=\"colab-df-container\">\n",
              "      <div>\n",
              "<style scoped>\n",
              "    .dataframe tbody tr th:only-of-type {\n",
              "        vertical-align: middle;\n",
              "    }\n",
              "\n",
              "    .dataframe tbody tr th {\n",
              "        vertical-align: top;\n",
              "    }\n",
              "\n",
              "    .dataframe thead th {\n",
              "        text-align: right;\n",
              "    }\n",
              "</style>\n",
              "<table border=\"1\" class=\"dataframe\">\n",
              "  <thead>\n",
              "    <tr style=\"text-align: right;\">\n",
              "      <th></th>\n",
              "      <th>Startup</th>\n",
              "      <th>Product</th>\n",
              "      <th>Funding</th>\n",
              "      <th>Event</th>\n",
              "      <th>Result</th>\n",
              "      <th>OperatingState</th>\n",
              "    </tr>\n",
              "  </thead>\n",
              "  <tbody>\n",
              "    <tr>\n",
              "      <th>0</th>\n",
              "      <td>2600Hz</td>\n",
              "      <td>2600hz.com</td>\n",
              "      <td>NaN</td>\n",
              "      <td>Disrupt SF 2013</td>\n",
              "      <td>Contestant</td>\n",
              "      <td>Operating</td>\n",
              "    </tr>\n",
              "    <tr>\n",
              "      <th>1</th>\n",
              "      <td>3DLT</td>\n",
              "      <td>3dlt.com</td>\n",
              "      <td>$630K</td>\n",
              "      <td>Disrupt NYC 2013</td>\n",
              "      <td>Contestant</td>\n",
              "      <td>Closed</td>\n",
              "    </tr>\n",
              "    <tr>\n",
              "      <th>2</th>\n",
              "      <td>3DPrinterOS</td>\n",
              "      <td>3dprinteros.com</td>\n",
              "      <td>NaN</td>\n",
              "      <td>Disrupt SF 2016</td>\n",
              "      <td>Contestant</td>\n",
              "      <td>Operating</td>\n",
              "    </tr>\n",
              "    <tr>\n",
              "      <th>3</th>\n",
              "      <td>3Dprintler</td>\n",
              "      <td>3dprintler.com</td>\n",
              "      <td>$1M</td>\n",
              "      <td>Disrupt NY 2016</td>\n",
              "      <td>Audience choice</td>\n",
              "      <td>Operating</td>\n",
              "    </tr>\n",
              "    <tr>\n",
              "      <th>4</th>\n",
              "      <td>42 Technologies</td>\n",
              "      <td>42technologies.com</td>\n",
              "      <td>NaN</td>\n",
              "      <td>Disrupt NYC 2013</td>\n",
              "      <td>Contestant</td>\n",
              "      <td>Operating</td>\n",
              "    </tr>\n",
              "  </tbody>\n",
              "</table>\n",
              "</div>\n",
              "      <button class=\"colab-df-convert\" onclick=\"convertToInteractive('df-88621dab-3e9a-4532-9f8b-c38d9573d296')\"\n",
              "              title=\"Convert this dataframe to an interactive table.\"\n",
              "              style=\"display:none;\">\n",
              "        \n",
              "  <svg xmlns=\"http://www.w3.org/2000/svg\" height=\"24px\"viewBox=\"0 0 24 24\"\n",
              "       width=\"24px\">\n",
              "    <path d=\"M0 0h24v24H0V0z\" fill=\"none\"/>\n",
              "    <path d=\"M18.56 5.44l.94 2.06.94-2.06 2.06-.94-2.06-.94-.94-2.06-.94 2.06-2.06.94zm-11 1L8.5 8.5l.94-2.06 2.06-.94-2.06-.94L8.5 2.5l-.94 2.06-2.06.94zm10 10l.94 2.06.94-2.06 2.06-.94-2.06-.94-.94-2.06-.94 2.06-2.06.94z\"/><path d=\"M17.41 7.96l-1.37-1.37c-.4-.4-.92-.59-1.43-.59-.52 0-1.04.2-1.43.59L10.3 9.45l-7.72 7.72c-.78.78-.78 2.05 0 2.83L4 21.41c.39.39.9.59 1.41.59.51 0 1.02-.2 1.41-.59l7.78-7.78 2.81-2.81c.8-.78.8-2.07 0-2.86zM5.41 20L4 18.59l7.72-7.72 1.47 1.35L5.41 20z\"/>\n",
              "  </svg>\n",
              "      </button>\n",
              "      \n",
              "  <style>\n",
              "    .colab-df-container {\n",
              "      display:flex;\n",
              "      flex-wrap:wrap;\n",
              "      gap: 12px;\n",
              "    }\n",
              "\n",
              "    .colab-df-convert {\n",
              "      background-color: #E8F0FE;\n",
              "      border: none;\n",
              "      border-radius: 50%;\n",
              "      cursor: pointer;\n",
              "      display: none;\n",
              "      fill: #1967D2;\n",
              "      height: 32px;\n",
              "      padding: 0 0 0 0;\n",
              "      width: 32px;\n",
              "    }\n",
              "\n",
              "    .colab-df-convert:hover {\n",
              "      background-color: #E2EBFA;\n",
              "      box-shadow: 0px 1px 2px rgba(60, 64, 67, 0.3), 0px 1px 3px 1px rgba(60, 64, 67, 0.15);\n",
              "      fill: #174EA6;\n",
              "    }\n",
              "\n",
              "    [theme=dark] .colab-df-convert {\n",
              "      background-color: #3B4455;\n",
              "      fill: #D2E3FC;\n",
              "    }\n",
              "\n",
              "    [theme=dark] .colab-df-convert:hover {\n",
              "      background-color: #434B5C;\n",
              "      box-shadow: 0px 1px 3px 1px rgba(0, 0, 0, 0.15);\n",
              "      filter: drop-shadow(0px 1px 2px rgba(0, 0, 0, 0.3));\n",
              "      fill: #FFFFFF;\n",
              "    }\n",
              "  </style>\n",
              "\n",
              "      <script>\n",
              "        const buttonEl =\n",
              "          document.querySelector('#df-88621dab-3e9a-4532-9f8b-c38d9573d296 button.colab-df-convert');\n",
              "        buttonEl.style.display =\n",
              "          google.colab.kernel.accessAllowed ? 'block' : 'none';\n",
              "\n",
              "        async function convertToInteractive(key) {\n",
              "          const element = document.querySelector('#df-88621dab-3e9a-4532-9f8b-c38d9573d296');\n",
              "          const dataTable =\n",
              "            await google.colab.kernel.invokeFunction('convertToInteractive',\n",
              "                                                     [key], {});\n",
              "          if (!dataTable) return;\n",
              "\n",
              "          const docLinkHtml = 'Like what you see? Visit the ' +\n",
              "            '<a target=\"_blank\" href=https://colab.research.google.com/notebooks/data_table.ipynb>data table notebook</a>'\n",
              "            + ' to learn more about interactive tables.';\n",
              "          element.innerHTML = '';\n",
              "          dataTable['output_type'] = 'display_data';\n",
              "          await google.colab.output.renderOutput(dataTable, element);\n",
              "          const docLink = document.createElement('div');\n",
              "          docLink.innerHTML = docLinkHtml;\n",
              "          element.appendChild(docLink);\n",
              "        }\n",
              "      </script>\n",
              "    </div>\n",
              "  </div>\n",
              "  "
            ]
          },
          "metadata": {},
          "execution_count": 199
        }
      ],
      "source": [
        "df.head()"
      ]
    },
    {
      "cell_type": "code",
      "execution_count": null,
      "metadata": {
        "colab": {
          "base_uri": "https://localhost:8080/"
        },
        "id": "xpjABDF7GF3a",
        "outputId": "71a4589b-69b2-4f22-aef9-042195ecaaaf"
      },
      "outputs": [
        {
          "output_type": "stream",
          "name": "stdout",
          "text": [
            "<class 'pandas.core.frame.DataFrame'>\n",
            "RangeIndex: 662 entries, 0 to 661\n",
            "Data columns (total 6 columns):\n",
            " #   Column          Non-Null Count  Dtype \n",
            "---  ------          --------------  ----- \n",
            " 0   Startup         662 non-null    object\n",
            " 1   Product         656 non-null    object\n",
            " 2   Funding         448 non-null    object\n",
            " 3   Event           662 non-null    object\n",
            " 4   Result          662 non-null    object\n",
            " 5   OperatingState  662 non-null    object\n",
            "dtypes: object(6)\n",
            "memory usage: 31.2+ KB\n"
          ]
        }
      ],
      "source": [
        "df.info()"
      ]
    },
    {
      "cell_type": "markdown",
      "source": [
        "###**3 A) To drop the Null values**"
      ],
      "metadata": {
        "id": "sPtzcfD6TFWR"
      }
    },
    {
      "cell_type": "markdown",
      "source": [
        "Check the number of null values in the DataFrame"
      ],
      "metadata": {
        "id": "50irkhxGgNjy"
      }
    },
    {
      "cell_type": "code",
      "execution_count": null,
      "metadata": {
        "colab": {
          "base_uri": "https://localhost:8080/"
        },
        "id": "6n8PqKy5GY79",
        "outputId": "782f654e-911c-4c9d-9df1-1a312b5a3964"
      },
      "outputs": [
        {
          "output_type": "execute_result",
          "data": {
            "text/plain": [
              "Startup             0\n",
              "Product             6\n",
              "Funding           214\n",
              "Event               0\n",
              "Result              0\n",
              "OperatingState      0\n",
              "dtype: int64"
            ]
          },
          "metadata": {},
          "execution_count": 201
        }
      ],
      "source": [
        "df.isnull().sum()"
      ]
    },
    {
      "cell_type": "markdown",
      "source": [
        "There are also some '-' values which is needed to be removed"
      ],
      "metadata": {
        "id": "CB6h3IQRTjiw"
      }
    },
    {
      "cell_type": "code",
      "source": [
        "df=df.replace('-', np.NaN)"
      ],
      "metadata": {
        "id": "zQX3Qt_25kr3"
      },
      "execution_count": null,
      "outputs": []
    },
    {
      "cell_type": "code",
      "source": [
        "df.isnull().sum()"
      ],
      "metadata": {
        "colab": {
          "base_uri": "https://localhost:8080/"
        },
        "id": "jdgTZkouPOGu",
        "outputId": "9074edec-7dd4-423f-ae50-194e69bb4380"
      },
      "execution_count": null,
      "outputs": [
        {
          "output_type": "execute_result",
          "data": {
            "text/plain": [
              "Startup             0\n",
              "Product             6\n",
              "Funding           214\n",
              "Event              13\n",
              "Result              0\n",
              "OperatingState      0\n",
              "dtype: int64"
            ]
          },
          "metadata": {},
          "execution_count": 203
        }
      ]
    },
    {
      "cell_type": "code",
      "execution_count": null,
      "metadata": {
        "id": "w4iZ3NEDGhcl"
      },
      "outputs": [],
      "source": [
        "df=df.dropna(how='any')\n"
      ]
    },
    {
      "cell_type": "code",
      "execution_count": null,
      "metadata": {
        "id": "euTcCZrdPAah"
      },
      "outputs": [],
      "source": [
        "df.reset_index(drop=True, inplace=True)"
      ]
    },
    {
      "cell_type": "code",
      "execution_count": null,
      "metadata": {
        "colab": {
          "base_uri": "https://localhost:8080/"
        },
        "id": "t8qH3pOkHTOF",
        "outputId": "8e581f2e-f23a-4c90-fee3-97900742a3da"
      },
      "outputs": [
        {
          "output_type": "execute_result",
          "data": {
            "text/plain": [
              "Startup           0\n",
              "Product           0\n",
              "Funding           0\n",
              "Event             0\n",
              "Result            0\n",
              "OperatingState    0\n",
              "dtype: int64"
            ]
          },
          "metadata": {},
          "execution_count": 206
        }
      ],
      "source": [
        "df.isnull().sum()"
      ]
    },
    {
      "cell_type": "markdown",
      "source": [
        "All the null values are removed from the dataframe"
      ],
      "metadata": {
        "id": "onc3k8WXT3WW"
      }
    },
    {
      "cell_type": "markdown",
      "source": [
        "###**3 b) To Convert the ‘Funding’ features to a numerical value.**"
      ],
      "metadata": {
        "id": "c-pCeLxWT7G9"
      }
    },
    {
      "cell_type": "code",
      "execution_count": null,
      "metadata": {
        "colab": {
          "base_uri": "https://localhost:8080/"
        },
        "id": "R93qmD7aHb0T",
        "outputId": "82df3299-705c-4776-aa6e-58059cf8774c"
      },
      "outputs": [
        {
          "output_type": "stream",
          "name": "stdout",
          "text": [
            "<class 'pandas.core.frame.DataFrame'>\n",
            "RangeIndex: 440 entries, 0 to 439\n",
            "Data columns (total 6 columns):\n",
            " #   Column          Non-Null Count  Dtype \n",
            "---  ------          --------------  ----- \n",
            " 0   Startup         440 non-null    object\n",
            " 1   Product         440 non-null    object\n",
            " 2   Funding         440 non-null    object\n",
            " 3   Event           440 non-null    object\n",
            " 4   Result          440 non-null    object\n",
            " 5   OperatingState  440 non-null    object\n",
            "dtypes: object(6)\n",
            "memory usage: 20.8+ KB\n"
          ]
        }
      ],
      "source": [
        "df.info()"
      ]
    },
    {
      "cell_type": "code",
      "execution_count": null,
      "metadata": {
        "id": "lVwXWrBhHl2F",
        "colab": {
          "base_uri": "https://localhost:8080/",
          "height": 424
        },
        "outputId": "5f05cc24-07dd-4adb-d26a-af45ae2d108b"
      },
      "outputs": [
        {
          "output_type": "execute_result",
          "data": {
            "text/plain": [
              "          Startup          Product  Funding                      Event  \\\n",
              "0            3DLT         3dlt.com    $630K           Disrupt NYC 2013   \n",
              "1      3Dprintler   3dprintler.com      $1M            Disrupt NY 2016   \n",
              "2            5to1         5to1.com   $19.3M                  TC50 2009   \n",
              "3    8 Securities  8securities.com     $29M       Disrupt Beijing 2011   \n",
              "4      AdhereTech   adheretech.com    $1.8M  Hardware Battlefield 2014   \n",
              "..            ...              ...      ...                        ...   \n",
              "435      Zenefits     zenefits.com  $583.6M           Disrupt NYC 2013   \n",
              "436        Zivity       zivity.com      $8M                  TC40 2007   \n",
              "437        Zocdoc       zocdoc.com    $223M                  TC40 2007   \n",
              "438          Zula      zulaapp.com    $3.4M            Disrupt SF 2013   \n",
              "439        Zumper       zumper.com   $31.5M            Disrupt SF 2012   \n",
              "\n",
              "              Result OperatingState  \n",
              "0         Contestant         Closed  \n",
              "1    Audience choice      Operating  \n",
              "2         Contestant       Acquired  \n",
              "3           Finalist      Operating  \n",
              "4         Contestant      Operating  \n",
              "..               ...            ...  \n",
              "435         Finalist      Operating  \n",
              "436       Contestant      Operating  \n",
              "437       Contestant      Operating  \n",
              "438  Audience choice      Operating  \n",
              "439         Finalist      Operating  \n",
              "\n",
              "[440 rows x 6 columns]"
            ],
            "text/html": [
              "\n",
              "  <div id=\"df-e637a3f0-441a-4f3e-b7ed-cec050c129be\">\n",
              "    <div class=\"colab-df-container\">\n",
              "      <div>\n",
              "<style scoped>\n",
              "    .dataframe tbody tr th:only-of-type {\n",
              "        vertical-align: middle;\n",
              "    }\n",
              "\n",
              "    .dataframe tbody tr th {\n",
              "        vertical-align: top;\n",
              "    }\n",
              "\n",
              "    .dataframe thead th {\n",
              "        text-align: right;\n",
              "    }\n",
              "</style>\n",
              "<table border=\"1\" class=\"dataframe\">\n",
              "  <thead>\n",
              "    <tr style=\"text-align: right;\">\n",
              "      <th></th>\n",
              "      <th>Startup</th>\n",
              "      <th>Product</th>\n",
              "      <th>Funding</th>\n",
              "      <th>Event</th>\n",
              "      <th>Result</th>\n",
              "      <th>OperatingState</th>\n",
              "    </tr>\n",
              "  </thead>\n",
              "  <tbody>\n",
              "    <tr>\n",
              "      <th>0</th>\n",
              "      <td>3DLT</td>\n",
              "      <td>3dlt.com</td>\n",
              "      <td>$630K</td>\n",
              "      <td>Disrupt NYC 2013</td>\n",
              "      <td>Contestant</td>\n",
              "      <td>Closed</td>\n",
              "    </tr>\n",
              "    <tr>\n",
              "      <th>1</th>\n",
              "      <td>3Dprintler</td>\n",
              "      <td>3dprintler.com</td>\n",
              "      <td>$1M</td>\n",
              "      <td>Disrupt NY 2016</td>\n",
              "      <td>Audience choice</td>\n",
              "      <td>Operating</td>\n",
              "    </tr>\n",
              "    <tr>\n",
              "      <th>2</th>\n",
              "      <td>5to1</td>\n",
              "      <td>5to1.com</td>\n",
              "      <td>$19.3M</td>\n",
              "      <td>TC50 2009</td>\n",
              "      <td>Contestant</td>\n",
              "      <td>Acquired</td>\n",
              "    </tr>\n",
              "    <tr>\n",
              "      <th>3</th>\n",
              "      <td>8 Securities</td>\n",
              "      <td>8securities.com</td>\n",
              "      <td>$29M</td>\n",
              "      <td>Disrupt Beijing 2011</td>\n",
              "      <td>Finalist</td>\n",
              "      <td>Operating</td>\n",
              "    </tr>\n",
              "    <tr>\n",
              "      <th>4</th>\n",
              "      <td>AdhereTech</td>\n",
              "      <td>adheretech.com</td>\n",
              "      <td>$1.8M</td>\n",
              "      <td>Hardware Battlefield 2014</td>\n",
              "      <td>Contestant</td>\n",
              "      <td>Operating</td>\n",
              "    </tr>\n",
              "    <tr>\n",
              "      <th>...</th>\n",
              "      <td>...</td>\n",
              "      <td>...</td>\n",
              "      <td>...</td>\n",
              "      <td>...</td>\n",
              "      <td>...</td>\n",
              "      <td>...</td>\n",
              "    </tr>\n",
              "    <tr>\n",
              "      <th>435</th>\n",
              "      <td>Zenefits</td>\n",
              "      <td>zenefits.com</td>\n",
              "      <td>$583.6M</td>\n",
              "      <td>Disrupt NYC 2013</td>\n",
              "      <td>Finalist</td>\n",
              "      <td>Operating</td>\n",
              "    </tr>\n",
              "    <tr>\n",
              "      <th>436</th>\n",
              "      <td>Zivity</td>\n",
              "      <td>zivity.com</td>\n",
              "      <td>$8M</td>\n",
              "      <td>TC40 2007</td>\n",
              "      <td>Contestant</td>\n",
              "      <td>Operating</td>\n",
              "    </tr>\n",
              "    <tr>\n",
              "      <th>437</th>\n",
              "      <td>Zocdoc</td>\n",
              "      <td>zocdoc.com</td>\n",
              "      <td>$223M</td>\n",
              "      <td>TC40 2007</td>\n",
              "      <td>Contestant</td>\n",
              "      <td>Operating</td>\n",
              "    </tr>\n",
              "    <tr>\n",
              "      <th>438</th>\n",
              "      <td>Zula</td>\n",
              "      <td>zulaapp.com</td>\n",
              "      <td>$3.4M</td>\n",
              "      <td>Disrupt SF 2013</td>\n",
              "      <td>Audience choice</td>\n",
              "      <td>Operating</td>\n",
              "    </tr>\n",
              "    <tr>\n",
              "      <th>439</th>\n",
              "      <td>Zumper</td>\n",
              "      <td>zumper.com</td>\n",
              "      <td>$31.5M</td>\n",
              "      <td>Disrupt SF 2012</td>\n",
              "      <td>Finalist</td>\n",
              "      <td>Operating</td>\n",
              "    </tr>\n",
              "  </tbody>\n",
              "</table>\n",
              "<p>440 rows × 6 columns</p>\n",
              "</div>\n",
              "      <button class=\"colab-df-convert\" onclick=\"convertToInteractive('df-e637a3f0-441a-4f3e-b7ed-cec050c129be')\"\n",
              "              title=\"Convert this dataframe to an interactive table.\"\n",
              "              style=\"display:none;\">\n",
              "        \n",
              "  <svg xmlns=\"http://www.w3.org/2000/svg\" height=\"24px\"viewBox=\"0 0 24 24\"\n",
              "       width=\"24px\">\n",
              "    <path d=\"M0 0h24v24H0V0z\" fill=\"none\"/>\n",
              "    <path d=\"M18.56 5.44l.94 2.06.94-2.06 2.06-.94-2.06-.94-.94-2.06-.94 2.06-2.06.94zm-11 1L8.5 8.5l.94-2.06 2.06-.94-2.06-.94L8.5 2.5l-.94 2.06-2.06.94zm10 10l.94 2.06.94-2.06 2.06-.94-2.06-.94-.94-2.06-.94 2.06-2.06.94z\"/><path d=\"M17.41 7.96l-1.37-1.37c-.4-.4-.92-.59-1.43-.59-.52 0-1.04.2-1.43.59L10.3 9.45l-7.72 7.72c-.78.78-.78 2.05 0 2.83L4 21.41c.39.39.9.59 1.41.59.51 0 1.02-.2 1.41-.59l7.78-7.78 2.81-2.81c.8-.78.8-2.07 0-2.86zM5.41 20L4 18.59l7.72-7.72 1.47 1.35L5.41 20z\"/>\n",
              "  </svg>\n",
              "      </button>\n",
              "      \n",
              "  <style>\n",
              "    .colab-df-container {\n",
              "      display:flex;\n",
              "      flex-wrap:wrap;\n",
              "      gap: 12px;\n",
              "    }\n",
              "\n",
              "    .colab-df-convert {\n",
              "      background-color: #E8F0FE;\n",
              "      border: none;\n",
              "      border-radius: 50%;\n",
              "      cursor: pointer;\n",
              "      display: none;\n",
              "      fill: #1967D2;\n",
              "      height: 32px;\n",
              "      padding: 0 0 0 0;\n",
              "      width: 32px;\n",
              "    }\n",
              "\n",
              "    .colab-df-convert:hover {\n",
              "      background-color: #E2EBFA;\n",
              "      box-shadow: 0px 1px 2px rgba(60, 64, 67, 0.3), 0px 1px 3px 1px rgba(60, 64, 67, 0.15);\n",
              "      fill: #174EA6;\n",
              "    }\n",
              "\n",
              "    [theme=dark] .colab-df-convert {\n",
              "      background-color: #3B4455;\n",
              "      fill: #D2E3FC;\n",
              "    }\n",
              "\n",
              "    [theme=dark] .colab-df-convert:hover {\n",
              "      background-color: #434B5C;\n",
              "      box-shadow: 0px 1px 3px 1px rgba(0, 0, 0, 0.15);\n",
              "      filter: drop-shadow(0px 1px 2px rgba(0, 0, 0, 0.3));\n",
              "      fill: #FFFFFF;\n",
              "    }\n",
              "  </style>\n",
              "\n",
              "      <script>\n",
              "        const buttonEl =\n",
              "          document.querySelector('#df-e637a3f0-441a-4f3e-b7ed-cec050c129be button.colab-df-convert');\n",
              "        buttonEl.style.display =\n",
              "          google.colab.kernel.accessAllowed ? 'block' : 'none';\n",
              "\n",
              "        async function convertToInteractive(key) {\n",
              "          const element = document.querySelector('#df-e637a3f0-441a-4f3e-b7ed-cec050c129be');\n",
              "          const dataTable =\n",
              "            await google.colab.kernel.invokeFunction('convertToInteractive',\n",
              "                                                     [key], {});\n",
              "          if (!dataTable) return;\n",
              "\n",
              "          const docLinkHtml = 'Like what you see? Visit the ' +\n",
              "            '<a target=\"_blank\" href=https://colab.research.google.com/notebooks/data_table.ipynb>data table notebook</a>'\n",
              "            + ' to learn more about interactive tables.';\n",
              "          element.innerHTML = '';\n",
              "          dataTable['output_type'] = 'display_data';\n",
              "          await google.colab.output.renderOutput(dataTable, element);\n",
              "          const docLink = document.createElement('div');\n",
              "          docLink.innerHTML = docLinkHtml;\n",
              "          element.appendChild(docLink);\n",
              "        }\n",
              "      </script>\n",
              "    </div>\n",
              "  </div>\n",
              "  "
            ]
          },
          "metadata": {},
          "execution_count": 208
        }
      ],
      "source": [
        "df\n"
      ]
    },
    {
      "cell_type": "code",
      "execution_count": null,
      "metadata": {
        "id": "881GZ-oT4_36",
        "colab": {
          "base_uri": "https://localhost:8080/"
        },
        "outputId": "20de26bf-7d53-4d8f-ef75-26419361040a"
      },
      "outputs": [
        {
          "output_type": "stream",
          "name": "stderr",
          "text": [
            "/usr/local/lib/python3.7/dist-packages/pandas/core/indexing.py:1667: SettingWithCopyWarning: \n",
            "A value is trying to be set on a copy of a slice from a DataFrame.\n",
            "Try using .loc[row_indexer,col_indexer] = value instead\n",
            "\n",
            "See the caveats in the documentation: https://pandas.pydata.org/pandas-docs/stable/user_guide/indexing.html#returning-a-view-versus-a-copy\n",
            "  self.obj[key] = value\n"
          ]
        }
      ],
      "source": [
        "df.loc[:,'Funds_in_million'] = df['Funding'].apply(lambda x: float(x[1:-1])/1000 if x[-1] == 'K' else (float(x[1:-1])*1000 if x[-1] == 'B' else float(x[1:-1])))"
      ]
    },
    {
      "cell_type": "code",
      "execution_count": null,
      "metadata": {
        "colab": {
          "base_uri": "https://localhost:8080/"
        },
        "id": "y3nG9MIg5Cwg",
        "outputId": "8521c60c-ffb4-4d59-f4d5-614b863d5a16"
      },
      "outputs": [
        {
          "output_type": "stream",
          "name": "stdout",
          "text": [
            "<class 'pandas.core.frame.DataFrame'>\n",
            "RangeIndex: 440 entries, 0 to 439\n",
            "Data columns (total 7 columns):\n",
            " #   Column            Non-Null Count  Dtype  \n",
            "---  ------            --------------  -----  \n",
            " 0   Startup           440 non-null    object \n",
            " 1   Product           440 non-null    object \n",
            " 2   Funding           440 non-null    object \n",
            " 3   Event             440 non-null    object \n",
            " 4   Result            440 non-null    object \n",
            " 5   OperatingState    440 non-null    object \n",
            " 6   Funds_in_million  440 non-null    float64\n",
            "dtypes: float64(1), object(6)\n",
            "memory usage: 24.2+ KB\n"
          ]
        }
      ],
      "source": [
        "df.info()"
      ]
    },
    {
      "cell_type": "markdown",
      "source": [
        "Another column of funds in million added in the dataframe having float datatype"
      ],
      "metadata": {
        "id": "7j1LxQpMUImC"
      }
    },
    {
      "cell_type": "markdown",
      "source": [
        "###**3c) to Plot box plot for funds in million**"
      ],
      "metadata": {
        "id": "7dk1YD_-U0o6"
      }
    },
    {
      "cell_type": "code",
      "source": [
        "plt.figure(figsize= (20,10))\n",
        "plt.title('boxplot')\n",
        "plt.xlabel('Funds_in_million')\n",
        "sns.boxplot(data=df,x='Funds_in_million');\n"
      ],
      "metadata": {
        "colab": {
          "base_uri": "https://localhost:8080/",
          "height": 622
        },
        "id": "XUJXBPRiEzpi",
        "outputId": "6e8c0b85-3f31-4e77-a1e8-d3a532a5ef4a"
      },
      "execution_count": null,
      "outputs": [
        {
          "output_type": "display_data",
          "data": {
            "text/plain": [
              "<Figure size 1440x720 with 1 Axes>"
            ],
            "image/png": "[encoded data removed]"
          },
          "metadata": {
            "needs_background": "light"
          }
        }
      ]
    },
    {
      "cell_type": "markdown",
      "source": [
        "###**3d) Check the number of outliers greater than the upper fence**"
      ],
      "metadata": {
        "id": "z-sUt3ihWa3Z"
      }
    },
    {
      "cell_type": "code",
      "execution_count": null,
      "metadata": {
        "colab": {
          "base_uri": "https://localhost:8080/"
        },
        "id": "pFarel5aL-l_",
        "outputId": "74dcca3f-184c-4320-accb-e4acaebcfea8"
      },
      "outputs": [
        {
          "output_type": "stream",
          "name": "stdout",
          "text": [
            "The number of outliers greater than the upper fence: 60\n"
          ]
        }
      ],
      "source": [
        "def find_outliers_IQR(df):\n",
        "\n",
        "   q1=df.quantile(0.25)\n",
        "\n",
        "   q3=df.quantile(0.75)\n",
        "\n",
        "   IQR=q3-q1\n",
        "\n",
        "   outliers = df[(df>(q3+1.5*IQR))]\n",
        "\n",
        "   return outliers\n",
        "\n",
        "outliers = find_outliers_IQR(df['Funds_in_million'])\n",
        "print('The number of outliers greater than the upper fence:',outliers.count())\n"
      ]
    },
    {
      "cell_type": "markdown",
      "source": [
        "###**3.e) To Check frequency of the OperatingState features classes.**"
      ],
      "metadata": {
        "id": "rYNoWHd_W5kn"
      }
    },
    {
      "cell_type": "code",
      "execution_count": null,
      "metadata": {
        "colab": {
          "base_uri": "https://localhost:8080/"
        },
        "id": "K8zKuIkEXjRf",
        "outputId": "fe3b862d-42be-437e-d108-0a46472f90e9"
      },
      "outputs": [
        {
          "output_type": "execute_result",
          "data": {
            "text/plain": [
              "Operating    313\n",
              "Acquired      66\n",
              "Closed        57\n",
              "Ipo            4\n",
              "Name: OperatingState, dtype: int64"
            ]
          },
          "metadata": {},
          "execution_count": 213
        }
      ],
      "source": [
        "df['OperatingState'].value_counts()"
      ]
    },
    {
      "cell_type": "markdown",
      "source": [
        "###**4.a)  To check significant difference between Funds raised by companies that are still operating vs companies that closed down**"
      ],
      "metadata": {
        "id": "hX_M0hqjY5iR"
      }
    },
    {
      "cell_type": "code",
      "execution_count": null,
      "metadata": {
        "colab": {
          "base_uri": "https://localhost:8080/",
          "height": 296
        },
        "id": "4MbHEMZKaSRg",
        "outputId": "ac035545-0e74-4eeb-d662-9daf9534b13d"
      },
      "outputs": [
        {
          "output_type": "execute_result",
          "data": {
            "text/plain": [
              "<matplotlib.axes._subplots.AxesSubplot at 0x7f246be0a590>"
            ]
          },
          "metadata": {},
          "execution_count": 214
        },
        {
          "output_type": "display_data",
          "data": {
            "text/plain": [
              "<Figure size 432x288 with 1 Axes>"
            ],
            "image/png": "[encoded data removed]"
          },
          "metadata": {
            "needs_background": "light"
          }
        }
      ],
      "source": [
        "sns.stripplot(data=df, y='Funds_in_million', x='OperatingState')"
      ]
    },
    {
      "cell_type": "code",
      "execution_count": null,
      "metadata": {
        "colab": {
          "base_uri": "https://localhost:8080/"
        },
        "id": "dSuC5zxEbQDj",
        "outputId": "b03004e6-291e-4524-8e4c-6d753989a7ea"
      },
      "outputs": [
        {
          "output_type": "execute_result",
          "data": {
            "text/plain": [
              "OperatingState\n",
              "Acquired      13.212894\n",
              "Closed         3.258170\n",
              "Ipo          137.775000\n",
              "Operating     19.399944\n",
              "Name: Funds_in_million, dtype: float64"
            ]
          },
          "metadata": {},
          "execution_count": 215
        }
      ],
      "source": [
        "b=df.groupby(['OperatingState'])['Funds_in_million']\n",
        "b.mean()"
      ]
    },
    {
      "cell_type": "markdown",
      "source": [
        "As avarage Funds raised by companies that are still operating= 19.399944(in million)\n",
        "\n",
        "Avarage Funds raised by companies that closed down.= 3.258170(in million)\n",
        "\n",
        "\n",
        "It is Clear from the data that there is significant difference between Funds raised by companies that are still operating vs companies that closed down."
      ],
      "metadata": {
        "id": "lpVsz8G1ZKix"
      }
    },
    {
      "cell_type": "markdown",
      "source": [
        "###**4.b)**"
      ],
      "metadata": {
        "id": "SUUg383Ha1sk"
      }
    },
    {
      "cell_type": "code",
      "source": [],
      "metadata": {
        "id": "CVpnPeh2ZJov"
      },
      "execution_count": null,
      "outputs": []
    },
    {
      "cell_type": "code",
      "source": [
        "a=df[df['OperatingState']=='Closed']"
      ],
      "metadata": {
        "id": "Mbdtlo7gGvIJ"
      },
      "execution_count": null,
      "outputs": []
    },
    {
      "cell_type": "code",
      "source": [
        "a.count()"
      ],
      "metadata": {
        "colab": {
          "base_uri": "https://localhost:8080/"
        },
        "id": "Y9UOS_RjHNJW",
        "outputId": "8194b466-42a3-4549-ea5d-b23f8769ee2a"
      },
      "execution_count": null,
      "outputs": [
        {
          "output_type": "execute_result",
          "data": {
            "text/plain": [
              "Startup             57\n",
              "Product             57\n",
              "Funding             57\n",
              "Event               57\n",
              "Result              57\n",
              "OperatingState      57\n",
              "Funds_in_million    57\n",
              "dtype: int64"
            ]
          },
          "metadata": {},
          "execution_count": 217
        }
      ]
    },
    {
      "cell_type": "code",
      "source": [
        "b=df[df['OperatingState']=='Operating']"
      ],
      "metadata": {
        "id": "8ClnoqlXHNo7"
      },
      "execution_count": null,
      "outputs": []
    },
    {
      "cell_type": "code",
      "source": [
        "b.count()"
      ],
      "metadata": {
        "colab": {
          "base_uri": "https://localhost:8080/"
        },
        "id": "XEUjudG5HrbL",
        "outputId": "f7aef1bc-bf9e-4bc7-aa59-bce1d07c9309"
      },
      "execution_count": null,
      "outputs": [
        {
          "output_type": "execute_result",
          "data": {
            "text/plain": [
              "Startup             313\n",
              "Product             313\n",
              "Funding             313\n",
              "Event               313\n",
              "Result              313\n",
              "OperatingState      313\n",
              "Funds_in_million    313\n",
              "dtype: int64"
            ]
          },
          "metadata": {},
          "execution_count": 219
        }
      ]
    },
    {
      "cell_type": "markdown",
      "source": [
        "null hypothesis = there is significant difference between the Funds raised by companies that are still operating vs companies that closed down.\n",
        "\n",
        "Alternative hypothesis = There is no significant difference between the Funds raised by companies that are still operating vs companies that closed down."
      ],
      "metadata": {
        "id": "v2tWg4c5IFDH"
      }
    },
    {
      "cell_type": "markdown",
      "source": [
        "###**4.c) Test for significance and conclusion**"
      ],
      "metadata": {
        "id": "3BrREUaBbQmi"
      }
    },
    {
      "cell_type": "code",
      "source": [
        "t_statistic, p_value  = stats.ttest_ind(a['Funds_in_million'],b['Funds_in_million'])\n",
        "print('tstat',t_statistic)\n",
        "print('P_Value',p_value)"
      ],
      "metadata": {
        "colab": {
          "base_uri": "https://localhost:8080/"
        },
        "id": "sjG4HFI8Hvcx",
        "outputId": "6a841c09-00c7-41e9-c35b-3f04bacf3b4c"
      },
      "execution_count": null,
      "outputs": [
        {
          "output_type": "stream",
          "name": "stdout",
          "text": [
            "tstat -1.1518993513457507\n",
            "P_Value 0.2501102194763844\n"
          ]
        }
      ]
    },
    {
      "cell_type": "code",
      "source": [
        "alpha=0.05\n",
        "\n",
        "if p_value > alpha:\n",
        "  print('fail to reject the null hypothesis ')\n",
        "  print('there is significant difference between the Funds raised by companies that are still operating vs companies that closed down.')\n",
        "\n",
        "else:\n",
        "  print('enough evidance to reject the null hypothesis')\n",
        "  print('There is no significant difference between the Funds raised by companies that are still operating vs companies that closed down.')"
      ],
      "metadata": {
        "colab": {
          "base_uri": "https://localhost:8080/"
        },
        "id": "1a_9ucCBPz7_",
        "outputId": "93c2d65c-e5f6-4a44-ce06-89f125b36a21"
      },
      "execution_count": null,
      "outputs": [
        {
          "output_type": "stream",
          "name": "stdout",
          "text": [
            "fail to reject the null hypothesis \n",
            "there is significant difference between the Funds raised by companies that are still operating vs companies that closed down.\n"
          ]
        }
      ]
    },
    {
      "cell_type": "code",
      "source": [
        "from scipy.stats import levene\n",
        "statistic, p_value = levene( a['Funds_in_million'],  b['Funds_in_million'])\n",
        "# find the p-value\n",
        "print('The p-value is', p_value)"
      ],
      "metadata": {
        "colab": {
          "base_uri": "https://localhost:8080/"
        },
        "id": "QJexYtiXSQXW",
        "outputId": "0c9a9d98-bcf6-4e9e-8c9e-8d427cf54b6d"
      },
      "execution_count": null,
      "outputs": [
        {
          "output_type": "stream",
          "name": "stdout",
          "text": [
            "The p-value is 0.26059703101049464\n"
          ]
        }
      ]
    },
    {
      "cell_type": "markdown",
      "source": [
        "###**4.D) To Make a copy of the original data frame**"
      ],
      "metadata": {
        "id": "54NkSvzJcCwQ"
      }
    },
    {
      "cell_type": "code",
      "source": [
        "df2=df.copy()"
      ],
      "metadata": {
        "id": "XkbbCovNTWmh"
      },
      "execution_count": null,
      "outputs": []
    },
    {
      "cell_type": "code",
      "source": [
        "df2"
      ],
      "metadata": {
        "colab": {
          "base_uri": "https://localhost:8080/",
          "height": 424
        },
        "id": "eAi6OdOhTerA",
        "outputId": "f2fdbdd4-a03f-4e77-c82b-596a6b8372fb"
      },
      "execution_count": null,
      "outputs": [
        {
          "output_type": "execute_result",
          "data": {
            "text/plain": [
              "          Startup          Product  Funding                      Event  \\\n",
              "0            3DLT         3dlt.com    $630K           Disrupt NYC 2013   \n",
              "1      3Dprintler   3dprintler.com      $1M            Disrupt NY 2016   \n",
              "2            5to1         5to1.com   $19.3M                  TC50 2009   \n",
              "3    8 Securities  8securities.com     $29M       Disrupt Beijing 2011   \n",
              "4      AdhereTech   adheretech.com    $1.8M  Hardware Battlefield 2014   \n",
              "..            ...              ...      ...                        ...   \n",
              "435      Zenefits     zenefits.com  $583.6M           Disrupt NYC 2013   \n",
              "436        Zivity       zivity.com      $8M                  TC40 2007   \n",
              "437        Zocdoc       zocdoc.com    $223M                  TC40 2007   \n",
              "438          Zula      zulaapp.com    $3.4M            Disrupt SF 2013   \n",
              "439        Zumper       zumper.com   $31.5M            Disrupt SF 2012   \n",
              "\n",
              "              Result OperatingState  Funds_in_million  \n",
              "0         Contestant         Closed              0.63  \n",
              "1    Audience choice      Operating              1.00  \n",
              "2         Contestant       Acquired             19.30  \n",
              "3           Finalist      Operating             29.00  \n",
              "4         Contestant      Operating              1.80  \n",
              "..               ...            ...               ...  \n",
              "435         Finalist      Operating            583.60  \n",
              "436       Contestant      Operating              8.00  \n",
              "437       Contestant      Operating            223.00  \n",
              "438  Audience choice      Operating              3.40  \n",
              "439         Finalist      Operating             31.50  \n",
              "\n",
              "[440 rows x 7 columns]"
            ],
            "text/html": [
              "\n",
              "  <div id=\"df-9b9c0c75-54ab-4a13-95a6-668cb7ef5de0\">\n",
              "    <div class=\"colab-df-container\">\n",
              "      <div>\n",
              "<style scoped>\n",
              "    .dataframe tbody tr th:only-of-type {\n",
              "        vertical-align: middle;\n",
              "    }\n",
              "\n",
              "    .dataframe tbody tr th {\n",
              "        vertical-align: top;\n",
              "    }\n",
              "\n",
              "    .dataframe thead th {\n",
              "        text-align: right;\n",
              "    }\n",
              "</style>\n",
              "<table border=\"1\" class=\"dataframe\">\n",
              "  <thead>\n",
              "    <tr style=\"text-align: right;\">\n",
              "      <th></th>\n",
              "      <th>Startup</th>\n",
              "      <th>Product</th>\n",
              "      <th>Funding</th>\n",
              "      <th>Event</th>\n",
              "      <th>Result</th>\n",
              "      <th>OperatingState</th>\n",
              "      <th>Funds_in_million</th>\n",
              "    </tr>\n",
              "  </thead>\n",
              "  <tbody>\n",
              "    <tr>\n",
              "      <th>0</th>\n",
              "      <td>3DLT</td>\n",
              "      <td>3dlt.com</td>\n",
              "      <td>$630K</td>\n",
              "      <td>Disrupt NYC 2013</td>\n",
              "      <td>Contestant</td>\n",
              "      <td>Closed</td>\n",
              "      <td>0.63</td>\n",
              "    </tr>\n",
              "    <tr>\n",
              "      <th>1</th>\n",
              "      <td>3Dprintler</td>\n",
              "      <td>3dprintler.com</td>\n",
              "      <td>$1M</td>\n",
              "      <td>Disrupt NY 2016</td>\n",
              "      <td>Audience choice</td>\n",
              "      <td>Operating</td>\n",
              "      <td>1.00</td>\n",
              "    </tr>\n",
              "    <tr>\n",
              "      <th>2</th>\n",
              "      <td>5to1</td>\n",
              "      <td>5to1.com</td>\n",
              "      <td>$19.3M</td>\n",
              "      <td>TC50 2009</td>\n",
              "      <td>Contestant</td>\n",
              "      <td>Acquired</td>\n",
              "      <td>19.30</td>\n",
              "    </tr>\n",
              "    <tr>\n",
              "      <th>3</th>\n",
              "      <td>8 Securities</td>\n",
              "      <td>8securities.com</td>\n",
              "      <td>$29M</td>\n",
              "      <td>Disrupt Beijing 2011</td>\n",
              "      <td>Finalist</td>\n",
              "      <td>Operating</td>\n",
              "      <td>29.00</td>\n",
              "    </tr>\n",
              "    <tr>\n",
              "      <th>4</th>\n",
              "      <td>AdhereTech</td>\n",
              "      <td>adheretech.com</td>\n",
              "      <td>$1.8M</td>\n",
              "      <td>Hardware Battlefield 2014</td>\n",
              "      <td>Contestant</td>\n",
              "      <td>Operating</td>\n",
              "      <td>1.80</td>\n",
              "    </tr>\n",
              "    <tr>\n",
              "      <th>...</th>\n",
              "      <td>...</td>\n",
              "      <td>...</td>\n",
              "      <td>...</td>\n",
              "      <td>...</td>\n",
              "      <td>...</td>\n",
              "      <td>...</td>\n",
              "      <td>...</td>\n",
              "    </tr>\n",
              "    <tr>\n",
              "      <th>435</th>\n",
              "      <td>Zenefits</td>\n",
              "      <td>zenefits.com</td>\n",
              "      <td>$583.6M</td>\n",
              "      <td>Disrupt NYC 2013</td>\n",
              "      <td>Finalist</td>\n",
              "      <td>Operating</td>\n",
              "      <td>583.60</td>\n",
              "    </tr>\n",
              "    <tr>\n",
              "      <th>436</th>\n",
              "      <td>Zivity</td>\n",
              "      <td>zivity.com</td>\n",
              "      <td>$8M</td>\n",
              "      <td>TC40 2007</td>\n",
              "      <td>Contestant</td>\n",
              "      <td>Operating</td>\n",
              "      <td>8.00</td>\n",
              "    </tr>\n",
              "    <tr>\n",
              "      <th>437</th>\n",
              "      <td>Zocdoc</td>\n",
              "      <td>zocdoc.com</td>\n",
              "      <td>$223M</td>\n",
              "      <td>TC40 2007</td>\n",
              "      <td>Contestant</td>\n",
              "      <td>Operating</td>\n",
              "      <td>223.00</td>\n",
              "    </tr>\n",
              "    <tr>\n",
              "      <th>438</th>\n",
              "      <td>Zula</td>\n",
              "      <td>zulaapp.com</td>\n",
              "      <td>$3.4M</td>\n",
              "      <td>Disrupt SF 2013</td>\n",
              "      <td>Audience choice</td>\n",
              "      <td>Operating</td>\n",
              "      <td>3.40</td>\n",
              "    </tr>\n",
              "    <tr>\n",
              "      <th>439</th>\n",
              "      <td>Zumper</td>\n",
              "      <td>zumper.com</td>\n",
              "      <td>$31.5M</td>\n",
              "      <td>Disrupt SF 2012</td>\n",
              "      <td>Finalist</td>\n",
              "      <td>Operating</td>\n",
              "      <td>31.50</td>\n",
              "    </tr>\n",
              "  </tbody>\n",
              "</table>\n",
              "<p>440 rows × 7 columns</p>\n",
              "</div>\n",
              "      <button class=\"colab-df-convert\" onclick=\"convertToInteractive('df-9b9c0c75-54ab-4a13-95a6-668cb7ef5de0')\"\n",
              "              title=\"Convert this dataframe to an interactive table.\"\n",
              "              style=\"display:none;\">\n",
              "        \n",
              "  <svg xmlns=\"http://www.w3.org/2000/svg\" height=\"24px\"viewBox=\"0 0 24 24\"\n",
              "       width=\"24px\">\n",
              "    <path d=\"M0 0h24v24H0V0z\" fill=\"none\"/>\n",
              "    <path d=\"M18.56 5.44l.94 2.06.94-2.06 2.06-.94-2.06-.94-.94-2.06-.94 2.06-2.06.94zm-11 1L8.5 8.5l.94-2.06 2.06-.94-2.06-.94L8.5 2.5l-.94 2.06-2.06.94zm10 10l.94 2.06.94-2.06 2.06-.94-2.06-.94-.94-2.06-.94 2.06-2.06.94z\"/><path d=\"M17.41 7.96l-1.37-1.37c-.4-.4-.92-.59-1.43-.59-.52 0-1.04.2-1.43.59L10.3 9.45l-7.72 7.72c-.78.78-.78 2.05 0 2.83L4 21.41c.39.39.9.59 1.41.59.51 0 1.02-.2 1.41-.59l7.78-7.78 2.81-2.81c.8-.78.8-2.07 0-2.86zM5.41 20L4 18.59l7.72-7.72 1.47 1.35L5.41 20z\"/>\n",
              "  </svg>\n",
              "      </button>\n",
              "      \n",
              "  <style>\n",
              "    .colab-df-container {\n",
              "      display:flex;\n",
              "      flex-wrap:wrap;\n",
              "      gap: 12px;\n",
              "    }\n",
              "\n",
              "    .colab-df-convert {\n",
              "      background-color: #E8F0FE;\n",
              "      border: none;\n",
              "      border-radius: 50%;\n",
              "      cursor: pointer;\n",
              "      display: none;\n",
              "      fill: #1967D2;\n",
              "      height: 32px;\n",
              "      padding: 0 0 0 0;\n",
              "      width: 32px;\n",
              "    }\n",
              "\n",
              "    .colab-df-convert:hover {\n",
              "      background-color: #E2EBFA;\n",
              "      box-shadow: 0px 1px 2px rgba(60, 64, 67, 0.3), 0px 1px 3px 1px rgba(60, 64, 67, 0.15);\n",
              "      fill: #174EA6;\n",
              "    }\n",
              "\n",
              "    [theme=dark] .colab-df-convert {\n",
              "      background-color: #3B4455;\n",
              "      fill: #D2E3FC;\n",
              "    }\n",
              "\n",
              "    [theme=dark] .colab-df-convert:hover {\n",
              "      background-color: #434B5C;\n",
              "      box-shadow: 0px 1px 3px 1px rgba(0, 0, 0, 0.15);\n",
              "      filter: drop-shadow(0px 1px 2px rgba(0, 0, 0, 0.3));\n",
              "      fill: #FFFFFF;\n",
              "    }\n",
              "  </style>\n",
              "\n",
              "      <script>\n",
              "        const buttonEl =\n",
              "          document.querySelector('#df-9b9c0c75-54ab-4a13-95a6-668cb7ef5de0 button.colab-df-convert');\n",
              "        buttonEl.style.display =\n",
              "          google.colab.kernel.accessAllowed ? 'block' : 'none';\n",
              "\n",
              "        async function convertToInteractive(key) {\n",
              "          const element = document.querySelector('#df-9b9c0c75-54ab-4a13-95a6-668cb7ef5de0');\n",
              "          const dataTable =\n",
              "            await google.colab.kernel.invokeFunction('convertToInteractive',\n",
              "                                                     [key], {});\n",
              "          if (!dataTable) return;\n",
              "\n",
              "          const docLinkHtml = 'Like what you see? Visit the ' +\n",
              "            '<a target=\"_blank\" href=https://colab.research.google.com/notebooks/data_table.ipynb>data table notebook</a>'\n",
              "            + ' to learn more about interactive tables.';\n",
              "          element.innerHTML = '';\n",
              "          dataTable['output_type'] = 'display_data';\n",
              "          await google.colab.output.renderOutput(dataTable, element);\n",
              "          const docLink = document.createElement('div');\n",
              "          docLink.innerHTML = docLinkHtml;\n",
              "          element.appendChild(docLink);\n",
              "        }\n",
              "      </script>\n",
              "    </div>\n",
              "  </div>\n",
              "  "
            ]
          },
          "metadata": {},
          "execution_count": 224
        }
      ]
    },
    {
      "cell_type": "markdown",
      "source": [
        "###**4.E)To Check frequency distribution of Result variables.**"
      ],
      "metadata": {
        "id": "wPRl_R5zcdWq"
      }
    },
    {
      "cell_type": "code",
      "source": [
        "df2['Result'].value_counts()"
      ],
      "metadata": {
        "colab": {
          "base_uri": "https://localhost:8080/"
        },
        "id": "XBvzBPuiTf0j",
        "outputId": "e806e0f0-1d12-4af2-8f90-73673b3ef995"
      },
      "execution_count": null,
      "outputs": [
        {
          "output_type": "execute_result",
          "data": {
            "text/plain": [
              "Contestant         311\n",
              "Finalist            64\n",
              "Winner              24\n",
              "Audience choice     23\n",
              "Runner up           18\n",
              "Name: Result, dtype: int64"
            ]
          },
          "metadata": {},
          "execution_count": 225
        }
      ]
    },
    {
      "cell_type": "markdown",
      "source": [
        "###**4.F) To Calculate percentage of winners that are still operating and percentage of contestants that are still operating**"
      ],
      "metadata": {
        "id": "acP4WqMUcpuh"
      }
    },
    {
      "cell_type": "code",
      "source": [
        "from numpy.ma.core import count\n",
        "pd.pivot_table(df2, columns ='Result', index='OperatingState', values='Startup', aggfunc=count, margins = True)"
      ],
      "metadata": {
        "colab": {
          "base_uri": "https://localhost:8080/",
          "height": 238
        },
        "id": "rb5xtyfpUEtp",
        "outputId": "70506f94-5c70-43f5-bb8a-0313de6c3b47"
      },
      "execution_count": null,
      "outputs": [
        {
          "output_type": "execute_result",
          "data": {
            "text/plain": [
              "Result          Audience choice  Contestant  Finalist  Runner up  Winner  All\n",
              "OperatingState                                                               \n",
              "Acquired                    NaN        45.0      13.0        1.0     7.0   66\n",
              "Closed                      2.0        50.0       5.0        NaN     NaN   57\n",
              "Ipo                         NaN         3.0       1.0        NaN     NaN    4\n",
              "Operating                  21.0       213.0      45.0       17.0    17.0  313\n",
              "All                        23.0       311.0      64.0       18.0    24.0  440"
            ],
            "text/html": [
              "\n",
              "  <div id=\"df-7549fea8-22d4-4eab-b144-bc5b446e393b\">\n",
              "    <div class=\"colab-df-container\">\n",
              "      <div>\n",
              "<style scoped>\n",
              "    .dataframe tbody tr th:only-of-type {\n",
              "        vertical-align: middle;\n",
              "    }\n",
              "\n",
              "    .dataframe tbody tr th {\n",
              "        vertical-align: top;\n",
              "    }\n",
              "\n",
              "    .dataframe thead th {\n",
              "        text-align: right;\n",
              "    }\n",
              "</style>\n",
              "<table border=\"1\" class=\"dataframe\">\n",
              "  <thead>\n",
              "    <tr style=\"text-align: right;\">\n",
              "      <th>Result</th>\n",
              "      <th>Audience choice</th>\n",
              "      <th>Contestant</th>\n",
              "      <th>Finalist</th>\n",
              "      <th>Runner up</th>\n",
              "      <th>Winner</th>\n",
              "      <th>All</th>\n",
              "    </tr>\n",
              "    <tr>\n",
              "      <th>OperatingState</th>\n",
              "      <th></th>\n",
              "      <th></th>\n",
              "      <th></th>\n",
              "      <th></th>\n",
              "      <th></th>\n",
              "      <th></th>\n",
              "    </tr>\n",
              "  </thead>\n",
              "  <tbody>\n",
              "    <tr>\n",
              "      <th>Acquired</th>\n",
              "      <td>NaN</td>\n",
              "      <td>45.0</td>\n",
              "      <td>13.0</td>\n",
              "      <td>1.0</td>\n",
              "      <td>7.0</td>\n",
              "      <td>66</td>\n",
              "    </tr>\n",
              "    <tr>\n",
              "      <th>Closed</th>\n",
              "      <td>2.0</td>\n",
              "      <td>50.0</td>\n",
              "      <td>5.0</td>\n",
              "      <td>NaN</td>\n",
              "      <td>NaN</td>\n",
              "      <td>57</td>\n",
              "    </tr>\n",
              "    <tr>\n",
              "      <th>Ipo</th>\n",
              "      <td>NaN</td>\n",
              "      <td>3.0</td>\n",
              "      <td>1.0</td>\n",
              "      <td>NaN</td>\n",
              "      <td>NaN</td>\n",
              "      <td>4</td>\n",
              "    </tr>\n",
              "    <tr>\n",
              "      <th>Operating</th>\n",
              "      <td>21.0</td>\n",
              "      <td>213.0</td>\n",
              "      <td>45.0</td>\n",
              "      <td>17.0</td>\n",
              "      <td>17.0</td>\n",
              "      <td>313</td>\n",
              "    </tr>\n",
              "    <tr>\n",
              "      <th>All</th>\n",
              "      <td>23.0</td>\n",
              "      <td>311.0</td>\n",
              "      <td>64.0</td>\n",
              "      <td>18.0</td>\n",
              "      <td>24.0</td>\n",
              "      <td>440</td>\n",
              "    </tr>\n",
              "  </tbody>\n",
              "</table>\n",
              "</div>\n",
              "      <button class=\"colab-df-convert\" onclick=\"convertToInteractive('df-7549fea8-22d4-4eab-b144-bc5b446e393b')\"\n",
              "              title=\"Convert this dataframe to an interactive table.\"\n",
              "              style=\"display:none;\">\n",
              "        \n",
              "  <svg xmlns=\"http://www.w3.org/2000/svg\" height=\"24px\"viewBox=\"0 0 24 24\"\n",
              "       width=\"24px\">\n",
              "    <path d=\"M0 0h24v24H0V0z\" fill=\"none\"/>\n",
              "    <path d=\"M18.56 5.44l.94 2.06.94-2.06 2.06-.94-2.06-.94-.94-2.06-.94 2.06-2.06.94zm-11 1L8.5 8.5l.94-2.06 2.06-.94-2.06-.94L8.5 2.5l-.94 2.06-2.06.94zm10 10l.94 2.06.94-2.06 2.06-.94-2.06-.94-.94-2.06-.94 2.06-2.06.94z\"/><path d=\"M17.41 7.96l-1.37-1.37c-.4-.4-.92-.59-1.43-.59-.52 0-1.04.2-1.43.59L10.3 9.45l-7.72 7.72c-.78.78-.78 2.05 0 2.83L4 21.41c.39.39.9.59 1.41.59.51 0 1.02-.2 1.41-.59l7.78-7.78 2.81-2.81c.8-.78.8-2.07 0-2.86zM5.41 20L4 18.59l7.72-7.72 1.47 1.35L5.41 20z\"/>\n",
              "  </svg>\n",
              "      </button>\n",
              "      \n",
              "  <style>\n",
              "    .colab-df-container {\n",
              "      display:flex;\n",
              "      flex-wrap:wrap;\n",
              "      gap: 12px;\n",
              "    }\n",
              "\n",
              "    .colab-df-convert {\n",
              "      background-color: #E8F0FE;\n",
              "      border: none;\n",
              "      border-radius: 50%;\n",
              "      cursor: pointer;\n",
              "      display: none;\n",
              "      fill: #1967D2;\n",
              "      height: 32px;\n",
              "      padding: 0 0 0 0;\n",
              "      width: 32px;\n",
              "    }\n",
              "\n",
              "    .colab-df-convert:hover {\n",
              "      background-color: #E2EBFA;\n",
              "      box-shadow: 0px 1px 2px rgba(60, 64, 67, 0.3), 0px 1px 3px 1px rgba(60, 64, 67, 0.15);\n",
              "      fill: #174EA6;\n",
              "    }\n",
              "\n",
              "    [theme=dark] .colab-df-convert {\n",
              "      background-color: #3B4455;\n",
              "      fill: #D2E3FC;\n",
              "    }\n",
              "\n",
              "    [theme=dark] .colab-df-convert:hover {\n",
              "      background-color: #434B5C;\n",
              "      box-shadow: 0px 1px 3px 1px rgba(0, 0, 0, 0.15);\n",
              "      filter: drop-shadow(0px 1px 2px rgba(0, 0, 0, 0.3));\n",
              "      fill: #FFFFFF;\n",
              "    }\n",
              "  </style>\n",
              "\n",
              "      <script>\n",
              "        const buttonEl =\n",
              "          document.querySelector('#df-7549fea8-22d4-4eab-b144-bc5b446e393b button.colab-df-convert');\n",
              "        buttonEl.style.display =\n",
              "          google.colab.kernel.accessAllowed ? 'block' : 'none';\n",
              "\n",
              "        async function convertToInteractive(key) {\n",
              "          const element = document.querySelector('#df-7549fea8-22d4-4eab-b144-bc5b446e393b');\n",
              "          const dataTable =\n",
              "            await google.colab.kernel.invokeFunction('convertToInteractive',\n",
              "                                                     [key], {});\n",
              "          if (!dataTable) return;\n",
              "\n",
              "          const docLinkHtml = 'Like what you see? Visit the ' +\n",
              "            '<a target=\"_blank\" href=https://colab.research.google.com/notebooks/data_table.ipynb>data table notebook</a>'\n",
              "            + ' to learn more about interactive tables.';\n",
              "          element.innerHTML = '';\n",
              "          dataTable['output_type'] = 'display_data';\n",
              "          await google.colab.output.renderOutput(dataTable, element);\n",
              "          const docLink = document.createElement('div');\n",
              "          docLink.innerHTML = docLinkHtml;\n",
              "          element.appendChild(docLink);\n",
              "        }\n",
              "      </script>\n",
              "    </div>\n",
              "  </div>\n",
              "  "
            ]
          },
          "metadata": {},
          "execution_count": 226
        }
      ]
    },
    {
      "cell_type": "code",
      "source": [
        "print('percentage of winners that are still operating= %.2f'% (18/446*100))\n",
        "print('percentage of contestants that are still operating= %.2f'% (214/446*100))"
      ],
      "metadata": {
        "id": "cRaJq6MUbdrC",
        "colab": {
          "base_uri": "https://localhost:8080/"
        },
        "outputId": "577f727f-7207-4d3f-bb46-847fffb268b9"
      },
      "execution_count": null,
      "outputs": [
        {
          "output_type": "stream",
          "name": "stdout",
          "text": [
            "percentage of winners that are still operating= 4.04\n",
            "percentage of contestants that are still operating= 47.98\n"
          ]
        }
      ]
    },
    {
      "cell_type": "markdown",
      "source": [
        "##**4.G)**"
      ],
      "metadata": {
        "id": "CvrYxDP1eKTh"
      }
    },
    {
      "cell_type": "code",
      "source": [
        "df3=pd.DataFrame({'Operating':[214,18], 'Non-Operating':[18,1]}, index=['Contestant','Winner'])"
      ],
      "metadata": {
        "id": "CfqWcLt-cdVJ"
      },
      "execution_count": null,
      "outputs": []
    },
    {
      "cell_type": "code",
      "source": [
        "df3"
      ],
      "metadata": {
        "colab": {
          "base_uri": "https://localhost:8080/",
          "height": 112
        },
        "id": "LUWHMOwfCaAH",
        "outputId": "d6e7820a-5b8a-4cf0-c2be-544ef8807c4a"
      },
      "execution_count": null,
      "outputs": [
        {
          "output_type": "execute_result",
          "data": {
            "text/plain": [
              "            Operating  Non-Operating\n",
              "Contestant        214             18\n",
              "Winner             18              1"
            ],
            "text/html": [
              "\n",
              "  <div id=\"df-3888440a-ef4f-4664-a9d1-21097a07bdd1\">\n",
              "    <div class=\"colab-df-container\">\n",
              "      <div>\n",
              "<style scoped>\n",
              "    .dataframe tbody tr th:only-of-type {\n",
              "        vertical-align: middle;\n",
              "    }\n",
              "\n",
              "    .dataframe tbody tr th {\n",
              "        vertical-align: top;\n",
              "    }\n",
              "\n",
              "    .dataframe thead th {\n",
              "        text-align: right;\n",
              "    }\n",
              "</style>\n",
              "<table border=\"1\" class=\"dataframe\">\n",
              "  <thead>\n",
              "    <tr style=\"text-align: right;\">\n",
              "      <th></th>\n",
              "      <th>Operating</th>\n",
              "      <th>Non-Operating</th>\n",
              "    </tr>\n",
              "  </thead>\n",
              "  <tbody>\n",
              "    <tr>\n",
              "      <th>Contestant</th>\n",
              "      <td>214</td>\n",
              "      <td>18</td>\n",
              "    </tr>\n",
              "    <tr>\n",
              "      <th>Winner</th>\n",
              "      <td>18</td>\n",
              "      <td>1</td>\n",
              "    </tr>\n",
              "  </tbody>\n",
              "</table>\n",
              "</div>\n",
              "      <button class=\"colab-df-convert\" onclick=\"convertToInteractive('df-3888440a-ef4f-4664-a9d1-21097a07bdd1')\"\n",
              "              title=\"Convert this dataframe to an interactive table.\"\n",
              "              style=\"display:none;\">\n",
              "        \n",
              "  <svg xmlns=\"http://www.w3.org/2000/svg\" height=\"24px\"viewBox=\"0 0 24 24\"\n",
              "       width=\"24px\">\n",
              "    <path d=\"M0 0h24v24H0V0z\" fill=\"none\"/>\n",
              "    <path d=\"M18.56 5.44l.94 2.06.94-2.06 2.06-.94-2.06-.94-.94-2.06-.94 2.06-2.06.94zm-11 1L8.5 8.5l.94-2.06 2.06-.94-2.06-.94L8.5 2.5l-.94 2.06-2.06.94zm10 10l.94 2.06.94-2.06 2.06-.94-2.06-.94-.94-2.06-.94 2.06-2.06.94z\"/><path d=\"M17.41 7.96l-1.37-1.37c-.4-.4-.92-.59-1.43-.59-.52 0-1.04.2-1.43.59L10.3 9.45l-7.72 7.72c-.78.78-.78 2.05 0 2.83L4 21.41c.39.39.9.59 1.41.59.51 0 1.02-.2 1.41-.59l7.78-7.78 2.81-2.81c.8-.78.8-2.07 0-2.86zM5.41 20L4 18.59l7.72-7.72 1.47 1.35L5.41 20z\"/>\n",
              "  </svg>\n",
              "      </button>\n",
              "      \n",
              "  <style>\n",
              "    .colab-df-container {\n",
              "      display:flex;\n",
              "      flex-wrap:wrap;\n",
              "      gap: 12px;\n",
              "    }\n",
              "\n",
              "    .colab-df-convert {\n",
              "      background-color: #E8F0FE;\n",
              "      border: none;\n",
              "      border-radius: 50%;\n",
              "      cursor: pointer;\n",
              "      display: none;\n",
              "      fill: #1967D2;\n",
              "      height: 32px;\n",
              "      padding: 0 0 0 0;\n",
              "      width: 32px;\n",
              "    }\n",
              "\n",
              "    .colab-df-convert:hover {\n",
              "      background-color: #E2EBFA;\n",
              "      box-shadow: 0px 1px 2px rgba(60, 64, 67, 0.3), 0px 1px 3px 1px rgba(60, 64, 67, 0.15);\n",
              "      fill: #174EA6;\n",
              "    }\n",
              "\n",
              "    [theme=dark] .colab-df-convert {\n",
              "      background-color: #3B4455;\n",
              "      fill: #D2E3FC;\n",
              "    }\n",
              "\n",
              "    [theme=dark] .colab-df-convert:hover {\n",
              "      background-color: #434B5C;\n",
              "      box-shadow: 0px 1px 3px 1px rgba(0, 0, 0, 0.15);\n",
              "      filter: drop-shadow(0px 1px 2px rgba(0, 0, 0, 0.3));\n",
              "      fill: #FFFFFF;\n",
              "    }\n",
              "  </style>\n",
              "\n",
              "      <script>\n",
              "        const buttonEl =\n",
              "          document.querySelector('#df-3888440a-ef4f-4664-a9d1-21097a07bdd1 button.colab-df-convert');\n",
              "        buttonEl.style.display =\n",
              "          google.colab.kernel.accessAllowed ? 'block' : 'none';\n",
              "\n",
              "        async function convertToInteractive(key) {\n",
              "          const element = document.querySelector('#df-3888440a-ef4f-4664-a9d1-21097a07bdd1');\n",
              "          const dataTable =\n",
              "            await google.colab.kernel.invokeFunction('convertToInteractive',\n",
              "                                                     [key], {});\n",
              "          if (!dataTable) return;\n",
              "\n",
              "          const docLinkHtml = 'Like what you see? Visit the ' +\n",
              "            '<a target=\"_blank\" href=https://colab.research.google.com/notebooks/data_table.ipynb>data table notebook</a>'\n",
              "            + ' to learn more about interactive tables.';\n",
              "          element.innerHTML = '';\n",
              "          dataTable['output_type'] = 'display_data';\n",
              "          await google.colab.output.renderOutput(dataTable, element);\n",
              "          const docLink = document.createElement('div');\n",
              "          docLink.innerHTML = docLinkHtml;\n",
              "          element.appendChild(docLink);\n",
              "        }\n",
              "      </script>\n",
              "    </div>\n",
              "  </div>\n",
              "  "
            ]
          },
          "metadata": {},
          "execution_count": 229
        }
      ]
    },
    {
      "cell_type": "markdown",
      "source": [
        "null hypothesis- There is no relation between operation of a startup and its result in the event.\n",
        "\n",
        "Alternet hypothesis - There is some relation between operation of a startup and its result in the event."
      ],
      "metadata": {
        "id": "LYhme5UJfAIA"
      }
    },
    {
      "cell_type": "markdown",
      "source": [
        "###**4.H) Test for significance and conclusion**"
      ],
      "metadata": {
        "id": "i6CsfdRafMv_"
      }
    },
    {
      "cell_type": "code",
      "source": [
        "chi2, pval, dof, exp_freq = stats.chi2_contingency(df3, correction = False)"
      ],
      "metadata": {
        "id": "SU22oox0Casd"
      },
      "execution_count": null,
      "outputs": []
    },
    {
      "cell_type": "code",
      "source": [
        "pval"
      ],
      "metadata": {
        "colab": {
          "base_uri": "https://localhost:8080/"
        },
        "id": "lM7-kLotC2e_",
        "outputId": "a14cbda9-618c-489d-c1bf-6d48edc53e63"
      },
      "execution_count": null,
      "outputs": [
        {
          "output_type": "execute_result",
          "data": {
            "text/plain": [
              "0.6925804277287773"
            ]
          },
          "metadata": {},
          "execution_count": 231
        }
      ]
    },
    {
      "cell_type": "code",
      "source": [
        "alpha=0.05\n",
        "\n",
        "if p_value > alpha:\n",
        "  print('fail to reject the null hypothesis ')\n",
        "  print('There is no relation between operation of a startup and its result in the event.')\n",
        "\n",
        "else:\n",
        "  print('enough evidance to reject the null hypothesis')\n",
        "  print('There is some relation between operation of a startup and its result in the event.')"
      ],
      "metadata": {
        "colab": {
          "base_uri": "https://localhost:8080/"
        },
        "id": "nIzqBG1betNK",
        "outputId": "544b28b6-fa90-4f62-f505-9fabd6181d05"
      },
      "execution_count": null,
      "outputs": [
        {
          "output_type": "stream",
          "name": "stdout",
          "text": [
            "fail to reject the null hypothesis \n",
            "There is no relation between operation of a startup and its result in the event.\n"
          ]
        }
      ]
    },
    {
      "cell_type": "markdown",
      "source": [
        "###**4.I) To Select only the Event that has ‘disrupt’ keyword from 2013 onwards.**"
      ],
      "metadata": {
        "id": "vFjWu71AflTY"
      }
    },
    {
      "cell_type": "code",
      "source": [
        "df5=df.copy()"
      ],
      "metadata": {
        "id": "QD0E57QYSZ4I"
      },
      "execution_count": null,
      "outputs": []
    },
    {
      "cell_type": "code",
      "source": [
        "def Event_val(x):\n",
        "   if 'Disrupt' in x and float(x[-4:])>=2013:\n",
        "      return x\n",
        "\n",
        "\n",
        "df5['Event']=df5['Event'].apply(Event_val)\n"
      ],
      "metadata": {
        "id": "3ohGK4jufEnM"
      },
      "execution_count": null,
      "outputs": []
    },
    {
      "cell_type": "code",
      "source": [
        "df5"
      ],
      "metadata": {
        "colab": {
          "base_uri": "https://localhost:8080/",
          "height": 424
        },
        "id": "pFQfl6eMsLtF",
        "outputId": "eda19716-754b-447c-af22-3a9be7a5cad8"
      },
      "execution_count": null,
      "outputs": [
        {
          "output_type": "execute_result",
          "data": {
            "text/plain": [
              "          Startup          Product  Funding             Event  \\\n",
              "0            3DLT         3dlt.com    $630K  Disrupt NYC 2013   \n",
              "1      3Dprintler   3dprintler.com      $1M   Disrupt NY 2016   \n",
              "2            5to1         5to1.com   $19.3M              None   \n",
              "3    8 Securities  8securities.com     $29M              None   \n",
              "4      AdhereTech   adheretech.com    $1.8M              None   \n",
              "..            ...              ...      ...               ...   \n",
              "435      Zenefits     zenefits.com  $583.6M  Disrupt NYC 2013   \n",
              "436        Zivity       zivity.com      $8M              None   \n",
              "437        Zocdoc       zocdoc.com    $223M              None   \n",
              "438          Zula      zulaapp.com    $3.4M   Disrupt SF 2013   \n",
              "439        Zumper       zumper.com   $31.5M              None   \n",
              "\n",
              "              Result OperatingState  Funds_in_million  \n",
              "0         Contestant         Closed              0.63  \n",
              "1    Audience choice      Operating              1.00  \n",
              "2         Contestant       Acquired             19.30  \n",
              "3           Finalist      Operating             29.00  \n",
              "4         Contestant      Operating              1.80  \n",
              "..               ...            ...               ...  \n",
              "435         Finalist      Operating            583.60  \n",
              "436       Contestant      Operating              8.00  \n",
              "437       Contestant      Operating            223.00  \n",
              "438  Audience choice      Operating              3.40  \n",
              "439         Finalist      Operating             31.50  \n",
              "\n",
              "[440 rows x 7 columns]"
            ],
            "text/html": [
              "\n",
              "  <div id=\"df-89bde806-c61c-4135-bfe7-a00c2e90391a\">\n",
              "    <div class=\"colab-df-container\">\n",
              "      <div>\n",
              "<style scoped>\n",
              "    .dataframe tbody tr th:only-of-type {\n",
              "        vertical-align: middle;\n",
              "    }\n",
              "\n",
              "    .dataframe tbody tr th {\n",
              "        vertical-align: top;\n",
              "    }\n",
              "\n",
              "    .dataframe thead th {\n",
              "        text-align: right;\n",
              "    }\n",
              "</style>\n",
              "<table border=\"1\" class=\"dataframe\">\n",
              "  <thead>\n",
              "    <tr style=\"text-align: right;\">\n",
              "      <th></th>\n",
              "      <th>Startup</th>\n",
              "      <th>Product</th>\n",
              "      <th>Funding</th>\n",
              "      <th>Event</th>\n",
              "      <th>Result</th>\n",
              "      <th>OperatingState</th>\n",
              "      <th>Funds_in_million</th>\n",
              "    </tr>\n",
              "  </thead>\n",
              "  <tbody>\n",
              "    <tr>\n",
              "      <th>0</th>\n",
              "      <td>3DLT</td>\n",
              "      <td>3dlt.com</td>\n",
              "      <td>$630K</td>\n",
              "      <td>Disrupt NYC 2013</td>\n",
              "      <td>Contestant</td>\n",
              "      <td>Closed</td>\n",
              "      <td>0.63</td>\n",
              "    </tr>\n",
              "    <tr>\n",
              "      <th>1</th>\n",
              "      <td>3Dprintler</td>\n",
              "      <td>3dprintler.com</td>\n",
              "      <td>$1M</td>\n",
              "      <td>Disrupt NY 2016</td>\n",
              "      <td>Audience choice</td>\n",
              "      <td>Operating</td>\n",
              "      <td>1.00</td>\n",
              "    </tr>\n",
              "    <tr>\n",
              "      <th>2</th>\n",
              "      <td>5to1</td>\n",
              "      <td>5to1.com</td>\n",
              "      <td>$19.3M</td>\n",
              "      <td>None</td>\n",
              "      <td>Contestant</td>\n",
              "      <td>Acquired</td>\n",
              "      <td>19.30</td>\n",
              "    </tr>\n",
              "    <tr>\n",
              "      <th>3</th>\n",
              "      <td>8 Securities</td>\n",
              "      <td>8securities.com</td>\n",
              "      <td>$29M</td>\n",
              "      <td>None</td>\n",
              "      <td>Finalist</td>\n",
              "      <td>Operating</td>\n",
              "      <td>29.00</td>\n",
              "    </tr>\n",
              "    <tr>\n",
              "      <th>4</th>\n",
              "      <td>AdhereTech</td>\n",
              "      <td>adheretech.com</td>\n",
              "      <td>$1.8M</td>\n",
              "      <td>None</td>\n",
              "      <td>Contestant</td>\n",
              "      <td>Operating</td>\n",
              "      <td>1.80</td>\n",
              "    </tr>\n",
              "    <tr>\n",
              "      <th>...</th>\n",
              "      <td>...</td>\n",
              "      <td>...</td>\n",
              "      <td>...</td>\n",
              "      <td>...</td>\n",
              "      <td>...</td>\n",
              "      <td>...</td>\n",
              "      <td>...</td>\n",
              "    </tr>\n",
              "    <tr>\n",
              "      <th>435</th>\n",
              "      <td>Zenefits</td>\n",
              "      <td>zenefits.com</td>\n",
              "      <td>$583.6M</td>\n",
              "      <td>Disrupt NYC 2013</td>\n",
              "      <td>Finalist</td>\n",
              "      <td>Operating</td>\n",
              "      <td>583.60</td>\n",
              "    </tr>\n",
              "    <tr>\n",
              "      <th>436</th>\n",
              "      <td>Zivity</td>\n",
              "      <td>zivity.com</td>\n",
              "      <td>$8M</td>\n",
              "      <td>None</td>\n",
              "      <td>Contestant</td>\n",
              "      <td>Operating</td>\n",
              "      <td>8.00</td>\n",
              "    </tr>\n",
              "    <tr>\n",
              "      <th>437</th>\n",
              "      <td>Zocdoc</td>\n",
              "      <td>zocdoc.com</td>\n",
              "      <td>$223M</td>\n",
              "      <td>None</td>\n",
              "      <td>Contestant</td>\n",
              "      <td>Operating</td>\n",
              "      <td>223.00</td>\n",
              "    </tr>\n",
              "    <tr>\n",
              "      <th>438</th>\n",
              "      <td>Zula</td>\n",
              "      <td>zulaapp.com</td>\n",
              "      <td>$3.4M</td>\n",
              "      <td>Disrupt SF 2013</td>\n",
              "      <td>Audience choice</td>\n",
              "      <td>Operating</td>\n",
              "      <td>3.40</td>\n",
              "    </tr>\n",
              "    <tr>\n",
              "      <th>439</th>\n",
              "      <td>Zumper</td>\n",
              "      <td>zumper.com</td>\n",
              "      <td>$31.5M</td>\n",
              "      <td>None</td>\n",
              "      <td>Finalist</td>\n",
              "      <td>Operating</td>\n",
              "      <td>31.50</td>\n",
              "    </tr>\n",
              "  </tbody>\n",
              "</table>\n",
              "<p>440 rows × 7 columns</p>\n",
              "</div>\n",
              "      <button class=\"colab-df-convert\" onclick=\"convertToInteractive('df-89bde806-c61c-4135-bfe7-a00c2e90391a')\"\n",
              "              title=\"Convert this dataframe to an interactive table.\"\n",
              "              style=\"display:none;\">\n",
              "        \n",
              "  <svg xmlns=\"http://www.w3.org/2000/svg\" height=\"24px\"viewBox=\"0 0 24 24\"\n",
              "       width=\"24px\">\n",
              "    <path d=\"M0 0h24v24H0V0z\" fill=\"none\"/>\n",
              "    <path d=\"M18.56 5.44l.94 2.06.94-2.06 2.06-.94-2.06-.94-.94-2.06-.94 2.06-2.06.94zm-11 1L8.5 8.5l.94-2.06 2.06-.94-2.06-.94L8.5 2.5l-.94 2.06-2.06.94zm10 10l.94 2.06.94-2.06 2.06-.94-2.06-.94-.94-2.06-.94 2.06-2.06.94z\"/><path d=\"M17.41 7.96l-1.37-1.37c-.4-.4-.92-.59-1.43-.59-.52 0-1.04.2-1.43.59L10.3 9.45l-7.72 7.72c-.78.78-.78 2.05 0 2.83L4 21.41c.39.39.9.59 1.41.59.51 0 1.02-.2 1.41-.59l7.78-7.78 2.81-2.81c.8-.78.8-2.07 0-2.86zM5.41 20L4 18.59l7.72-7.72 1.47 1.35L5.41 20z\"/>\n",
              "  </svg>\n",
              "      </button>\n",
              "      \n",
              "  <style>\n",
              "    .colab-df-container {\n",
              "      display:flex;\n",
              "      flex-wrap:wrap;\n",
              "      gap: 12px;\n",
              "    }\n",
              "\n",
              "    .colab-df-convert {\n",
              "      background-color: #E8F0FE;\n",
              "      border: none;\n",
              "      border-radius: 50%;\n",
              "      cursor: pointer;\n",
              "      display: none;\n",
              "      fill: #1967D2;\n",
              "      height: 32px;\n",
              "      padding: 0 0 0 0;\n",
              "      width: 32px;\n",
              "    }\n",
              "\n",
              "    .colab-df-convert:hover {\n",
              "      background-color: #E2EBFA;\n",
              "      box-shadow: 0px 1px 2px rgba(60, 64, 67, 0.3), 0px 1px 3px 1px rgba(60, 64, 67, 0.15);\n",
              "      fill: #174EA6;\n",
              "    }\n",
              "\n",
              "    [theme=dark] .colab-df-convert {\n",
              "      background-color: #3B4455;\n",
              "      fill: #D2E3FC;\n",
              "    }\n",
              "\n",
              "    [theme=dark] .colab-df-convert:hover {\n",
              "      background-color: #434B5C;\n",
              "      box-shadow: 0px 1px 3px 1px rgba(0, 0, 0, 0.15);\n",
              "      filter: drop-shadow(0px 1px 2px rgba(0, 0, 0, 0.3));\n",
              "      fill: #FFFFFF;\n",
              "    }\n",
              "  </style>\n",
              "\n",
              "      <script>\n",
              "        const buttonEl =\n",
              "          document.querySelector('#df-89bde806-c61c-4135-bfe7-a00c2e90391a button.colab-df-convert');\n",
              "        buttonEl.style.display =\n",
              "          google.colab.kernel.accessAllowed ? 'block' : 'none';\n",
              "\n",
              "        async function convertToInteractive(key) {\n",
              "          const element = document.querySelector('#df-89bde806-c61c-4135-bfe7-a00c2e90391a');\n",
              "          const dataTable =\n",
              "            await google.colab.kernel.invokeFunction('convertToInteractive',\n",
              "                                                     [key], {});\n",
              "          if (!dataTable) return;\n",
              "\n",
              "          const docLinkHtml = 'Like what you see? Visit the ' +\n",
              "            '<a target=\"_blank\" href=https://colab.research.google.com/notebooks/data_table.ipynb>data table notebook</a>'\n",
              "            + ' to learn more about interactive tables.';\n",
              "          element.innerHTML = '';\n",
              "          dataTable['output_type'] = 'display_data';\n",
              "          await google.colab.output.renderOutput(dataTable, element);\n",
              "          const docLink = document.createElement('div');\n",
              "          docLink.innerHTML = docLinkHtml;\n",
              "          element.appendChild(docLink);\n",
              "        }\n",
              "      </script>\n",
              "    </div>\n",
              "  </div>\n",
              "  "
            ]
          },
          "metadata": {},
          "execution_count": 235
        }
      ]
    },
    {
      "cell_type": "code",
      "source": [
        "df5['Event']=df5['Event'].replace('None', np.NaN)\n",
        "df5=df5.dropna(how='any')\n",
        "df5.reset_index(drop=True, inplace=True)"
      ],
      "metadata": {
        "id": "ogyFJ1rnzlEe"
      },
      "execution_count": null,
      "outputs": []
    },
    {
      "cell_type": "markdown",
      "source": [
        "Data only having Event that has ‘disrupt’ keyword from 2013 onwards."
      ],
      "metadata": {
        "id": "mfpbC68sr1PI"
      }
    },
    {
      "cell_type": "code",
      "source": [
        "df5"
      ],
      "metadata": {
        "colab": {
          "base_uri": "https://localhost:8080/",
          "height": 424
        },
        "id": "O8X2mqxKSxWB",
        "outputId": "fb9b9f8e-2f74-4441-bfda-76b25374a7c0"
      },
      "execution_count": null,
      "outputs": [
        {
          "output_type": "execute_result",
          "data": {
            "text/plain": [
              "        Startup         Product  Funding                Event  \\\n",
              "0          3DLT        3dlt.com    $630K     Disrupt NYC 2013   \n",
              "1    3Dprintler  3dprintler.com      $1M      Disrupt NY 2016   \n",
              "2      Agrilyst    agrilyst.com      $1M      Disrupt SF 2015   \n",
              "3         Aiden        aiden.ai    $750K  Disrupt London 2016   \n",
              "4       Aircall      aircall.io   $11.6M      Disrupt SF 2015   \n",
              "..          ...             ...      ...                  ...   \n",
              "188    Workspot    workspot.com   $15.8M     Disrupt NYC 2013   \n",
              "189       Xendo       xendo.com     $28K      Disrupt SF 2014   \n",
              "190  YayPay Inc      yaypay.com    $900K  Disrupt London 2015   \n",
              "191    Zenefits    zenefits.com  $583.6M     Disrupt NYC 2013   \n",
              "192        Zula     zulaapp.com    $3.4M      Disrupt SF 2013   \n",
              "\n",
              "              Result OperatingState  Funds_in_million  \n",
              "0         Contestant         Closed             0.630  \n",
              "1    Audience choice      Operating             1.000  \n",
              "2             Winner      Operating             1.000  \n",
              "3         Contestant      Operating             0.750  \n",
              "4         Contestant      Operating            11.600  \n",
              "..               ...            ...               ...  \n",
              "188       Contestant      Operating            15.800  \n",
              "189       Contestant       Acquired             0.028  \n",
              "190       Contestant      Operating             0.900  \n",
              "191         Finalist      Operating           583.600  \n",
              "192  Audience choice      Operating             3.400  \n",
              "\n",
              "[193 rows x 7 columns]"
            ],
            "text/html": [
              "\n",
              "  <div id=\"df-c23fb3a5-f7ab-4a77-9a5e-d850c91b0500\">\n",
              "    <div class=\"colab-df-container\">\n",
              "      <div>\n",
              "<style scoped>\n",
              "    .dataframe tbody tr th:only-of-type {\n",
              "        vertical-align: middle;\n",
              "    }\n",
              "\n",
              "    .dataframe tbody tr th {\n",
              "        vertical-align: top;\n",
              "    }\n",
              "\n",
              "    .dataframe thead th {\n",
              "        text-align: right;\n",
              "    }\n",
              "</style>\n",
              "<table border=\"1\" class=\"dataframe\">\n",
              "  <thead>\n",
              "    <tr style=\"text-align: right;\">\n",
              "      <th></th>\n",
              "      <th>Startup</th>\n",
              "      <th>Product</th>\n",
              "      <th>Funding</th>\n",
              "      <th>Event</th>\n",
              "      <th>Result</th>\n",
              "      <th>OperatingState</th>\n",
              "      <th>Funds_in_million</th>\n",
              "    </tr>\n",
              "  </thead>\n",
              "  <tbody>\n",
              "    <tr>\n",
              "      <th>0</th>\n",
              "      <td>3DLT</td>\n",
              "      <td>3dlt.com</td>\n",
              "      <td>$630K</td>\n",
              "      <td>Disrupt NYC 2013</td>\n",
              "      <td>Contestant</td>\n",
              "      <td>Closed</td>\n",
              "      <td>0.630</td>\n",
              "    </tr>\n",
              "    <tr>\n",
              "      <th>1</th>\n",
              "      <td>3Dprintler</td>\n",
              "      <td>3dprintler.com</td>\n",
              "      <td>$1M</td>\n",
              "      <td>Disrupt NY 2016</td>\n",
              "      <td>Audience choice</td>\n",
              "      <td>Operating</td>\n",
              "      <td>1.000</td>\n",
              "    </tr>\n",
              "    <tr>\n",
              "      <th>2</th>\n",
              "      <td>Agrilyst</td>\n",
              "      <td>agrilyst.com</td>\n",
              "      <td>$1M</td>\n",
              "      <td>Disrupt SF 2015</td>\n",
              "      <td>Winner</td>\n",
              "      <td>Operating</td>\n",
              "      <td>1.000</td>\n",
              "    </tr>\n",
              "    <tr>\n",
              "      <th>3</th>\n",
              "      <td>Aiden</td>\n",
              "      <td>aiden.ai</td>\n",
              "      <td>$750K</td>\n",
              "      <td>Disrupt London 2016</td>\n",
              "      <td>Contestant</td>\n",
              "      <td>Operating</td>\n",
              "      <td>0.750</td>\n",
              "    </tr>\n",
              "    <tr>\n",
              "      <th>4</th>\n",
              "      <td>Aircall</td>\n",
              "      <td>aircall.io</td>\n",
              "      <td>$11.6M</td>\n",
              "      <td>Disrupt SF 2015</td>\n",
              "      <td>Contestant</td>\n",
              "      <td>Operating</td>\n",
              "      <td>11.600</td>\n",
              "    </tr>\n",
              "    <tr>\n",
              "      <th>...</th>\n",
              "      <td>...</td>\n",
              "      <td>...</td>\n",
              "      <td>...</td>\n",
              "      <td>...</td>\n",
              "      <td>...</td>\n",
              "      <td>...</td>\n",
              "      <td>...</td>\n",
              "    </tr>\n",
              "    <tr>\n",
              "      <th>188</th>\n",
              "      <td>Workspot</td>\n",
              "      <td>workspot.com</td>\n",
              "      <td>$15.8M</td>\n",
              "      <td>Disrupt NYC 2013</td>\n",
              "      <td>Contestant</td>\n",
              "      <td>Operating</td>\n",
              "      <td>15.800</td>\n",
              "    </tr>\n",
              "    <tr>\n",
              "      <th>189</th>\n",
              "      <td>Xendo</td>\n",
              "      <td>xendo.com</td>\n",
              "      <td>$28K</td>\n",
              "      <td>Disrupt SF 2014</td>\n",
              "      <td>Contestant</td>\n",
              "      <td>Acquired</td>\n",
              "      <td>0.028</td>\n",
              "    </tr>\n",
              "    <tr>\n",
              "      <th>190</th>\n",
              "      <td>YayPay Inc</td>\n",
              "      <td>yaypay.com</td>\n",
              "      <td>$900K</td>\n",
              "      <td>Disrupt London 2015</td>\n",
              "      <td>Contestant</td>\n",
              "      <td>Operating</td>\n",
              "      <td>0.900</td>\n",
              "    </tr>\n",
              "    <tr>\n",
              "      <th>191</th>\n",
              "      <td>Zenefits</td>\n",
              "      <td>zenefits.com</td>\n",
              "      <td>$583.6M</td>\n",
              "      <td>Disrupt NYC 2013</td>\n",
              "      <td>Finalist</td>\n",
              "      <td>Operating</td>\n",
              "      <td>583.600</td>\n",
              "    </tr>\n",
              "    <tr>\n",
              "      <th>192</th>\n",
              "      <td>Zula</td>\n",
              "      <td>zulaapp.com</td>\n",
              "      <td>$3.4M</td>\n",
              "      <td>Disrupt SF 2013</td>\n",
              "      <td>Audience choice</td>\n",
              "      <td>Operating</td>\n",
              "      <td>3.400</td>\n",
              "    </tr>\n",
              "  </tbody>\n",
              "</table>\n",
              "<p>193 rows × 7 columns</p>\n",
              "</div>\n",
              "      <button class=\"colab-df-convert\" onclick=\"convertToInteractive('df-c23fb3a5-f7ab-4a77-9a5e-d850c91b0500')\"\n",
              "              title=\"Convert this dataframe to an interactive table.\"\n",
              "              style=\"display:none;\">\n",
              "        \n",
              "  <svg xmlns=\"http://www.w3.org/2000/svg\" height=\"24px\"viewBox=\"0 0 24 24\"\n",
              "       width=\"24px\">\n",
              "    <path d=\"M0 0h24v24H0V0z\" fill=\"none\"/>\n",
              "    <path d=\"M18.56 5.44l.94 2.06.94-2.06 2.06-.94-2.06-.94-.94-2.06-.94 2.06-2.06.94zm-11 1L8.5 8.5l.94-2.06 2.06-.94-2.06-.94L8.5 2.5l-.94 2.06-2.06.94zm10 10l.94 2.06.94-2.06 2.06-.94-2.06-.94-.94-2.06-.94 2.06-2.06.94z\"/><path d=\"M17.41 7.96l-1.37-1.37c-.4-.4-.92-.59-1.43-.59-.52 0-1.04.2-1.43.59L10.3 9.45l-7.72 7.72c-.78.78-.78 2.05 0 2.83L4 21.41c.39.39.9.59 1.41.59.51 0 1.02-.2 1.41-.59l7.78-7.78 2.81-2.81c.8-.78.8-2.07 0-2.86zM5.41 20L4 18.59l7.72-7.72 1.47 1.35L5.41 20z\"/>\n",
              "  </svg>\n",
              "      </button>\n",
              "      \n",
              "  <style>\n",
              "    .colab-df-container {\n",
              "      display:flex;\n",
              "      flex-wrap:wrap;\n",
              "      gap: 12px;\n",
              "    }\n",
              "\n",
              "    .colab-df-convert {\n",
              "      background-color: #E8F0FE;\n",
              "      border: none;\n",
              "      border-radius: 50%;\n",
              "      cursor: pointer;\n",
              "      display: none;\n",
              "      fill: #1967D2;\n",
              "      height: 32px;\n",
              "      padding: 0 0 0 0;\n",
              "      width: 32px;\n",
              "    }\n",
              "\n",
              "    .colab-df-convert:hover {\n",
              "      background-color: #E2EBFA;\n",
              "      box-shadow: 0px 1px 2px rgba(60, 64, 67, 0.3), 0px 1px 3px 1px rgba(60, 64, 67, 0.15);\n",
              "      fill: #174EA6;\n",
              "    }\n",
              "\n",
              "    [theme=dark] .colab-df-convert {\n",
              "      background-color: #3B4455;\n",
              "      fill: #D2E3FC;\n",
              "    }\n",
              "\n",
              "    [theme=dark] .colab-df-convert:hover {\n",
              "      background-color: #434B5C;\n",
              "      box-shadow: 0px 1px 3px 1px rgba(0, 0, 0, 0.15);\n",
              "      filter: drop-shadow(0px 1px 2px rgba(0, 0, 0, 0.3));\n",
              "      fill: #FFFFFF;\n",
              "    }\n",
              "  </style>\n",
              "\n",
              "      <script>\n",
              "        const buttonEl =\n",
              "          document.querySelector('#df-c23fb3a5-f7ab-4a77-9a5e-d850c91b0500 button.colab-df-convert');\n",
              "        buttonEl.style.display =\n",
              "          google.colab.kernel.accessAllowed ? 'block' : 'none';\n",
              "\n",
              "        async function convertToInteractive(key) {\n",
              "          const element = document.querySelector('#df-c23fb3a5-f7ab-4a77-9a5e-d850c91b0500');\n",
              "          const dataTable =\n",
              "            await google.colab.kernel.invokeFunction('convertToInteractive',\n",
              "                                                     [key], {});\n",
              "          if (!dataTable) return;\n",
              "\n",
              "          const docLinkHtml = 'Like what you see? Visit the ' +\n",
              "            '<a target=\"_blank\" href=https://colab.research.google.com/notebooks/data_table.ipynb>data table notebook</a>'\n",
              "            + ' to learn more about interactive tables.';\n",
              "          element.innerHTML = '';\n",
              "          dataTable['output_type'] = 'display_data';\n",
              "          await google.colab.output.renderOutput(dataTable, element);\n",
              "          const docLink = document.createElement('div');\n",
              "          docLink.innerHTML = docLinkHtml;\n",
              "          element.appendChild(docLink);\n",
              "        }\n",
              "      </script>\n",
              "    </div>\n",
              "  </div>\n",
              "  "
            ]
          },
          "metadata": {},
          "execution_count": 237
        }
      ]
    },
    {
      "cell_type": "code",
      "source": [
        "df5.info()"
      ],
      "metadata": {
        "colab": {
          "base_uri": "https://localhost:8080/"
        },
        "id": "awEAzaPrSyLK",
        "outputId": "bd02f6e9-a393-4a61-f389-b5a80329b653"
      },
      "execution_count": null,
      "outputs": [
        {
          "output_type": "stream",
          "name": "stdout",
          "text": [
            "<class 'pandas.core.frame.DataFrame'>\n",
            "RangeIndex: 193 entries, 0 to 192\n",
            "Data columns (total 7 columns):\n",
            " #   Column            Non-Null Count  Dtype  \n",
            "---  ------            --------------  -----  \n",
            " 0   Startup           193 non-null    object \n",
            " 1   Product           193 non-null    object \n",
            " 2   Funding           193 non-null    object \n",
            " 3   Event             193 non-null    object \n",
            " 4   Result            193 non-null    object \n",
            " 5   OperatingState    193 non-null    object \n",
            " 6   Funds_in_million  193 non-null    float64\n",
            "dtypes: float64(1), object(6)\n",
            "memory usage: 10.7+ KB\n"
          ]
        }
      ]
    }
  ]
}